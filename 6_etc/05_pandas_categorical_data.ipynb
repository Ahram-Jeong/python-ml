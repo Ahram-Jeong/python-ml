{
 "cells": [
  {
   "cell_type": "markdown",
   "metadata": {},
   "source": [
    "# 범주형 데이터\n"
   ]
  },
  {
   "cell_type": "code",
   "execution_count": 2,
   "metadata": {},
   "outputs": [],
   "source": [
    "import pandas as pd"
   ]
  },
  {
   "cell_type": "code",
   "execution_count": 3,
   "metadata": {},
   "outputs": [
    {
     "data": {
      "text/html": [
       "<div>\n",
       "<style scoped>\n",
       "    .dataframe tbody tr th:only-of-type {\n",
       "        vertical-align: middle;\n",
       "    }\n",
       "\n",
       "    .dataframe tbody tr th {\n",
       "        vertical-align: top;\n",
       "    }\n",
       "\n",
       "    .dataframe thead th {\n",
       "        text-align: right;\n",
       "    }\n",
       "</style>\n",
       "<table border=\"1\" class=\"dataframe\">\n",
       "  <thead>\n",
       "    <tr style=\"text-align: right;\">\n",
       "      <th></th>\n",
       "      <th>Brand</th>\n",
       "      <th>Model</th>\n",
       "      <th>Release</th>\n",
       "    </tr>\n",
       "  </thead>\n",
       "  <tbody>\n",
       "    <tr>\n",
       "      <th>0</th>\n",
       "      <td>Apple</td>\n",
       "      <td>iphone15</td>\n",
       "      <td>True</td>\n",
       "    </tr>\n",
       "    <tr>\n",
       "      <th>1</th>\n",
       "      <td>Samsung</td>\n",
       "      <td>Galaxy24</td>\n",
       "      <td>True</td>\n",
       "    </tr>\n",
       "    <tr>\n",
       "      <th>2</th>\n",
       "      <td>Apple</td>\n",
       "      <td>iphone16</td>\n",
       "      <td>False</td>\n",
       "    </tr>\n",
       "    <tr>\n",
       "      <th>3</th>\n",
       "      <td>Xiaomi</td>\n",
       "      <td>Redme15</td>\n",
       "      <td>True</td>\n",
       "    </tr>\n",
       "    <tr>\n",
       "      <th>4</th>\n",
       "      <td>Samsung</td>\n",
       "      <td>Galaxy23</td>\n",
       "      <td>True</td>\n",
       "    </tr>\n",
       "    <tr>\n",
       "      <th>5</th>\n",
       "      <td>Xiaomi</td>\n",
       "      <td>Redme14</td>\n",
       "      <td>True</td>\n",
       "    </tr>\n",
       "    <tr>\n",
       "      <th>6</th>\n",
       "      <td>Samsung</td>\n",
       "      <td>Galaxy25</td>\n",
       "      <td>False</td>\n",
       "    </tr>\n",
       "  </tbody>\n",
       "</table>\n",
       "</div>"
      ],
      "text/plain": [
       "     Brand     Model  Release\n",
       "0    Apple  iphone15     True\n",
       "1  Samsung  Galaxy24     True\n",
       "2    Apple  iphone16    False\n",
       "3   Xiaomi   Redme15     True\n",
       "4  Samsung  Galaxy23     True\n",
       "5   Xiaomi   Redme14     True\n",
       "6  Samsung  Galaxy25    False"
      ]
     },
     "execution_count": 3,
     "metadata": {},
     "output_type": "execute_result"
    }
   ],
   "source": [
    "data = {\n",
    "    \"Brand\": [\n",
    "        \"Apple\",\n",
    "        \"Samsung\",\n",
    "        \"Apple\",\n",
    "        \"Xiaomi\",\n",
    "        \"Samsung\",\n",
    "        \"Xiaomi\",\n",
    "        \"Samsung\",\n",
    "    ],\n",
    "    \"Model\": [\n",
    "        \"iphone15\",\n",
    "        \"Galaxy24\",\n",
    "        \"iphone16\",\n",
    "        \"Redme15\",\n",
    "        \"Galaxy23\",\n",
    "        \"Redme14\",\n",
    "        \"Galaxy25\",\n",
    "    ],\n",
    "    \"Release\": [\n",
    "        True,\n",
    "        True,\n",
    "        False,\n",
    "        True,\n",
    "        True,\n",
    "        True,\n",
    "        False,\n",
    "    ],\n",
    "}\n",
    "df = pd.DataFrame(data)\n",
    "df"
   ]
  },
  {
   "cell_type": "markdown",
   "metadata": {},
   "source": [
    "- 고유값 확인 : .unique()\n"
   ]
  },
  {
   "cell_type": "code",
   "execution_count": null,
   "metadata": {},
   "outputs": [
    {
     "data": {
      "text/plain": [
       "array(['Apple', 'Samsung', 'Xiaomi'], dtype=object)"
      ]
     },
     "execution_count": 5,
     "metadata": {},
     "output_type": "execute_result"
    }
   ],
   "source": [
    "# .unique() : 특정 값의 UQ 값 출력, DF에 직접 적용할 수는 없고, 컬럼에 적용해야 함\n",
    "df[\"Brand\"].unique()"
   ]
  },
  {
   "cell_type": "markdown",
   "metadata": {},
   "source": [
    "- 고유값 개수 : .nunique(), .value_counts()\n"
   ]
  },
  {
   "cell_type": "code",
   "execution_count": 6,
   "metadata": {},
   "outputs": [
    {
     "data": {
      "text/plain": [
       "Brand      3\n",
       "Model      7\n",
       "Release    2\n",
       "dtype: int64"
      ]
     },
     "execution_count": 6,
     "metadata": {},
     "output_type": "execute_result"
    }
   ],
   "source": [
    "# 각 컬럼의 UQ 값 개수 출력, DF에 적용\n",
    "df.nunique()"
   ]
  },
  {
   "cell_type": "code",
   "execution_count": 13,
   "metadata": {},
   "outputs": [
    {
     "data": {
      "text/html": [
       "<div>\n",
       "<style scoped>\n",
       "    .dataframe tbody tr th:only-of-type {\n",
       "        vertical-align: middle;\n",
       "    }\n",
       "\n",
       "    .dataframe tbody tr th {\n",
       "        vertical-align: top;\n",
       "    }\n",
       "\n",
       "    .dataframe thead th {\n",
       "        text-align: right;\n",
       "    }\n",
       "</style>\n",
       "<table border=\"1\" class=\"dataframe\">\n",
       "  <thead>\n",
       "    <tr style=\"text-align: right;\">\n",
       "      <th></th>\n",
       "      <th>Brand</th>\n",
       "      <th>Model</th>\n",
       "      <th>Release</th>\n",
       "      <th>count</th>\n",
       "    </tr>\n",
       "  </thead>\n",
       "  <tbody>\n",
       "    <tr>\n",
       "      <th>0</th>\n",
       "      <td>Apple</td>\n",
       "      <td>iphone15</td>\n",
       "      <td>True</td>\n",
       "      <td>1</td>\n",
       "    </tr>\n",
       "    <tr>\n",
       "      <th>1</th>\n",
       "      <td>Apple</td>\n",
       "      <td>iphone16</td>\n",
       "      <td>False</td>\n",
       "      <td>1</td>\n",
       "    </tr>\n",
       "    <tr>\n",
       "      <th>2</th>\n",
       "      <td>Samsung</td>\n",
       "      <td>Galaxy23</td>\n",
       "      <td>True</td>\n",
       "      <td>1</td>\n",
       "    </tr>\n",
       "    <tr>\n",
       "      <th>3</th>\n",
       "      <td>Samsung</td>\n",
       "      <td>Galaxy24</td>\n",
       "      <td>True</td>\n",
       "      <td>1</td>\n",
       "    </tr>\n",
       "    <tr>\n",
       "      <th>4</th>\n",
       "      <td>Samsung</td>\n",
       "      <td>Galaxy25</td>\n",
       "      <td>False</td>\n",
       "      <td>1</td>\n",
       "    </tr>\n",
       "    <tr>\n",
       "      <th>5</th>\n",
       "      <td>Xiaomi</td>\n",
       "      <td>Redme14</td>\n",
       "      <td>True</td>\n",
       "      <td>1</td>\n",
       "    </tr>\n",
       "    <tr>\n",
       "      <th>6</th>\n",
       "      <td>Xiaomi</td>\n",
       "      <td>Redme15</td>\n",
       "      <td>True</td>\n",
       "      <td>1</td>\n",
       "    </tr>\n",
       "  </tbody>\n",
       "</table>\n",
       "</div>"
      ],
      "text/plain": [
       "     Brand     Model  Release  count\n",
       "0    Apple  iphone15     True      1\n",
       "1    Apple  iphone16    False      1\n",
       "2  Samsung  Galaxy23     True      1\n",
       "3  Samsung  Galaxy24     True      1\n",
       "4  Samsung  Galaxy25    False      1\n",
       "5   Xiaomi   Redme14     True      1\n",
       "6   Xiaomi   Redme15     True      1"
      ]
     },
     "execution_count": 13,
     "metadata": {},
     "output_type": "execute_result"
    }
   ],
   "source": [
    "# 개별 유니크 값의 수를 반환\n",
    "df.value_counts().reset_index()\n",
    "# df.value_counts()"
   ]
  },
  {
   "cell_type": "code",
   "execution_count": 8,
   "metadata": {},
   "outputs": [
    {
     "data": {
      "text/plain": [
       "Brand\n",
       "Samsung    3\n",
       "Apple      2\n",
       "Xiaomi     2\n",
       "Name: count, dtype: int64"
      ]
     },
     "execution_count": 8,
     "metadata": {},
     "output_type": "execute_result"
    }
   ],
   "source": [
    "df[\"Brand\"].value_counts()"
   ]
  },
  {
   "cell_type": "code",
   "execution_count": 10,
   "metadata": {},
   "outputs": [
    {
     "data": {
      "text/plain": [
       "Brand\n",
       "Samsung    0.428571\n",
       "Apple      0.285714\n",
       "Xiaomi     0.285714\n",
       "Name: proportion, dtype: float64"
      ]
     },
     "execution_count": 10,
     "metadata": {},
     "output_type": "execute_result"
    }
   ],
   "source": [
    "# normalize=True : 개별 유니크 값의 비중을 반환\n",
    "df[\"Brand\"].value_counts(normalize=True)"
   ]
  },
  {
   "cell_type": "markdown",
   "metadata": {},
   "source": [
    "## 범주형 데이터 타입\n",
    "\n",
    "### (1) 범주형 데이터 타입 `category`\n",
    "\n",
    "- Pandas의 기본적인 문자열 데이터의 자료형은 `object` 이다.\n",
    "- 하지만 Pandas는 범주형 데이터를 효율적으로 활용할 수 있는 데이터 타입 `category` 을 제공한다.\n",
    "\n",
    "### (2) **범주형 데이터 타입 특징**\n",
    "\n",
    "- **정렬 및 비교**\n",
    "  - 순서가 있는 범주형 데이터는 자연스러운 순서를 가지고 있기 때문에 정렬과 비교가 가능해진다.\n",
    "  - 예를 들어, '매우 불만족', '불만족', '보통', '만족', '매우 만족'과 같은 고객 만족도 수준을 순서대로 정렬할 수 있다.\n",
    "- **효율적인 데이터 분석**\n",
    "  - 순서형 데이터는 범주 간의 순서를 유지하면서 데이터 분석을 수행할 수 있어 데이터간 관계 이해를 돕는다.\n",
    "- **문자열 자료형 `Object` 보다 높은 효율성**\n",
    "  - 문자열 자료형에 비해 메모리 사용량이 적고, 연산의 속도가 더 빠르다.\n",
    "\n",
    "### **(3) 범주형 데이터 변환**\n",
    "\n",
    "**`pd.Categorical(values, categories, ordered)`** : 주로 변환해서 원하는 대로 데이터 크기를 비교하기 위함\n",
    "\n",
    "> values\n",
    "\n",
    "- 범주형 자료형으로 변환할 열\n",
    "\n",
    "> categories\n",
    "\n",
    "- 범주의 리스트. 데이터를 변환할 때 이 리스트에 따라 범주를 정의한다.\n",
    "- 해당 리스트에 정의된 순서로 범주형 데이터의 순서를 결정한다.\n",
    "\n",
    "> ordered\n",
    "\n",
    "- 범주 데이터 간 크기 비교를 가능 여부를 결정한다.\n",
    "- 기본값은 `False`\n",
    "- `False` 일 경우 크기 비교를 통한 데이터 필터링을 할 수 없다.\n"
   ]
  },
  {
   "cell_type": "code",
   "execution_count": 22,
   "metadata": {},
   "outputs": [
    {
     "name": "stdout",
     "output_type": "stream",
     "text": [
      "<class 'pandas.core.frame.DataFrame'>\n",
      "RangeIndex: 8 entries, 0 to 7\n",
      "Data columns (total 1 columns):\n",
      " #   Column  Non-Null Count  Dtype \n",
      "---  ------  --------------  ----- \n",
      " 0   등급      8 non-null      object\n",
      "dtypes: object(1)\n",
      "memory usage: 196.0+ bytes\n"
     ]
    },
    {
     "data": {
      "text/html": [
       "<div>\n",
       "<style scoped>\n",
       "    .dataframe tbody tr th:only-of-type {\n",
       "        vertical-align: middle;\n",
       "    }\n",
       "\n",
       "    .dataframe tbody tr th {\n",
       "        vertical-align: top;\n",
       "    }\n",
       "\n",
       "    .dataframe thead th {\n",
       "        text-align: right;\n",
       "    }\n",
       "</style>\n",
       "<table border=\"1\" class=\"dataframe\">\n",
       "  <thead>\n",
       "    <tr style=\"text-align: right;\">\n",
       "      <th></th>\n",
       "      <th>등급</th>\n",
       "    </tr>\n",
       "  </thead>\n",
       "  <tbody>\n",
       "    <tr>\n",
       "      <th>0</th>\n",
       "      <td>하</td>\n",
       "    </tr>\n",
       "    <tr>\n",
       "      <th>1</th>\n",
       "      <td>중</td>\n",
       "    </tr>\n",
       "    <tr>\n",
       "      <th>2</th>\n",
       "      <td>상</td>\n",
       "    </tr>\n",
       "    <tr>\n",
       "      <th>3</th>\n",
       "      <td>하</td>\n",
       "    </tr>\n",
       "    <tr>\n",
       "      <th>4</th>\n",
       "      <td>상</td>\n",
       "    </tr>\n",
       "    <tr>\n",
       "      <th>5</th>\n",
       "      <td>중</td>\n",
       "    </tr>\n",
       "    <tr>\n",
       "      <th>6</th>\n",
       "      <td>하</td>\n",
       "    </tr>\n",
       "    <tr>\n",
       "      <th>7</th>\n",
       "      <td>하하</td>\n",
       "    </tr>\n",
       "  </tbody>\n",
       "</table>\n",
       "</div>"
      ],
      "text/plain": [
       "   등급\n",
       "0   하\n",
       "1   중\n",
       "2   상\n",
       "3   하\n",
       "4   상\n",
       "5   중\n",
       "6   하\n",
       "7  하하"
      ]
     },
     "execution_count": 22,
     "metadata": {},
     "output_type": "execute_result"
    }
   ],
   "source": [
    "df = pd.DataFrame(\n",
    "    {\n",
    "        \"등급\": [\n",
    "            \"하\",\n",
    "            \"중\",\n",
    "            \"상\",\n",
    "            \"하\",\n",
    "            \"상\",\n",
    "            \"중\",\n",
    "            \"하\",\n",
    "            \"하하\",\n",
    "        ]\n",
    "    }\n",
    ")\n",
    "df.info()\n",
    "df"
   ]
  },
  {
   "cell_type": "code",
   "execution_count": 29,
   "metadata": {},
   "outputs": [],
   "source": [
    "# category 데이터 타입으로의 변환\n",
    "# 1. 데이터 (범주) 리스트\n",
    "#  - 리스트 내부의 순서는 곧 범주형 데이터 간 순서를 의미\n",
    "#    하 < 중 < 상\n",
    "orders = [\"하하\", \"하\", \"중\", \"상\"]  # 순서가 생성 됨 (오름차순)\n",
    "# orders = [\"하\", \"중\", \"상\", \"하하\"]\n",
    "\n",
    "# 2. 데이터 타입을 변환할 컬럼\n",
    "col = df[\"등급\"]\n",
    "\n",
    "# pd.Categorical() 활용 데이터 타입 변환\n",
    "df[\"등급2\"] = pd.Categorical(\n",
    "    values=col,  # 데이터 타입을 변환 할 컬럼\n",
    "    categories=orders,  # 사용할 범주형 데이터가 저장된 리스트\n",
    "    ordered=True,  # 데이터 간 크기 비교를 가능하게 함\n",
    ")"
   ]
  },
  {
   "cell_type": "code",
   "execution_count": 30,
   "metadata": {},
   "outputs": [
    {
     "data": {
      "text/html": [
       "<div>\n",
       "<style scoped>\n",
       "    .dataframe tbody tr th:only-of-type {\n",
       "        vertical-align: middle;\n",
       "    }\n",
       "\n",
       "    .dataframe tbody tr th {\n",
       "        vertical-align: top;\n",
       "    }\n",
       "\n",
       "    .dataframe thead th {\n",
       "        text-align: right;\n",
       "    }\n",
       "</style>\n",
       "<table border=\"1\" class=\"dataframe\">\n",
       "  <thead>\n",
       "    <tr style=\"text-align: right;\">\n",
       "      <th></th>\n",
       "      <th>등급</th>\n",
       "      <th>등급2</th>\n",
       "    </tr>\n",
       "  </thead>\n",
       "  <tbody>\n",
       "    <tr>\n",
       "      <th>2</th>\n",
       "      <td>상</td>\n",
       "      <td>상</td>\n",
       "    </tr>\n",
       "    <tr>\n",
       "      <th>4</th>\n",
       "      <td>상</td>\n",
       "      <td>상</td>\n",
       "    </tr>\n",
       "    <tr>\n",
       "      <th>1</th>\n",
       "      <td>중</td>\n",
       "      <td>중</td>\n",
       "    </tr>\n",
       "    <tr>\n",
       "      <th>5</th>\n",
       "      <td>중</td>\n",
       "      <td>중</td>\n",
       "    </tr>\n",
       "    <tr>\n",
       "      <th>0</th>\n",
       "      <td>하</td>\n",
       "      <td>하</td>\n",
       "    </tr>\n",
       "    <tr>\n",
       "      <th>3</th>\n",
       "      <td>하</td>\n",
       "      <td>하</td>\n",
       "    </tr>\n",
       "    <tr>\n",
       "      <th>6</th>\n",
       "      <td>하</td>\n",
       "      <td>하</td>\n",
       "    </tr>\n",
       "    <tr>\n",
       "      <th>7</th>\n",
       "      <td>하하</td>\n",
       "      <td>하하</td>\n",
       "    </tr>\n",
       "  </tbody>\n",
       "</table>\n",
       "</div>"
      ],
      "text/plain": [
       "   등급 등급2\n",
       "2   상   상\n",
       "4   상   상\n",
       "1   중   중\n",
       "5   중   중\n",
       "0   하   하\n",
       "3   하   하\n",
       "6   하   하\n",
       "7  하하  하하"
      ]
     },
     "execution_count": 30,
     "metadata": {},
     "output_type": "execute_result"
    }
   ],
   "source": [
    "df.sort_values(by=\"등급\")"
   ]
  },
  {
   "cell_type": "code",
   "execution_count": 31,
   "metadata": {},
   "outputs": [
    {
     "data": {
      "text/html": [
       "<div>\n",
       "<style scoped>\n",
       "    .dataframe tbody tr th:only-of-type {\n",
       "        vertical-align: middle;\n",
       "    }\n",
       "\n",
       "    .dataframe tbody tr th {\n",
       "        vertical-align: top;\n",
       "    }\n",
       "\n",
       "    .dataframe thead th {\n",
       "        text-align: right;\n",
       "    }\n",
       "</style>\n",
       "<table border=\"1\" class=\"dataframe\">\n",
       "  <thead>\n",
       "    <tr style=\"text-align: right;\">\n",
       "      <th></th>\n",
       "      <th>등급</th>\n",
       "      <th>등급2</th>\n",
       "    </tr>\n",
       "  </thead>\n",
       "  <tbody>\n",
       "    <tr>\n",
       "      <th>7</th>\n",
       "      <td>하하</td>\n",
       "      <td>하하</td>\n",
       "    </tr>\n",
       "    <tr>\n",
       "      <th>0</th>\n",
       "      <td>하</td>\n",
       "      <td>하</td>\n",
       "    </tr>\n",
       "    <tr>\n",
       "      <th>3</th>\n",
       "      <td>하</td>\n",
       "      <td>하</td>\n",
       "    </tr>\n",
       "    <tr>\n",
       "      <th>6</th>\n",
       "      <td>하</td>\n",
       "      <td>하</td>\n",
       "    </tr>\n",
       "    <tr>\n",
       "      <th>1</th>\n",
       "      <td>중</td>\n",
       "      <td>중</td>\n",
       "    </tr>\n",
       "    <tr>\n",
       "      <th>5</th>\n",
       "      <td>중</td>\n",
       "      <td>중</td>\n",
       "    </tr>\n",
       "    <tr>\n",
       "      <th>2</th>\n",
       "      <td>상</td>\n",
       "      <td>상</td>\n",
       "    </tr>\n",
       "    <tr>\n",
       "      <th>4</th>\n",
       "      <td>상</td>\n",
       "      <td>상</td>\n",
       "    </tr>\n",
       "  </tbody>\n",
       "</table>\n",
       "</div>"
      ],
      "text/plain": [
       "   등급 등급2\n",
       "7  하하  하하\n",
       "0   하   하\n",
       "3   하   하\n",
       "6   하   하\n",
       "1   중   중\n",
       "5   중   중\n",
       "2   상   상\n",
       "4   상   상"
      ]
     },
     "execution_count": 31,
     "metadata": {},
     "output_type": "execute_result"
    }
   ],
   "source": [
    "df.sort_values(by=\"등급2\")"
   ]
  },
  {
   "cell_type": "code",
   "execution_count": 40,
   "metadata": {},
   "outputs": [
    {
     "data": {
      "text/html": [
       "<div>\n",
       "<style scoped>\n",
       "    .dataframe tbody tr th:only-of-type {\n",
       "        vertical-align: middle;\n",
       "    }\n",
       "\n",
       "    .dataframe tbody tr th {\n",
       "        vertical-align: top;\n",
       "    }\n",
       "\n",
       "    .dataframe thead th {\n",
       "        text-align: right;\n",
       "    }\n",
       "</style>\n",
       "<table border=\"1\" class=\"dataframe\">\n",
       "  <thead>\n",
       "    <tr style=\"text-align: right;\">\n",
       "      <th></th>\n",
       "      <th>등급</th>\n",
       "    </tr>\n",
       "  </thead>\n",
       "  <tbody>\n",
       "    <tr>\n",
       "      <th>0</th>\n",
       "      <td>하</td>\n",
       "    </tr>\n",
       "    <tr>\n",
       "      <th>1</th>\n",
       "      <td>중</td>\n",
       "    </tr>\n",
       "    <tr>\n",
       "      <th>3</th>\n",
       "      <td>하</td>\n",
       "    </tr>\n",
       "    <tr>\n",
       "      <th>5</th>\n",
       "      <td>중</td>\n",
       "    </tr>\n",
       "    <tr>\n",
       "      <th>6</th>\n",
       "      <td>하</td>\n",
       "    </tr>\n",
       "    <tr>\n",
       "      <th>7</th>\n",
       "      <td>하하</td>\n",
       "    </tr>\n",
       "  </tbody>\n",
       "</table>\n",
       "</div>"
      ],
      "text/plain": [
       "   등급\n",
       "0   하\n",
       "1   중\n",
       "3   하\n",
       "5   중\n",
       "6   하\n",
       "7  하하"
      ]
     },
     "execution_count": 40,
     "metadata": {},
     "output_type": "execute_result"
    }
   ],
   "source": [
    "# ordered=True or False\n",
    "df[\"등급2\"] = pd.Categorical(\n",
    "    values=col,  # 데이터 타입을 변환 할 컬럼\n",
    "    categories=orders,  # 사용할 범주형 데이터가 저장된 리스트\n",
    "    ordered=True,  # 데이터 간 크기 비교를 가능하게 함\n",
    "    # ordered=False,  # 데이터 간 크기 비교를 가능하게 함\n",
    ")\n",
    "\n",
    "# ordered=True일 때 데이터 간 크기 비교 가능 (False 시, 오류 발생)\n",
    "df[\"등급2\"] <= \"중\"\n",
    "df[df[\"등급2\"] <= \"중\"][[\"등급\"]]"
   ]
  }
 ],
 "metadata": {
  "kernelspec": {
   "display_name": "py_311",
   "language": "python",
   "name": "py_311"
  },
  "language_info": {
   "codemirror_mode": {
    "name": "ipython",
    "version": 3
   },
   "file_extension": ".py",
   "mimetype": "text/x-python",
   "name": "python",
   "nbconvert_exporter": "python",
   "pygments_lexer": "ipython3",
   "version": "3.11.9"
  }
 },
 "nbformat": 4,
 "nbformat_minor": 2
}
