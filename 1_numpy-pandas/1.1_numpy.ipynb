{
 "cells": [
  {
   "metadata": {},
   "cell_type": "markdown",
   "source": "### Numpy ndarray 개요 ",
   "id": "d0a6221c0bdd0c08"
  },
  {
   "metadata": {
    "ExecuteTime": {
     "end_time": "2024-09-21T09:19:10.315667Z",
     "start_time": "2024-09-21T09:19:09.654091Z"
    }
   },
   "cell_type": "code",
   "source": "import numpy as np",
   "id": "a518188ca9fb076c",
   "outputs": [],
   "execution_count": 1
  },
  {
   "metadata": {
    "ExecuteTime": {
     "end_time": "2024-05-27T18:06:27.932930Z",
     "start_time": "2024-05-27T18:06:27.910808Z"
    }
   },
   "cell_type": "code",
   "source": [
    "list1 = [1, 2, 3]\n",
    "print('list type :', type(list1))\n",
    "array1 = np.array(list1)\n",
    "# array1 = np.array([1, 2, 3])\n",
    "print('array1 type :', type(array1))\n",
    "print('array1 array 형태 :', array1.shape)\n",
    "\n",
    "array2 = np.array([[1, 2, 3,],\n",
    "                   [4, 5, 6]])\n",
    "print('array2 type :', type(array2))\n",
    "print('array2 array 형태 :', array2.shape)\n",
    "\n",
    "array3 = np.array([[1, 2, 3]])\n",
    "print('array3 type :', type(array3))\n",
    "print('array3 array 형태 :', array3.shape)"
   ],
   "id": "1cd06898c18d04a9",
   "outputs": [
    {
     "name": "stdout",
     "output_type": "stream",
     "text": [
      "list type : <class 'list'>\n",
      "array1 type : <class 'numpy.ndarray'>\n",
      "array1 array 형태 : (3,)\n",
      "array2 type : <class 'numpy.ndarray'>\n",
      "array2 array 형태 : (2, 3)\n",
      "array3 type : <class 'numpy.ndarray'>\n",
      "array3 array 형태 : (1, 3)\n"
     ]
    }
   ],
   "execution_count": 2
  },
  {
   "metadata": {
    "ExecuteTime": {
     "end_time": "2024-05-27T18:06:27.955500Z",
     "start_time": "2024-05-27T18:06:27.937Z"
    }
   },
   "cell_type": "code",
   "source": "print(f'array1 : {array1.ndim}차원, array2 : {array2.ndim}차원, array3 : {array3.ndim}차원')",
   "id": "5067ad8cbc8ca3b0",
   "outputs": [
    {
     "name": "stdout",
     "output_type": "stream",
     "text": [
      "array1 : 1차원, array2 : 2차원, array3 : 2차원\n"
     ]
    }
   ],
   "execution_count": 3
  },
  {
   "metadata": {},
   "cell_type": "markdown",
   "source": "### ndarray의 데이터 타입",
   "id": "2b3664ab4529bbdf"
  },
  {
   "metadata": {
    "ExecuteTime": {
     "end_time": "2024-05-27T18:06:27.977187Z",
     "start_time": "2024-05-27T18:06:27.955500Z"
    }
   },
   "cell_type": "code",
   "source": [
    "list1 = [1, 2, 3]\n",
    "print(type(list1))\n",
    "array1 = np.array(list1)\n",
    "print(type(array1))\n",
    "print(array1, array1.dtype)"
   ],
   "id": "d19456b77d18a7b3",
   "outputs": [
    {
     "name": "stdout",
     "output_type": "stream",
     "text": [
      "<class 'list'>\n",
      "<class 'numpy.ndarray'>\n",
      "[1 2 3] int32\n"
     ]
    }
   ],
   "execution_count": 4
  },
  {
   "metadata": {
    "ExecuteTime": {
     "end_time": "2024-05-27T18:07:53.484380Z",
     "start_time": "2024-05-27T18:07:53.471234Z"
    }
   },
   "cell_type": "code",
   "source": [
    "# ndarray에는 같은 dtype만 가능, 다른 자료형이 들어갈 경우 큰 쪽으로 자동 형변환 됨\n",
    "list2 = [1, 2, 'test']\n",
    "array2 = np.array(list2)\n",
    "print(array2, array2.dtype)\n",
    "\n",
    "list3 = [1, 2, 3.0]\n",
    "array3 = np.array(list3)\n",
    "print(array3, array3.dtype)"
   ],
   "id": "5341af066a39633f",
   "outputs": [
    {
     "name": "stdout",
     "output_type": "stream",
     "text": [
      "['1' '2' 'test'] <U11\n",
      "[1. 2. 3.] float64\n"
     ]
    }
   ],
   "execution_count": 5
  },
  {
   "metadata": {
    "ExecuteTime": {
     "end_time": "2024-05-27T18:11:16.750293Z",
     "start_time": "2024-05-27T18:11:16.737876Z"
    }
   },
   "cell_type": "code",
   "source": [
    "# type 변경\n",
    "array_int = np.array([1, 2, 3])\n",
    "array_float = array_int.astype('float64') # array_int.astype(np.float64)\n",
    "print(array_float, array_float.dtype)\n",
    "\n",
    "array_int1 = array_float.astype('int32')\n",
    "print(array_int1, array_int1.dtype)\n",
    "\n",
    "array_float1 = np.array([1.1, 2.1, 3.1])\n",
    "array_int2 = array_float1.astype('int32')\n",
    "print(array_int2, array_int2.dtype)"
   ],
   "id": "4231eb7706344856",
   "outputs": [
    {
     "name": "stdout",
     "output_type": "stream",
     "text": [
      "[1. 2. 3.] float64\n",
      "[1 2 3] int32\n",
      "[1 2 3] int32\n"
     ]
    }
   ],
   "execution_count": 6
  },
  {
   "metadata": {},
   "cell_type": "markdown",
   "source": "### ndarray를 편리하게 생성하기 - arange, zeros, ones",
   "id": "8f1f76cd297c0b94"
  },
  {
   "metadata": {
    "ExecuteTime": {
     "end_time": "2024-09-19T16:42:25.312760Z",
     "start_time": "2024-09-19T16:42:25.303948Z"
    }
   },
   "cell_type": "code",
   "source": [
    "seq_array = np.arange(10)\n",
    "print(seq_array)\n",
    "print(seq_array.dtype, seq_array.shape)"
   ],
   "id": "ccfdff5065cc47c3",
   "outputs": [
    {
     "name": "stdout",
     "output_type": "stream",
     "text": [
      "[0 1 2 3 4 5 6 7 8 9]\n",
      "int32 (10,)\n"
     ]
    }
   ],
   "execution_count": 2
  },
  {
   "metadata": {
    "ExecuteTime": {
     "end_time": "2024-09-19T16:44:55.217807Z",
     "start_time": "2024-09-19T16:44:55.201675Z"
    }
   },
   "cell_type": "code",
   "source": [
    "# (3, 2) shape를 가지는 모든 원소가 0, dtype은 int32인 ndarray 생성\n",
    "zero_array = np.zeros((3, 2), dtype = \"int32\")\n",
    "print(zero_array)\n",
    "print(zero_array.dtype, zero_array.shape)\n",
    "\n",
    "# (3, 2) shape를 가지는 모든 원소가 1인 ndarray 생성\n",
    "one_array = np.ones((3, 2))\n",
    "print(one_array)\n",
    "print(one_array.dtype, one_array.shape)"
   ],
   "id": "9633b74fd5fedea0",
   "outputs": [
    {
     "name": "stdout",
     "output_type": "stream",
     "text": [
      "[[0 0]\n",
      " [0 0]\n",
      " [0 0]]\n",
      "int32 (3, 2)\n",
      "[[1. 1.]\n",
      " [1. 1.]\n",
      " [1. 1.]]\n",
      "float64 (3, 2)\n"
     ]
    }
   ],
   "execution_count": 3
  },
  {
   "metadata": {},
   "cell_type": "markdown",
   "source": "### ndarray의 차원과 크기를 변경하는 reshape",
   "id": "282afc2729bae595"
  },
  {
   "metadata": {
    "ExecuteTime": {
     "end_time": "2024-09-19T16:48:34.693096Z",
     "start_time": "2024-09-19T16:48:34.674354Z"
    }
   },
   "cell_type": "code",
   "source": [
    "arr1 = np.arange(10)\n",
    "print(\"arr1 : \\n\", arr1)\n",
    "\n",
    "# (2, 5) shape로 변환\n",
    "arr2 = arr1.reshape(2, 5)\n",
    "print(\"arr2 : \\n\", arr2)\n",
    "\n",
    "# (5, 2) shape로 변환\n",
    "arr3 = arr1.reshape(5, 2)\n",
    "print(\"arr3 : \\n\", arr3)"
   ],
   "id": "afc039ee018d6c74",
   "outputs": [
    {
     "name": "stdout",
     "output_type": "stream",
     "text": [
      "arr1 : \n",
      " [0 1 2 3 4 5 6 7 8 9]\n",
      "arr2 : \n",
      " [[0 1 2 3 4]\n",
      " [5 6 7 8 9]]\n",
      "arr3 : \n",
      " [[0 1]\n",
      " [2 3]\n",
      " [4 5]\n",
      " [6 7]\n",
      " [8 9]]\n"
     ]
    }
   ],
   "execution_count": 4
  },
  {
   "metadata": {
    "ExecuteTime": {
     "end_time": "2024-09-19T16:49:04.264122Z",
     "start_time": "2024-09-19T16:49:02.399369Z"
    }
   },
   "cell_type": "code",
   "source": "arr1.reshape(4, 3) # 오류 발생",
   "id": "e1681ae1bd5748ea",
   "outputs": [
    {
     "ename": "ValueError",
     "evalue": "cannot reshape array of size 10 into shape (4,3)",
     "output_type": "error",
     "traceback": [
      "\u001B[1;31m---------------------------------------------------------------------------\u001B[0m",
      "\u001B[1;31mValueError\u001B[0m                                Traceback (most recent call last)",
      "Cell \u001B[1;32mIn[5], line 1\u001B[0m\n\u001B[1;32m----> 1\u001B[0m arr1\u001B[38;5;241m.\u001B[39mreshape(\u001B[38;5;241m4\u001B[39m, \u001B[38;5;241m3\u001B[39m)\n",
      "\u001B[1;31mValueError\u001B[0m: cannot reshape array of size 10 into shape (4,3)"
     ]
    }
   ],
   "execution_count": 5
  },
  {
   "metadata": {
    "ExecuteTime": {
     "end_time": "2024-09-19T16:51:28.014366Z",
     "start_time": "2024-09-19T16:51:28.002317Z"
    }
   },
   "cell_type": "code",
   "source": [
    "arr1 = np.arange(10)\n",
    "print(\"arr1 : \\n\", arr1)\n",
    "\n",
    "arr2 = arr1.reshape(-1, 5)\n",
    "print(\"arr2 shape : \\n\", arr2.shape)\n",
    "\n",
    "arr3 = arr1.reshape(5, -1)\n",
    "print(\"arr3 shape : \\n\", arr3.shape)"
   ],
   "id": "2c127f65d75b072a",
   "outputs": [
    {
     "name": "stdout",
     "output_type": "stream",
     "text": [
      "arr1 : \n",
      " [0 1 2 3 4 5 6 7 8 9]\n",
      "arr2 shape : \n",
      " (2, 5)\n",
      "arr3 shape : \n",
      " (5, 2)\n"
     ]
    }
   ],
   "execution_count": 7
  },
  {
   "metadata": {
    "ExecuteTime": {
     "end_time": "2024-09-19T16:52:08.722197Z",
     "start_time": "2024-09-19T16:52:08.677621Z"
    }
   },
   "cell_type": "code",
   "source": "arr1.reshape(-1, 4) # 오류 발생",
   "id": "9b51b899d3805783",
   "outputs": [
    {
     "ename": "ValueError",
     "evalue": "cannot reshape array of size 10 into shape (4)",
     "output_type": "error",
     "traceback": [
      "\u001B[1;31m---------------------------------------------------------------------------\u001B[0m",
      "\u001B[1;31mValueError\u001B[0m                                Traceback (most recent call last)",
      "Cell \u001B[1;32mIn[8], line 1\u001B[0m\n\u001B[1;32m----> 1\u001B[0m arr1\u001B[38;5;241m.\u001B[39mreshape(\u001B[38;5;241m-\u001B[39m\u001B[38;5;241m1\u001B[39m, \u001B[38;5;241m4\u001B[39m)\n",
      "\u001B[1;31mValueError\u001B[0m: cannot reshape array of size 10 into shape (4)"
     ]
    }
   ],
   "execution_count": 8
  },
  {
   "metadata": {
    "ExecuteTime": {
     "end_time": "2024-09-19T16:56:11.696972Z",
     "start_time": "2024-09-19T16:56:11.681400Z"
    }
   },
   "cell_type": "code",
   "source": [
    "arr1 = np.arange(8)\n",
    "arr3d = arr1.reshape((2, 2, 2))\n",
    "print(\"arr3d : \\n\", arr3d.tolist())\n",
    "\n",
    "# 3차원 ndarray를 2차원 ndarray로 변환하되, 컬럼 갯수는 1\n",
    "arr5 = arr3d.reshape(-1, 1)\n",
    "print(\"arr5 : \\n\", arr5.tolist())\n",
    "print(\"arr5 shape : \\n\", arr5.shape)\n",
    "\n",
    "# 1차원 ndarray를 2차원 ndarray로 변환하되, 컬럼 갯수는 1\n",
    "arr6 = arr1.reshape(-1, 1)\n",
    "print(\"arr6 : \\n\", arr6.tolist())\n",
    "print(\"arr6 shape : \\n\", arr6.shape)"
   ],
   "id": "9d49d1f4b109ec19",
   "outputs": [
    {
     "name": "stdout",
     "output_type": "stream",
     "text": [
      "arr3d : \n",
      " [[[0, 1], [2, 3]], [[4, 5], [6, 7]]]\n",
      "arr5 : \n",
      " [[0], [1], [2], [3], [4], [5], [6], [7]]\n",
      "arr5 shape : \n",
      " (8, 1)\n",
      "arr6 : \n",
      " [[0], [1], [2], [3], [4], [5], [6], [7]]\n",
      "arr6 shape : \n",
      " (8, 1)\n"
     ]
    }
   ],
   "execution_count": 9
  },
  {
   "metadata": {
    "ExecuteTime": {
     "end_time": "2024-09-19T16:59:21.116224Z",
     "start_time": "2024-09-19T16:59:21.094314Z"
    }
   },
   "cell_type": "code",
   "source": [
    "# 3차원 array를 1차원으로 변환\n",
    "arr1d = arr3d.reshape(-1,)\n",
    "print(arr1d)"
   ],
   "id": "4fdf0ae5fc62889d",
   "outputs": [
    {
     "name": "stdout",
     "output_type": "stream",
     "text": [
      "[0 1 2 3 4 5 6 7]\n"
     ]
    }
   ],
   "execution_count": 11
  },
  {
   "metadata": {},
   "cell_type": "markdown",
   "source": [
    "### ndarray의 데이터 세트 선택하기 - indexing\n",
    "- 단일 인덱싱"
   ],
   "id": "b53071ad5df08471"
  },
  {
   "metadata": {
    "ExecuteTime": {
     "end_time": "2024-09-21T09:19:16.389988Z",
     "start_time": "2024-09-21T09:19:16.366829Z"
    }
   },
   "cell_type": "code",
   "source": [
    " # 1 ~ 9까지의 1차원 ndarray 생성\n",
    "array1 = np.arange(1, 10)\n",
    "print(\"array1 : \", array1)\n",
    "# index는 0부터 시작하므로 array1[2]는 3번째 index 위치의 데이터 값을 의미\n",
    "value = array1[2]\n",
    "print(\"value : \", value)\n",
    "print(type(value))"
   ],
   "id": "4231c43a7a7b5c64",
   "outputs": [
    {
     "name": "stdout",
     "output_type": "stream",
     "text": [
      "array1 :  [1 2 3 4 5 6 7 8 9]\n",
      "value :  3\n",
      "<class 'numpy.int32'>\n"
     ]
    }
   ],
   "execution_count": 2
  },
  {
   "metadata": {
    "ExecuteTime": {
     "end_time": "2024-09-21T09:20:28.505269Z",
     "start_time": "2024-09-21T09:20:28.490617Z"
    }
   },
   "cell_type": "code",
   "source": "print(\"맨 뒤의 값 : \", array1[-1], \", 맨 뒤에서 두번째 값 : \", array1[-2])",
   "id": "a322f99334ee989c",
   "outputs": [
    {
     "name": "stdout",
     "output_type": "stream",
     "text": [
      "맨 뒤의 값 :  9 , 맨 뒤에서 두번째 값 :  8\n"
     ]
    }
   ],
   "execution_count": 3
  },
  {
   "metadata": {
    "ExecuteTime": {
     "end_time": "2024-09-21T09:21:33.050133Z",
     "start_time": "2024-09-21T09:21:33.043153Z"
    }
   },
   "cell_type": "code",
   "source": [
    "array1[0] = 9\n",
    "array1[8] = 0\n",
    "print(\"array1 : \", array1)"
   ],
   "id": "4b75823156d933f9",
   "outputs": [
    {
     "name": "stdout",
     "output_type": "stream",
     "text": [
      "array1 :  [9 2 3 4 5 6 7 8 0]\n"
     ]
    }
   ],
   "execution_count": 4
  },
  {
   "metadata": {
    "ExecuteTime": {
     "end_time": "2024-09-21T09:24:03.304930Z",
     "start_time": "2024-09-21T09:24:03.290973Z"
    }
   },
   "cell_type": "code",
   "source": [
    "arr1d = np.arange(1, 10)\n",
    "arr2d = arr1d.reshape(3, 3)\n",
    "print(arr2d)\n",
    "\n",
    "print(\"(row = 0, col = 0) index가 가리키는 값 : \", arr2d[0, 0])\n",
    "print(\"(row = 0, col = 1) index가 가리키는 값 : \", arr2d[0, 1])\n",
    "print(\"(row = 1, col = 0) index가 가리키는 값 : \", arr2d[1, 0])\n",
    "print(\"(row = 2, col = 2) index가 가리키는 값 : \", arr2d[2, 2])"
   ],
   "id": "7230c877b12ccb43",
   "outputs": [
    {
     "name": "stdout",
     "output_type": "stream",
     "text": [
      "[[1 2 3]\n",
      " [4 5 6]\n",
      " [7 8 9]]\n",
      "(row = 0, col = 0) index가 가리키는 값 :  1\n",
      "(row = 0, col = 1) index가 가리키는 값 :  2\n",
      "(row = 1, col = 0) index가 가리키는 값 :  4\n",
      "(row = 2, col = 2) index가 가리키는 값 :  9\n"
     ]
    }
   ],
   "execution_count": 5
  },
  {
   "metadata": {},
   "cell_type": "markdown",
   "source": "- 슬라이싱 인덱싱",
   "id": "33d7c75956aeabf8"
  },
  {
   "metadata": {
    "ExecuteTime": {
     "end_time": "2024-09-21T09:26:51.499682Z",
     "start_time": "2024-09-21T09:26:51.489005Z"
    }
   },
   "cell_type": "code",
   "source": [
    "array1 = np.arange(1, 10)\n",
    "print(\"array1 : \", array1)\n",
    "array3 = array1[0:3]\n",
    "print(\"array3 : \", array3)\n",
    "print(type(array3))"
   ],
   "id": "59718a238a0b19a7",
   "outputs": [
    {
     "name": "stdout",
     "output_type": "stream",
     "text": [
      "array1 :  [1 2 3 4 5 6 7 8 9]\n",
      "array3 :  [1 2 3]\n",
      "<class 'numpy.ndarray'>\n"
     ]
    }
   ],
   "execution_count": 6
  },
  {
   "metadata": {
    "ExecuteTime": {
     "end_time": "2024-09-21T09:29:15.245908Z",
     "start_time": "2024-09-21T09:29:15.229281Z"
    }
   },
   "cell_type": "code",
   "source": [
    "array1 = np.arange(1, 10)\n",
    "# 위치 인덱스 0-2(2포함)까지 추출\n",
    "array4 = array1[:3]\n",
    "print(array4)\n",
    "# 위치 인덱스 3부터 마지막까지 추출\n",
    "array5 = array1[3:]\n",
    "print(array5)\n",
    "# 위치 인덱스로 전체 데이터 추출\n",
    "array6 = array1[:]\n",
    "print(array6)"
   ],
   "id": "19a31490d133355d",
   "outputs": [
    {
     "name": "stdout",
     "output_type": "stream",
     "text": [
      "[1 2 3]\n",
      "[4 5 6 7 8 9]\n",
      "[1 2 3 4 5 6 7 8 9]\n"
     ]
    }
   ],
   "execution_count": 8
  },
  {
   "metadata": {
    "ExecuteTime": {
     "end_time": "2024-09-21T09:33:04.077743Z",
     "start_time": "2024-09-21T09:33:04.065394Z"
    }
   },
   "cell_type": "code",
   "source": [
    "arr1d = np.arange(1, 10)\n",
    "arr2d = arr1d.reshape(3, 3)\n",
    "print(\"arr2d : \\n\", arr2d)\n",
    "\n",
    "print(\"arr2d[0:2, 0:2] \\n\", arr2d[0:2, 0:2])\n",
    "print(\"arr2d[1:3, 0:3] \\n\", arr2d[1:3, 0:3])\n",
    "print(\"arr2d[1:3, :] \\n\", arr2d[1:3, :])\n",
    "print(\"arr2d[:, :] \\n\", arr2d[:, :])\n",
    "print(\"arr2d[:2, 1:] \\n\", arr2d[:2, 1:])\n",
    "print(\"arr2d[:2, 0] \\n\", arr2d[:2, 0])"
   ],
   "id": "a43f0fef3b0201cd",
   "outputs": [
    {
     "name": "stdout",
     "output_type": "stream",
     "text": [
      "arr2d : \n",
      " [[1 2 3]\n",
      " [4 5 6]\n",
      " [7 8 9]]\n",
      "arr2d[0:2, 0:2] \n",
      " [[1 2]\n",
      " [4 5]]\n",
      "arr2d[1:3, 0:3] \n",
      " [[4 5 6]\n",
      " [7 8 9]]\n",
      "arr2d[1:3, :] \n",
      " [[4 5 6]\n",
      " [7 8 9]]\n",
      "arr2d[:, :] \n",
      " [[1 2 3]\n",
      " [4 5 6]\n",
      " [7 8 9]]\n",
      "arr2d[:2, 1:] \n",
      " [[2 3]\n",
      " [5 6]]\n",
      "arr2d[:2, 0] \n",
      " [1 4]\n"
     ]
    }
   ],
   "execution_count": 9
  },
  {
   "metadata": {
    "ExecuteTime": {
     "end_time": "2024-09-21T09:35:42.121008Z",
     "start_time": "2024-09-21T09:35:42.107410Z"
    }
   },
   "cell_type": "code",
   "source": [
    "print(arr2d[0])\n",
    "print(arr2d[1])\n",
    "print(\"arr2d[0] shape : \", arr2d[0].shape, \"arr2d[1] shape : \", arr2d[1].shape)"
   ],
   "id": "9fc28f29b0e18573",
   "outputs": [
    {
     "name": "stdout",
     "output_type": "stream",
     "text": [
      "[1 2 3]\n",
      "[4 5 6]\n",
      "arr2d[0] shape :  (3,) arr2d[1] shape :  (3,)\n"
     ]
    }
   ],
   "execution_count": 10
  },
  {
   "metadata": {},
   "cell_type": "markdown",
   "source": "- 팬시 인덱싱",
   "id": "b2c0205e5149ea2c"
  },
  {
   "metadata": {
    "ExecuteTime": {
     "end_time": "2024-09-21T09:38:20.207302Z",
     "start_time": "2024-09-21T09:38:20.187447Z"
    }
   },
   "cell_type": "code",
   "source": [
    "arr1d = np.arange(1, 10)\n",
    "arr2d = arr1d.reshape(3, 3)\n",
    "\n",
    "array3 = arr2d[[0, 1], 2]\n",
    "print(\"arr2d[[0, 1], 2] => \", array3.tolist())\n",
    "\n",
    "array4 = arr2d[[0, 1], 0:2]\n",
    "print(\"arr2d[[0, 1], 0:2] => \", array4.tolist())\n",
    "\n",
    "array5 = arr2d[[0, 1]]\n",
    "print(\"arr2d[[0, 1]] => \", array5.tolist())"
   ],
   "id": "dd350e66bc775074",
   "outputs": [
    {
     "name": "stdout",
     "output_type": "stream",
     "text": [
      "arr2d[[0, 1], 2] =>  [3, 6]\n",
      "arr2d[[0, 1], 0:2] =>  [[1, 2], [4, 5]]\n",
      "arr2d[[0, 1]] =>  [[1, 2, 3], [4, 5, 6]]\n"
     ]
    }
   ],
   "execution_count": 11
  }
 ],
 "metadata": {
  "kernelspec": {
   "display_name": "Python 3",
   "language": "python",
   "name": "python3"
  },
  "language_info": {
   "codemirror_mode": {
    "name": "ipython",
    "version": 2
   },
   "file_extension": ".py",
   "mimetype": "text/x-python",
   "name": "python",
   "nbconvert_exporter": "python",
   "pygments_lexer": "ipython2",
   "version": "2.7.6"
  }
 },
 "nbformat": 4,
 "nbformat_minor": 5
}
