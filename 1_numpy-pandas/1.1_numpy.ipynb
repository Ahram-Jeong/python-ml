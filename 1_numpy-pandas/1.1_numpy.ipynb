{
 "cells": [
  {
   "metadata": {},
   "cell_type": "markdown",
   "source": "### Numpy ndarray 개요 ",
   "id": "d0a6221c0bdd0c08"
  },
  {
   "metadata": {
    "ExecuteTime": {
     "end_time": "2024-09-19T16:41:50.261057Z",
     "start_time": "2024-09-19T16:41:45.707559Z"
    }
   },
   "cell_type": "code",
   "source": "import numpy as np",
   "id": "a518188ca9fb076c",
   "outputs": [],
   "execution_count": 1
  },
  {
   "metadata": {
    "ExecuteTime": {
     "end_time": "2024-05-27T18:06:27.932930Z",
     "start_time": "2024-05-27T18:06:27.910808Z"
    }
   },
   "cell_type": "code",
   "source": [
    "list1 = [1, 2, 3]\n",
    "print('list type :', type(list1))\n",
    "array1 = np.array(list1)\n",
    "# array1 = np.array([1, 2, 3])\n",
    "print('array1 type :', type(array1))\n",
    "print('array1 array 형태 :', array1.shape)\n",
    "\n",
    "array2 = np.array([[1, 2, 3,],\n",
    "                   [4, 5, 6]])\n",
    "print('array2 type :', type(array2))\n",
    "print('array2 array 형태 :', array2.shape)\n",
    "\n",
    "array3 = np.array([[1, 2, 3]])\n",
    "print('array3 type :', type(array3))\n",
    "print('array3 array 형태 :', array3.shape)"
   ],
   "id": "1cd06898c18d04a9",
   "outputs": [
    {
     "name": "stdout",
     "output_type": "stream",
     "text": [
      "list type : <class 'list'>\n",
      "array1 type : <class 'numpy.ndarray'>\n",
      "array1 array 형태 : (3,)\n",
      "array2 type : <class 'numpy.ndarray'>\n",
      "array2 array 형태 : (2, 3)\n",
      "array3 type : <class 'numpy.ndarray'>\n",
      "array3 array 형태 : (1, 3)\n"
     ]
    }
   ],
   "execution_count": 2
  },
  {
   "metadata": {
    "ExecuteTime": {
     "end_time": "2024-05-27T18:06:27.955500Z",
     "start_time": "2024-05-27T18:06:27.937Z"
    }
   },
   "cell_type": "code",
   "source": "print(f'array1 : {array1.ndim}차원, array2 : {array2.ndim}차원, array3 : {array3.ndim}차원')",
   "id": "5067ad8cbc8ca3b0",
   "outputs": [
    {
     "name": "stdout",
     "output_type": "stream",
     "text": [
      "array1 : 1차원, array2 : 2차원, array3 : 2차원\n"
     ]
    }
   ],
   "execution_count": 3
  },
  {
   "metadata": {},
   "cell_type": "markdown",
   "source": "### ndarray의 데이터 타입",
   "id": "2b3664ab4529bbdf"
  },
  {
   "metadata": {
    "ExecuteTime": {
     "end_time": "2024-05-27T18:06:27.977187Z",
     "start_time": "2024-05-27T18:06:27.955500Z"
    }
   },
   "cell_type": "code",
   "source": [
    "list1 = [1, 2, 3]\n",
    "print(type(list1))\n",
    "array1 = np.array(list1)\n",
    "print(type(array1))\n",
    "print(array1, array1.dtype)"
   ],
   "id": "d19456b77d18a7b3",
   "outputs": [
    {
     "name": "stdout",
     "output_type": "stream",
     "text": [
      "<class 'list'>\n",
      "<class 'numpy.ndarray'>\n",
      "[1 2 3] int32\n"
     ]
    }
   ],
   "execution_count": 4
  },
  {
   "metadata": {
    "ExecuteTime": {
     "end_time": "2024-05-27T18:07:53.484380Z",
     "start_time": "2024-05-27T18:07:53.471234Z"
    }
   },
   "cell_type": "code",
   "source": [
    "# ndarray에는 같은 dtype만 가능, 다른 자료형이 들어갈 경우 큰 쪽으로 자동 형변환 됨\n",
    "list2 = [1, 2, 'test']\n",
    "array2 = np.array(list2)\n",
    "print(array2, array2.dtype)\n",
    "\n",
    "list3 = [1, 2, 3.0]\n",
    "array3 = np.array(list3)\n",
    "print(array3, array3.dtype)"
   ],
   "id": "5341af066a39633f",
   "outputs": [
    {
     "name": "stdout",
     "output_type": "stream",
     "text": [
      "['1' '2' 'test'] <U11\n",
      "[1. 2. 3.] float64\n"
     ]
    }
   ],
   "execution_count": 5
  },
  {
   "metadata": {
    "ExecuteTime": {
     "end_time": "2024-05-27T18:11:16.750293Z",
     "start_time": "2024-05-27T18:11:16.737876Z"
    }
   },
   "cell_type": "code",
   "source": [
    "# type 변경\n",
    "array_int = np.array([1, 2, 3])\n",
    "array_float = array_int.astype('float64') # array_int.astype(np.float64)\n",
    "print(array_float, array_float.dtype)\n",
    "\n",
    "array_int1 = array_float.astype('int32')\n",
    "print(array_int1, array_int1.dtype)\n",
    "\n",
    "array_float1 = np.array([1.1, 2.1, 3.1])\n",
    "array_int2 = array_float1.astype('int32')\n",
    "print(array_int2, array_int2.dtype)"
   ],
   "id": "4231eb7706344856",
   "outputs": [
    {
     "name": "stdout",
     "output_type": "stream",
     "text": [
      "[1. 2. 3.] float64\n",
      "[1 2 3] int32\n",
      "[1 2 3] int32\n"
     ]
    }
   ],
   "execution_count": 6
  },
  {
   "metadata": {},
   "cell_type": "markdown",
   "source": "### ndarray를 편리하게 생성하기 - arange, zeros, ones",
   "id": "8f1f76cd297c0b94"
  },
  {
   "metadata": {
    "ExecuteTime": {
     "end_time": "2024-09-19T16:42:25.312760Z",
     "start_time": "2024-09-19T16:42:25.303948Z"
    }
   },
   "cell_type": "code",
   "source": [
    "seq_array = np.arange(10)\n",
    "print(seq_array)\n",
    "print(seq_array.dtype, seq_array.shape)"
   ],
   "id": "ccfdff5065cc47c3",
   "outputs": [
    {
     "name": "stdout",
     "output_type": "stream",
     "text": [
      "[0 1 2 3 4 5 6 7 8 9]\n",
      "int32 (10,)\n"
     ]
    }
   ],
   "execution_count": 2
  },
  {
   "metadata": {
    "ExecuteTime": {
     "end_time": "2024-09-19T16:44:55.217807Z",
     "start_time": "2024-09-19T16:44:55.201675Z"
    }
   },
   "cell_type": "code",
   "source": [
    "# (3, 2) shape를 가지는 모든 원소가 0, dtype은 int32인 ndarray 생성\n",
    "zero_array = np.zeros((3, 2), dtype = \"int32\")\n",
    "print(zero_array)\n",
    "print(zero_array.dtype, zero_array.shape)\n",
    "\n",
    "# (3, 2) shape를 가지는 모든 원소가 1인 ndarray 생성\n",
    "one_array = np.ones((3, 2))\n",
    "print(one_array)\n",
    "print(one_array.dtype, one_array.shape)"
   ],
   "id": "9633b74fd5fedea0",
   "outputs": [
    {
     "name": "stdout",
     "output_type": "stream",
     "text": [
      "[[0 0]\n",
      " [0 0]\n",
      " [0 0]]\n",
      "int32 (3, 2)\n",
      "[[1. 1.]\n",
      " [1. 1.]\n",
      " [1. 1.]]\n",
      "float64 (3, 2)\n"
     ]
    }
   ],
   "execution_count": 3
  },
  {
   "metadata": {},
   "cell_type": "markdown",
   "source": "### ndarray의 차원과 크기를 변경하는 reshape",
   "id": "282afc2729bae595"
  },
  {
   "metadata": {
    "ExecuteTime": {
     "end_time": "2024-09-19T16:48:34.693096Z",
     "start_time": "2024-09-19T16:48:34.674354Z"
    }
   },
   "cell_type": "code",
   "source": [
    "arr1 = np.arange(10)\n",
    "print(\"arr1 : \\n\", arr1)\n",
    "\n",
    "# (2, 5) shape로 변환\n",
    "arr2 = arr1.reshape(2, 5)\n",
    "print(\"arr2 : \\n\", arr2)\n",
    "\n",
    "# (5, 2) shape로 변환\n",
    "arr3 = arr1.reshape(5, 2)\n",
    "print(\"arr3 : \\n\", arr3)"
   ],
   "id": "afc039ee018d6c74",
   "outputs": [
    {
     "name": "stdout",
     "output_type": "stream",
     "text": [
      "arr1 : \n",
      " [0 1 2 3 4 5 6 7 8 9]\n",
      "arr2 : \n",
      " [[0 1 2 3 4]\n",
      " [5 6 7 8 9]]\n",
      "arr3 : \n",
      " [[0 1]\n",
      " [2 3]\n",
      " [4 5]\n",
      " [6 7]\n",
      " [8 9]]\n"
     ]
    }
   ],
   "execution_count": 4
  },
  {
   "metadata": {
    "ExecuteTime": {
     "end_time": "2024-09-19T16:49:04.264122Z",
     "start_time": "2024-09-19T16:49:02.399369Z"
    }
   },
   "cell_type": "code",
   "source": "arr1.reshape(4, 3) # 오류 발생",
   "id": "e1681ae1bd5748ea",
   "outputs": [
    {
     "ename": "ValueError",
     "evalue": "cannot reshape array of size 10 into shape (4,3)",
     "output_type": "error",
     "traceback": [
      "\u001B[1;31m---------------------------------------------------------------------------\u001B[0m",
      "\u001B[1;31mValueError\u001B[0m                                Traceback (most recent call last)",
      "Cell \u001B[1;32mIn[5], line 1\u001B[0m\n\u001B[1;32m----> 1\u001B[0m arr1\u001B[38;5;241m.\u001B[39mreshape(\u001B[38;5;241m4\u001B[39m, \u001B[38;5;241m3\u001B[39m)\n",
      "\u001B[1;31mValueError\u001B[0m: cannot reshape array of size 10 into shape (4,3)"
     ]
    }
   ],
   "execution_count": 5
  },
  {
   "metadata": {
    "ExecuteTime": {
     "end_time": "2024-09-19T16:51:28.014366Z",
     "start_time": "2024-09-19T16:51:28.002317Z"
    }
   },
   "cell_type": "code",
   "source": [
    "arr1 = np.arange(10)\n",
    "print(\"arr1 : \\n\", arr1)\n",
    "\n",
    "arr2 = arr1.reshape(-1, 5)\n",
    "print(\"arr2 shape : \\n\", arr2.shape)\n",
    "\n",
    "arr3 = arr1.reshape(5, -1)\n",
    "print(\"arr3 shape : \\n\", arr3.shape)"
   ],
   "id": "2c127f65d75b072a",
   "outputs": [
    {
     "name": "stdout",
     "output_type": "stream",
     "text": [
      "arr1 : \n",
      " [0 1 2 3 4 5 6 7 8 9]\n",
      "arr2 shape : \n",
      " (2, 5)\n",
      "arr3 shape : \n",
      " (5, 2)\n"
     ]
    }
   ],
   "execution_count": 7
  },
  {
   "metadata": {
    "ExecuteTime": {
     "end_time": "2024-09-19T16:52:08.722197Z",
     "start_time": "2024-09-19T16:52:08.677621Z"
    }
   },
   "cell_type": "code",
   "source": "arr1.reshape(-1, 4) # 오류 발생",
   "id": "9b51b899d3805783",
   "outputs": [
    {
     "ename": "ValueError",
     "evalue": "cannot reshape array of size 10 into shape (4)",
     "output_type": "error",
     "traceback": [
      "\u001B[1;31m---------------------------------------------------------------------------\u001B[0m",
      "\u001B[1;31mValueError\u001B[0m                                Traceback (most recent call last)",
      "Cell \u001B[1;32mIn[8], line 1\u001B[0m\n\u001B[1;32m----> 1\u001B[0m arr1\u001B[38;5;241m.\u001B[39mreshape(\u001B[38;5;241m-\u001B[39m\u001B[38;5;241m1\u001B[39m, \u001B[38;5;241m4\u001B[39m)\n",
      "\u001B[1;31mValueError\u001B[0m: cannot reshape array of size 10 into shape (4)"
     ]
    }
   ],
   "execution_count": 8
  },
  {
   "metadata": {
    "ExecuteTime": {
     "end_time": "2024-09-19T16:56:11.696972Z",
     "start_time": "2024-09-19T16:56:11.681400Z"
    }
   },
   "cell_type": "code",
   "source": [
    "arr1 = np.arange(8)\n",
    "arr3d = arr1.reshape((2, 2, 2))\n",
    "print(\"arr3d : \\n\", arr3d.tolist())\n",
    "\n",
    "# 3차원 ndarray를 2차원 ndarray로 변환하되, 컬럼 갯수는 1\n",
    "arr5 = arr3d.reshape(-1, 1)\n",
    "print(\"arr5 : \\n\", arr5.tolist())\n",
    "print(\"arr5 shape : \\n\", arr5.shape)\n",
    "\n",
    "# 1차원 ndarray를 2차원 ndarray로 변환하되, 컬럼 갯수는 1\n",
    "arr6 = arr1.reshape(-1, 1)\n",
    "print(\"arr6 : \\n\", arr6.tolist())\n",
    "print(\"arr6 shape : \\n\", arr6.shape)"
   ],
   "id": "9d49d1f4b109ec19",
   "outputs": [
    {
     "name": "stdout",
     "output_type": "stream",
     "text": [
      "arr3d : \n",
      " [[[0, 1], [2, 3]], [[4, 5], [6, 7]]]\n",
      "arr5 : \n",
      " [[0], [1], [2], [3], [4], [5], [6], [7]]\n",
      "arr5 shape : \n",
      " (8, 1)\n",
      "arr6 : \n",
      " [[0], [1], [2], [3], [4], [5], [6], [7]]\n",
      "arr6 shape : \n",
      " (8, 1)\n"
     ]
    }
   ],
   "execution_count": 9
  },
  {
   "metadata": {
    "ExecuteTime": {
     "end_time": "2024-09-19T16:59:21.116224Z",
     "start_time": "2024-09-19T16:59:21.094314Z"
    }
   },
   "cell_type": "code",
   "source": [
    "# 3차원 array를 1차원으로 변환\n",
    "arr1d = arr3d.reshape(-1,)\n",
    "print(arr1d)"
   ],
   "id": "4fdf0ae5fc62889d",
   "outputs": [
    {
     "name": "stdout",
     "output_type": "stream",
     "text": [
      "[0 1 2 3 4 5 6 7]\n"
     ]
    }
   ],
   "execution_count": 11
  }
 ],
 "metadata": {
  "kernelspec": {
   "display_name": "Python 3",
   "language": "python",
   "name": "python3"
  },
  "language_info": {
   "codemirror_mode": {
    "name": "ipython",
    "version": 2
   },
   "file_extension": ".py",
   "mimetype": "text/x-python",
   "name": "python",
   "nbconvert_exporter": "python",
   "pygments_lexer": "ipython2",
   "version": "2.7.6"
  }
 },
 "nbformat": 4,
 "nbformat_minor": 5
}
