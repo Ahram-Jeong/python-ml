{
 "cells": [
  {
   "metadata": {},
   "cell_type": "markdown",
   "source": "### Numpy ndarray 개요 ",
   "id": "d0a6221c0bdd0c08"
  },
  {
   "metadata": {
    "ExecuteTime": {
     "end_time": "2024-10-12T13:50:17.368790Z",
     "start_time": "2024-10-12T13:50:16.539654Z"
    }
   },
   "cell_type": "code",
   "source": "import numpy as np",
   "id": "a518188ca9fb076c",
   "outputs": [],
   "execution_count": 1
  },
  {
   "metadata": {
    "ExecuteTime": {
     "end_time": "2024-05-27T18:06:27.932930Z",
     "start_time": "2024-05-27T18:06:27.910808Z"
    }
   },
   "cell_type": "code",
   "source": [
    "list1 = [1, 2, 3]\n",
    "print('list type :', type(list1))\n",
    "array1 = np.array(list1)\n",
    "# array1 = np.array([1, 2, 3])\n",
    "print('array1 type :', type(array1))\n",
    "print('array1 array 형태 :', array1.shape)\n",
    "\n",
    "array2 = np.array([[1, 2, 3,],\n",
    "                   [4, 5, 6]])\n",
    "print('array2 type :', type(array2))\n",
    "print('array2 array 형태 :', array2.shape)\n",
    "\n",
    "array3 = np.array([[1, 2, 3]])\n",
    "print('array3 type :', type(array3))\n",
    "print('array3 array 형태 :', array3.shape)"
   ],
   "id": "1cd06898c18d04a9",
   "outputs": [
    {
     "name": "stdout",
     "output_type": "stream",
     "text": [
      "list type : <class 'list'>\n",
      "array1 type : <class 'numpy.ndarray'>\n",
      "array1 array 형태 : (3,)\n",
      "array2 type : <class 'numpy.ndarray'>\n",
      "array2 array 형태 : (2, 3)\n",
      "array3 type : <class 'numpy.ndarray'>\n",
      "array3 array 형태 : (1, 3)\n"
     ]
    }
   ],
   "execution_count": 2
  },
  {
   "metadata": {
    "ExecuteTime": {
     "end_time": "2024-05-27T18:06:27.955500Z",
     "start_time": "2024-05-27T18:06:27.937Z"
    }
   },
   "cell_type": "code",
   "source": "print(f'array1 : {array1.ndim}차원, array2 : {array2.ndim}차원, array3 : {array3.ndim}차원')",
   "id": "5067ad8cbc8ca3b0",
   "outputs": [
    {
     "name": "stdout",
     "output_type": "stream",
     "text": [
      "array1 : 1차원, array2 : 2차원, array3 : 2차원\n"
     ]
    }
   ],
   "execution_count": 3
  },
  {
   "metadata": {},
   "cell_type": "markdown",
   "source": "### ndarray의 데이터 타입",
   "id": "2b3664ab4529bbdf"
  },
  {
   "metadata": {
    "ExecuteTime": {
     "end_time": "2024-05-27T18:06:27.977187Z",
     "start_time": "2024-05-27T18:06:27.955500Z"
    }
   },
   "cell_type": "code",
   "source": [
    "list1 = [1, 2, 3]\n",
    "print(type(list1))\n",
    "array1 = np.array(list1)\n",
    "print(type(array1))\n",
    "print(array1, array1.dtype)"
   ],
   "id": "d19456b77d18a7b3",
   "outputs": [
    {
     "name": "stdout",
     "output_type": "stream",
     "text": [
      "<class 'list'>\n",
      "<class 'numpy.ndarray'>\n",
      "[1 2 3] int32\n"
     ]
    }
   ],
   "execution_count": 4
  },
  {
   "metadata": {
    "ExecuteTime": {
     "end_time": "2024-05-27T18:07:53.484380Z",
     "start_time": "2024-05-27T18:07:53.471234Z"
    }
   },
   "cell_type": "code",
   "source": [
    "# ndarray에는 같은 dtype만 가능, 다른 자료형이 들어갈 경우 큰 쪽으로 자동 형변환 됨\n",
    "list2 = [1, 2, 'test']\n",
    "array2 = np.array(list2)\n",
    "print(array2, array2.dtype)\n",
    "\n",
    "list3 = [1, 2, 3.0]\n",
    "array3 = np.array(list3)\n",
    "print(array3, array3.dtype)"
   ],
   "id": "5341af066a39633f",
   "outputs": [
    {
     "name": "stdout",
     "output_type": "stream",
     "text": [
      "['1' '2' 'test'] <U11\n",
      "[1. 2. 3.] float64\n"
     ]
    }
   ],
   "execution_count": 5
  },
  {
   "metadata": {
    "ExecuteTime": {
     "end_time": "2024-05-27T18:11:16.750293Z",
     "start_time": "2024-05-27T18:11:16.737876Z"
    }
   },
   "cell_type": "code",
   "source": [
    "# type 변경\n",
    "array_int = np.array([1, 2, 3])\n",
    "array_float = array_int.astype('float64') # array_int.astype(np.float64)\n",
    "print(array_float, array_float.dtype)\n",
    "\n",
    "array_int1 = array_float.astype('int32')\n",
    "print(array_int1, array_int1.dtype)\n",
    "\n",
    "array_float1 = np.array([1.1, 2.1, 3.1])\n",
    "array_int2 = array_float1.astype('int32')\n",
    "print(array_int2, array_int2.dtype)"
   ],
   "id": "4231eb7706344856",
   "outputs": [
    {
     "name": "stdout",
     "output_type": "stream",
     "text": [
      "[1. 2. 3.] float64\n",
      "[1 2 3] int32\n",
      "[1 2 3] int32\n"
     ]
    }
   ],
   "execution_count": 6
  },
  {
   "metadata": {},
   "cell_type": "markdown",
   "source": "### ndarray를 편리하게 생성하기 - arange, zeros, ones",
   "id": "8f1f76cd297c0b94"
  },
  {
   "metadata": {
    "ExecuteTime": {
     "end_time": "2024-09-19T16:42:25.312760Z",
     "start_time": "2024-09-19T16:42:25.303948Z"
    }
   },
   "cell_type": "code",
   "source": [
    "seq_array = np.arange(10)\n",
    "print(seq_array)\n",
    "print(seq_array.dtype, seq_array.shape)"
   ],
   "id": "ccfdff5065cc47c3",
   "outputs": [
    {
     "name": "stdout",
     "output_type": "stream",
     "text": [
      "[0 1 2 3 4 5 6 7 8 9]\n",
      "int32 (10,)\n"
     ]
    }
   ],
   "execution_count": 2
  },
  {
   "metadata": {
    "ExecuteTime": {
     "end_time": "2024-09-19T16:44:55.217807Z",
     "start_time": "2024-09-19T16:44:55.201675Z"
    }
   },
   "cell_type": "code",
   "source": [
    "# (3, 2) shape를 가지는 모든 원소가 0, dtype은 int32인 ndarray 생성\n",
    "zero_array = np.zeros((3, 2), dtype = \"int32\")\n",
    "print(zero_array)\n",
    "print(zero_array.dtype, zero_array.shape)\n",
    "\n",
    "# (3, 2) shape를 가지는 모든 원소가 1인 ndarray 생성\n",
    "one_array = np.ones((3, 2))\n",
    "print(one_array)\n",
    "print(one_array.dtype, one_array.shape)"
   ],
   "id": "9633b74fd5fedea0",
   "outputs": [
    {
     "name": "stdout",
     "output_type": "stream",
     "text": [
      "[[0 0]\n",
      " [0 0]\n",
      " [0 0]]\n",
      "int32 (3, 2)\n",
      "[[1. 1.]\n",
      " [1. 1.]\n",
      " [1. 1.]]\n",
      "float64 (3, 2)\n"
     ]
    }
   ],
   "execution_count": 3
  },
  {
   "metadata": {},
   "cell_type": "markdown",
   "source": "### ndarray의 차원과 크기를 변경하는 reshape",
   "id": "282afc2729bae595"
  },
  {
   "metadata": {
    "ExecuteTime": {
     "end_time": "2024-09-19T16:48:34.693096Z",
     "start_time": "2024-09-19T16:48:34.674354Z"
    }
   },
   "cell_type": "code",
   "source": [
    "arr1 = np.arange(10)\n",
    "print(\"arr1 : \\n\", arr1)\n",
    "\n",
    "# (2, 5) shape로 변환\n",
    "arr2 = arr1.reshape(2, 5)\n",
    "print(\"arr2 : \\n\", arr2)\n",
    "\n",
    "# (5, 2) shape로 변환\n",
    "arr3 = arr1.reshape(5, 2)\n",
    "print(\"arr3 : \\n\", arr3)"
   ],
   "id": "afc039ee018d6c74",
   "outputs": [
    {
     "name": "stdout",
     "output_type": "stream",
     "text": [
      "arr1 : \n",
      " [0 1 2 3 4 5 6 7 8 9]\n",
      "arr2 : \n",
      " [[0 1 2 3 4]\n",
      " [5 6 7 8 9]]\n",
      "arr3 : \n",
      " [[0 1]\n",
      " [2 3]\n",
      " [4 5]\n",
      " [6 7]\n",
      " [8 9]]\n"
     ]
    }
   ],
   "execution_count": 4
  },
  {
   "metadata": {
    "ExecuteTime": {
     "end_time": "2024-09-19T16:49:04.264122Z",
     "start_time": "2024-09-19T16:49:02.399369Z"
    }
   },
   "cell_type": "code",
   "source": "arr1.reshape(4, 3) # 오류 발생",
   "id": "e1681ae1bd5748ea",
   "outputs": [
    {
     "ename": "ValueError",
     "evalue": "cannot reshape array of size 10 into shape (4,3)",
     "output_type": "error",
     "traceback": [
      "\u001B[1;31m---------------------------------------------------------------------------\u001B[0m",
      "\u001B[1;31mValueError\u001B[0m                                Traceback (most recent call last)",
      "Cell \u001B[1;32mIn[5], line 1\u001B[0m\n\u001B[1;32m----> 1\u001B[0m arr1\u001B[38;5;241m.\u001B[39mreshape(\u001B[38;5;241m4\u001B[39m, \u001B[38;5;241m3\u001B[39m)\n",
      "\u001B[1;31mValueError\u001B[0m: cannot reshape array of size 10 into shape (4,3)"
     ]
    }
   ],
   "execution_count": 5
  },
  {
   "metadata": {
    "ExecuteTime": {
     "end_time": "2024-09-19T16:51:28.014366Z",
     "start_time": "2024-09-19T16:51:28.002317Z"
    }
   },
   "cell_type": "code",
   "source": [
    "arr1 = np.arange(10)\n",
    "print(\"arr1 : \\n\", arr1)\n",
    "\n",
    "arr2 = arr1.reshape(-1, 5)\n",
    "print(\"arr2 shape : \\n\", arr2.shape)\n",
    "\n",
    "arr3 = arr1.reshape(5, -1)\n",
    "print(\"arr3 shape : \\n\", arr3.shape)"
   ],
   "id": "2c127f65d75b072a",
   "outputs": [
    {
     "name": "stdout",
     "output_type": "stream",
     "text": [
      "arr1 : \n",
      " [0 1 2 3 4 5 6 7 8 9]\n",
      "arr2 shape : \n",
      " (2, 5)\n",
      "arr3 shape : \n",
      " (5, 2)\n"
     ]
    }
   ],
   "execution_count": 7
  },
  {
   "metadata": {
    "ExecuteTime": {
     "end_time": "2024-09-19T16:52:08.722197Z",
     "start_time": "2024-09-19T16:52:08.677621Z"
    }
   },
   "cell_type": "code",
   "source": "arr1.reshape(-1, 4) # 오류 발생",
   "id": "9b51b899d3805783",
   "outputs": [
    {
     "ename": "ValueError",
     "evalue": "cannot reshape array of size 10 into shape (4)",
     "output_type": "error",
     "traceback": [
      "\u001B[1;31m---------------------------------------------------------------------------\u001B[0m",
      "\u001B[1;31mValueError\u001B[0m                                Traceback (most recent call last)",
      "Cell \u001B[1;32mIn[8], line 1\u001B[0m\n\u001B[1;32m----> 1\u001B[0m arr1\u001B[38;5;241m.\u001B[39mreshape(\u001B[38;5;241m-\u001B[39m\u001B[38;5;241m1\u001B[39m, \u001B[38;5;241m4\u001B[39m)\n",
      "\u001B[1;31mValueError\u001B[0m: cannot reshape array of size 10 into shape (4)"
     ]
    }
   ],
   "execution_count": 8
  },
  {
   "metadata": {
    "ExecuteTime": {
     "end_time": "2024-09-19T16:56:11.696972Z",
     "start_time": "2024-09-19T16:56:11.681400Z"
    }
   },
   "cell_type": "code",
   "source": [
    "arr1 = np.arange(8)\n",
    "arr3d = arr1.reshape((2, 2, 2))\n",
    "print(\"arr3d : \\n\", arr3d.tolist())\n",
    "\n",
    "# 3차원 ndarray를 2차원 ndarray로 변환하되, 컬럼 갯수는 1\n",
    "arr5 = arr3d.reshape(-1, 1)\n",
    "print(\"arr5 : \\n\", arr5.tolist())\n",
    "print(\"arr5 shape : \\n\", arr5.shape)\n",
    "\n",
    "# 1차원 ndarray를 2차원 ndarray로 변환하되, 컬럼 갯수는 1\n",
    "arr6 = arr1.reshape(-1, 1)\n",
    "print(\"arr6 : \\n\", arr6.tolist())\n",
    "print(\"arr6 shape : \\n\", arr6.shape)"
   ],
   "id": "9d49d1f4b109ec19",
   "outputs": [
    {
     "name": "stdout",
     "output_type": "stream",
     "text": [
      "arr3d : \n",
      " [[[0, 1], [2, 3]], [[4, 5], [6, 7]]]\n",
      "arr5 : \n",
      " [[0], [1], [2], [3], [4], [5], [6], [7]]\n",
      "arr5 shape : \n",
      " (8, 1)\n",
      "arr6 : \n",
      " [[0], [1], [2], [3], [4], [5], [6], [7]]\n",
      "arr6 shape : \n",
      " (8, 1)\n"
     ]
    }
   ],
   "execution_count": 9
  },
  {
   "metadata": {
    "ExecuteTime": {
     "end_time": "2024-09-19T16:59:21.116224Z",
     "start_time": "2024-09-19T16:59:21.094314Z"
    }
   },
   "cell_type": "code",
   "source": [
    "# 3차원 array를 1차원으로 변환\n",
    "arr1d = arr3d.reshape(-1,)\n",
    "print(arr1d)"
   ],
   "id": "4fdf0ae5fc62889d",
   "outputs": [
    {
     "name": "stdout",
     "output_type": "stream",
     "text": [
      "[0 1 2 3 4 5 6 7]\n"
     ]
    }
   ],
   "execution_count": 11
  },
  {
   "metadata": {},
   "cell_type": "markdown",
   "source": [
    "### ndarray의 데이터 세트 선택하기 - indexing\n",
    "- 단일 인덱싱"
   ],
   "id": "b53071ad5df08471"
  },
  {
   "metadata": {
    "ExecuteTime": {
     "end_time": "2024-09-21T09:19:16.389988Z",
     "start_time": "2024-09-21T09:19:16.366829Z"
    }
   },
   "cell_type": "code",
   "source": [
    " # 1 ~ 9까지의 1차원 ndarray 생성\n",
    "array1 = np.arange(1, 10)\n",
    "print(\"array1 : \", array1)\n",
    "# index는 0부터 시작하므로 array1[2]는 3번째 index 위치의 데이터 값을 의미\n",
    "value = array1[2]\n",
    "print(\"value : \", value)\n",
    "print(type(value))"
   ],
   "id": "4231c43a7a7b5c64",
   "outputs": [
    {
     "name": "stdout",
     "output_type": "stream",
     "text": [
      "array1 :  [1 2 3 4 5 6 7 8 9]\n",
      "value :  3\n",
      "<class 'numpy.int32'>\n"
     ]
    }
   ],
   "execution_count": 2
  },
  {
   "metadata": {
    "ExecuteTime": {
     "end_time": "2024-09-21T09:20:28.505269Z",
     "start_time": "2024-09-21T09:20:28.490617Z"
    }
   },
   "cell_type": "code",
   "source": "print(\"맨 뒤의 값 : \", array1[-1], \", 맨 뒤에서 두번째 값 : \", array1[-2])",
   "id": "a322f99334ee989c",
   "outputs": [
    {
     "name": "stdout",
     "output_type": "stream",
     "text": [
      "맨 뒤의 값 :  9 , 맨 뒤에서 두번째 값 :  8\n"
     ]
    }
   ],
   "execution_count": 3
  },
  {
   "metadata": {
    "ExecuteTime": {
     "end_time": "2024-09-21T09:21:33.050133Z",
     "start_time": "2024-09-21T09:21:33.043153Z"
    }
   },
   "cell_type": "code",
   "source": [
    "array1[0] = 9\n",
    "array1[8] = 0\n",
    "print(\"array1 : \", array1)"
   ],
   "id": "4b75823156d933f9",
   "outputs": [
    {
     "name": "stdout",
     "output_type": "stream",
     "text": [
      "array1 :  [9 2 3 4 5 6 7 8 0]\n"
     ]
    }
   ],
   "execution_count": 4
  },
  {
   "metadata": {
    "ExecuteTime": {
     "end_time": "2024-09-21T09:24:03.304930Z",
     "start_time": "2024-09-21T09:24:03.290973Z"
    }
   },
   "cell_type": "code",
   "source": [
    "arr1d = np.arange(1, 10)\n",
    "arr2d = arr1d.reshape(3, 3)\n",
    "print(arr2d)\n",
    "\n",
    "print(\"(row = 0, col = 0) index가 가리키는 값 : \", arr2d[0, 0])\n",
    "print(\"(row = 0, col = 1) index가 가리키는 값 : \", arr2d[0, 1])\n",
    "print(\"(row = 1, col = 0) index가 가리키는 값 : \", arr2d[1, 0])\n",
    "print(\"(row = 2, col = 2) index가 가리키는 값 : \", arr2d[2, 2])"
   ],
   "id": "7230c877b12ccb43",
   "outputs": [
    {
     "name": "stdout",
     "output_type": "stream",
     "text": [
      "[[1 2 3]\n",
      " [4 5 6]\n",
      " [7 8 9]]\n",
      "(row = 0, col = 0) index가 가리키는 값 :  1\n",
      "(row = 0, col = 1) index가 가리키는 값 :  2\n",
      "(row = 1, col = 0) index가 가리키는 값 :  4\n",
      "(row = 2, col = 2) index가 가리키는 값 :  9\n"
     ]
    }
   ],
   "execution_count": 5
  },
  {
   "metadata": {},
   "cell_type": "markdown",
   "source": "- 슬라이싱 인덱싱",
   "id": "33d7c75956aeabf8"
  },
  {
   "metadata": {
    "ExecuteTime": {
     "end_time": "2024-09-21T09:26:51.499682Z",
     "start_time": "2024-09-21T09:26:51.489005Z"
    }
   },
   "cell_type": "code",
   "source": [
    "array1 = np.arange(1, 10)\n",
    "print(\"array1 : \", array1)\n",
    "array3 = array1[0:3]\n",
    "print(\"array3 : \", array3)\n",
    "print(type(array3))"
   ],
   "id": "59718a238a0b19a7",
   "outputs": [
    {
     "name": "stdout",
     "output_type": "stream",
     "text": [
      "array1 :  [1 2 3 4 5 6 7 8 9]\n",
      "array3 :  [1 2 3]\n",
      "<class 'numpy.ndarray'>\n"
     ]
    }
   ],
   "execution_count": 6
  },
  {
   "metadata": {
    "ExecuteTime": {
     "end_time": "2024-09-21T09:29:15.245908Z",
     "start_time": "2024-09-21T09:29:15.229281Z"
    }
   },
   "cell_type": "code",
   "source": [
    "array1 = np.arange(1, 10)\n",
    "# 위치 인덱스 0-2(2포함)까지 추출\n",
    "array4 = array1[:3]\n",
    "print(array4)\n",
    "# 위치 인덱스 3부터 마지막까지 추출\n",
    "array5 = array1[3:]\n",
    "print(array5)\n",
    "# 위치 인덱스로 전체 데이터 추출\n",
    "array6 = array1[:]\n",
    "print(array6)"
   ],
   "id": "19a31490d133355d",
   "outputs": [
    {
     "name": "stdout",
     "output_type": "stream",
     "text": [
      "[1 2 3]\n",
      "[4 5 6 7 8 9]\n",
      "[1 2 3 4 5 6 7 8 9]\n"
     ]
    }
   ],
   "execution_count": 8
  },
  {
   "metadata": {
    "ExecuteTime": {
     "end_time": "2024-09-21T09:33:04.077743Z",
     "start_time": "2024-09-21T09:33:04.065394Z"
    }
   },
   "cell_type": "code",
   "source": [
    "arr1d = np.arange(1, 10)\n",
    "arr2d = arr1d.reshape(3, 3)\n",
    "print(\"arr2d : \\n\", arr2d)\n",
    "\n",
    "print(\"arr2d[0:2, 0:2] \\n\", arr2d[0:2, 0:2])\n",
    "print(\"arr2d[1:3, 0:3] \\n\", arr2d[1:3, 0:3])\n",
    "print(\"arr2d[1:3, :] \\n\", arr2d[1:3, :])\n",
    "print(\"arr2d[:, :] \\n\", arr2d[:, :])\n",
    "print(\"arr2d[:2, 1:] \\n\", arr2d[:2, 1:])\n",
    "print(\"arr2d[:2, 0] \\n\", arr2d[:2, 0])"
   ],
   "id": "a43f0fef3b0201cd",
   "outputs": [
    {
     "name": "stdout",
     "output_type": "stream",
     "text": [
      "arr2d : \n",
      " [[1 2 3]\n",
      " [4 5 6]\n",
      " [7 8 9]]\n",
      "arr2d[0:2, 0:2] \n",
      " [[1 2]\n",
      " [4 5]]\n",
      "arr2d[1:3, 0:3] \n",
      " [[4 5 6]\n",
      " [7 8 9]]\n",
      "arr2d[1:3, :] \n",
      " [[4 5 6]\n",
      " [7 8 9]]\n",
      "arr2d[:, :] \n",
      " [[1 2 3]\n",
      " [4 5 6]\n",
      " [7 8 9]]\n",
      "arr2d[:2, 1:] \n",
      " [[2 3]\n",
      " [5 6]]\n",
      "arr2d[:2, 0] \n",
      " [1 4]\n"
     ]
    }
   ],
   "execution_count": 9
  },
  {
   "metadata": {
    "ExecuteTime": {
     "end_time": "2024-09-21T09:35:42.121008Z",
     "start_time": "2024-09-21T09:35:42.107410Z"
    }
   },
   "cell_type": "code",
   "source": [
    "print(arr2d[0])\n",
    "print(arr2d[1])\n",
    "print(\"arr2d[0] shape : \", arr2d[0].shape, \"arr2d[1] shape : \", arr2d[1].shape)"
   ],
   "id": "9fc28f29b0e18573",
   "outputs": [
    {
     "name": "stdout",
     "output_type": "stream",
     "text": [
      "[1 2 3]\n",
      "[4 5 6]\n",
      "arr2d[0] shape :  (3,) arr2d[1] shape :  (3,)\n"
     ]
    }
   ],
   "execution_count": 10
  },
  {
   "metadata": {},
   "cell_type": "markdown",
   "source": "- 팬시 인덱싱",
   "id": "b2c0205e5149ea2c"
  },
  {
   "metadata": {
    "ExecuteTime": {
     "end_time": "2024-09-21T09:38:20.207302Z",
     "start_time": "2024-09-21T09:38:20.187447Z"
    }
   },
   "cell_type": "code",
   "source": [
    "arr1d = np.arange(1, 10)\n",
    "arr2d = arr1d.reshape(3, 3)\n",
    "\n",
    "array3 = arr2d[[0, 1], 2]\n",
    "print(\"arr2d[[0, 1], 2] => \", array3.tolist())\n",
    "\n",
    "array4 = arr2d[[0, 1], 0:2]\n",
    "print(\"arr2d[[0, 1], 0:2] => \", array4.tolist())\n",
    "\n",
    "array5 = arr2d[[0, 1]]\n",
    "print(\"arr2d[[0, 1]] => \", array5.tolist())"
   ],
   "id": "dd350e66bc775074",
   "outputs": [
    {
     "name": "stdout",
     "output_type": "stream",
     "text": [
      "arr2d[[0, 1], 2] =>  [3, 6]\n",
      "arr2d[[0, 1], 0:2] =>  [[1, 2], [4, 5]]\n",
      "arr2d[[0, 1]] =>  [[1, 2, 3], [4, 5, 6]]\n"
     ]
    }
   ],
   "execution_count": 11
  },
  {
   "metadata": {},
   "cell_type": "markdown",
   "source": "- 불린 인덱싱",
   "id": "74494e5c89a01c54"
  },
  {
   "metadata": {
    "ExecuteTime": {
     "end_time": "2024-09-21T19:16:49.236595Z",
     "start_time": "2024-09-21T19:16:49.219013Z"
    }
   },
   "cell_type": "code",
   "source": [
    "arr1d = np.arange(1, 10)\n",
    "print(arr1d)\n",
    "# [] 안에 arr1d > 5 Boolean 인덱싱을 적용\n",
    "array3 = arr1d[arr1d > 5]\n",
    "print(\"arr1d > 5 불린 인덱싱 결과 : \", array3)"
   ],
   "id": "896a911a2015602a",
   "outputs": [
    {
     "name": "stdout",
     "output_type": "stream",
     "text": [
      "[1 2 3 4 5 6 7 8 9]\n",
      "arr1d > 5 불린 인덱싱 결과 :  [6 7 8 9]\n"
     ]
    }
   ],
   "execution_count": 2
  },
  {
   "metadata": {
    "ExecuteTime": {
     "end_time": "2024-09-21T19:17:02.780096Z",
     "start_time": "2024-09-21T19:17:02.757876Z"
    }
   },
   "cell_type": "code",
   "source": "arr1d > 5",
   "id": "6e5bb5558fe05fb7",
   "outputs": [
    {
     "data": {
      "text/plain": [
       "array([False, False, False, False, False,  True,  True,  True,  True])"
      ]
     },
     "execution_count": 3,
     "metadata": {},
     "output_type": "execute_result"
    }
   ],
   "execution_count": 3
  },
  {
   "metadata": {
    "ExecuteTime": {
     "end_time": "2024-09-21T19:17:30.767095Z",
     "start_time": "2024-09-21T19:17:30.744640Z"
    }
   },
   "cell_type": "code",
   "source": [
    "val = arr1d > 5\n",
    "print(val, type(val), val.shape)"
   ],
   "id": "4a875c9099e3c238",
   "outputs": [
    {
     "name": "stdout",
     "output_type": "stream",
     "text": [
      "[False False False False False  True  True  True  True] <class 'numpy.ndarray'> (9,)\n"
     ]
    }
   ],
   "execution_count": 4
  },
  {
   "metadata": {
    "ExecuteTime": {
     "end_time": "2024-09-21T19:21:08.059425Z",
     "start_time": "2024-09-21T19:21:08.041643Z"
    }
   },
   "cell_type": "code",
   "source": [
    "boolean_idx = np.array([False, False, False, False, False,  True,  True,  True,  True])\n",
    "array3 = arr1d[boolean_idx]\n",
    "print(\"불린 인덱스로 필터링 한 결과 : \", array3)"
   ],
   "id": "2408d63c220b34d0",
   "outputs": [
    {
     "name": "stdout",
     "output_type": "stream",
     "text": [
      "불린 인덱스로 필터링 한 결과 :  [6 7 8 9]\n"
     ]
    }
   ],
   "execution_count": 5
  },
  {
   "metadata": {
    "ExecuteTime": {
     "end_time": "2024-09-21T19:24:29.688129Z",
     "start_time": "2024-09-21T19:24:29.671874Z"
    }
   },
   "cell_type": "code",
   "source": [
    "arr1d = np.arange(1, 10)\n",
    "target = []\n",
    "# 불린 인덱싱을 적용하지 않았을 경우\n",
    "for i in range(0, 9):\n",
    "    if arr1d[i] > 5:\n",
    "        target.append(arr1d[i])\n",
    "\n",
    "arr_selected = np.array(target)\n",
    "print(arr_selected)"
   ],
   "id": "a89844b72d278834",
   "outputs": [
    {
     "name": "stdout",
     "output_type": "stream",
     "text": [
      "[6 7 8 9]\n"
     ]
    }
   ],
   "execution_count": 6
  },
  {
   "metadata": {
    "ExecuteTime": {
     "end_time": "2024-09-21T19:26:09.083341Z",
     "start_time": "2024-09-21T19:26:09.071622Z"
    }
   },
   "cell_type": "code",
   "source": [
    "idx = np.array([5, 6, 7, 8])\n",
    "array4 = arr1d[idx]\n",
    "print(\"일반 인덱스 필터링 결과 : \", array4)"
   ],
   "id": "e828298ca02fbf5e",
   "outputs": [
    {
     "name": "stdout",
     "output_type": "stream",
     "text": [
      "일반 인덱스 필터링 결과 :  [6 7 8 9]\n"
     ]
    }
   ],
   "execution_count": 7
  },
  {
   "metadata": {},
   "cell_type": "markdown",
   "source": [
    "### 행렬의 정렬 - sort()와 argsort()\n",
    "- 행렬 정렬"
   ],
   "id": "367fdfe45f3637cd"
  },
  {
   "metadata": {
    "ExecuteTime": {
     "end_time": "2024-10-12T13:50:17.386603Z",
     "start_time": "2024-10-12T13:50:17.371787Z"
    }
   },
   "cell_type": "code",
   "source": [
    "org_arr = np.array([3, 1, 9, 5])\n",
    "print(\"원본 배열 : \", org_arr)\n",
    "\n",
    "# np.sort()로 정렬\n",
    "sort_arr1 = np.sort(org_arr)\n",
    "print(\"np.sort() 호출 후 반환 된 정렬 배열 : \", sort_arr1)\n",
    "print(\"np.sort() 호출 후 원본 배열 : \", org_arr)\n",
    "\n",
    "# ndarray.sort()로 정렬\n",
    "sort_arr2 = org_arr.sort()\n",
    "print(\"org_arr.sort() 호출 후 반환 된 배열 : \", sort_arr2)\n",
    "print(\"org_arr.sort() 호출 후 원본 배열 : \", org_arr)"
   ],
   "id": "bb0da35dda8e96c6",
   "outputs": [
    {
     "name": "stdout",
     "output_type": "stream",
     "text": [
      "원본 배열 :  [3 1 9 5]\n",
      "np.sort() 호출 후 반환 된 정렬 배열 :  [1 3 5 9]\n",
      "np.sort() 호출 후 원본 배열 :  [3 1 9 5]\n",
      "org_arr.sort() 호출 후 반환 된 배열 :  None\n",
      "org_arr.sort() 호출 후 원본 배열 :  [1 3 5 9]\n"
     ]
    }
   ],
   "execution_count": 2
  },
  {
   "metadata": {
    "ExecuteTime": {
     "end_time": "2024-10-12T13:51:14.810651Z",
     "start_time": "2024-10-12T13:51:14.799874Z"
    }
   },
   "cell_type": "code",
   "source": [
    "sort_arr1_desc = np.sort(org_arr)[::-1]\n",
    "print(\"내림차순으로 정렬 : \", sort_arr1_desc)"
   ],
   "id": "7d9d6ad6cb44868b",
   "outputs": [
    {
     "name": "stdout",
     "output_type": "stream",
     "text": [
      "내림차순으로 정렬 :  [9 5 3 1]\n"
     ]
    }
   ],
   "execution_count": 3
  },
  {
   "metadata": {
    "ExecuteTime": {
     "end_time": "2024-10-12T13:56:30.136423Z",
     "start_time": "2024-10-12T13:56:30.122801Z"
    }
   },
   "cell_type": "code",
   "source": [
    "arr2d = np.array([[8, 12],\n",
    "                  [7, 1]])\n",
    "sort_arr2d_axis0 = np.sort(arr2d, axis = 0)\n",
    "print(\"row 방향으로 정렬 :\\n\", sort_arr2d_axis0)\n",
    "\n",
    "sort_arr2d_axis1 = np.sort(arr2d, axis = 1)\n",
    "print(\"column 방향으로 정렬 :\\n\", sort_arr2d_axis1)"
   ],
   "id": "9437a7d6950340b9",
   "outputs": [
    {
     "name": "stdout",
     "output_type": "stream",
     "text": [
      "row 방향으로 정렬 :\n",
      " [[ 7  1]\n",
      " [ 8 12]]\n",
      "column 방향으로 정렬 :\n",
      " [[ 8 12]\n",
      " [ 1  7]]\n"
     ]
    }
   ],
   "execution_count": 4
  },
  {
   "metadata": {},
   "cell_type": "markdown",
   "source": "- 정렬 행렬의 인덱스 반환",
   "id": "44de2cc4bebbb43f"
  },
  {
   "metadata": {
    "ExecuteTime": {
     "end_time": "2024-10-12T13:59:34.529764Z",
     "start_time": "2024-10-12T13:59:34.517131Z"
    }
   },
   "cell_type": "code",
   "source": [
    "org_arr = np.array([3, 1, 9, 5])\n",
    "sort_indices = np.argsort(org_arr)\n",
    "print(type(sort_indices))\n",
    "print(\"행렬 정렬 시, 원본 배열의 인덱스 : \", sort_indices)"
   ],
   "id": "47073c08fc121d5f",
   "outputs": [
    {
     "name": "stdout",
     "output_type": "stream",
     "text": [
      "<class 'numpy.ndarray'>\n",
      "행렬 정렬 시, 원본 배열의 인덱스 :  [1 0 3 2]\n"
     ]
    }
   ],
   "execution_count": 5
  },
  {
   "metadata": {
    "ExecuteTime": {
     "end_time": "2024-10-12T13:59:53.020243Z",
     "start_time": "2024-10-12T13:59:52.995589Z"
    }
   },
   "cell_type": "code",
   "source": "org_arr",
   "id": "f74257181c141be0",
   "outputs": [
    {
     "data": {
      "text/plain": [
       "array([3, 1, 9, 5])"
      ]
     },
     "execution_count": 6,
     "metadata": {},
     "output_type": "execute_result"
    }
   ],
   "execution_count": 6
  },
  {
   "metadata": {
    "ExecuteTime": {
     "end_time": "2024-10-12T14:00:52.092543Z",
     "start_time": "2024-10-12T14:00:52.073608Z"
    }
   },
   "cell_type": "code",
   "source": [
    "sort_indices_desc = np.argsort(org_arr)[::-1]\n",
    "print(\"행렬 내림차순 정렬 시, 원본 배열의 인덱스 : \", sort_indices_desc)"
   ],
   "id": "534ec67e59288d5e",
   "outputs": [
    {
     "name": "stdout",
     "output_type": "stream",
     "text": [
      "행렬 내림차순 정렬 시, 원본 배열의 인덱스 :  [2 3 0 1]\n"
     ]
    }
   ],
   "execution_count": 7
  },
  {
   "metadata": {
    "ExecuteTime": {
     "end_time": "2024-10-12T14:05:17.517663Z",
     "start_time": "2024-10-12T14:05:17.503887Z"
    }
   },
   "cell_type": "code",
   "source": [
    "name_arr = np.array([\"WOODZ\", \"Minhyun\", \"Seongho\", \"Dohoon\", \"Ashley\"])\n",
    "score_arr = np.array([78, 95, 84, 98, 88])\n",
    "\n",
    "sort_indices_asc = np.argsort(score_arr)\n",
    "print(\"score 오름차순 정렬 시, score_arr의 인덱스 : \", sort_indices_asc)\n",
    "print(\"score 오름차순 정렬 시, name_arr의 이름 출력 : \", name_arr[sort_indices_asc])"
   ],
   "id": "81fe4507d2677dad",
   "outputs": [
    {
     "name": "stdout",
     "output_type": "stream",
     "text": [
      "score 오름차순 정렬 시, score_arr의 인덱스 :  [0 2 4 1 3]\n",
      "score 오름차순 정렬 시, name_arr의 이름 출력 :  ['WOODZ' 'Seongho' 'Ashley' 'Minhyun' 'Dohoon']\n"
     ]
    }
   ],
   "execution_count": 9
  }
 ],
 "metadata": {
  "kernelspec": {
   "display_name": "Python 3",
   "language": "python",
   "name": "python3"
  },
  "language_info": {
   "codemirror_mode": {
    "name": "ipython",
    "version": 2
   },
   "file_extension": ".py",
   "mimetype": "text/x-python",
   "name": "python",
   "nbconvert_exporter": "python",
   "pygments_lexer": "ipython2",
   "version": "2.7.6"
  }
 },
 "nbformat": 4,
 "nbformat_minor": 5
}
