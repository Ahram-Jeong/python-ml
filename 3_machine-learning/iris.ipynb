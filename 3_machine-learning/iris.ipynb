{
 "cells": [
  {
   "metadata": {},
   "cell_type": "markdown",
   "source": "## 붓꽃 품종 예측",
   "id": "43c81e5aa8631b9a"
  },
  {
   "metadata": {
    "ExecuteTime": {
     "end_time": "2024-06-12T16:57:49.474639Z",
     "start_time": "2024-06-12T16:57:47.087147Z"
    }
   },
   "cell_type": "code",
   "source": [
    "from sklearn.datasets import load_iris\n",
    "from sklearn.tree import DecisionTreeClassifier\n",
    "from sklearn.model_selection import train_test_split\n",
    "from sklearn.metrics import accuracy_score\n",
    "import pandas as pd"
   ],
   "id": "7b2fd7cbcb6f9bc3",
   "execution_count": 1,
   "outputs": []
  },
  {
   "metadata": {
    "ExecuteTime": {
     "end_time": "2024-06-12T16:57:49.499604Z",
     "start_time": "2024-06-12T16:57:49.477641Z"
    }
   },
   "cell_type": "code",
   "source": [
    "iris = load_iris()\n",
    "\n",
    "# 피처와 레이블 분리\n",
    "# iris.data는 Iris 데이터 세트에서 피처(feature)만으로 된 데이터를 numpy로 가지고 있음\n",
    "iris_data = iris.data\n",
    "# iris.target은 Iris 데이터 세트에서 레이블(결정 값) 데이터를 numpy로 가지고 있음\n",
    "iris_label = iris.target\n",
    "\n",
    "print(\"iris target 값\", iris_label)\n",
    "print(\"iris target 명\", iris.target_names)"
   ],
   "id": "b48cea0571bef408",
   "execution_count": 2,
   "outputs": []
  },
  {
   "metadata": {
    "ExecuteTime": {
     "end_time": "2024-06-12T16:57:49.538040Z",
     "start_time": "2024-06-12T16:57:49.502603Z"
    }
   },
   "cell_type": "code",
   "source": [
    "iris_df = pd.DataFrame(data = iris_data, columns = iris.feature_names)\n",
    "iris_df[\"label\"] = iris_label\n",
    "iris_df.head()"
   ],
   "id": "348d0fba5871a390",
   "execution_count": 3,
   "outputs": []
  },
  {
   "metadata": {
    "ExecuteTime": {
     "end_time": "2024-06-12T16:57:49.550106Z",
     "start_time": "2024-06-12T16:57:49.540038Z"
    }
   },
   "cell_type": "code",
   "source": [
    "# 학습 데이터, 테스트 데이터 세트로 분리\n",
    "X_train, X_test, y_train, y_test = train_test_split(iris_data, iris_label, test_size = 0.2, random_state = 11)"
   ],
   "id": "959d0728f9da3d4e",
   "execution_count": 4,
   "outputs": []
  },
  {
   "metadata": {
    "ExecuteTime": {
     "end_time": "2024-06-12T16:57:49.568209Z",
     "start_time": "2024-06-12T16:57:49.554099Z"
    }
   },
   "cell_type": "code",
   "source": [
    "# DecisionTreeClassifier 객체 생성\n",
    "dt_clf = DecisionTreeClassifier(random_state = 11)\n",
    "# 학습\n",
    "dt_clf.fit(X_train, y_train)\n",
    "# 예측\n",
    "# 문제를 던지고 답을 예측\n",
    "pred = dt_clf.predict(X_test)\n",
    "pred"
   ],
   "id": "3b4e1acc57f70109",
   "execution_count": 5,
   "outputs": []
  },
  {
   "metadata": {
    "ExecuteTime": {
     "end_time": "2024-06-12T16:57:49.584645Z",
     "start_time": "2024-06-12T16:57:49.571211Z"
    }
   },
   "cell_type": "code",
   "source": [
    "# 답지와 비교했을 때 정확도 측정\n",
    "acc = accuracy_score(y_test, pred)\n",
    "acc"
   ],
   "id": "11a4459737a962d4",
   "execution_count": 6,
   "outputs": []
  }
 ],
 "metadata": {
  "kernelspec": {
   "display_name": "Python 3",
   "language": "python",
   "name": "python3"
  },
  "language_info": {
   "codemirror_mode": {
    "name": "ipython",
    "version": 2
   },
   "file_extension": ".py",
   "mimetype": "text/x-python",
   "name": "python",
   "nbconvert_exporter": "python",
   "pygments_lexer": "ipython2",
   "version": "2.7.6"
  }
 },
 "nbformat": 4,
 "nbformat_minor": 5
}
