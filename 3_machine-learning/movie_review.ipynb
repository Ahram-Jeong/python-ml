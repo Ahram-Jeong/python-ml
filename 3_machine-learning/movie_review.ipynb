{
 "cells": [
  {
   "cell_type": "code",
   "id": "initial_id",
   "metadata": {
    "collapsed": true,
    "ExecuteTime": {
     "end_time": "2024-06-15T19:22:04.788774Z",
     "start_time": "2024-06-15T19:22:00.672592Z"
    }
   },
   "source": [
    "import pandas as pd\n",
    "import urllib.request as req\n",
    "from sklearn.model_selection import train_test_split\n",
    "from sklearn.feature_extraction.text import CountVectorizer, TfidfTransformer\n",
    "from sklearn.naive_bayes import MultinomialNB\n",
    "from sklearn.metrics import classification_report"
   ],
   "outputs": [],
   "execution_count": 1
  },
  {
   "metadata": {
    "ExecuteTime": {
     "end_time": "2024-06-15T19:22:15.144307Z",
     "start_time": "2024-06-15T19:22:04.788774Z"
    }
   },
   "cell_type": "code",
   "source": [
    "req.urlretrieve(\"https://github.com/e9t/nsmc/raw/master/ratings.txt\", filename=\"../data/ratings_train.txt\")\n",
    "df = pd.read_csv(\"../data/ratings_train.txt\", sep = '\\t').dropna()\n",
    "df.head(5) # 긍정 : 1, 부정 : 0"
   ],
   "id": "c966ce4485bd5cb0",
   "outputs": [
    {
     "data": {
      "text/plain": [
       "         id                                           document  label\n",
       "0   8112052                                어릴때보고 지금다시봐도 재밌어요ㅋㅋ      1\n",
       "1   8132799  디자인을 배우는 학생으로, 외국디자이너와 그들이 일군 전통을 통해 발전해가는 문화산...      1\n",
       "2   4655635               폴리스스토리 시리즈는 1부터 뉴까지 버릴께 하나도 없음.. 최고.      1\n",
       "3   9251303  와.. 연기가 진짜 개쩔구나.. 지루할거라고 생각했는데 몰입해서 봤다.. 그래 이런...      1\n",
       "4  10067386                        안개 자욱한 밤하늘에 떠 있는 초승달 같은 영화.      1"
      ],
      "text/html": [
       "<div>\n",
       "<style scoped>\n",
       "    .dataframe tbody tr th:only-of-type {\n",
       "        vertical-align: middle;\n",
       "    }\n",
       "\n",
       "    .dataframe tbody tr th {\n",
       "        vertical-align: top;\n",
       "    }\n",
       "\n",
       "    .dataframe thead th {\n",
       "        text-align: right;\n",
       "    }\n",
       "</style>\n",
       "<table border=\"1\" class=\"dataframe\">\n",
       "  <thead>\n",
       "    <tr style=\"text-align: right;\">\n",
       "      <th></th>\n",
       "      <th>id</th>\n",
       "      <th>document</th>\n",
       "      <th>label</th>\n",
       "    </tr>\n",
       "  </thead>\n",
       "  <tbody>\n",
       "    <tr>\n",
       "      <th>0</th>\n",
       "      <td>8112052</td>\n",
       "      <td>어릴때보고 지금다시봐도 재밌어요ㅋㅋ</td>\n",
       "      <td>1</td>\n",
       "    </tr>\n",
       "    <tr>\n",
       "      <th>1</th>\n",
       "      <td>8132799</td>\n",
       "      <td>디자인을 배우는 학생으로, 외국디자이너와 그들이 일군 전통을 통해 발전해가는 문화산...</td>\n",
       "      <td>1</td>\n",
       "    </tr>\n",
       "    <tr>\n",
       "      <th>2</th>\n",
       "      <td>4655635</td>\n",
       "      <td>폴리스스토리 시리즈는 1부터 뉴까지 버릴께 하나도 없음.. 최고.</td>\n",
       "      <td>1</td>\n",
       "    </tr>\n",
       "    <tr>\n",
       "      <th>3</th>\n",
       "      <td>9251303</td>\n",
       "      <td>와.. 연기가 진짜 개쩔구나.. 지루할거라고 생각했는데 몰입해서 봤다.. 그래 이런...</td>\n",
       "      <td>1</td>\n",
       "    </tr>\n",
       "    <tr>\n",
       "      <th>4</th>\n",
       "      <td>10067386</td>\n",
       "      <td>안개 자욱한 밤하늘에 떠 있는 초승달 같은 영화.</td>\n",
       "      <td>1</td>\n",
       "    </tr>\n",
       "  </tbody>\n",
       "</table>\n",
       "</div>"
      ]
     },
     "execution_count": 2,
     "metadata": {},
     "output_type": "execute_result"
    }
   ],
   "execution_count": 2
  },
  {
   "metadata": {
    "ExecuteTime": {
     "end_time": "2024-06-15T19:22:15.187453Z",
     "start_time": "2024-06-15T19:22:15.144307Z"
    }
   },
   "cell_type": "code",
   "source": "df.info()",
   "id": "411a105142d6f880",
   "outputs": [
    {
     "name": "stdout",
     "output_type": "stream",
     "text": [
      "<class 'pandas.core.frame.DataFrame'>\n",
      "Index: 199992 entries, 0 to 199999\n",
      "Data columns (total 3 columns):\n",
      " #   Column    Non-Null Count   Dtype \n",
      "---  ------    --------------   ----- \n",
      " 0   id        199992 non-null  int64 \n",
      " 1   document  199992 non-null  object\n",
      " 2   label     199992 non-null  int64 \n",
      "dtypes: int64(2), object(1)\n",
      "memory usage: 6.1+ MB\n"
     ]
    }
   ],
   "execution_count": 3
  },
  {
   "metadata": {
    "ExecuteTime": {
     "end_time": "2024-06-15T19:22:23.031330Z",
     "start_time": "2024-06-15T19:22:15.187453Z"
    }
   },
   "cell_type": "code",
   "source": [
    "X_train, X_test, y_train, y_test = train_test_split(df[\"document\"], df[\"label\"], random_state = 0)\n",
    "\n",
    "# 문자 -> 숫자 벡터화\n",
    "cnt_vec = CountVectorizer()\n",
    "X_train_cnt = cnt_vec.fit_transform(X_train)\n",
    "\n",
    "tfid = TfidfTransformer()\n",
    "X_train_tfid = tfid.fit_transform(X_train_cnt)\n",
    "\n",
    "# 모델 선언\n",
    "model = MultinomialNB()\n",
    "model.fit(X_train_tfid, y_train)\n",
    "\n",
    "# 예측\n",
    "y_pred = model.predict(cnt_vec.transform(X_test))\n",
    "y_pred"
   ],
   "id": "7d53c50d21a2595f",
   "outputs": [
    {
     "data": {
      "text/plain": [
       "array([1, 1, 0, ..., 1, 1, 0], dtype=int64)"
      ]
     },
     "execution_count": 4,
     "metadata": {},
     "output_type": "execute_result"
    }
   ],
   "execution_count": 4
  },
  {
   "metadata": {
    "ExecuteTime": {
     "end_time": "2024-06-15T19:22:23.191594Z",
     "start_time": "2024-06-15T19:22:23.037472Z"
    }
   },
   "cell_type": "code",
   "source": [
    "print(classification_report(y_test, y_pred, target_names = [\"Neg (0)\", \"Pos (1)\"]))\n",
    "# macro avg : 단순 평균\n",
    "# weighted avg : 각 클래스에 속하는 표본의 갯수로 가중 평균\n",
    "# accuracy : 정확도, 전체 학습 데이터의 갯수에서 각 클래스에서 자신의 클래스를 정확하게 맞춘 갯수의 비율"
   ],
   "id": "fbf57713616f794f",
   "outputs": [
    {
     "name": "stdout",
     "output_type": "stream",
     "text": [
      "              precision    recall  f1-score   support\n",
      "\n",
      "     Neg (0)       0.87      0.78      0.82     25050\n",
      "     Pos (1)       0.80      0.88      0.84     24948\n",
      "\n",
      "    accuracy                           0.83     49998\n",
      "   macro avg       0.83      0.83      0.83     49998\n",
      "weighted avg       0.83      0.83      0.83     49998\n",
      "\n"
     ]
    }
   ],
   "execution_count": 5
  },
  {
   "metadata": {
    "ExecuteTime": {
     "end_time": "2024-06-15T19:22:23.224960Z",
     "start_time": "2024-06-15T19:22:23.191594Z"
    }
   },
   "cell_type": "code",
   "source": [
    "test = \"강력한 몰입감을 선사하는 두 배우의 연기력!! 오랜만에 정말 색다른 영화였다\"\n",
    "result = model.predict(cnt_vec.transform([test]))\n",
    "result_proba = model.predict_proba(cnt_vec.transform([test]))\n",
    "result, result_proba"
   ],
   "id": "e390a3aebe124a74",
   "outputs": [
    {
     "data": {
      "text/plain": [
       "(array([1], dtype=int64), array([[7.09420303e-04, 9.99290580e-01]]))"
      ]
     },
     "execution_count": 6,
     "metadata": {},
     "output_type": "execute_result"
    }
   ],
   "execution_count": 6
  }
 ],
 "metadata": {
  "kernelspec": {
   "display_name": "Python 3",
   "language": "python",
   "name": "python3"
  },
  "language_info": {
   "codemirror_mode": {
    "name": "ipython",
    "version": 2
   },
   "file_extension": ".py",
   "mimetype": "text/x-python",
   "name": "python",
   "nbconvert_exporter": "python",
   "pygments_lexer": "ipython2",
   "version": "2.7.6"
  }
 },
 "nbformat": 4,
 "nbformat_minor": 5
}
