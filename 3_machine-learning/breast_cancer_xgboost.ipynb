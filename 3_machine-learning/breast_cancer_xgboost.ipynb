{
 "cells": [
  {
   "metadata": {
    "ExecuteTime": {
     "end_time": "2025-03-26T12:47:51.683789Z",
     "start_time": "2025-03-26T12:47:40.835392Z"
    }
   },
   "cell_type": "code",
   "source": [
    "import pandas as pd\n",
    "import numpy as np\n",
    "from sklearn.datasets import load_breast_cancer\n",
    "from sklearn.model_selection import train_test_split\n",
    "# xgboost 패키지 로딩\n",
    "import xgboost as xgb\n",
    "from xgboost import plot_importance\n",
    "\n",
    "import warnings\n",
    "warnings.filterwarnings(\"ignore\")"
   ],
   "id": "1abd8bd58aeda936",
   "outputs": [],
   "execution_count": 1
  },
  {
   "metadata": {},
   "cell_type": "markdown",
   "source": [
    "### Native XGBoost 적용 – Wisconsin Breast Cancer 데이터 셋\n",
    "데이터 셋 로딩하기"
   ],
   "id": "4b0d3fe241ad9eab"
  },
  {
   "metadata": {
    "ExecuteTime": {
     "end_time": "2025-03-26T12:47:51.922483Z",
     "start_time": "2025-03-26T12:47:51.691795Z"
    }
   },
   "cell_type": "code",
   "source": [
    "dataset = load_breast_cancer()\n",
    "features= dataset.data\n",
    "labels = dataset.target\n",
    "\n",
    "cancer_df = pd.DataFrame(data=features, columns=dataset.feature_names)\n",
    "cancer_df[\"target\"]= labels\n",
    "cancer_df.head(3)"
   ],
   "id": "99ac50c58f0723ed",
   "outputs": [
    {
     "data": {
      "text/plain": [
       "   mean radius  mean texture  mean perimeter  mean area  mean smoothness  \\\n",
       "0        17.99         10.38           122.8     1001.0          0.11840   \n",
       "1        20.57         17.77           132.9     1326.0          0.08474   \n",
       "2        19.69         21.25           130.0     1203.0          0.10960   \n",
       "\n",
       "   mean compactness  mean concavity  mean concave points  mean symmetry  \\\n",
       "0           0.27760          0.3001              0.14710         0.2419   \n",
       "1           0.07864          0.0869              0.07017         0.1812   \n",
       "2           0.15990          0.1974              0.12790         0.2069   \n",
       "\n",
       "   mean fractal dimension  ...  worst texture  worst perimeter  worst area  \\\n",
       "0                 0.07871  ...          17.33            184.6      2019.0   \n",
       "1                 0.05667  ...          23.41            158.8      1956.0   \n",
       "2                 0.05999  ...          25.53            152.5      1709.0   \n",
       "\n",
       "   worst smoothness  worst compactness  worst concavity  worst concave points  \\\n",
       "0            0.1622             0.6656           0.7119                0.2654   \n",
       "1            0.1238             0.1866           0.2416                0.1860   \n",
       "2            0.1444             0.4245           0.4504                0.2430   \n",
       "\n",
       "   worst symmetry  worst fractal dimension  target  \n",
       "0          0.4601                  0.11890       0  \n",
       "1          0.2750                  0.08902       0  \n",
       "2          0.3613                  0.08758       0  \n",
       "\n",
       "[3 rows x 31 columns]"
      ],
      "text/html": [
       "<div>\n",
       "<style scoped>\n",
       "    .dataframe tbody tr th:only-of-type {\n",
       "        vertical-align: middle;\n",
       "    }\n",
       "\n",
       "    .dataframe tbody tr th {\n",
       "        vertical-align: top;\n",
       "    }\n",
       "\n",
       "    .dataframe thead th {\n",
       "        text-align: right;\n",
       "    }\n",
       "</style>\n",
       "<table border=\"1\" class=\"dataframe\">\n",
       "  <thead>\n",
       "    <tr style=\"text-align: right;\">\n",
       "      <th></th>\n",
       "      <th>mean radius</th>\n",
       "      <th>mean texture</th>\n",
       "      <th>mean perimeter</th>\n",
       "      <th>mean area</th>\n",
       "      <th>mean smoothness</th>\n",
       "      <th>mean compactness</th>\n",
       "      <th>mean concavity</th>\n",
       "      <th>mean concave points</th>\n",
       "      <th>mean symmetry</th>\n",
       "      <th>mean fractal dimension</th>\n",
       "      <th>...</th>\n",
       "      <th>worst texture</th>\n",
       "      <th>worst perimeter</th>\n",
       "      <th>worst area</th>\n",
       "      <th>worst smoothness</th>\n",
       "      <th>worst compactness</th>\n",
       "      <th>worst concavity</th>\n",
       "      <th>worst concave points</th>\n",
       "      <th>worst symmetry</th>\n",
       "      <th>worst fractal dimension</th>\n",
       "      <th>target</th>\n",
       "    </tr>\n",
       "  </thead>\n",
       "  <tbody>\n",
       "    <tr>\n",
       "      <th>0</th>\n",
       "      <td>17.99</td>\n",
       "      <td>10.38</td>\n",
       "      <td>122.8</td>\n",
       "      <td>1001.0</td>\n",
       "      <td>0.11840</td>\n",
       "      <td>0.27760</td>\n",
       "      <td>0.3001</td>\n",
       "      <td>0.14710</td>\n",
       "      <td>0.2419</td>\n",
       "      <td>0.07871</td>\n",
       "      <td>...</td>\n",
       "      <td>17.33</td>\n",
       "      <td>184.6</td>\n",
       "      <td>2019.0</td>\n",
       "      <td>0.1622</td>\n",
       "      <td>0.6656</td>\n",
       "      <td>0.7119</td>\n",
       "      <td>0.2654</td>\n",
       "      <td>0.4601</td>\n",
       "      <td>0.11890</td>\n",
       "      <td>0</td>\n",
       "    </tr>\n",
       "    <tr>\n",
       "      <th>1</th>\n",
       "      <td>20.57</td>\n",
       "      <td>17.77</td>\n",
       "      <td>132.9</td>\n",
       "      <td>1326.0</td>\n",
       "      <td>0.08474</td>\n",
       "      <td>0.07864</td>\n",
       "      <td>0.0869</td>\n",
       "      <td>0.07017</td>\n",
       "      <td>0.1812</td>\n",
       "      <td>0.05667</td>\n",
       "      <td>...</td>\n",
       "      <td>23.41</td>\n",
       "      <td>158.8</td>\n",
       "      <td>1956.0</td>\n",
       "      <td>0.1238</td>\n",
       "      <td>0.1866</td>\n",
       "      <td>0.2416</td>\n",
       "      <td>0.1860</td>\n",
       "      <td>0.2750</td>\n",
       "      <td>0.08902</td>\n",
       "      <td>0</td>\n",
       "    </tr>\n",
       "    <tr>\n",
       "      <th>2</th>\n",
       "      <td>19.69</td>\n",
       "      <td>21.25</td>\n",
       "      <td>130.0</td>\n",
       "      <td>1203.0</td>\n",
       "      <td>0.10960</td>\n",
       "      <td>0.15990</td>\n",
       "      <td>0.1974</td>\n",
       "      <td>0.12790</td>\n",
       "      <td>0.2069</td>\n",
       "      <td>0.05999</td>\n",
       "      <td>...</td>\n",
       "      <td>25.53</td>\n",
       "      <td>152.5</td>\n",
       "      <td>1709.0</td>\n",
       "      <td>0.1444</td>\n",
       "      <td>0.4245</td>\n",
       "      <td>0.4504</td>\n",
       "      <td>0.2430</td>\n",
       "      <td>0.3613</td>\n",
       "      <td>0.08758</td>\n",
       "      <td>0</td>\n",
       "    </tr>\n",
       "  </tbody>\n",
       "</table>\n",
       "<p>3 rows × 31 columns</p>\n",
       "</div>"
      ]
     },
     "execution_count": 2,
     "metadata": {},
     "output_type": "execute_result"
    }
   ],
   "execution_count": 2
  },
  {
   "metadata": {
    "ExecuteTime": {
     "end_time": "2025-03-26T12:47:52.022895Z",
     "start_time": "2025-03-26T12:47:51.922483Z"
    }
   },
   "cell_type": "code",
   "source": [
    "print(dataset.target_names)\n",
    "print(cancer_df[\"target\"].value_counts())"
   ],
   "id": "973326a8bad2f2d5",
   "outputs": [
    {
     "name": "stdout",
     "output_type": "stream",
     "text": [
      "['malignant' 'benign']\n",
      "target\n",
      "1    357\n",
      "0    212\n",
      "Name: count, dtype: int64\n"
     ]
    }
   ],
   "execution_count": 3
  },
  {
   "metadata": {
    "ExecuteTime": {
     "end_time": "2025-03-26T12:47:52.105194Z",
     "start_time": "2025-03-26T12:47:52.022895Z"
    }
   },
   "cell_type": "code",
   "source": [
    "# cancer_df에서 feature 용 DataFrame과 Label용 Series 객체 추출\n",
    "# 맨 마지막 컬럼이 Label이므로 Feature용 DataFrame은 cancer_df의 첫번째 컬럼에서 맨 마지막 두번째 컬럼까지를 :-1 슬라이싱으로 추출\n",
    "X_features = cancer_df.iloc[:, :-1]\n",
    "y_label = cancer_df.iloc[:, -1]\n",
    "\n",
    "# 전체 데이터 중 80%는 학습 용 데이터, 20%는 테스트 용 데이터 추출\n",
    "X_train, X_test, y_train, y_test=train_test_split(X_features, y_label, test_size = 0.2, random_state = 156 )\n",
    "\n",
    "# 위에서 만든 X_train, y_train을 다시 쪼개어 90%는 학습과 10%는 검증용 데이터로 분리\n",
    "X_tr, X_val, y_tr, y_val= train_test_split(X_train, y_train, test_size = 0.1, random_state = 156 )\n",
    "\n",
    "print(X_train.shape, X_test.shape)\n",
    "print(X_tr.shape, X_val.shape)"
   ],
   "id": "36cd124d847eede3",
   "outputs": [
    {
     "name": "stdout",
     "output_type": "stream",
     "text": [
      "(455, 30) (114, 30)\n",
      "(409, 30) (46, 30)\n"
     ]
    }
   ],
   "execution_count": 4
  },
  {
   "metadata": {},
   "cell_type": "markdown",
   "source": [
    "### 학습과 예측 데이터 세트를 DMatrix로 변환\n",
    "* DMatrix는 넘파이 array, DataFrame에서도 변환 가능"
   ],
   "id": "6df1772220a06326"
  },
  {
   "metadata": {
    "ExecuteTime": {
     "end_time": "2025-03-26T12:47:52.220740Z",
     "start_time": "2025-03-26T12:47:52.105194Z"
    }
   },
   "cell_type": "code",
   "source": [
    "# 만약 구 버전 XGBoost에서 DataFrame으로 DMatrix 생성이 안될 경우 X_train.values로 numpy 변환\n",
    "# 학습, 검증, 테스트 용 DMatrix를 생성\n",
    "dtr = xgb.DMatrix(data=X_tr, label=y_tr)\n",
    "dval = xgb.DMatrix(data=X_val, label=y_val)\n",
    "dtest = xgb.DMatrix(data=X_test , label=y_test)"
   ],
   "id": "66c583d5ea07cc54",
   "outputs": [],
   "execution_count": 5
  },
  {
   "metadata": {},
   "cell_type": "markdown",
   "source": "### 하이퍼 파라미터 설정",
   "id": "eb12f4ff9f017e23"
  },
  {
   "metadata": {
    "ExecuteTime": {
     "end_time": "2025-03-26T12:47:52.241454Z",
     "start_time": "2025-03-26T12:47:52.230082Z"
    }
   },
   "cell_type": "code",
   "source": [
    "params = {\"max_depth\" : 3,\n",
    "          \"eta\" : 0.05,\n",
    "          \"objective\" : \"binary:logistic\",\n",
    "          \"eval_metric\" : \"logloss\"}\n",
    "num_rounds = 400"
   ],
   "id": "d18a66f6826b54de",
   "outputs": [],
   "execution_count": 6
  },
  {
   "metadata": {},
   "cell_type": "markdown",
   "source": "### 주어진 하이퍼 파라미터와 early stopping 파라미터를 train( ) 함수의 파라미터로 전달하고 학습",
   "id": "81da74aec556c8e2"
  },
  {
   "metadata": {
    "ExecuteTime": {
     "end_time": "2025-03-26T12:47:53.890250Z",
     "start_time": "2025-03-26T12:47:52.241454Z"
    }
   },
   "cell_type": "code",
   "source": [
    "# 학습 데이터 셋은 \"train\", 평가 데이터 셋은 \"eval\"로 표기\n",
    "eval_list = [(dtr,\"train\"), (dval,\"eval\")] # 또는 eval_list = [(dval,\"eval\")]만 표기해도 됨\n",
    "\n",
    "# 하이퍼 파라미터와 early stopping 파라미터를 train( ) 함수의 파라미터로 전달\n",
    "xgb_model = xgb.train(params = params, dtrain = dtr, num_boost_round = num_rounds, early_stopping_rounds = 50, evals = eval_list)"
   ],
   "id": "55447befa7f151d8",
   "outputs": [
    {
     "name": "stdout",
     "output_type": "stream",
     "text": [
      "[0]\ttrain-logloss:0.62473\teval-logloss:0.63088\n",
      "[1]\ttrain-logloss:0.58662\teval-logloss:0.60461\n",
      "[2]\ttrain-logloss:0.55210\teval-logloss:0.58205\n",
      "[3]\ttrain-logloss:0.52068\teval-logloss:0.56165\n",
      "[4]\ttrain-logloss:0.49173\teval-logloss:0.54101\n",
      "[5]\ttrain-logloss:0.46517\teval-logloss:0.52206\n",
      "[6]\ttrain-logloss:0.44009\teval-logloss:0.50271\n",
      "[7]\ttrain-logloss:0.41646\teval-logloss:0.48606\n",
      "[8]\ttrain-logloss:0.39505\teval-logloss:0.46961\n",
      "[9]\ttrain-logloss:0.37523\teval-logloss:0.45485\n",
      "[10]\ttrain-logloss:0.35682\teval-logloss:0.44120\n",
      "[11]\ttrain-logloss:0.33964\teval-logloss:0.43123\n",
      "[12]\ttrain-logloss:0.32279\teval-logloss:0.41962\n",
      "[13]\ttrain-logloss:0.30783\teval-logloss:0.40848\n",
      "[14]\ttrain-logloss:0.29308\teval-logloss:0.39857\n",
      "[15]\ttrain-logloss:0.27928\teval-logloss:0.38945\n",
      "[16]\ttrain-logloss:0.26681\teval-logloss:0.38171\n",
      "[17]\ttrain-logloss:0.25498\teval-logloss:0.37381\n",
      "[18]\ttrain-logloss:0.24352\teval-logloss:0.36656\n",
      "[19]\ttrain-logloss:0.23307\teval-logloss:0.36014\n",
      "[20]\ttrain-logloss:0.22290\teval-logloss:0.35395\n",
      "[21]\ttrain-logloss:0.21335\teval-logloss:0.34726\n",
      "[22]\ttrain-logloss:0.20461\teval-logloss:0.34194\n",
      "[23]\ttrain-logloss:0.19610\teval-logloss:0.33611\n",
      "[24]\ttrain-logloss:0.18807\teval-logloss:0.33170\n",
      "[25]\ttrain-logloss:0.18054\teval-logloss:0.32730\n",
      "[26]\ttrain-logloss:0.17336\teval-logloss:0.32357\n",
      "[27]\ttrain-logloss:0.16659\teval-logloss:0.31915\n",
      "[28]\ttrain-logloss:0.16021\teval-logloss:0.31569\n",
      "[29]\ttrain-logloss:0.15417\teval-logloss:0.31236\n",
      "[30]\ttrain-logloss:0.14843\teval-logloss:0.30978\n",
      "[31]\ttrain-logloss:0.14298\teval-logloss:0.30645\n",
      "[32]\ttrain-logloss:0.13788\teval-logloss:0.30403\n",
      "[33]\ttrain-logloss:0.13299\teval-logloss:0.30108\n",
      "[34]\ttrain-logloss:0.12824\teval-logloss:0.29780\n",
      "[35]\ttrain-logloss:0.12392\teval-logloss:0.29599\n",
      "[36]\ttrain-logloss:0.11965\teval-logloss:0.29444\n",
      "[37]\ttrain-logloss:0.11549\teval-logloss:0.29141\n",
      "[38]\ttrain-logloss:0.11168\teval-logloss:0.28951\n",
      "[39]\ttrain-logloss:0.10797\teval-logloss:0.28751\n",
      "[40]\ttrain-logloss:0.10458\teval-logloss:0.28600\n",
      "[41]\ttrain-logloss:0.10116\teval-logloss:0.28381\n",
      "[42]\ttrain-logloss:0.09801\teval-logloss:0.28226\n",
      "[43]\ttrain-logloss:0.09494\teval-logloss:0.28086\n",
      "[44]\ttrain-logloss:0.09211\teval-logloss:0.27937\n",
      "[45]\ttrain-logloss:0.08939\teval-logloss:0.27746\n",
      "[46]\ttrain-logloss:0.08688\teval-logloss:0.27717\n",
      "[47]\ttrain-logloss:0.08441\teval-logloss:0.27523\n",
      "[48]\ttrain-logloss:0.08205\teval-logloss:0.27367\n",
      "[49]\ttrain-logloss:0.07981\teval-logloss:0.27254\n",
      "[50]\ttrain-logloss:0.07767\teval-logloss:0.27090\n",
      "[51]\ttrain-logloss:0.07565\teval-logloss:0.26996\n",
      "[52]\ttrain-logloss:0.07354\teval-logloss:0.26984\n",
      "[53]\ttrain-logloss:0.07169\teval-logloss:0.26846\n",
      "[54]\ttrain-logloss:0.06994\teval-logloss:0.26778\n",
      "[55]\ttrain-logloss:0.06822\teval-logloss:0.26653\n",
      "[56]\ttrain-logloss:0.06661\teval-logloss:0.26614\n",
      "[57]\ttrain-logloss:0.06509\teval-logloss:0.26509\n",
      "[58]\ttrain-logloss:0.06359\teval-logloss:0.26497\n",
      "[59]\ttrain-logloss:0.06218\teval-logloss:0.26424\n",
      "[60]\ttrain-logloss:0.06056\teval-logloss:0.26369\n",
      "[61]\ttrain-logloss:0.05909\teval-logloss:0.26197\n",
      "[62]\ttrain-logloss:0.05782\teval-logloss:0.26091\n",
      "[63]\ttrain-logloss:0.05648\teval-logloss:0.25936\n",
      "[64]\ttrain-logloss:0.05511\teval-logloss:0.25881\n",
      "[65]\ttrain-logloss:0.05383\teval-logloss:0.25837\n",
      "[66]\ttrain-logloss:0.05257\teval-logloss:0.25740\n",
      "[67]\ttrain-logloss:0.05132\teval-logloss:0.25701\n",
      "[68]\ttrain-logloss:0.05034\teval-logloss:0.25595\n",
      "[69]\ttrain-logloss:0.04901\teval-logloss:0.25522\n",
      "[70]\ttrain-logloss:0.04804\teval-logloss:0.25551\n",
      "[71]\ttrain-logloss:0.04702\teval-logloss:0.25487\n",
      "[72]\ttrain-logloss:0.04614\teval-logloss:0.25409\n",
      "[73]\ttrain-logloss:0.04518\teval-logloss:0.25447\n",
      "[74]\ttrain-logloss:0.04426\teval-logloss:0.25393\n",
      "[75]\ttrain-logloss:0.04337\teval-logloss:0.25386\n",
      "[76]\ttrain-logloss:0.04252\teval-logloss:0.25397\n",
      "[77]\ttrain-logloss:0.04168\teval-logloss:0.25278\n",
      "[78]\ttrain-logloss:0.04082\teval-logloss:0.25285\n",
      "[79]\ttrain-logloss:0.04005\teval-logloss:0.25188\n",
      "[80]\ttrain-logloss:0.03926\teval-logloss:0.25276\n",
      "[81]\ttrain-logloss:0.03849\teval-logloss:0.25294\n",
      "[82]\ttrain-logloss:0.03774\teval-logloss:0.25376\n",
      "[83]\ttrain-logloss:0.03712\teval-logloss:0.25441\n",
      "[84]\ttrain-logloss:0.03648\teval-logloss:0.25474\n",
      "[85]\ttrain-logloss:0.03578\teval-logloss:0.25497\n",
      "[86]\ttrain-logloss:0.03523\teval-logloss:0.25566\n",
      "[87]\ttrain-logloss:0.03458\teval-logloss:0.25602\n",
      "[88]\ttrain-logloss:0.03396\teval-logloss:0.25629\n",
      "[89]\ttrain-logloss:0.03336\teval-logloss:0.25574\n",
      "[90]\ttrain-logloss:0.03287\teval-logloss:0.25647\n",
      "[91]\ttrain-logloss:0.03230\teval-logloss:0.25598\n",
      "[92]\ttrain-logloss:0.03175\teval-logloss:0.25617\n",
      "[93]\ttrain-logloss:0.03127\teval-logloss:0.25538\n",
      "[94]\ttrain-logloss:0.03077\teval-logloss:0.25641\n",
      "[95]\ttrain-logloss:0.03026\teval-logloss:0.25600\n",
      "[96]\ttrain-logloss:0.02978\teval-logloss:0.25560\n",
      "[97]\ttrain-logloss:0.02938\teval-logloss:0.25513\n",
      "[98]\ttrain-logloss:0.02889\teval-logloss:0.25448\n",
      "[99]\ttrain-logloss:0.02844\teval-logloss:0.25416\n",
      "[100]\ttrain-logloss:0.02802\teval-logloss:0.25385\n",
      "[101]\ttrain-logloss:0.02764\teval-logloss:0.25426\n",
      "[102]\ttrain-logloss:0.02724\teval-logloss:0.25400\n",
      "[103]\ttrain-logloss:0.02685\teval-logloss:0.25220\n",
      "[104]\ttrain-logloss:0.02648\teval-logloss:0.25196\n",
      "[105]\ttrain-logloss:0.02611\teval-logloss:0.25253\n",
      "[106]\ttrain-logloss:0.02578\teval-logloss:0.25141\n",
      "[107]\ttrain-logloss:0.02542\teval-logloss:0.25168\n",
      "[108]\ttrain-logloss:0.02509\teval-logloss:0.25203\n",
      "[109]\ttrain-logloss:0.02476\teval-logloss:0.25219\n",
      "[110]\ttrain-logloss:0.02441\teval-logloss:0.25187\n",
      "[111]\ttrain-logloss:0.02403\teval-logloss:0.25063\n",
      "[112]\ttrain-logloss:0.02372\teval-logloss:0.25121\n",
      "[113]\ttrain-logloss:0.02339\teval-logloss:0.24862\n",
      "[114]\ttrain-logloss:0.02310\teval-logloss:0.24922\n",
      "[115]\ttrain-logloss:0.02279\teval-logloss:0.24903\n",
      "[116]\ttrain-logloss:0.02248\teval-logloss:0.24924\n",
      "[117]\ttrain-logloss:0.02217\teval-logloss:0.24756\n",
      "[118]\ttrain-logloss:0.02191\teval-logloss:0.24720\n",
      "[119]\ttrain-logloss:0.02162\teval-logloss:0.24566\n",
      "[120]\ttrain-logloss:0.02134\teval-logloss:0.24629\n",
      "[121]\ttrain-logloss:0.02105\teval-logloss:0.24693\n",
      "[122]\ttrain-logloss:0.02078\teval-logloss:0.24755\n",
      "[123]\ttrain-logloss:0.02056\teval-logloss:0.24753\n",
      "[124]\ttrain-logloss:0.02030\teval-logloss:0.24738\n",
      "[125]\ttrain-logloss:0.02007\teval-logloss:0.24705\n",
      "[126]\ttrain-logloss:0.01984\teval-logloss:0.24741\n",
      "[127]\ttrain-logloss:0.01961\teval-logloss:0.24802\n",
      "[128]\ttrain-logloss:0.01940\teval-logloss:0.24716\n",
      "[129]\ttrain-logloss:0.01916\teval-logloss:0.24701\n",
      "[130]\ttrain-logloss:0.01896\teval-logloss:0.24752\n",
      "[131]\ttrain-logloss:0.01872\teval-logloss:0.24758\n",
      "[132]\ttrain-logloss:0.01853\teval-logloss:0.24849\n",
      "[133]\ttrain-logloss:0.01834\teval-logloss:0.24890\n",
      "[134]\ttrain-logloss:0.01820\teval-logloss:0.24902\n",
      "[135]\ttrain-logloss:0.01799\teval-logloss:0.24769\n",
      "[136]\ttrain-logloss:0.01778\teval-logloss:0.24756\n",
      "[137]\ttrain-logloss:0.01761\teval-logloss:0.24762\n",
      "[138]\ttrain-logloss:0.01747\teval-logloss:0.24686\n",
      "[139]\ttrain-logloss:0.01730\teval-logloss:0.24724\n",
      "[140]\ttrain-logloss:0.01710\teval-logloss:0.24713\n",
      "[141]\ttrain-logloss:0.01696\teval-logloss:0.24720\n",
      "[142]\ttrain-logloss:0.01680\teval-logloss:0.24761\n",
      "[143]\ttrain-logloss:0.01662\teval-logloss:0.24731\n",
      "[144]\ttrain-logloss:0.01649\teval-logloss:0.24659\n",
      "[145]\ttrain-logloss:0.01634\teval-logloss:0.24643\n",
      "[146]\ttrain-logloss:0.01617\teval-logloss:0.24615\n",
      "[147]\ttrain-logloss:0.01606\teval-logloss:0.24626\n",
      "[148]\ttrain-logloss:0.01591\teval-logloss:0.24614\n",
      "[149]\ttrain-logloss:0.01579\teval-logloss:0.24545\n",
      "[150]\ttrain-logloss:0.01562\teval-logloss:0.24621\n",
      "[151]\ttrain-logloss:0.01549\teval-logloss:0.24607\n",
      "[152]\ttrain-logloss:0.01532\teval-logloss:0.24596\n",
      "[153]\ttrain-logloss:0.01521\teval-logloss:0.24530\n",
      "[154]\ttrain-logloss:0.01505\teval-logloss:0.24583\n",
      "[155]\ttrain-logloss:0.01493\teval-logloss:0.24570\n",
      "[156]\ttrain-logloss:0.01476\teval-logloss:0.24642\n",
      "[157]\ttrain-logloss:0.01462\teval-logloss:0.24623\n",
      "[158]\ttrain-logloss:0.01447\teval-logloss:0.24670\n",
      "[159]\ttrain-logloss:0.01435\teval-logloss:0.24659\n",
      "[160]\ttrain-logloss:0.01423\teval-logloss:0.24548\n",
      "[161]\ttrain-logloss:0.01415\teval-logloss:0.24485\n",
      "[162]\ttrain-logloss:0.01399\teval-logloss:0.24547\n",
      "[163]\ttrain-logloss:0.01387\teval-logloss:0.24545\n",
      "[164]\ttrain-logloss:0.01372\teval-logloss:0.24608\n",
      "[165]\ttrain-logloss:0.01359\teval-logloss:0.24507\n",
      "[166]\ttrain-logloss:0.01351\teval-logloss:0.24484\n",
      "[167]\ttrain-logloss:0.01340\teval-logloss:0.24484\n",
      "[168]\ttrain-logloss:0.01326\teval-logloss:0.24547\n",
      "[169]\ttrain-logloss:0.01315\teval-logloss:0.24443\n",
      "[170]\ttrain-logloss:0.01305\teval-logloss:0.24488\n",
      "[171]\ttrain-logloss:0.01297\teval-logloss:0.24478\n",
      "[172]\ttrain-logloss:0.01289\teval-logloss:0.24422\n",
      "[173]\ttrain-logloss:0.01282\teval-logloss:0.24414\n",
      "[174]\ttrain-logloss:0.01272\teval-logloss:0.24317\n",
      "[175]\ttrain-logloss:0.01263\teval-logloss:0.24326\n",
      "[176]\ttrain-logloss:0.01256\teval-logloss:0.24273\n",
      "[177]\ttrain-logloss:0.01247\teval-logloss:0.24262\n",
      "[178]\ttrain-logloss:0.01237\teval-logloss:0.24309\n",
      "[179]\ttrain-logloss:0.01231\teval-logloss:0.24250\n",
      "[180]\ttrain-logloss:0.01224\teval-logloss:0.24243\n",
      "[181]\ttrain-logloss:0.01215\teval-logloss:0.24148\n",
      "[182]\ttrain-logloss:0.01206\teval-logloss:0.24136\n",
      "[183]\ttrain-logloss:0.01199\teval-logloss:0.24130\n",
      "[184]\ttrain-logloss:0.01191\teval-logloss:0.24141\n",
      "[185]\ttrain-logloss:0.01183\teval-logloss:0.24045\n",
      "[186]\ttrain-logloss:0.01177\teval-logloss:0.23950\n",
      "[187]\ttrain-logloss:0.01171\teval-logloss:0.23946\n",
      "[188]\ttrain-logloss:0.01165\teval-logloss:0.23943\n",
      "[189]\ttrain-logloss:0.01156\teval-logloss:0.23954\n",
      "[190]\ttrain-logloss:0.01151\teval-logloss:0.23897\n",
      "[191]\ttrain-logloss:0.01145\teval-logloss:0.23961\n",
      "[192]\ttrain-logloss:0.01138\teval-logloss:0.23972\n",
      "[193]\ttrain-logloss:0.01133\teval-logloss:0.23968\n",
      "[194]\ttrain-logloss:0.01128\teval-logloss:0.23913\n",
      "[195]\ttrain-logloss:0.01121\teval-logloss:0.23924\n",
      "[196]\ttrain-logloss:0.01118\teval-logloss:0.23902\n",
      "[197]\ttrain-logloss:0.01113\teval-logloss:0.23900\n",
      "[198]\ttrain-logloss:0.01106\teval-logloss:0.23912\n",
      "[199]\ttrain-logloss:0.01101\teval-logloss:0.23824\n",
      "[200]\ttrain-logloss:0.01096\teval-logloss:0.23802\n",
      "[201]\ttrain-logloss:0.01090\teval-logloss:0.23814\n",
      "[202]\ttrain-logloss:0.01086\teval-logloss:0.23762\n",
      "[203]\ttrain-logloss:0.01080\teval-logloss:0.23740\n",
      "[204]\ttrain-logloss:0.01074\teval-logloss:0.23752\n",
      "[205]\ttrain-logloss:0.01069\teval-logloss:0.23793\n",
      "[206]\ttrain-logloss:0.01064\teval-logloss:0.23797\n",
      "[207]\ttrain-logloss:0.01058\teval-logloss:0.23803\n",
      "[208]\ttrain-logloss:0.01054\teval-logloss:0.23782\n",
      "[209]\ttrain-logloss:0.01048\teval-logloss:0.23793\n",
      "[210]\ttrain-logloss:0.01045\teval-logloss:0.23773\n",
      "[211]\ttrain-logloss:0.01041\teval-logloss:0.23814\n",
      "[212]\ttrain-logloss:0.01036\teval-logloss:0.23817\n",
      "[213]\ttrain-logloss:0.01031\teval-logloss:0.23866\n",
      "[214]\ttrain-logloss:0.01027\teval-logloss:0.23926\n",
      "[215]\ttrain-logloss:0.01025\teval-logloss:0.23907\n",
      "[216]\ttrain-logloss:0.01019\teval-logloss:0.23842\n",
      "[217]\ttrain-logloss:0.01014\teval-logloss:0.23845\n",
      "[218]\ttrain-logloss:0.01011\teval-logloss:0.23866\n",
      "[219]\ttrain-logloss:0.01009\teval-logloss:0.23842\n",
      "[220]\ttrain-logloss:0.01007\teval-logloss:0.23823\n",
      "[221]\ttrain-logloss:0.01003\teval-logloss:0.23844\n",
      "[222]\ttrain-logloss:0.01001\teval-logloss:0.23836\n",
      "[223]\ttrain-logloss:0.00996\teval-logloss:0.23855\n",
      "[224]\ttrain-logloss:0.00993\teval-logloss:0.23876\n",
      "[225]\ttrain-logloss:0.00991\teval-logloss:0.23857\n",
      "[226]\ttrain-logloss:0.00989\teval-logloss:0.23833\n",
      "[227]\ttrain-logloss:0.00986\teval-logloss:0.23855\n",
      "[228]\ttrain-logloss:0.00984\teval-logloss:0.23837\n",
      "[229]\ttrain-logloss:0.00982\teval-logloss:0.23813\n",
      "[230]\ttrain-logloss:0.00979\teval-logloss:0.23862\n",
      "[231]\ttrain-logloss:0.00977\teval-logloss:0.23844\n",
      "[232]\ttrain-logloss:0.00975\teval-logloss:0.23836\n",
      "[233]\ttrain-logloss:0.00971\teval-logloss:0.23882\n",
      "[234]\ttrain-logloss:0.00968\teval-logloss:0.23935\n",
      "[235]\ttrain-logloss:0.00962\teval-logloss:0.23870\n",
      "[236]\ttrain-logloss:0.00958\teval-logloss:0.23873\n",
      "[237]\ttrain-logloss:0.00956\teval-logloss:0.23855\n",
      "[238]\ttrain-logloss:0.00953\teval-logloss:0.23877\n",
      "[239]\ttrain-logloss:0.00952\teval-logloss:0.23854\n",
      "[240]\ttrain-logloss:0.00950\teval-logloss:0.23901\n",
      "[241]\ttrain-logloss:0.00948\teval-logloss:0.23899\n",
      "[242]\ttrain-logloss:0.00947\teval-logloss:0.23881\n",
      "[243]\ttrain-logloss:0.00944\teval-logloss:0.23903\n",
      "[244]\ttrain-logloss:0.00942\teval-logloss:0.23895\n",
      "[245]\ttrain-logloss:0.00938\teval-logloss:0.23951\n",
      "[246]\ttrain-logloss:0.00934\teval-logloss:0.23996\n",
      "[247]\ttrain-logloss:0.00932\teval-logloss:0.23978\n",
      "[248]\ttrain-logloss:0.00930\teval-logloss:0.24030\n",
      "[249]\ttrain-logloss:0.00928\teval-logloss:0.24008\n",
      "[250]\ttrain-logloss:0.00926\teval-logloss:0.24054\n",
      "[251]\ttrain-logloss:0.00925\teval-logloss:0.24046\n",
      "[252]\ttrain-logloss:0.00921\teval-logloss:0.24055\n",
      "[253]\ttrain-logloss:0.00919\teval-logloss:0.24053\n"
     ]
    }
   ],
   "execution_count": 7
  },
  {
   "metadata": {},
   "cell_type": "markdown",
   "source": "### predict()를 통해 예측 확률값을 반환하고 예측 값으로 변환",
   "id": "866d4757b579431f"
  },
  {
   "metadata": {
    "ExecuteTime": {
     "end_time": "2025-03-26T12:47:53.912245Z",
     "start_time": "2025-03-26T12:47:53.890250Z"
    }
   },
   "cell_type": "code",
   "source": [
    "pred_probs = xgb_model.predict(dtest)\n",
    "print(\"predict( ) 수행 결과값을 10개만 표시, 예측 확률 값으로 표시됨\")\n",
    "print(np.round(pred_probs[:10], 3))\n",
    "\n",
    "# 예측 확률이 0.5보다 크면 1, 그렇지 않으면 0으로 예측 값 결정하여 List 객체인 preds에 저장 \n",
    "preds = [1 if x > 0.5 else 0 for x in pred_probs]\n",
    "print(\"예측값 10개만 표시 : \",preds[:10])"
   ],
   "id": "b8af2e0930e8b841",
   "outputs": [
    {
     "name": "stdout",
     "output_type": "stream",
     "text": [
      "predict( ) 수행 결과값을 10개만 표시, 예측 확률 값으로 표시됨\n",
      "[0.938 0.004 0.776 0.058 0.975 1.    0.999 0.999 0.998 0.   ]\n",
      "예측값 10개만 표시 :  [1, 0, 1, 0, 1, 1, 1, 1, 1, 0]\n"
     ]
    }
   ],
   "execution_count": 8
  },
  {
   "metadata": {
    "ExecuteTime": {
     "end_time": "2025-03-26T12:47:53.933867Z",
     "start_time": "2025-03-26T12:47:53.912245Z"
    }
   },
   "cell_type": "code",
   "source": "pred_probs",
   "id": "ba450e171d224bc0",
   "outputs": [
    {
     "data": {
      "text/plain": [
       "array([9.37527478e-01, 3.71755939e-03, 7.76189387e-01, 5.79332076e-02,\n",
       "       9.75099325e-01, 9.99556959e-01, 9.99142289e-01, 9.99223113e-01,\n",
       "       9.97575939e-01, 4.94481821e-04, 9.95804323e-04, 6.93196373e-04,\n",
       "       9.98852372e-01, 9.99322534e-01, 9.98479545e-01, 9.95870888e-01,\n",
       "       9.94609833e-01, 9.99404788e-01, 9.98329818e-01, 9.98935163e-01,\n",
       "       1.40492129e-03, 1.76025674e-01, 6.11953263e-04, 9.99618411e-01,\n",
       "       8.04344541e-04, 8.17749083e-01, 5.60258515e-03, 9.79702570e-04,\n",
       "       9.98273134e-01, 6.34756461e-02, 9.76984859e-01, 7.95303902e-04,\n",
       "       9.82709050e-01, 8.89836013e-01, 7.72360852e-03, 4.90200007e-04,\n",
       "       9.96063530e-01, 9.98581767e-01, 1.37578353e-01, 9.98345256e-01,\n",
       "       3.41511995e-01, 9.97788668e-01, 9.97865021e-01, 9.97809947e-01,\n",
       "       9.97716665e-01, 9.41117465e-01, 3.60030867e-02, 9.97942388e-01,\n",
       "       9.96318698e-01, 9.99110639e-01, 9.98090565e-01, 1.26643653e-03,\n",
       "       9.99124587e-01, 9.99040544e-01, 9.97892439e-01, 9.97332811e-01,\n",
       "       9.99174058e-01, 9.95755196e-01, 9.98782933e-01, 6.60269499e-01,\n",
       "       9.98082876e-01, 9.42479253e-01, 1.75326609e-03, 9.89277614e-04,\n",
       "       9.98942792e-01, 9.92996275e-01, 1.81429193e-03, 9.90600586e-01,\n",
       "       9.98935997e-01, 9.98997509e-01, 1.34286110e-03, 9.97826636e-01,\n",
       "       8.00247188e-04, 9.97520626e-01, 9.97586608e-01, 6.76401483e-04,\n",
       "       9.99243617e-01, 9.99375880e-01, 9.99392867e-01, 4.70374012e-04,\n",
       "       5.83633315e-04, 9.42165792e-01, 9.98329103e-01, 9.98786151e-01,\n",
       "       9.96369123e-01, 9.91495967e-01, 9.93598938e-01, 9.98082519e-01,\n",
       "       9.89035308e-01, 6.28696231e-04, 1.30498990e-01, 9.99299407e-01,\n",
       "       4.02024761e-03, 2.90503143e-03, 9.98985469e-01, 1.31528415e-02,\n",
       "       1.85021982e-02, 9.97118592e-01, 8.50328652e-04, 8.74556780e-01,\n",
       "       5.64354332e-03, 1.37427833e-03, 9.96202052e-01, 9.97876287e-01,\n",
       "       4.58564669e-01, 9.97835457e-01, 9.97857511e-01, 9.62665319e-01,\n",
       "       9.98273134e-01, 9.99458492e-01, 6.91951752e-01, 9.93022919e-01,\n",
       "       9.97628629e-01, 9.98698115e-01], dtype=float32)"
      ]
     },
     "execution_count": 9,
     "metadata": {},
     "output_type": "execute_result"
    }
   ],
   "execution_count": 9
  },
  {
   "metadata": {},
   "cell_type": "markdown",
   "source": "### get_clf_eval( )을 통해 예측 평가",
   "id": "7c35205b9e32a051"
  },
  {
   "metadata": {
    "ExecuteTime": {
     "end_time": "2025-03-26T12:47:53.952170Z",
     "start_time": "2025-03-26T12:47:53.933867Z"
    }
   },
   "cell_type": "code",
   "source": [
    "from sklearn.metrics import confusion_matrix, accuracy_score\n",
    "from sklearn.metrics import precision_score, recall_score\n",
    "from sklearn.metrics import f1_score, roc_auc_score\n",
    "\n",
    "def get_clf_eval(y_test, pred = None, pred_proba = None):\n",
    "    confusion = confusion_matrix(y_test, pred)\n",
    "    accuracy = accuracy_score(y_test, pred)\n",
    "    precision = precision_score(y_test, pred)\n",
    "    recall = recall_score(y_test, pred)\n",
    "    f1 = f1_score(y_test, pred)\n",
    "    # ROC-AUC 추가 \n",
    "    roc_auc = roc_auc_score(y_test, pred_proba)\n",
    "    print(\"오차 행렬\")\n",
    "    print(confusion)\n",
    "    # ROC-AUC print 추가\n",
    "    print(\"정확도: {0:.4f}, 정밀도: {1:.4f}, 재현율: {2:.4f}, F1: {3:.4f}, AUC: {4:.4f}\".format(accuracy, precision, recall, f1, roc_auc))"
   ],
   "id": "24c64aec572fe247",
   "outputs": [],
   "execution_count": 10
  },
  {
   "metadata": {
    "ExecuteTime": {
     "end_time": "2025-03-26T12:47:54.000653Z",
     "start_time": "2025-03-26T12:47:53.952170Z"
    }
   },
   "cell_type": "code",
   "source": "get_clf_eval(y_test, preds, pred_probs)",
   "id": "fa0f77c15f27d0d3",
   "outputs": [
    {
     "name": "stdout",
     "output_type": "stream",
     "text": [
      "오차 행렬\n",
      "[[35  2]\n",
      " [ 2 75]]\n",
      "정확도: 0.9649, 정밀도: 0.9740, 재현율: 0.9740, F1: 0.9740, AUC: 0.9965\n"
     ]
    }
   ],
   "execution_count": 11
  },
  {
   "metadata": {},
   "cell_type": "markdown",
   "source": "### Feature Importance 시각화",
   "id": "50db94136039f674"
  },
  {
   "metadata": {
    "ExecuteTime": {
     "end_time": "2025-03-26T12:47:56.503827Z",
     "start_time": "2025-03-26T12:47:54.000653Z"
    }
   },
   "cell_type": "code",
   "source": [
    "import matplotlib.pyplot as plt\n",
    "%matplotlib inline\n",
    "\n",
    "fig, ax = plt.subplots(figsize = (10, 12))\n",
    "plot_importance(xgb_model, ax = ax)"
   ],
   "id": "185397d4e797879b",
   "outputs": [
    {
     "data": {
      "text/plain": [
       "<Axes: title={'center': 'Feature importance'}, xlabel='Importance score', ylabel='Features'>"
      ]
     },
     "execution_count": 12,
     "metadata": {},
     "output_type": "execute_result"
    }
   ],
   "execution_count": 12
  }
 ],
 "metadata": {
  "kernelspec": {
   "display_name": "Python 3",
   "language": "python",
   "name": "python3"
  },
  "language_info": {
   "codemirror_mode": {
    "name": "ipython",
    "version": 2
   },
   "file_extension": ".py",
   "mimetype": "text/x-python",
   "name": "python",
   "nbconvert_exporter": "python",
   "pygments_lexer": "ipython2",
   "version": "2.7.6"
  }
 },
 "nbformat": 4,
 "nbformat_minor": 5
}
