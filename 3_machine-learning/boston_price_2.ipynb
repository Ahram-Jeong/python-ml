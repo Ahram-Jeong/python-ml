{
 "cells": [
  {
   "metadata": {},
   "cell_type": "markdown",
   "source": "## 보스턴 집값 예측",
   "id": "7703e414c4262bed"
  },
  {
   "metadata": {
    "ExecuteTime": {
     "end_time": "2025-03-16T10:34:10.780126Z",
     "start_time": "2025-03-16T10:33:56.081037Z"
    }
   },
   "cell_type": "code",
   "source": [
    "import numpy as np\n",
    "import pandas as pd\n",
    "from sklearn.model_selection import train_test_split\n",
    "from sklearn.linear_model import LinearRegression, Lasso, Ridge\n",
    "from sklearn.metrics import mean_squared_error, r2_score\n",
    "import matplotlib.pyplot as plt"
   ],
   "id": "8158eabba55f9769",
   "outputs": [],
   "execution_count": 1
  },
  {
   "metadata": {
    "ExecuteTime": {
     "end_time": "2025-03-16T10:34:10.892153Z",
     "start_time": "2025-03-16T10:34:10.783126Z"
    }
   },
   "cell_type": "code",
   "source": [
    "df = pd.read_csv(\"../data/train.csv\")\n",
    "df.head()"
   ],
   "id": "b1bbd2b9acadd642",
   "outputs": [
    {
     "data": {
      "text/plain": [
       "          ID     CRIM    ZN  INDUS  CHAS    NOX     RM    AGE     DIS   RAD  \\\n",
       "0  TRAIN_000  0.04819  80.0   3.64   0.0  0.392  6.108   32.0  9.2203   1.0   \n",
       "1  TRAIN_001  1.42502   0.0  19.58   0.0  0.871  6.510  100.0  1.7659   5.0   \n",
       "2  TRAIN_002  0.01778  95.0   1.47   0.0  0.403  7.135   13.9  7.6534   3.0   \n",
       "3  TRAIN_003  9.51363   0.0  18.10   0.0  0.713  6.728   94.1  2.4961  24.0   \n",
       "4  TRAIN_004  1.65660   0.0  19.58   0.0  0.871  6.122   97.3  1.6180   5.0   \n",
       "\n",
       "     TAX  PTRATIO       B  LSTAT  MEDV  \n",
       "0  315.0     16.4  392.89   6.57  21.9  \n",
       "1  403.0     14.7  364.31   7.39  23.3  \n",
       "2  402.0     17.0  384.30   4.45  32.9  \n",
       "3  666.0     20.2    6.68  18.71  14.9  \n",
       "4  403.0     14.7  372.80  14.10  21.5  "
      ],
      "text/html": [
       "<div>\n",
       "<style scoped>\n",
       "    .dataframe tbody tr th:only-of-type {\n",
       "        vertical-align: middle;\n",
       "    }\n",
       "\n",
       "    .dataframe tbody tr th {\n",
       "        vertical-align: top;\n",
       "    }\n",
       "\n",
       "    .dataframe thead th {\n",
       "        text-align: right;\n",
       "    }\n",
       "</style>\n",
       "<table border=\"1\" class=\"dataframe\">\n",
       "  <thead>\n",
       "    <tr style=\"text-align: right;\">\n",
       "      <th></th>\n",
       "      <th>ID</th>\n",
       "      <th>CRIM</th>\n",
       "      <th>ZN</th>\n",
       "      <th>INDUS</th>\n",
       "      <th>CHAS</th>\n",
       "      <th>NOX</th>\n",
       "      <th>RM</th>\n",
       "      <th>AGE</th>\n",
       "      <th>DIS</th>\n",
       "      <th>RAD</th>\n",
       "      <th>TAX</th>\n",
       "      <th>PTRATIO</th>\n",
       "      <th>B</th>\n",
       "      <th>LSTAT</th>\n",
       "      <th>MEDV</th>\n",
       "    </tr>\n",
       "  </thead>\n",
       "  <tbody>\n",
       "    <tr>\n",
       "      <th>0</th>\n",
       "      <td>TRAIN_000</td>\n",
       "      <td>0.04819</td>\n",
       "      <td>80.0</td>\n",
       "      <td>3.64</td>\n",
       "      <td>0.0</td>\n",
       "      <td>0.392</td>\n",
       "      <td>6.108</td>\n",
       "      <td>32.0</td>\n",
       "      <td>9.2203</td>\n",
       "      <td>1.0</td>\n",
       "      <td>315.0</td>\n",
       "      <td>16.4</td>\n",
       "      <td>392.89</td>\n",
       "      <td>6.57</td>\n",
       "      <td>21.9</td>\n",
       "    </tr>\n",
       "    <tr>\n",
       "      <th>1</th>\n",
       "      <td>TRAIN_001</td>\n",
       "      <td>1.42502</td>\n",
       "      <td>0.0</td>\n",
       "      <td>19.58</td>\n",
       "      <td>0.0</td>\n",
       "      <td>0.871</td>\n",
       "      <td>6.510</td>\n",
       "      <td>100.0</td>\n",
       "      <td>1.7659</td>\n",
       "      <td>5.0</td>\n",
       "      <td>403.0</td>\n",
       "      <td>14.7</td>\n",
       "      <td>364.31</td>\n",
       "      <td>7.39</td>\n",
       "      <td>23.3</td>\n",
       "    </tr>\n",
       "    <tr>\n",
       "      <th>2</th>\n",
       "      <td>TRAIN_002</td>\n",
       "      <td>0.01778</td>\n",
       "      <td>95.0</td>\n",
       "      <td>1.47</td>\n",
       "      <td>0.0</td>\n",
       "      <td>0.403</td>\n",
       "      <td>7.135</td>\n",
       "      <td>13.9</td>\n",
       "      <td>7.6534</td>\n",
       "      <td>3.0</td>\n",
       "      <td>402.0</td>\n",
       "      <td>17.0</td>\n",
       "      <td>384.30</td>\n",
       "      <td>4.45</td>\n",
       "      <td>32.9</td>\n",
       "    </tr>\n",
       "    <tr>\n",
       "      <th>3</th>\n",
       "      <td>TRAIN_003</td>\n",
       "      <td>9.51363</td>\n",
       "      <td>0.0</td>\n",
       "      <td>18.10</td>\n",
       "      <td>0.0</td>\n",
       "      <td>0.713</td>\n",
       "      <td>6.728</td>\n",
       "      <td>94.1</td>\n",
       "      <td>2.4961</td>\n",
       "      <td>24.0</td>\n",
       "      <td>666.0</td>\n",
       "      <td>20.2</td>\n",
       "      <td>6.68</td>\n",
       "      <td>18.71</td>\n",
       "      <td>14.9</td>\n",
       "    </tr>\n",
       "    <tr>\n",
       "      <th>4</th>\n",
       "      <td>TRAIN_004</td>\n",
       "      <td>1.65660</td>\n",
       "      <td>0.0</td>\n",
       "      <td>19.58</td>\n",
       "      <td>0.0</td>\n",
       "      <td>0.871</td>\n",
       "      <td>6.122</td>\n",
       "      <td>97.3</td>\n",
       "      <td>1.6180</td>\n",
       "      <td>5.0</td>\n",
       "      <td>403.0</td>\n",
       "      <td>14.7</td>\n",
       "      <td>372.80</td>\n",
       "      <td>14.10</td>\n",
       "      <td>21.5</td>\n",
       "    </tr>\n",
       "  </tbody>\n",
       "</table>\n",
       "</div>"
      ]
     },
     "execution_count": 2,
     "metadata": {},
     "output_type": "execute_result"
    }
   ],
   "execution_count": 2
  },
  {
   "metadata": {},
   "cell_type": "markdown",
   "source": [
    "### Boston Housing 데이터\n",
    "#### Feature\n",
    "- CRIM : 도시별 1인당 범죄율\n",
    "- ZN : 25,000 피트를 초과하는 주거용 토지의 비율\n",
    "- NDUS : 비상업 면적의 비율\n",
    "- CHAS : 찰스강에 대한 더미 변수(강의 경계에 위치한 경우는 1, 아니면 0)\n",
    "- NOX : 일산화질소 농도\n",
    "- RM : 주택당 평균 방의 개수\n",
    "- AGE : 1940년 이전에 건축된 자가주택의 비율\n",
    "- DIS : 5개의 보스턴 고용 센터와의 거리\n",
    "- RAD : 고속도로 접근성 지수\n",
    "- TAX : 10,000달러당 재산세율\n",
    "- PTRATIO : 도시별 교사와 학생 수 비율\n",
    "- B : 마을의 흑인 거주 비율\n",
    "- LSTAT : 하위 계층의 비율\n",
    "#### Target\n",
    "- MEDV : 본인 소유의 주택 가격(중앙값, 단위: 천달러)"
   ],
   "id": "59bca91ddcd60242"
  },
  {
   "metadata": {
    "ExecuteTime": {
     "end_time": "2025-03-16T10:34:10.984739Z",
     "start_time": "2025-03-16T10:34:10.906121Z"
    }
   },
   "cell_type": "code",
   "source": "df.info()",
   "id": "6973098c5eb8d3e0",
   "outputs": [
    {
     "name": "stdout",
     "output_type": "stream",
     "text": [
      "<class 'pandas.core.frame.DataFrame'>\n",
      "RangeIndex: 455 entries, 0 to 454\n",
      "Data columns (total 15 columns):\n",
      " #   Column   Non-Null Count  Dtype  \n",
      "---  ------   --------------  -----  \n",
      " 0   ID       455 non-null    object \n",
      " 1   CRIM     455 non-null    float64\n",
      " 2   ZN       455 non-null    float64\n",
      " 3   INDUS    455 non-null    float64\n",
      " 4   CHAS     455 non-null    float64\n",
      " 5   NOX      455 non-null    float64\n",
      " 6   RM       455 non-null    float64\n",
      " 7   AGE      455 non-null    float64\n",
      " 8   DIS      455 non-null    float64\n",
      " 9   RAD      455 non-null    float64\n",
      " 10  TAX      455 non-null    float64\n",
      " 11  PTRATIO  455 non-null    float64\n",
      " 12  B        455 non-null    float64\n",
      " 13  LSTAT    455 non-null    float64\n",
      " 14  MEDV     455 non-null    float64\n",
      "dtypes: float64(14), object(1)\n",
      "memory usage: 53.4+ KB\n"
     ]
    }
   ],
   "execution_count": 3
  },
  {
   "metadata": {
    "ExecuteTime": {
     "end_time": "2025-03-16T10:34:11.042824Z",
     "start_time": "2025-03-16T10:34:10.996713Z"
    }
   },
   "cell_type": "code",
   "source": [
    "# 학습 데이터 분리\n",
    "x_data = df.drop([\"ID\", \"MEDV\"], axis = 1)\n",
    "y_target = df[\"MEDV\"]\n",
    "\n",
    "xTrain, xTest, yTrain, yTest = train_test_split(x_data, y_target, test_size = 0.2, random_state = 0)\n",
    "print(xTrain.shape, xTest.shape, yTrain.shape, yTest.shape)"
   ],
   "id": "ab56d85a91440bce",
   "outputs": [
    {
     "name": "stdout",
     "output_type": "stream",
     "text": [
      "(364, 13) (91, 13) (364,) (91,)\n"
     ]
    }
   ],
   "execution_count": 4
  },
  {
   "metadata": {},
   "cell_type": "markdown",
   "source": "### LinearRegression",
   "id": "2cbffc9cd7246777"
  },
  {
   "metadata": {
    "ExecuteTime": {
     "end_time": "2025-03-16T10:34:11.327114Z",
     "start_time": "2025-03-16T10:34:11.053800Z"
    }
   },
   "cell_type": "code",
   "source": [
    "# 1. LinearRegression 선언\n",
    "model = LinearRegression()\n",
    "\n",
    "# 2. 학습\n",
    "model.fit(xTrain, yTrain)\n",
    "\n",
    "# 3. 예측\n",
    "y_pred = model.predict(xTest)\n",
    "print(yTest[:5])\n",
    "print(y_pred[:5])\n",
    "\n",
    "# 4. 모델 평가\n",
    "mse = mean_squared_error(yTest, y_pred)\n",
    "rmse = np.sqrt(mse)\n",
    "# r2_score (결정 계수) : 성능 측정 기준, 1에 가까울 수록 성능이 좋음 (0.7 이상)\n",
    "r_squared = r2_score(yTest, y_pred)\n",
    "print(\"LinearRegression : \", mse, rmse, r_squared)"
   ],
   "id": "f0d5b797809a41bb",
   "outputs": [
    {
     "name": "stdout",
     "output_type": "stream",
     "text": [
      "354    37.3\n",
      "60     18.4\n",
      "293    26.4\n",
      "414    19.2\n",
      "113    19.6\n",
      "Name: MEDV, dtype: float64\n",
      "[33.77866133 19.29537892 21.92225039 19.91710695 17.36444357]\n",
      "LinearRegression :  22.644903581774212 4.758666155738834 0.7189410339917255\n"
     ]
    }
   ],
   "execution_count": 5
  },
  {
   "metadata": {
    "ExecuteTime": {
     "end_time": "2025-03-16T10:34:11.548925Z",
     "start_time": "2025-03-16T10:34:11.336095Z"
    }
   },
   "cell_type": "code",
   "source": [
    "print(f\"절편 : {model.intercept_}\")\n",
    "print(f\"회귀계수 : {np.round(model.coef_, 1)}\")\n",
    "coeff = pd.Series(data = np.round(model.coef_, 1), index = x_data.columns)\n",
    "coeff.sort_values(ascending = False)"
   ],
   "id": "c8466cf7a9191423",
   "outputs": [
    {
     "name": "stdout",
     "output_type": "stream",
     "text": [
      "절편 : 33.003251575543885\n",
      "회귀계수 : [ -0.1   0.    0.    2.8 -15.6   4.1  -0.   -1.4   0.3  -0.   -1.    0.\n",
      "  -0.5]\n"
     ]
    },
    {
     "data": {
      "text/plain": [
       "RM          4.1\n",
       "CHAS        2.8\n",
       "RAD         0.3\n",
       "ZN          0.0\n",
       "INDUS       0.0\n",
       "AGE        -0.0\n",
       "TAX        -0.0\n",
       "B           0.0\n",
       "CRIM       -0.1\n",
       "LSTAT      -0.5\n",
       "PTRATIO    -1.0\n",
       "DIS        -1.4\n",
       "NOX       -15.6\n",
       "dtype: float64"
      ]
     },
     "execution_count": 6,
     "metadata": {},
     "output_type": "execute_result"
    }
   ],
   "execution_count": 6
  },
  {
   "metadata": {},
   "cell_type": "markdown",
   "source": "## Ridge",
   "id": "7e0329c3a586db20"
  },
  {
   "metadata": {
    "ExecuteTime": {
     "end_time": "2025-03-16T10:34:12.777588Z",
     "start_time": "2025-03-16T10:34:11.551923Z"
    }
   },
   "cell_type": "code",
   "source": [
    "# 최적의 alpha 탐색\n",
    "train_score = []\n",
    "\n",
    "alpha_list = [0.001, 0.01, 0.1, 0.5, 1, 10, 100]\n",
    "for i in alpha_list :\n",
    "    ridge = Ridge(alpha = i)\n",
    "    ridge.fit(xTrain, yTrain)\n",
    "    train_score.append(ridge.score(xTrain, yTrain))\n",
    "\n",
    "plt.plot(np.log10(alpha_list), train_score) # alpha_list를 지수화하여 출력\n",
    "plt.xlabel(\"alpha\")\n",
    "plt.ylabel(\"R^2\")\n",
    "plt.show()\n",
    "# 결정 계수가 1에 가까운 것이 최적의 alpha 값인데, 결정 계수가 1인 것은 과적합 이므로, 그 다음 1에 가까운 값이 alpha로 적절\n",
    "# 여기서는 가장 큰 결정계수가 0.745이므로 alpha = e-3이 최적"
   ],
   "id": "9ed2796e1c5f836b",
   "outputs": [
    {
     "data": {
      "text/plain": [
       "<Figure size 640x480 with 1 Axes>"
      ],
      "image/png": "[encoded data removed]"
     },
     "metadata": {},
     "output_type": "display_data"
    }
   ],
   "execution_count": 7
  },
  {
   "metadata": {
    "ExecuteTime": {
     "end_time": "2025-03-16T10:34:12.817945Z",
     "start_time": "2025-03-16T10:34:12.784574Z"
    }
   },
   "cell_type": "code",
   "source": [
    "# 1. Ridge 선언\n",
    "ridge = Ridge(alpha = 0.001)\n",
    "\n",
    "# 2. 학습\n",
    "ridge.fit(xTrain, yTrain)\n",
    "\n",
    "# 3. 예측\n",
    "y_pred = ridge.predict(xTest)\n",
    "\n",
    "# 4. 모델 평가\n",
    "mse_rg = mean_squared_error(yTest, y_pred)\n",
    "rmse_rg = np.sqrt(mse)\n",
    "r_squared_rg = r2_score(yTest, y_pred)\n",
    "print(\"Ridge : \", mse_rg, rmse_rg, r_squared_rg)"
   ],
   "id": "7a8ba2354512cf8f",
   "outputs": [
    {
     "name": "stdout",
     "output_type": "stream",
     "text": [
      "Ridge :  22.645700439284916 4.758666155738834 0.718931143733319\n"
     ]
    }
   ],
   "execution_count": 8
  },
  {
   "metadata": {},
   "cell_type": "markdown",
   "source": "## Lasso",
   "id": "46842144785da15d"
  },
  {
   "metadata": {
    "ExecuteTime": {
     "end_time": "2025-03-16T10:34:13.103906Z",
     "start_time": "2025-03-16T10:34:12.824927Z"
    }
   },
   "cell_type": "code",
   "source": [
    "# 최적의 alpha 탐색\n",
    "train_score = []\n",
    "\n",
    "alpha_list = [0.001, 0.01, 0.1, 0.5, 1, 10, 100]\n",
    "for i in alpha_list :\n",
    "    lasso = Lasso(alpha = i)\n",
    "    lasso.fit(xTrain, yTrain)\n",
    "    train_score.append(lasso.score(xTrain, yTrain))\n",
    "\n",
    "plt.plot(np.log10(alpha_list), train_score) # alpha_list를 지수화하여 출력\n",
    "plt.xlabel(\"alpha\")\n",
    "plt.ylabel(\"R^2\")\n",
    "plt.show()\n",
    "# 결정 계수가 1에 가까운 것이 최적의 alpha 값인데, 결정 계수가 1인 것은 과적합이기 때문에 그 다음 1에 가까운 값이 alpha로 적절\n",
    "# 가장 큰 결정계수가 0.7..이므로 alpha = e-3이 최적"
   ],
   "id": "25eda22531ca3110",
   "outputs": [
    {
     "data": {
      "text/plain": [
       "<Figure size 640x480 with 1 Axes>"
      ],
      "image/png": "[encoded data removed]"
     },
     "metadata": {},
     "output_type": "display_data"
    }
   ],
   "execution_count": 9
  },
  {
   "metadata": {
    "ExecuteTime": {
     "end_time": "2025-03-16T10:34:13.138107Z",
     "start_time": "2025-03-16T10:34:13.111890Z"
    }
   },
   "cell_type": "code",
   "source": [
    "# 1. Lasso 선언\n",
    "lasso = Lasso(alpha = 0.001)\n",
    "\n",
    "# 2. 학습\n",
    "lasso.fit(xTrain, yTrain)\n",
    "\n",
    "# 3. 예측\n",
    "y_pred = lasso.predict(xTest)\n",
    "\n",
    "# 4. 모델 평가\n",
    "mse_ls = mean_squared_error(yTest, y_pred)\n",
    "rmse_ls = np.sqrt(mse)\n",
    "r_squared_ls = r2_score(yTest, y_pred)\n",
    "print(\"Ridge : \", mse_ls, rmse_ls, r_squared_ls)"
   ],
   "id": "12177b9a0dc33e75",
   "outputs": [
    {
     "name": "stdout",
     "output_type": "stream",
     "text": [
      "Ridge :  22.6612517766508 4.758666155738834 0.718738127111088\n"
     ]
    }
   ],
   "execution_count": 10
  },
  {
   "metadata": {
    "ExecuteTime": {
     "end_time": "2025-03-16T10:34:13.150680Z",
     "start_time": "2025-03-16T10:34:13.141106Z"
    }
   },
   "cell_type": "code",
   "source": [
    "print(f\"1. LinearRegression\\nmse : {mse}, rmse : {rmse}, r2_score : {r_squared}\")\n",
    "print(f\"2. Ridge\\nmse : {mse_rg}, rmse : {rmse_rg}, r2_score : {r_squared_rg}\")\n",
    "print(f\"3. Lasso\\nmse : {mse_ls}, rmse : {rmse_ls}, r2_score : {r_squared_ls}\")"
   ],
   "id": "50167ecf8ba03864",
   "outputs": [
    {
     "name": "stdout",
     "output_type": "stream",
     "text": [
      "1. LinearRegression\n",
      "mse : 22.644903581774212, rmse : 4.758666155738834, r2_score : 0.7189410339917255\n",
      "2. Ridge\n",
      "mse : 22.645700439284916, rmse : 4.758666155738834, r2_score : 0.718931143733319\n",
      "3. Lasso\n",
      "mse : 22.6612517766508, rmse : 4.758666155738834, r2_score : 0.718738127111088\n"
     ]
    }
   ],
   "execution_count": 11
  }
 ],
 "metadata": {
  "kernelspec": {
   "display_name": "Python 3",
   "language": "python",
   "name": "python3"
  },
  "language_info": {
   "codemirror_mode": {
    "name": "ipython",
    "version": 2
   },
   "file_extension": ".py",
   "mimetype": "text/x-python",
   "name": "python",
   "nbconvert_exporter": "python",
   "pygments_lexer": "ipython2",
   "version": "2.7.6"
  }
 },
 "nbformat": 4,
 "nbformat_minor": 5
}
