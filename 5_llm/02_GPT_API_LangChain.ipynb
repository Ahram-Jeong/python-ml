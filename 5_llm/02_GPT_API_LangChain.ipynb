{
 "cells": [
  {
   "metadata": {},
   "cell_type": "markdown",
   "source": [
    "### LangChain\n",
    "- 자연어 처리(NLP)와 사전 학습 된 LLM 모델을 사용하여 다양한 응용 프로그램을 구축할 수 있게 해주는 프레임워크 (LangSmith로 설계 및 배포 기능까지 지원)\n",
    "- DB, API, 외부 서비스(ChatGPT 등)와의 통합 된 기능을 지원하는 인터페이스 제공\n",
    "- RAG 구조를 위한 기본적인 인터페이스와 Embedding, Reranking 기능 등을 제공\n",
    "- AIMessage, UserMessage, SystemMessage 등의 클래스로 대화의 메시지를 처리하고 관리"
   ],
   "id": "663d086b3ceaae4d"
  },
  {
   "metadata": {},
   "cell_type": "markdown",
   "source": [
    "#### 패키지 설명\n",
    "- langchain-openai : LangChain과 OpenAI의 모델을 결합한 기능 제공\n",
    "- langchain_community : LangChain 생태계를 확장하고, 기본적인 LangChain 기능을 보완해 다양한 도구와의 통합 기능 제공"
   ],
   "id": "37871e8765ec5331"
  },
  {
   "metadata": {
    "ExecuteTime": {
     "end_time": "2024-07-09T14:02:11.168614Z",
     "start_time": "2024-07-09T14:02:09.466328Z"
    }
   },
   "cell_type": "code",
   "source": [
    "from langchain.chat_models import ChatOpenAI\n",
    "from getpass import getpass"
   ],
   "id": "5d7567fe70c629ab",
   "outputs": [],
   "execution_count": 1
  },
  {
   "metadata": {},
   "cell_type": "markdown",
   "source": "### 모델 로드 및 질의 입력",
   "id": "3b082a368b7a52b0"
  },
  {
   "metadata": {
    "ExecuteTime": {
     "end_time": "2024-07-09T14:02:13.852704Z",
     "start_time": "2024-07-09T14:02:11.173605Z"
    }
   },
   "cell_type": "code",
   "source": "MY_API_KEY = getpass(\"OpenAI API Key >> \")",
   "id": "1952dfe39fef02",
   "outputs": [],
   "execution_count": 2
  },
  {
   "metadata": {
    "ExecuteTime": {
     "end_time": "2024-07-09T14:02:21.595189Z",
     "start_time": "2024-07-09T14:02:13.856694Z"
    }
   },
   "cell_type": "code",
   "source": [
    "chat_model = ChatOpenAI(\n",
    "    model = \"gpt-3.5-turbo\",\n",
    "    api_key = MY_API_KEY\n",
    ")\n",
    "type(chat_model)"
   ],
   "id": "398296fb2998c8da",
   "outputs": [
    {
     "name": "stderr",
     "output_type": "stream",
     "text": [
      "C:\\Dev\\tools\\Anaconda3\\Lib\\site-packages\\langchain_core\\_api\\deprecation.py:139: LangChainDeprecationWarning: The class `ChatOpenAI` was deprecated in LangChain 0.0.10 and will be removed in 0.3.0. An updated version of the class exists in the langchain-openai package and should be used instead. To use it run `pip install -U langchain-openai` and import as `from langchain_openai import ChatOpenAI`.\n",
      "  warn_deprecated(\n"
     ]
    },
    {
     "data": {
      "text/plain": [
       "langchain_community.chat_models.openai.ChatOpenAI"
      ]
     },
     "execution_count": 3,
     "metadata": {},
     "output_type": "execute_result"
    }
   ],
   "execution_count": 3
  },
  {
   "metadata": {
    "ExecuteTime": {
     "end_time": "2024-07-09T14:04:26.178382Z",
     "start_time": "2024-07-09T14:04:22.121302Z"
    }
   },
   "cell_type": "code",
   "source": [
    "question = \"가장 도전적인 스포츠는?\"\n",
    "\n",
    "# invoke() : LLM 모델의 예측(추론) 결과를 반환 해주는 함수\n",
    "answer = chat_model.invoke(question)\n",
    "answer"
   ],
   "id": "dd661e9174e0de18",
   "outputs": [
    {
     "data": {
      "text/plain": [
       "AIMessage(content='도전적인 스포츠는 개인의 체력, 기술, 전략, 집중력 등을 모두 요구하는 스포츠들이 있습니다. 그 중에서도 가장 도전적인 스포츠로는 아이언맨 트라이애슬론, 알파인 스키, 클라이밍, 무도, 격투기, 스노보드, 서핑, 글라이딩, 패러글라이딩 등이挙げられます. 이러한 스포츠들은 신체적인 능력과 정신적인 강도가 모두 요구되는 데다가 위험성이 높아 더욱 도전적인 측면을 보유하고 있습니다.', response_metadata={'token_usage': {'completion_tokens': 227, 'prompt_tokens': 23, 'total_tokens': 250}, 'model_name': 'gpt-3.5-turbo', 'system_fingerprint': None, 'finish_reason': 'stop', 'logprobs': None}, id='run-07643022-3de1-4fe0-826e-e7c0f7354de4-0')"
      ]
     },
     "execution_count": 4,
     "metadata": {},
     "output_type": "execute_result"
    }
   ],
   "execution_count": 4
  },
  {
   "metadata": {
    "ExecuteTime": {
     "end_time": "2024-07-09T14:04:26.189904Z",
     "start_time": "2024-07-09T14:04:26.178382Z"
    }
   },
   "cell_type": "code",
   "source": "type(answer)",
   "id": "4ff6ae604cd83041",
   "outputs": [
    {
     "data": {
      "text/plain": [
       "langchain_core.messages.ai.AIMessage"
      ]
     },
     "execution_count": 5,
     "metadata": {},
     "output_type": "execute_result"
    }
   ],
   "execution_count": 5
  },
  {
   "metadata": {
    "ExecuteTime": {
     "end_time": "2024-07-09T14:04:42.050267Z",
     "start_time": "2024-07-09T14:04:42.030240Z"
    }
   },
   "cell_type": "code",
   "source": "print(answer)",
   "id": "7e1bece6f48d25f6",
   "outputs": [
    {
     "name": "stdout",
     "output_type": "stream",
     "text": [
      "content='도전적인 스포츠는 개인의 체력, 기술, 전략, 집중력 등을 모두 요구하는 스포츠들이 있습니다. 그 중에서도 가장 도전적인 스포츠로는 아이언맨 트라이애슬론, 알파인 스키, 클라이밍, 무도, 격투기, 스노보드, 서핑, 글라이딩, 패러글라이딩 등이挙げられます. 이러한 스포츠들은 신체적인 능력과 정신적인 강도가 모두 요구되는 데다가 위험성이 높아 더욱 도전적인 측면을 보유하고 있습니다.' response_metadata={'token_usage': {'completion_tokens': 227, 'prompt_tokens': 23, 'total_tokens': 250}, 'model_name': 'gpt-3.5-turbo', 'system_fingerprint': None, 'finish_reason': 'stop', 'logprobs': None} id='run-07643022-3de1-4fe0-826e-e7c0f7354de4-0'\n"
     ]
    }
   ],
   "execution_count": 6
  },
  {
   "metadata": {
    "ExecuteTime": {
     "end_time": "2024-07-09T14:05:27.158923Z",
     "start_time": "2024-07-09T14:05:27.134884Z"
    }
   },
   "cell_type": "code",
   "source": "answer.content",
   "id": "384c3be2074f66d7",
   "outputs": [
    {
     "data": {
      "text/plain": [
       "'도전적인 스포츠는 개인의 체력, 기술, 전략, 집중력 등을 모두 요구하는 스포츠들이 있습니다. 그 중에서도 가장 도전적인 스포츠로는 아이언맨 트라이애슬론, 알파인 스키, 클라이밍, 무도, 격투기, 스노보드, 서핑, 글라이딩, 패러글라이딩 등이挙げられます. 이러한 스포츠들은 신체적인 능력과 정신적인 강도가 모두 요구되는 데다가 위험성이 높아 더욱 도전적인 측면을 보유하고 있습니다.'"
      ]
     },
     "execution_count": 7,
     "metadata": {},
     "output_type": "execute_result"
    }
   ],
   "execution_count": 7
  },
  {
   "metadata": {
    "ExecuteTime": {
     "end_time": "2024-07-09T14:05:38.104245Z",
     "start_time": "2024-07-09T14:05:38.085998Z"
    }
   },
   "cell_type": "code",
   "source": "print(answer.content)",
   "id": "bd91f5e1dd68597d",
   "outputs": [
    {
     "name": "stdout",
     "output_type": "stream",
     "text": [
      "도전적인 스포츠는 개인의 체력, 기술, 전략, 집중력 등을 모두 요구하는 스포츠들이 있습니다. 그 중에서도 가장 도전적인 스포츠로는 아이언맨 트라이애슬론, 알파인 스키, 클라이밍, 무도, 격투기, 스노보드, 서핑, 글라이딩, 패러글라이딩 등이挙げられます. 이러한 스포츠들은 신체적인 능력과 정신적인 강도가 모두 요구되는 데다가 위험성이 높아 더욱 도전적인 측면을 보유하고 있습니다.\n"
     ]
    }
   ],
   "execution_count": 8
  },
  {
   "metadata": {},
   "cell_type": "markdown",
   "source": [
    "### prompt 템플릿 기능 활용\n",
    "- 질의 시, 템플릿을 활용하여 좀 더 체계적인 구성으로 질의"
   ],
   "id": "ab8f201a9e2a8ae"
  },
  {
   "metadata": {
    "ExecuteTime": {
     "end_time": "2024-07-09T14:07:13.110939Z",
     "start_time": "2024-07-09T14:07:12.919047Z"
    }
   },
   "cell_type": "code",
   "source": "from langchain.prompts import PromptTemplate",
   "id": "267144520417a872",
   "outputs": [],
   "execution_count": 9
  },
  {
   "metadata": {
    "ExecuteTime": {
     "end_time": "2024-07-09T14:11:00.792315Z",
     "start_time": "2024-07-09T14:11:00.777181Z"
    }
   },
   "cell_type": "code",
   "source": [
    "'''\n",
    "1. 전체 템플릿 지정\n",
    "from_template() : 문자열 포맷팅 기능을 기본적으로 활용하여 프롬프트(질의)의 템플릿을 설정 해주는 함수\n",
    "포맷팅 문자열인데, f 생략 가능\n",
    "'''\n",
    "pt = PromptTemplate.from_template(\"{context} 중에서 {topic}은/는?\")\n",
    "\n",
    "# 2. 템플릿 내부에 들어갈 문자열 각각 지정\n",
    "prompt = pt.format(context = \"직업\", topic = \"도전적인 직업\")\n",
    "print(prompt)"
   ],
   "id": "79e288d8bcbff5",
   "outputs": [
    {
     "name": "stdout",
     "output_type": "stream",
     "text": [
      "직업 중에서 도전적인 직업은/는?\n"
     ]
    }
   ],
   "execution_count": 10
  },
  {
   "metadata": {
    "ExecuteTime": {
     "end_time": "2024-07-09T14:14:08.109341Z",
     "start_time": "2024-07-09T14:14:08.099101Z"
    }
   },
   "cell_type": "code",
   "source": [
    "def get_answer(context, topic) :\n",
    "    pt = PromptTemplate.from_template(\"{context} 중에서 {topic}은/는?\")\n",
    "    prompt = pt.format(context = context, topic = topic)\n",
    "    answer = chat_model.invoke(prompt)\n",
    "    return {\"질의\" : prompt, \"응답\" : answer.content.strip()}"
   ],
   "id": "3bd2e9da6b608aea",
   "outputs": [],
   "execution_count": 11
  },
  {
   "metadata": {
    "ExecuteTime": {
     "end_time": "2024-07-09T14:14:44.898037Z",
     "start_time": "2024-07-09T14:14:32.389295Z"
    }
   },
   "cell_type": "code",
   "source": [
    "print(get_answer(\"직업\", \"육체적으로 힘든 직업\"))\n",
    "print(get_answer(\"직업\", \"정신적으로 힘든 직업\"))\n",
    "print(get_answer(\"직업\", \"연봉이 가장 높은 직업\"))\n",
    "print(get_answer(\"직업\", \"만족도가 가장 높은 직업\"))"
   ],
   "id": "44acfdb81e258513",
   "outputs": [
    {
     "name": "stdout",
     "output_type": "stream",
     "text": [
      "{'질의': '직업 중에서 육체적으로 힘든 직업은/는?', '응답': '건설 노동자, 농부, 청소부, 운반 업무 종사자, 정비공 등 육체적으로 힘든 직업들이 있습니다. 이들 직업들은 일상적으로 무거운 물건을 옮기고, 긴 시간 동안 서서 일하거나, 힘든 환경에서 일하는 등의 과중한 노동을 수행해야 하기 때문에 육체적으로 힘든 것으로 알려져 있습니다.'}\n",
      "{'질의': '직업 중에서 정신적으로 힘든 직업은/는?', '응답': '의료진, 심리상담사, 사회복지사, 교사 등의 직업은 정신적으로 힘든 직업으로 알려져 있습니다. 이들은 많은 사람들의 심리적인 문제나 어려움을 다루기 때문에 상당한 정신적 부담을 안게 될 수 있습니다. 또한, 비상 상황에서 신속하고 정확한 판단을 내려야 하는 응급구조대원, 소방대원, 경찰관 등도 정신적으로 힘든 직업으로 꼽힐 수 있습니다.'}\n",
      "{'질의': '직업 중에서 연봉이 가장 높은 직업은/는?', '응답': '의사, 변호사, 자산관리자, 항공기 조종사, 소프트웨어 개발자, 데이터 과학자, 투자은행가, 공학자 등의 직업이 연봉이 높은 직업으로 알려져 있습니다. 다만 직업마다 지역, 경력, 근무시간 등에 따라 연봉이 달라질 수 있으니 참고하시기 바랍니다.'}\n",
      "{'질의': '직업 중에서 만족도가 가장 높은 직업은/는?', '응답': '만족도가 가장 높은 직업은 개인의 성향과 취향에 따라 다를 수 있습니다. 그러나 일반적으로 사람들이 자신의 업무에 대해 만족을 느끼는 요소로는 자율성, 도전, 사회적 영향력 등이 있습니다. 따라서 자신의 관심과 역량에 맞는 직업을 선택하고 해당 직업에서 성취감을 느끼는 것이 만족도를 높일 수 있는 방법이 될 것입니다.'}\n"
     ]
    }
   ],
   "execution_count": 12
  }
 ],
 "metadata": {
  "kernelspec": {
   "display_name": "Python 3",
   "language": "python",
   "name": "python3"
  },
  "language_info": {
   "codemirror_mode": {
    "name": "ipython",
    "version": 2
   },
   "file_extension": ".py",
   "mimetype": "text/x-python",
   "name": "python",
   "nbconvert_exporter": "python",
   "pygments_lexer": "ipython2",
   "version": "2.7.6"
  }
 },
 "nbformat": 4,
 "nbformat_minor": 5
}
