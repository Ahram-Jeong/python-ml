{
 "cells": [
  {
   "metadata": {},
   "cell_type": "markdown",
   "source": [
    "# 숙소 리뷰 요약을 위한 LLM 모델 만들기\n",
    "- 호텔 리뷰를 요약하는 모델을 만들고 성능을 향상시키기"
   ],
   "id": "f1955587c51abf14"
  },
  {
   "metadata": {},
   "cell_type": "markdown",
   "source": "### 1. API 키 및 기본 설정",
   "id": "a7c03ac62b4b6bad"
  },
  {
   "metadata": {
    "ExecuteTime": {
     "end_time": "2024-07-09T17:10:07.473592Z",
     "start_time": "2024-07-09T17:10:05.963743Z"
    }
   },
   "cell_type": "code",
   "source": [
    "from openai import OpenAI\n",
    "from getpass import getpass"
   ],
   "id": "29ac538dd8ede83c",
   "outputs": [],
   "execution_count": 1
  },
  {
   "metadata": {
    "ExecuteTime": {
     "end_time": "2024-07-09T17:10:14.619640Z",
     "start_time": "2024-07-09T17:10:07.473592Z"
    }
   },
   "cell_type": "code",
   "source": "MY_API_KEY = getpass(\"OpenAI API Key >> \")",
   "id": "1f343fab57ab02bf",
   "outputs": [],
   "execution_count": 2
  },
  {
   "metadata": {
    "ExecuteTime": {
     "end_time": "2024-07-09T17:10:15.526505Z",
     "start_time": "2024-07-09T17:10:14.619640Z"
    }
   },
   "cell_type": "code",
   "source": "client = OpenAI(api_key = MY_API_KEY)",
   "id": "dd3108da9cfa6af3",
   "outputs": [],
   "execution_count": 3
  },
  {
   "metadata": {},
   "cell_type": "markdown",
   "source": [
    "### 2. 데이터 전처리\n",
    "- 모델 평가를 위한 프롬프트에 입력하기 위해 기존 JSON 형태에서 문자열로 \n",
    "#### 1) 수집한 리뷰 JSON 파일 로드\n",
    "- 야놀자 홈페이지 호텔/리조트 탭에서 신라스테이 역삼 호텔에 대한 리뷰를 최근 순으로 20 스크롤 정도 조회한 데이터"
   ],
   "id": "c4664343cb9357d5"
  },
  {
   "metadata": {
    "ExecuteTime": {
     "end_time": "2024-07-09T17:11:49.699126Z",
     "start_time": "2024-07-09T17:11:49.689930Z"
    }
   },
   "cell_type": "code",
   "source": "import json",
   "id": "2453f8b7e7e7b00f",
   "outputs": [],
   "execution_count": 4
  },
  {
   "metadata": {
    "ExecuteTime": {
     "end_time": "2024-07-09T17:13:47.478542Z",
     "start_time": "2024-07-09T17:13:47.451964Z"
    }
   },
   "cell_type": "code",
   "source": [
    "with open(\"../data/ya_review_sinla.json\", \"r\", encoding = \"utf-8\") as f :\n",
    "    # json.load() : JSON 데이터 불러오기\n",
    "    review_lst = json.load(f)\n",
    "\n",
    "print(len(review_lst))\n",
    "review_lst[:10]"
   ],
   "id": "a25e36a065e95e0f",
   "outputs": [
    {
     "name": "stdout",
     "output_type": "stream",
     "text": [
      "420\n"
     ]
    },
    {
     "data": {
      "text/plain": [
       "[{'review': '출장때마다 신라스테이를 이용하고 있습니다.\\n너무 비싼데는 회사 지원이 어려워서 신라스테이를 이용하는데, 깔끔하고 친절하고..이만한데가 없네요',\n",
       "  'stars': 5,\n",
       "  'date': '4일 전'},\n",
       " {'review': '깔끔하고 청결합니다', 'stars': 5, 'date': '4일 전'},\n",
       " {'review': '지하철로 오는거면 위치가 좀 별로긴 한데 시내에 있어서 나쁘지 않아요. 직원분들 친절하고 가격도 착해서 좋습니다.\\n주말 저녁, 조식 다 이용해봤는데 쏘쏘합니다',\n",
       "  'stars': 5,\n",
       "  'date': '5일 전'},\n",
       " {'review': '조앗ㄹ어여!!굳굳굳', 'stars': 5, 'date': '6일 전'},\n",
       " {'review': '너무 좋아요. 에어컨이 좀 약해요', 'stars': 5, 'date': '6일 전'},\n",
       " {'review': '출장 시 자주이용합니다. 쾌적하게 잘 쉬다 왔네요^^', 'stars': 4, 'date': '2024.06.20'},\n",
       " {'review': '친절하고 깨끗하고 주차도 편해요', 'stars': 5, 'date': '2024.06.15'},\n",
       " {'review': '가격만큼 하는 곳 교통이 아쉬워여 ㅠ', 'stars': 5, 'date': '2024.06.12'},\n",
       " {'review': '편하긴 햇러요 청결하고, 조식 맛잇엇습니디', 'stars': 4, 'date': '2024.06.09'},\n",
       " {'review': '좋은데 방음은 조금 어쩔수 없엇요아늑하고 좋앗어요.', 'stars': 4, 'date': '2024.06.09'}]"
      ]
     },
     "execution_count": 5,
     "metadata": {},
     "output_type": "execute_result"
    }
   ],
   "execution_count": 5
  },
  {
   "metadata": {},
   "cell_type": "markdown",
   "source": [
    "#### 2) 높은 평점 및 낮은 평점 기준 정의\n",
    "전체 평점이 4.7점이기 때문에 대부분의 평점은 4 ~ 5점 사이이고, 정말 별로이지 않는 한 3점 이하는 잘 없는 데이터 분포\n",
    "- 높은 평점 : 별 5개\n",
    "- 낮은 평점 : 별 4개 이하"
   ],
   "id": "e58a30b1c373e0b3"
  },
  {
   "metadata": {
    "ExecuteTime": {
     "end_time": "2024-07-09T17:15:47.603005Z",
     "start_time": "2024-07-09T17:15:39.368676Z"
    }
   },
   "cell_type": "code",
   "source": [
    "import numpy as np\n",
    "import seaborn as sns"
   ],
   "id": "f6e34992eaf9d8c",
   "outputs": [],
   "execution_count": 6
  },
  {
   "metadata": {
    "ExecuteTime": {
     "end_time": "2024-07-09T17:15:55.100711Z",
     "start_time": "2024-07-09T17:15:55.086765Z"
    }
   },
   "cell_type": "code",
   "source": [
    "tmp_lst = [i[\"stars\"] for i in review_lst]\n",
    "np.mean(tmp_lst)"
   ],
   "id": "26b5fb460da1c663",
   "outputs": [
    {
     "data": {
      "text/plain": [
       "4.697619047619048"
      ]
     },
     "execution_count": 7,
     "metadata": {},
     "output_type": "execute_result"
    }
   ],
   "execution_count": 7
  },
  {
   "metadata": {
    "ExecuteTime": {
     "end_time": "2024-07-09T17:16:42.425116Z",
     "start_time": "2024-07-09T17:16:42.066623Z"
    }
   },
   "cell_type": "code",
   "source": [
    "tmp_arr = np.array(tmp_lst)\n",
    "sns.countplot(x = tmp_arr)"
   ],
   "id": "5beaa09d6ba4870",
   "outputs": [
    {
     "data": {
      "text/plain": [
       "<Axes: ylabel='count'>"
      ]
     },
     "execution_count": 8,
     "metadata": {},
     "output_type": "execute_result"
    },
    {
     "data": {
      "text/plain": [
       "<Figure size 640x480 with 1 Axes>"
      ],
      "image/png": "[encoded data removed]"
     },
     "metadata": {},
     "output_type": "display_data"
    }
   ],
   "execution_count": 8
  },
  {
   "metadata": {},
   "cell_type": "markdown",
   "source": "#### 3) 높은 평점 및 낮은 평점으로 구분 후 저장",
   "id": "62de9f3f25d34ea6"
  },
  {
   "metadata": {
    "ExecuteTime": {
     "end_time": "2024-07-09T17:19:27.909653Z",
     "start_time": "2024-07-09T17:19:27.890463Z"
    }
   },
   "cell_type": "code",
   "source": [
    "review_high, review_low = [], []\n",
    "for i in review_lst :\n",
    "    if i[\"stars\"] == 5 :\n",
    "        review_high.append(\"[REVIEW_START]\" + i[\"review\"] + \"[REVIEW_END]\")\n",
    "    else :\n",
    "        review_low.append(\"[REVIEW_START]\" + i[\"review\"] + \"[REVIEW_END]\")\n",
    "\n",
    "print(review_high[:5])"
   ],
   "id": "4a572f2df3d0687b",
   "outputs": [
    {
     "name": "stdout",
     "output_type": "stream",
     "text": [
      "['[REVIEW_START]출장때마다 신라스테이를 이용하고 있습니다.\\n너무 비싼데는 회사 지원이 어려워서 신라스테이를 이용하는데, 깔끔하고 친절하고..이만한데가 없네요[REVIEW_END]', '[REVIEW_START]깔끔하고 청결합니다[REVIEW_END]', '[REVIEW_START]지하철로 오는거면 위치가 좀 별로긴 한데 시내에 있어서 나쁘지 않아요. 직원분들 친절하고 가격도 착해서 좋습니다.\\n주말 저녁, 조식 다 이용해봤는데 쏘쏘합니다[REVIEW_END]', '[REVIEW_START]조앗ㄹ어여!!굳굳굳[REVIEW_END]', '[REVIEW_START]너무 좋아요. 에어컨이 좀 약해요[REVIEW_END]']\n"
     ]
    }
   ],
   "execution_count": 10
  },
  {
   "metadata": {
    "ExecuteTime": {
     "end_time": "2024-07-09T17:21:07.460025Z",
     "start_time": "2024-07-09T17:21:07.445758Z"
    }
   },
   "cell_type": "code",
   "source": [
    "# LLM 모델에 입력되는 프롬프트 작성 시, 문자열 이어야 하므오 리스트에 있는 리뷰를 문자열로 통합하고 개행으로 각 리뷰들을 구분\n",
    "review_high_txt = \"\\n\".join(review_high)\n",
    "review_low_txt = \"\\n\".join(review_low)\n",
    "\n",
    "print(review_high_txt[:500])"
   ],
   "id": "7ecd84b6ec635425",
   "outputs": [
    {
     "name": "stdout",
     "output_type": "stream",
     "text": [
      "[REVIEW_START]출장때마다 신라스테이를 이용하고 있습니다.\n",
      "너무 비싼데는 회사 지원이 어려워서 신라스테이를 이용하는데, 깔끔하고 친절하고..이만한데가 없네요[REVIEW_END]\n",
      "[REVIEW_START]깔끔하고 청결합니다[REVIEW_END]\n",
      "[REVIEW_START]지하철로 오는거면 위치가 좀 별로긴 한데 시내에 있어서 나쁘지 않아요. 직원분들 친절하고 가격도 착해서 좋습니다.\n",
      "주말 저녁, 조식 다 이용해봤는데 쏘쏘합니다[REVIEW_END]\n",
      "[REVIEW_START]조앗ㄹ어여!!굳굳굳[REVIEW_END]\n",
      "[REVIEW_START]너무 좋아요. 에어컨이 좀 약해요[REVIEW_END]\n",
      "[REVIEW_START]친절하고 깨끗하고 주차도 편해요[REVIEW_END]\n",
      "[REVIEW_START]가격만큼 하는 곳 교통이 아쉬워여 ㅠ[REVIEW_END]\n",
      "[REVIEW_START]고민하다가 조식포함으로 결정했는데 좋은 선택이었습니다. 같이간 이들도 만족스러워했어요. 조식도 좋았고\n"
     ]
    }
   ],
   "execution_count": 12
  },
  {
   "metadata": {},
   "cell_type": "markdown",
   "source": [
    "#### 4) 각 전처리 단계를 하나의 사용자 정의 함수로 작성\n",
    "- 야놀자 홈페이지의 후기 요약도 최근 6개월 간의 리뷰로 진행했기 때문에 동일한 조건으로 설정"
   ],
   "id": "7d540288d9feea9"
  },
  {
   "metadata": {
    "ExecuteTime": {
     "end_time": "2024-07-09T17:23:35.854297Z",
     "start_time": "2024-07-09T17:23:35.838171Z"
    }
   },
   "cell_type": "code",
   "source": [
    "# 날짜와 시간을 다루는 모듈\n",
    "import datetime\n",
    "# 날짜와 시간 문자열을 파싱해서 실제 날짜 계산이 가능한 기능을 지원하는 라이브러리\n",
    "# parser : 문자열에서 날짜와 시간 정보를 자동으로 인식하고 파싱하는 모듈\n",
    "from dateutil import parser"
   ],
   "id": "d1025bc084158836",
   "outputs": [],
   "execution_count": 13
  },
  {
   "metadata": {
    "ExecuteTime": {
     "end_time": "2024-07-09T17:24:03.815005Z",
     "start_time": "2024-07-09T17:24:03.806048Z"
    }
   },
   "cell_type": "code",
   "source": "datetime.datetime.now()",
   "id": "d5a66d7fe99d3961",
   "outputs": [
    {
     "data": {
      "text/plain": [
       "datetime.datetime(2024, 7, 10, 2, 24, 3, 806048)"
      ]
     },
     "execution_count": 14,
     "metadata": {},
     "output_type": "execute_result"
    }
   ],
   "execution_count": 14
  },
  {
   "metadata": {
    "ExecuteTime": {
     "end_time": "2024-07-09T17:39:01.797943Z",
     "start_time": "2024-07-09T17:39:01.774617Z"
    }
   },
   "cell_type": "code",
   "source": [
    "# 리뷰 전처리 사용자 정의 함수 선언\n",
    "def preprocess_reviews(path = \"../data/ya_review_sinla.json\") :\n",
    "    with open(path, \"r\", encoding = \"utf-8\") as f :\n",
    "        review_list = json.load(f)\n",
    "        \n",
    "    review_high, review_low = [], []\n",
    "    current_date = datetime.datetime.now()\n",
    "    # timedelta : 파라미터 weeks, days, hours, minutes, seconds 등\n",
    "    date_boundary = current_date - datetime.timedelta(days = 6 * 30) # 6개월 전\n",
    "    \n",
    "    for i in review_list :\n",
    "        review_date_str = i[\"date\"]\n",
    "        try :\n",
    "            # parse() : 리뷰에 대한 연/월/일/시 문자열이 들어오면 날짜 타입으로 변환\n",
    "            review_date = parser.parse(review_date_str)\n",
    "        except (ValueError, TypeError) : # 연/월/일로 표시되지 않은 값들\n",
    "            review_date = current_date # 현재 날짜로 지정\n",
    "            \n",
    "        if review_date < date_boundary : # 6개월 이전의 데이터\n",
    "            continue # 다음 for문으로 가시오\n",
    "            \n",
    "        if i[\"stars\"] == 5 :\n",
    "            review_high.append(\"[REVIEW_START]\" + i[\"review\"] + \"[REVIEW_END]\")\n",
    "        else :\n",
    "            review_low.append(\"[REVIEW_START]\" + i[\"review\"] + \"[REVIEW_END]\")\n",
    "    \n",
    "    # 전처리가 완료된 평점들의 전체 문자열 데이터\n",
    "    review_high_txt = \"\\n\".join(review_high)\n",
    "    review_low_txt = \"\\n\".join(review_low)\n",
    "    \n",
    "    return review_high_txt, review_low_txt"
   ],
   "id": "28f046ab1bed73df",
   "outputs": [],
   "execution_count": 23
  },
  {
   "metadata": {
    "ExecuteTime": {
     "end_time": "2024-07-09T17:39:06.105578Z",
     "start_time": "2024-07-09T17:39:06.054417Z"
    }
   },
   "cell_type": "code",
   "source": [
    "high, low = preprocess_reviews()\n",
    "high[:500]"
   ],
   "id": "a597206719599091",
   "outputs": [
    {
     "data": {
      "text/plain": [
       "'[REVIEW_START]출장때마다 신라스테이를 이용하고 있습니다.\\n너무 비싼데는 회사 지원이 어려워서 신라스테이를 이용하는데, 깔끔하고 친절하고..이만한데가 없네요[REVIEW_END]\\n[REVIEW_START]깔끔하고 청결합니다[REVIEW_END]\\n[REVIEW_START]지하철로 오는거면 위치가 좀 별로긴 한데 시내에 있어서 나쁘지 않아요. 직원분들 친절하고 가격도 착해서 좋습니다.\\n주말 저녁, 조식 다 이용해봤는데 쏘쏘합니다[REVIEW_END]\\n[REVIEW_START]조앗ㄹ어여!!굳굳굳[REVIEW_END]\\n[REVIEW_START]너무 좋아요. 에어컨이 좀 약해요[REVIEW_END]\\n[REVIEW_START]친절하고 깨끗하고 주차도 편해요[REVIEW_END]\\n[REVIEW_START]가격만큼 하는 곳 교통이 아쉬워여 ㅠ[REVIEW_END]\\n[REVIEW_START]고민하다가 조식포함으로 결정했는데 좋은 선택이었습니다. 같이간 이들도 만족스러워했어요. 조식도 좋았고'"
      ]
     },
     "execution_count": 24,
     "metadata": {},
     "output_type": "execute_result"
    }
   ],
   "execution_count": 24
  },
  {
   "metadata": {},
   "cell_type": "markdown",
   "source": [
    "### 3. 리뷰 요약을 위한 Base 모델 개발\n",
    "- Base 모델(gpt-3.5-turbo)이 야놀자 후기 요약 문장(gpt-4-turbo 사용)에 근접하게 요약할 수 있도록 성능을 향상하는 것이 목표"
   ],
   "id": "39ed47116cea6e36"
  },
  {
   "metadata": {
    "ExecuteTime": {
     "end_time": "2024-07-09T17:40:46.410869Z",
     "start_time": "2024-07-09T17:40:46.404140Z"
    }
   },
   "cell_type": "code",
   "source": [
    "# 요약 Task에서는 요약 결과에 대한 길이나 제한을 두는 것이 품질을 평가히기 좋음 (언급이 없으면 모델의 max 토큰까지 출력해 버리는 현상 발생)\n",
    "PROMPT_BASELINE = \"\"\"아래 숙소 리뷰에 대해 5문장 내로 요약해줘\"\"\""
   ],
   "id": "a65abbbaa9c558cf",
   "outputs": [],
   "execution_count": 25
  },
  {
   "metadata": {
    "ExecuteTime": {
     "end_time": "2024-07-09T17:41:13.916015Z",
     "start_time": "2024-07-09T17:41:13.870854Z"
    }
   },
   "cell_type": "code",
   "source": [
    "# 전처리 함수를 사용하여 높은 평점 리뷰만 가져오기\n",
    "# high만 받고 low 안받음\n",
    "reviews, _ = preprocess_reviews(\"../data/ya_review_sinla.json\")\n",
    "reviews"
   ],
   "id": "ce50ab18679d15f0",
   "outputs": [
    {
     "data": {
      "text/plain": [
       "'[REVIEW_START]출장때마다 신라스테이를 이용하고 있습니다.\\n너무 비싼데는 회사 지원이 어려워서 신라스테이를 이용하는데, 깔끔하고 친절하고..이만한데가 없네요[REVIEW_END]\\n[REVIEW_START]깔끔하고 청결합니다[REVIEW_END]\\n[REVIEW_START]지하철로 오는거면 위치가 좀 별로긴 한데 시내에 있어서 나쁘지 않아요. 직원분들 친절하고 가격도 착해서 좋습니다.\\n주말 저녁, 조식 다 이용해봤는데 쏘쏘합니다[REVIEW_END]\\n[REVIEW_START]조앗ㄹ어여!!굳굳굳[REVIEW_END]\\n[REVIEW_START]너무 좋아요. 에어컨이 좀 약해요[REVIEW_END]\\n[REVIEW_START]친절하고 깨끗하고 주차도 편해요[REVIEW_END]\\n[REVIEW_START]가격만큼 하는 곳 교통이 아쉬워여 ㅠ[REVIEW_END]\\n[REVIEW_START]고민하다가 조식포함으로 결정했는데 좋은 선택이었습니다. 같이간 이들도 만족스러워했어요. 조식도 좋았고 시설, 서비스, 청결도 나무랄데가 없었네요.[REVIEW_END]\\n[REVIEW_START]쾌적하고 좋은 환경에서 잘 쉬고 갑니다![REVIEW_END]\\n[REVIEW_START]깔끔하고좋았어요 ㅎㅎ[REVIEW_END]\\n[REVIEW_START]깨끗하고 위치도 좋으며 주차장이 기께식이 아닌 게 마음에 듭니다. 주차 요금이 5000원 나오긴 하지만 넓은 주차장이 좋습니다. 다음에도 이용하고 싶습니다.[REVIEW_END]\\n[REVIEW_START]감사합니다. 감사합니다.[REVIEW_END]\\n[REVIEW_START]직원들이 친절하고 룸상태가\\n좋았습니다[REVIEW_END]\\n[REVIEW_START]깨끗합니다~~~~~~~~~[REVIEW_END]\\n[REVIEW_START]침대가 조금 작았어요[REVIEW_END]\\n[REVIEW_START]교통의 요충지 강남에서 잘 쉬었습니다![REVIEW_END]\\n[REVIEW_START]상당히 좋았습니다.[REVIEW_END]\\n[REVIEW_START]출장 때 마다 애용하고 있습니다.[REVIEW_END]\\n[REVIEW_START]항상 서울 출장시 애용합니다.[REVIEW_END]\\n[REVIEW_START]숙소도 깨끗하고 어주 쾌적하게 사용하고 갑니다[REVIEW_END]\\n[REVIEW_START]항상 좋은 곳 추천합니다.[REVIEW_END]\\n[REVIEW_START]깔끔하고 시설 좋아서 항상 잘 이용하고 있습니다![REVIEW_END]\\n[REVIEW_START]얘기할거도 없이 신라스테이 만족 그대로임[REVIEW_END]\\n[REVIEW_START]출장으로 묵었는데 조식도 맛있고 룸 컨디션도 좋았습니다![REVIEW_END]\\n[REVIEW_START]좋아요 \\n재방문의사 있습니다[REVIEW_END]\\n[REVIEW_START]좋네요 근데 약간 방음이 아쉽네요[REVIEW_END]\\n[REVIEW_START]너무친절해요 깨끗해요[REVIEW_END]\\n[REVIEW_START]즐겁게 쉴 수 있었습니다.[REVIEW_END]\\n[REVIEW_START]위치도 좋구여, 주변 식당도 좋아여 또 방문할게요[REVIEW_END]\\n[REVIEW_START]객실 청소 상태, 내부 인테리어 등 모든 면에서 만족스러웠습니다 특히 직원분의 친절한 응대가 인상적이었어요[REVIEW_END]\\n[REVIEW_START]신라스테이에 기대하는 기본을 갖춘 곳[REVIEW_END]\\n[REVIEW_START]위치가 진짜 좋아서 움직이기 좋았습니다[REVIEW_END]\\n[REVIEW_START]연박으로 잘 이용했습니다. 개선해야할 점이 하나 있다면 화장실에서 샤워기를 틀면 기계음이 너무 크게 났습니다. 이점만 보완되면 더 좋은 숙소가 될 것 같습니다.[REVIEW_END]\\n[REVIEW_START]부모님모시고 갔는데 청결이며 서비스며 조식 맛까지 환상입니다 ㅎ.ㅎ[REVIEW_END]\\n[REVIEW_START]숙소인근 방문을 위해 예약했습니다\\n고객입장에서 편리 제공해주셨고 벚꽃만개한 토요일이라 자차주차후  대중교통을 이용하였고 조식이용하였는데  편안하고 깔끔한 느낌이었습니다\\n인근방문시 재예약 예정입니다[REVIEW_END]\\n[REVIEW_START]모든부분에서 만족스러웠습니다[REVIEW_END]\\n[REVIEW_START]깨긋하고 편리하고 친절해요[REVIEW_END]\\n[REVIEW_START]편하게 쉬다가 갑니다[REVIEW_END]\\n[REVIEW_START]깔끔하고 조용해서 좋았습니다.[REVIEW_END]\\n[REVIEW_START]주차 편하고 근처에 맛집많아서 좋았어요[REVIEW_END]\\n[REVIEW_START]역삼점은 처음 이용해보는데 여느 다른 지점과 같이 좋랐어요. 다만 위치 특성상 새벽에도 차 소음이 꽤 나더라구요![REVIEW_END]\\n[REVIEW_START]쾌적하고 편안했습니다. 주차 공간이 많아 더욱 좋았습니다.[REVIEW_END]\\n[REVIEW_START]잘 먹고 잘 쉬고 잘 놀다 갑니다.\\n신라니까 기본이상은 하는 곳이고 뷔페도 생각이상으로 맛있었습니다![REVIEW_END]\\n[REVIEW_START]특별한 날이라 스위트룸 알콜 파티파티[REVIEW_END]\\n[REVIEW_START]조용하고 인포 응대 해주시는게 빠르고 편한방법으로 변경해주셔서 좋았습니다.[REVIEW_END]\\n[REVIEW_START]위치도 좋고 방음도 잘되서 좋고 보일러도 빵빵합니다![REVIEW_END]\\n[REVIEW_START]친절하고 편리해요[REVIEW_END]\\n[REVIEW_START]친절하고 편리해요[REVIEW_END]\\n[REVIEW_START]친절하고 편리해요[REVIEW_END]\\n[REVIEW_START]좋앗습니다[REVIEW_END]\\n[REVIEW_START]깨끗하고 조용해서 좋았고 조식도 맛있었습니다[REVIEW_END]\\n[REVIEW_START]조식도 맛있고 객실도 깨끗하고 시설이 좋아요!!! 역삼역이랑도 가깝고 좋습니다![REVIEW_END]\\n[REVIEW_START]너무 잘 쉬다 갔습니다.[REVIEW_END]\\n[REVIEW_START]너무만족스러고 좋았습니다![REVIEW_END]\\n[REVIEW_START]급하게 예약했음해도 굉장히친절하고 좋았습니다.\\n깨끗하고 좋았어요[REVIEW_END]\\n[REVIEW_START]신라스테이 처음 방문해 보는데 역삼지점은 조식 맛있어요 야놀자에 다양한 프로모션 있어서 여유롭게 즐기다 깁니다![REVIEW_END]\\n[REVIEW_START]너무 좋았습니다\\n방도 좁은 느낌 없고 OTT 편안하게 보기 딱이에요[REVIEW_END]\\n[REVIEW_START]편하고 좋습니다[REVIEW_END]\\n[REVIEW_START]도로변 객실 말고 다른쪽 객실이 더 조용할듯\\n차지나다니는 소리 은근 남[REVIEW_END]\\n[REVIEW_START]편리하고 친절해요[REVIEW_END]\\n[REVIEW_START]항상 이용하고 있습니다 너무좋아요[REVIEW_END]\\n[REVIEW_START]좋은시간보냈습니다[REVIEW_END]\\n[REVIEW_START]조식 맛있고 객실깔끔하고 좋았어요 외국인들 머물기에 더 특화된 호텔 같아 보였습니다 만족스러워요[REVIEW_END]\\n[REVIEW_START]잘 머물다갑니다[REVIEW_END]\\n[REVIEW_START]항상 좋은 곳 추천합니다.[REVIEW_END]\\n[REVIEW_START]너무좋어요[REVIEW_END]\\n[REVIEW_START]두번째이용입니다!!\\n강남쪽에서 숙소잡을때 종종 이용할께요~~[REVIEW_END]\\n[REVIEW_START]깔끔하고 좋았습니다[REVIEW_END]\\n[REVIEW_START]넥플렉스 시청가능하면 좋을것 같아요[REVIEW_END]\\n[REVIEW_START]너무 깔끔하고 방도 넓어서 좋았어요.[REVIEW_END]\\n[REVIEW_START]조식도 좋았고 위치도 만족스러웠다 또 방문할 계획있습니다[REVIEW_END]\\n[REVIEW_START]역삼근방으로 외근시 항상 애용합니다 좋아요[REVIEW_END]\\n[REVIEW_START]호텔이 깨끗합니다[REVIEW_END]\\n[REVIEW_START]너무 좋았습니다 ㅎㅎ 라이브 특가도 당첨되어서 기분이 두 배로 좋았습니다 다만 아쉬운 점은 ott이용할 때 다른 지점은 5천원 받지 않았는데 역삼점은 돈을 받더라구여🥲 주차비도 받고 그런 점이 살짝 서운했습니다!! 그 이외에는 100점 입니다!![REVIEW_END]\\n[REVIEW_START]항상 너무 좋아요^^[REVIEW_END]\\n[REVIEW_START]늘 가는 곳이지만 친절하고 좋습니다[REVIEW_END]\\n[REVIEW_START]친절해요ㅎㅎ[REVIEW_END]\\n[REVIEW_START]깔끔하고 쾌적하니 편안하게 이용잘했습니다~[REVIEW_END]\\n[REVIEW_START]교통좋고 가성비 좋아요 객실도 깔끔하고 너무 잘 쉬다가 갑니당[REVIEW_END]\\n[REVIEW_START]편하게 잘 쉬고 왔어요 ㅎㅎ[REVIEW_END]\\n[REVIEW_START]좋았습니다[REVIEW_END]\\n[REVIEW_START]깨끗하고 좋았어요\\n재방문의사 있어요[REVIEW_END]\\n[REVIEW_START]편하게 잘 쉬었어요👍🏻👍🏻[REVIEW_END]\\n[REVIEW_START]화장실에서 하수구 냄새가 올라와서 요청 드렸는데 친절하게 원인 찾아주시고 해결해주셔서 감사했어요! \\n조용하고 위치도 좋고 잘 머물다 갑니다. :)[REVIEW_END]\\n[REVIEW_START]역시 좋아요. 일찍 도착했는데 체크인 도와주셨고 서비스도 친절했습니다. 설 연휴 호캉스 지내기에 부족함이 없었어요. 좋아서 하루 더 연장하고 푹 쉬었습니다. 돈벌어서 또 올게요.[REVIEW_END]\\n[REVIEW_START]좋앗습니다[REVIEW_END]\\n[REVIEW_START]전체적으로 가성비 좋고 만족했습니다[REVIEW_END]\\n[REVIEW_START]최고의 숙소![REVIEW_END]\\n[REVIEW_START]침대가 좀 덜컹거렸지만 조식도 괜찮구 또 방문의사 있어요![REVIEW_END]\\n[REVIEW_START]감사합니다![REVIEW_END]\\n[REVIEW_START]깔끔해서 쉬기 좋아요[REVIEW_END]\\n[REVIEW_START]오랜만에 오니까 얼굴 아는 직원분들이 안 계시기도 하고 그러네요. 아쉽지만 ㅠㅠ 그래도 호텔은 언제나 맘에 듭니다.[REVIEW_END]\\n[REVIEW_START]정말좋았습니다 편하고[REVIEW_END]\\n[REVIEW_START]고등학생인 아이와 둘이 정말 잠만 자려는 목적으로 예약했는데 너무 만족스런 선택에 저 자신을 칭찬했네요 ㅎ 복도에서 룸의 대화가 들리는 방음의 문제가 다소 있었으나 직원들의 친절이나 편의성등을 감안하면 충분히 만족합니다. 호텔 뒷쪽에 음식점도 많고 편의점도 있어 편했 습니다. 특히 조식은 정말 꼭 추천하고 싶네요. 다음에도 다시 방문할 생각이 드는 곳입니다.[REVIEW_END]\\n[REVIEW_START]편리하고 친절하고 너무 좋아요[REVIEW_END]\\n[REVIEW_START]항상애용하는 호텔입니다[REVIEW_END]\\n[REVIEW_START]가성비 조아여[REVIEW_END]\\n[REVIEW_START]편안하고 위치가 좋음[REVIEW_END]\\n[REVIEW_START]조용하고 좋아요[REVIEW_END]\\n[REVIEW_START]깔끔하고 설명과 같이 잘이용했습니다[REVIEW_END]\\n[REVIEW_START]엘베타기가 불편했지만 대체적으로 만족[REVIEW_END]\\n[REVIEW_START]전반적으로 매우 만족했습니다 좋은위치에 크게 비싸지는않은가격입니다 추가로 휴지를 침대옆에도 뒀으면 하는맘도있어용[REVIEW_END]\\n[REVIEW_START]아주 좋아요[REVIEW_END]\\n[REVIEW_START]잘 쉬다 갔습니다~[REVIEW_END]\\n[REVIEW_START]주차 비용 말고는 다좋음[REVIEW_END]\\n[REVIEW_START]음.. 가격 대비 아쉽습니다. 추운 날이였는데 난방 온도도 너무 낮게 설정되어 있었고 좁고 이불에도 뭐가 묻어있더라구요. 방도 좁아요.\\n화장실은 깔끔하고 좋았고 조식은 매우 추천이예요![REVIEW_END]\\n[REVIEW_START]친절하시고 좋았습니다[REVIEW_END]\\n[REVIEW_START]깔끔하고 좋았어요!! 조식도 맛있었습니당\\r\\n4시 퇴실 너무 좋네요[REVIEW_END]\\n[REVIEW_START]교통편도 편리하고 호텔직원분들도 모두 친절 하십니다[REVIEW_END]\\n[REVIEW_START]훌륭합니다[REVIEW_END]\\n[REVIEW_START]잘 사용하고 갑니다[REVIEW_END]\\n[REVIEW_START]깨끗하고좋아요[REVIEW_END]\\n[REVIEW_START]매번가지만 대만족[REVIEW_END]\\n[REVIEW_START]깔끔하고 좋아요\\n1층에 편의점있어서 편하고 좋아요[REVIEW_END]\\n[REVIEW_START]깨끗하거 편리함[REVIEW_END]\\n[REVIEW_START]편하고 조아요[REVIEW_END]\\n[REVIEW_START]편하게 잘 쉬었습니다[REVIEW_END]\\n[REVIEW_START]좋았습니다[REVIEW_END]\\n[REVIEW_START]무난하고 좋아요[REVIEW_END]\\n[REVIEW_START]수압도 쎄고 아늑하고 좋았어요.[REVIEW_END]\\n[REVIEW_START]좋아요  손님이 너무만족스러워해요[REVIEW_END]\\n[REVIEW_START]편했습니다[REVIEW_END]\\n[REVIEW_START]친절하고 특가도 좋았습니다[REVIEW_END]\\n[REVIEW_START]너어무 잘쉬었어요!! 금-토 연박했는데, 토요일 오전에 잠깐 일어나서 산책 한 번 하고 잠깐 눈 붙이고 일어났더니 토욜순삭, 자정 실화?? 너무 푹잤고 너무 푹 쉬었고 조식 맛있었어요!!! 쾌적하고 좋았습니다~ 와인 마시려고 챙겨갔는데, 와인잔도 없고 아이스도 없어서 아쉬웠어요. 오티티 계정 있어서 티비 연결해 보려고 했는데 그것도 안되고 ㅠㅠㅠㅠ 그치만 너무 잘 쉬었습니다!!!\\n아, 그리고 1035호 였는데 문 한 번에 잘 안열려요.[REVIEW_END]\\n[REVIEW_START]푹 쉬다가 갑니다[REVIEW_END]\\n[REVIEW_START]잘쉬고갑니다[REVIEW_END]\\n[REVIEW_START]늘 찾는곳입니다[REVIEW_END]\\n[REVIEW_START]좋아요 아침도 좋앗어요[REVIEW_END]\\n[REVIEW_START]예약 실수했는데 잘 처리해주셔서 감사합니다~ 가족 여행이였는데 기쁜 마음으로 잘 쉬다왔습니다^^~[REVIEW_END]\\n[REVIEW_START]예약 실수했는데 잘 처리해주셔서 감사합니다~ 가족 여행이였는데 기쁜 마음으로 잘 쉬다왔습니다^^~[REVIEW_END]\\n[REVIEW_START]깨끗하고 너무 좋았습니다[REVIEW_END]'"
      ]
     },
     "execution_count": 26,
     "metadata": {},
     "output_type": "execute_result"
    }
   ],
   "execution_count": 26
  },
  {
   "metadata": {},
   "cell_type": "markdown",
   "source": "1) 요약 실행 함수 선언",
   "id": "ec53744dc71a340a"
  },
  {
   "metadata": {
    "ExecuteTime": {
     "end_time": "2024-07-09T17:45:26.818214Z",
     "start_time": "2024-07-09T17:45:26.800560Z"
    }
   },
   "cell_type": "code",
   "source": [
    "# LLM 모델을 호출하여 리뷰들에 대한 요약을 진행하는 사용자 정의 함수 선언\n",
    "def summarize(reviews, prompt, temperature = 0, model = \"gpt-3.5-turbo\") :\n",
    "    prompt = prompt + \"\\n\\n\" + reviews\n",
    "    completion = client.chat.completions.create(\n",
    "        model = model,\n",
    "        messages = [{\"role\" : \"user\", \"content\" : prompt}],\n",
    "        temperature = temperature\n",
    "    )\n",
    "    return completion"
   ],
   "id": "585a8c08707c8296",
   "outputs": [],
   "execution_count": 27
  },
  {
   "metadata": {},
   "cell_type": "markdown",
   "source": "2) 모델 별 요약 결과",
   "id": "2fabc22e0ffce2fa"
  },
  {
   "metadata": {
    "ExecuteTime": {
     "end_time": "2024-07-09T17:47:26.778935Z",
     "start_time": "2024-07-09T17:47:23.970698Z"
    }
   },
   "cell_type": "code",
   "source": [
    "# Base 모델 요약 결과 (gpt-3.5-turbo)\n",
    "print(summarize(reviews, PROMPT_BASELINE).choices[0].message.content)"
   ],
   "id": "bc91e5e595e8fa9e",
   "outputs": [
    {
     "name": "stdout",
     "output_type": "stream",
     "text": [
      "신라스테이 출장 때마다 이용하고 있으며 깔끔하고 친절한 숙소로 만족하고 있습니다. 위치가 좋아서 시내 이동이 편리하며 주차도 편리하고 조식도 만족스러웠습니다. 에어컨이 약한 점이 있지만 친절한 직원과 깨끗한 시설로 만족스러운 숙박이었습니다.\n"
     ]
    }
   ],
   "execution_count": 28
  },
  {
   "metadata": {
    "ExecuteTime": {
     "end_time": "2024-07-09T17:53:30.390948Z",
     "start_time": "2024-07-09T17:53:30.384541Z"
    }
   },
   "cell_type": "code",
   "source": [
    "# 야놀자 홈페이지 높은 평점 후기 요약 문장 (gpt-4-turbo 모델 사용)\n",
    "summary_gpt4_turbo = \"\"\"\n",
    "깔끔하고 친절한 서비스와 청결한 객실로 출장이나 여행에 이상적인 숙소입니다.\n",
    "주변 식당이 풍부하고 주차도 편리하며, 조식은 만족스러울 정도로 훌륭합니다.\n",
    "다만 지하철 소음이 조금 거슬리는 점과 뷰가 아쉬운 점이 있을 수 있습니다.\n",
    "전체적으로 만족도가 높고 가격 대비 좋은 숙소로 손꼽힙니다.\n",
    "호텔 직원들의 친절한 응대와 편리한 시설로 쾌적한 숙박 경험을 제공받을 수 있습니다.\n",
    "\"\"\""
   ],
   "id": "ae2687dfb70f1e95",
   "outputs": [],
   "execution_count": 32
  },
  {
   "metadata": {},
   "cell_type": "markdown",
   "source": [
    "### 4. 모델 평가 함수 선언\n",
    "#### 1) 평가 기준 설정\n",
    "- 논문 기반 Pairwise Comparision\n",
    "  - LLM 기반 품질 비교 평가\n",
    "  - gpt-4o를 활용하여 2개 모델의 요약 결과를 비교 평가\n",
    "#### 2) 평가를 위한 스크립트 및 모델 실행 코드 작성\n",
    "- 기존 MT-Bench.. 논문의 프롬프트에서 일부만 수정하여 사용"
   ],
   "id": "fadf2489e492c41d"
  },
  {
   "metadata": {
    "ExecuteTime": {
     "end_time": "2024-07-09T17:51:20.940556Z",
     "start_time": "2024-07-09T17:51:20.916435Z"
    }
   },
   "cell_type": "code",
   "source": [
    "# 2개의 모델이 요약한 내용을 비교하여 평가하는 사용자 정의 함수 (리뷰 내용, 첫 모델 답변, 둘째 모델 답변)\n",
    "def pairwise_eval(reviews, answer_a, answer_b) :\n",
    "    # 예시 프롬프트에 gpt3.5모델과 4모델의 요약 결과를 넣고 비교하도록 프롬프트 설정\n",
    "    eval_prompt = f\"\"\"\n",
    "        [System]\n",
    "        Please act as an impartial judge and evaluate the quality of the Korean summaries provided by two\n",
    "        AI assistants to the set of user reviews on accommodations displayed below. You should choose the assistant that\n",
    "        follows the user’s instructions and answers the user’s question better. Your evaluation\n",
    "        should consider factors such as the helpfulness, relevance, accuracy, depth, creativity,\n",
    "        and level of detail of their responses. Begin your evaluation by comparing the two\n",
    "        responses and provide a short explanation. Avoid any position biases and ensure that the\n",
    "        order in which the responses were presented does not influence your decision. Do not allow\n",
    "        the length of the responses to influence your evaluation. Do not favor certain names of\n",
    "        the assistants. Be as objective as possible. After providing your explanation, output your\n",
    "        final verdict by strictly following this format: \"[[A]]\" if assistant A is better, \"[[B]]\"\n",
    "        if assistant B is better, and \"[[C]]\" for a tie.\n",
    "        [User Reviews]\n",
    "        {reviews}\n",
    "        [The Start of Assistant A’s Answer]\n",
    "        {answer_a}\n",
    "        [The End of Assistant A’s Answer]\n",
    "        [The Start of Assistant B’s Answer]\n",
    "        {answer_b}\n",
    "        [The End of Assistant B’s Answer]\n",
    "        \"\"\"\n",
    "    \n",
    "    completion = client.chat.completions.create(\n",
    "        model = \"gpt-4o-2024-05-13\",\n",
    "        messages = [{\"role\" : \"user\", \"content\" : eval_prompt}],\n",
    "        temperature = 0\n",
    "    )\n",
    "    return completion"
   ],
   "id": "a1fad8b660e01823",
   "outputs": [],
   "execution_count": 29
  },
  {
   "metadata": {
    "ExecuteTime": {
     "end_time": "2024-07-09T17:52:41.200514Z",
     "start_time": "2024-07-09T17:52:38.353209Z"
    }
   },
   "cell_type": "code",
   "source": [
    "# Base 모델 : gpt-3.5-turbo\n",
    "answer_a = summarize(reviews, PROMPT_BASELINE).choices[0].message.content"
   ],
   "id": "8f49188d060dc5f2",
   "outputs": [],
   "execution_count": 30
  },
  {
   "metadata": {
    "ExecuteTime": {
     "end_time": "2024-07-09T17:54:53.825245Z",
     "start_time": "2024-07-09T17:54:48.530131Z"
    }
   },
   "cell_type": "code",
   "source": [
    "# 비교 평가 함수 호출\n",
    "print(pairwise_eval(reviews, answer_a, summary_gpt4_turbo).choices[0].message.content)"
   ],
   "id": "9bccb1c5caf33137",
   "outputs": [
    {
     "name": "stdout",
     "output_type": "stream",
     "text": [
      "Both Assistant A and Assistant B provided summaries of the user reviews for the accommodations, but there are notable differences in their approaches and the details they included.\n",
      "\n",
      "**Assistant A:**\n",
      "- Focuses on the overall satisfaction with the accommodation, particularly for business trips.\n",
      "- Mentions the cleanliness, friendly service, and the adequacy of the breakfast.\n",
      "- Highlights the convenience of the location despite some transportation issues.\n",
      "- Notes specific issues such as the weak air conditioning.\n",
      "\n",
      "**Assistant B:**\n",
      "- Emphasizes the cleanliness and friendly service, making it suitable for both business and leisure.\n",
      "- Mentions the convenience of nearby restaurants and parking.\n",
      "- Highlights the breakfast as satisfactory.\n",
      "- Points out potential issues like subway noise and the view.\n",
      "- Concludes with a general statement about the high satisfaction and good value for money.\n",
      "\n",
      "**Comparison:**\n",
      "- **Helpfulness and Relevance:** Both summaries are helpful and relevant, but Assistant B provides a broader perspective by including both business and leisure travelers.\n",
      "- **Accuracy:** Both assistants accurately reflect the user reviews, but Assistant B includes more specific details about potential issues (subway noise, view).\n",
      "- **Depth and Detail:** Assistant B offers a more detailed summary, covering various aspects such as nearby amenities, potential noise issues, and overall satisfaction.\n",
      "- **Creativity:** Both responses are straightforward, but Assistant B's summary is slightly more engaging due to its comprehensive nature.\n",
      "\n",
      "**Final Verdict:**\n",
      "Assistant B's response is more detailed and covers a wider range of aspects mentioned in the user reviews, making it more helpful and comprehensive.\n",
      "\n",
      "[[B]]\n"
     ]
    }
   ],
   "execution_count": 35
  },
  {
   "metadata": {},
   "cell_type": "markdown",
   "source": [
    "- 논문의 예시 스크립트를 활용하면 항상 어떤 응답이 좋은 지에 대한 의견을 확실히 볼 수 있음\n",
    "- 즉, 우리가 프롬프트를 작성할 때 원하는 결과에 대해 출력 형태를 명확히 명시하면 좋은 결과를 볼 수 있음"
   ],
   "id": "911c7b2aea1c17c2"
  },
  {
   "metadata": {},
   "cell_type": "markdown",
   "source": [
    "### 5. 메인 평가 진행\n",
    "- 실무에서는 다양한 데이터에 대해 많은 횟수로 평가를 하지만 현재는 그렇게 하기 힘들기 때문에 동일한 prompt에 대해서 temperature를 높여 다양한 결과를 출력 해보고 평가 횟수도 10번 정도 진행\n",
    "- 보통 50 ~ 100번 정도의 평가를 진행하는 것이 좋으나, 시간과 비용 문제로 10번만 진행"
   ],
   "id": "ce2618270ce8d901"
  },
  {
   "metadata": {
    "ExecuteTime": {
     "end_time": "2024-07-09T17:58:28.978165Z",
     "start_time": "2024-07-09T17:58:06.386336Z"
    }
   },
   "cell_type": "code",
   "source": [
    "# temperature = 0.8 설정 후, Base 모델로 10번의 요약 결과를 리스트에 담기\n",
    "eval_cnt = 10\n",
    "sum_baseline = [summarize(reviews, PROMPT_BASELINE, temperature = 0.8).choices[0].message.content for _ in range(eval_cnt)]\n",
    "sum_baseline"
   ],
   "id": "146eb878175f5343",
   "outputs": [
    {
     "data": {
      "text/plain": [
       "['신라스테이를 출장 때마다 이용하고 있으며 깔끔하고 친절한 숙소라고 합니다. 위치가 좋고 주차도 편리하며 조식도 만족스러웠다고 합니다. 다만 에어컨은 약한 편이었다고 하네요. 깔끔하고 좋은 환경에서 편안히 쉬었다고 하며, 조식이 맛있고 룸 상태도 좋았다고 합니다. 위치가 좋고 가성비 좋은 곳이라고 하며, 주차장이 넓고 깨끗하다고 합니다.',\n",
       " '신라스테이 출장 때마다 이용하는데 깔끔하고 친절하며 좋았으며, 조식도 맛있었고 위치가 좋고 주차도 편리했습니다. 호텔은 깨끗하고 편안하며 만족스러웠습니다.',\n",
       " '신라스테이는 비싼데 깔끔하고 친절한 숙소로, 위치는 별로지만 시설과 서비스로 만족스럽다.',\n",
       " '신라스테이 숙소는 깔끔하고 친절하며, 위치와 가격도 좋은 곳으로 평가받고 있습니다.',\n",
       " '신라스테이 출장 때마다 이용하는데 친절하고 깔끔, 위치가 시내에 있어서 좋다. 주차도 편하고 조식도 괜찮은 편. 에어컨이 조금 약한 점이 아쉽다.',\n",
       " '신라스테이 출장 때마다 이용하고 있어서 좋아요. 깨끔하고 친절하며 만족스러운 숙소. 위치는 별로지만 가격과 서비스는 좋음. 조식 맛도 좋고 깔끔한 객실. 에어컨이 약한 점만 아쉬움.',\n",
       " '신라스테이 출장 이용자들에게 깔끔하고 친절한 숙소로 인기가 많으며, 조식과 주차도 편리하다. 에어컨이 약한 점과 교통이 아쉬운 점이 있지만, 전반적으로 만족스러운 숙박이다.',\n",
       " '출장 때마다 신라스테이 이용 중. 친절하고 깔끔하며 가격도 적절함. 주차 편리. 조식은 쏘쏘.',\n",
       " '출장 때마다 신라스테이 이용, 깔끔하고 친절. 지하철로 오는 건 별로지만 시내 위치는 나쁘지 않음. 주차도 편하고 조식도 만족스러움. 에어컨이 약하긴 하지만 깨끗하고 친절한 숙소.',\n",
       " '출장 때 마다 신라스테이를 이용하고 있어서 깔끔하고 친절한 숙소라 만족하고 있다. 위치는 별로지만 시내에 있어 나쁘지 않고 주차도 편리하며 조식이 쏘쏘한 편이다. 숙소는 깨끗하고 주차장이 넓어서 만족하며, 조식 포함으로 선택했을 때는 좋은 선택이었다. 에어컨이 약한 점을 제외하고는 친절하고 깨끗한 숙소라고 한다.']"
      ]
     },
     "execution_count": 36,
     "metadata": {},
     "output_type": "execute_result"
    }
   ],
   "execution_count": 36
  },
  {
   "metadata": {
    "ExecuteTime": {
     "end_time": "2024-07-09T17:58:38.415489Z",
     "start_time": "2024-07-09T17:58:38.380355Z"
    }
   },
   "cell_type": "code",
   "source": "from tqdm import tqdm",
   "id": "1b6f523f3cbb9d76",
   "outputs": [],
   "execution_count": 37
  },
  {
   "metadata": {
    "ExecuteTime": {
     "end_time": "2024-07-09T18:04:40.609798Z",
     "start_time": "2024-07-09T18:04:40.590861Z"
    }
   },
   "cell_type": "code",
   "source": [
    "# pairwise_eval() 함수로 평가를 10번 반복하여 Base 모델이 gpt4 모델에 비해 얼마나 승리했는지 평가하는 함수\n",
    "def pairwise_eval_batch(reviews, answer_a, answer_b) :\n",
    "    # 승리, 패배, 무승부 횟수\n",
    "    a_cnt, b_cnt, c_cnt = 0, 0, 0\n",
    "    \n",
    "    for i in tqdm(range(len(answer_a))) :\n",
    "        completion = pairwise_eval(reviews, answer_a[i], answer_b[i])\n",
    "        # pairwise_eval() 평가 함수도 리턴 값이 gpt가 응답하는 ChatCompletion 객체로 반환하므로 해당 내용을 가져와 변수에 할당\n",
    "        result_txt = completion.choices[0].message.content\n",
    "        \n",
    "        if \"[[A]]\" in result_txt :\n",
    "            a_cnt += 1\n",
    "        elif \"[[B]]\" in result_txt :\n",
    "            b_cnt += 1\n",
    "        elif \"[[C]]\" in result_txt :\n",
    "            c_cnt += 1\n",
    "        else :\n",
    "            print(\"error!\")\n",
    "            \n",
    "    return a_cnt, b_cnt, c_cnt"
   ],
   "id": "277ce95321bcc3ea",
   "outputs": [],
   "execution_count": 38
  },
  {
   "metadata": {
    "ExecuteTime": {
     "end_time": "2024-07-09T18:08:44.277055Z",
     "start_time": "2024-07-09T18:07:42.532162Z"
    }
   },
   "cell_type": "code",
   "source": [
    "summarize_gpt4 = [summary_gpt4_turbo for _ in range(len(sum_baseline))]\n",
    "wins, losses, ties = pairwise_eval_batch(reviews, sum_baseline, summarize_gpt4)\n",
    "print(f\"Wins : {wins}, Losses : {losses}, Ties : {ties}\")"
   ],
   "id": "506016d8693c02a9",
   "outputs": [
    {
     "name": "stderr",
     "output_type": "stream",
     "text": [
      "100%|██████████| 10/10 [01:01<00:00,  6.17s/it]"
     ]
    },
    {
     "name": "stdout",
     "output_type": "stream",
     "text": [
      "Wins : 1, Losses : 9, ties : 0\n"
     ]
    },
    {
     "name": "stderr",
     "output_type": "stream",
     "text": [
      "\n"
     ]
    }
   ],
   "execution_count": 39
  },
  {
   "metadata": {},
   "cell_type": "markdown",
   "source": "- BASE_PROMPT로 10번 비교 평가 시, gpt-3.5 모델의 패배가 훨씬 많음",
   "id": "5191b6c38552d96"
  },
  {
   "metadata": {},
   "cell_type": "markdown",
   "source": [
    "### 모델 고도화\n",
    "1) 프롬프트 엔지니어링 (명확한 조건 명시)"
   ],
   "id": "1cd271e49c879e54"
  },
  {
   "metadata": {
    "ExecuteTime": {
     "end_time": "2024-07-09T18:14:57.586873Z",
     "start_time": "2024-07-09T18:12:58.101724Z"
    }
   },
   "cell_type": "code",
   "source": [
    "prompt = \"\"\"\n",
    "당신은 요약 전문가입니다. 사용자 숙소 리뷰들이 주어졌을 때 요약하는 것이 당신의 목표입니다.\n",
    "요약 결과는 다음 조건들을 충족해야 합니다.\n",
    "1. 모든 문장은 항상 존댓말로 끝나야 합니다.\n",
    "2. 숙소에 대해 소개하는 톤앤매너로 작성해주세요.\n",
    " 2-1. 좋은 리뷰 요약 예시\n",
    "  a) 전반적으로 좋은 숙소였고, 방금도 괜찮았다는 평입니디.\n",
    "  b) 재방문 예정이라는 평들이 존재합니다.\n",
    " 2-2. 나쁜 리뷰 요약 예시\n",
    "  a) 좋은 숙소였고 방금도 괜찮음\n",
    "  b) 재방문 예정\n",
    "3. 요약 결과는 최소 2문장, 최대 5문장 사이로 작성하세요.\n",
    "\n",
    "아래 숙소 리뷰들에 대해 요약하세요 :\n",
    "\"\"\"\n",
    "eval_cnt = 10\n",
    "# 변경한 프롬프트를 넣어 gpt-3.5 모델로 10번 요약 실행\n",
    "summaries_opt1 = [summarize(reviews, prompt, temperature = 0.8).choices[0].message.content for _ in range(eval_cnt)]\n",
    "\n",
    "wins, losses, ties = pairwise_eval_batch(reviews, summaries_opt1, [summary_gpt4_turbo for _ in range(len(summaries_opt1))])\n",
    "print(f\"Wins : {wins}, Losses : {losses}, Ties : {ties}\")"
   ],
   "id": "c9ce64be593d9084",
   "outputs": [
    {
     "name": "stderr",
     "output_type": "stream",
     "text": [
      "100%|██████████| 10/10 [01:11<00:00,  7.13s/it]"
     ]
    },
    {
     "name": "stdout",
     "output_type": "stream",
     "text": [
      "Wins : 5, Losses : 5, Ties : 0\n"
     ]
    },
    {
     "name": "stderr",
     "output_type": "stream",
     "text": [
      "\n"
     ]
    }
   ],
   "execution_count": 40
  },
  {
   "metadata": {},
   "cell_type": "markdown",
   "source": "- 특정 case에 대해서는 프롬프트를 수정한 gpt-3.5-turbo 모델이 이긴 것을 확인할 수 있음 (약간의 성능 향상)",
   "id": "d49ae0c5d86b9929"
  },
  {
   "metadata": {},
   "cell_type": "markdown",
   "source": [
    "2) 입력 데이터의 품질 향상\n",
    "- 실제 숙소에 대한 정보가 포함되지 않는 단순하고 짧은 리뷰들은 필터링 (ex. 좋았어요, 굿굿굿 등)"
   ],
   "id": "d02ec6415202c02b"
  },
  {
   "metadata": {
    "ExecuteTime": {
     "end_time": "2024-07-09T18:17:51.485136Z",
     "start_time": "2024-07-09T18:17:51.462952Z"
    }
   },
   "cell_type": "code",
   "source": [
    "# 위의 전처리 함수를 가져와 일부 수정\n",
    "def preprocess_reviews(path = \"../data/ya_review_sinla.json\") :\n",
    "    with open(path, \"r\", encoding = \"utf-8\") as f :\n",
    "        review_list = json.load(f)\n",
    "        \n",
    "    review_high, review_low = [], []\n",
    "    current_date = datetime.datetime.now()\n",
    "    date_boundary = current_date - datetime.timedelta(days = 6 * 30) # 6개월 전\n",
    "    \n",
    "    filtered_cnt = 0 # 일정 길이보다 짧아 필터링 된 리뷰의 개수\n",
    "    \n",
    "    for i in review_list :\n",
    "        review_date_str = i[\"date\"]\n",
    "        try :\n",
    "            review_date = parser.parse(review_date_str)\n",
    "        except (ValueError, TypeError) :\n",
    "            review_date = current_date\n",
    "            \n",
    "        if review_date < date_boundary :\n",
    "            continue\n",
    "\n",
    "        # 리뷰의 길이가 20자 미만이면 다음 for문 실행\n",
    "        if len(i[\"review\"]) < 20 :\n",
    "            filtered_cnt += 1\n",
    "            continue\n",
    "            \n",
    "        if i[\"stars\"] == 5 :\n",
    "            review_high.append(\"[REVIEW_START]\" + i[\"review\"] + \"[REVIEW_END]\")\n",
    "        else :\n",
    "            review_low.append(\"[REVIEW_START]\" + i[\"review\"] + \"[REVIEW_END]\")\n",
    "\n",
    "    # min 함수를 활용하여 20자 이상인 리뷰들의 개수가 50개보다 적다면 리뷰의 갯수 만큼만 사용하고,\n",
    "    # 50개 보다 더 많더라도 50개 까지로 제한(gpt3.5의 경우 토큰 수 제한으로 입력이 너무 길면 에러 발생)\n",
    "    review_high = review_high[:min(len(review_high), 50)]\n",
    "    review_low = review_low[:min(len(review_low), 50)]\n",
    "\n",
    "    print(\"20자 미만 리뷰 개수 : \", filtered_cnt) # 20자 미만으로 필터링 된 리뷰 갯수\n",
    "    print(\"필터링 된 높은 평점 개수 : \", len(review_high))\n",
    "    \n",
    "    review_high_txt = \"\\n\".join(review_high)\n",
    "    review_low_txt = \"\\n\".join(review_low)\n",
    "    \n",
    "    return review_high_txt, review_low_txt"
   ],
   "id": "16ddaa0761a45130",
   "outputs": [],
   "execution_count": 41
  },
  {
   "metadata": {
    "ExecuteTime": {
     "end_time": "2024-07-09T18:20:32.915527Z",
     "start_time": "2024-07-09T18:18:38.006516Z"
    }
   },
   "cell_type": "code",
   "source": [
    "# 변경 된 전처리 함수 적용\n",
    "reviews, _ = preprocess_reviews(\"../data/ya_review_sinla.json\")\n",
    "eval_cnt = 10\n",
    "\n",
    "# 요약\n",
    "summaries_opti2 = [summarize(reviews, prompt, temperature = 0.8).choices[0].message.content for _ in range(eval_cnt)]\n",
    "\n",
    "# 평가\n",
    "wins, losses, ties = pairwise_eval_batch(reviews, summaries_opti2, [summary_gpt4_turbo for _ in range(len(summaries_opti2))])\n",
    "print(f\"Wins : {wins}, Losses : {losses}, Ties : {ties}\")"
   ],
   "id": "ee25cf2253eac70e",
   "outputs": [
    {
     "name": "stdout",
     "output_type": "stream",
     "text": [
      "20자 미만 리뷰 개수 :  83\n",
      "필터링 된 높은 평점 개수 :  50\n"
     ]
    },
    {
     "name": "stderr",
     "output_type": "stream",
     "text": [
      "100%|██████████| 10/10 [01:03<00:00,  6.37s/it]"
     ]
    },
    {
     "name": "stdout",
     "output_type": "stream",
     "text": [
      "Wins : 9, Losses : 1, Ties : 0\n"
     ]
    },
    {
     "name": "stderr",
     "output_type": "stream",
     "text": [
      "\n"
     ]
    }
   ],
   "execution_count": 42
  },
  {
   "metadata": {},
   "cell_type": "markdown",
   "source": [
    "- 입력 리뷰 중에서 요약에 크게 도움이 되지 않는 데이터를 줄여주는 것만으로도 큰 성능 향상을 볼 수 있음\n",
    "- 다만 그만큼 입력된 데이터의 수가 적어졌기 때문에 범용적으로 좋은 요약 모델이라고 섣부르게 판단 금지 (더 다양하고 많은 양의 데이터로 테스트 필요)"
   ],
   "id": "8f7f4ec354c64963"
  },
  {
   "metadata": {},
   "cell_type": "markdown",
   "source": [
    "3) Few-Shot learning\n",
    "- 기존 gpt-3.5-turbo 모델을 활용한 요약의 성능을 추가로 올리기 위해 Few-Shot을 적용\n",
    "- Few-Shot은 요청-응답 쌍의 예시를 들어줘야 하는데, 새로운 숙소 리뷰와 그 요약을 예시로 사용"
   ],
   "id": "a71ac3f7386281c4"
  },
  {
   "metadata": {
    "ExecuteTime": {
     "end_time": "2024-07-09T18:22:13.918686Z",
     "start_time": "2024-07-09T18:22:10.984865Z"
    }
   },
   "cell_type": "code",
   "source": [
    "# 요약 예시문을 위해 글래드 강남 코엑스 센터 호텔의 리뷰를 불러와 전처리 진행\n",
    "reviews_1shot, _ = preprocess_reviews(\"../data/ya_review_glad.json\")\n",
    "\n",
    "# 요약 예시를 생성하기 위해 좀 더 좋은 모델을 사용하고, 출력도 일관되게 temperature를 0으로 지정\n",
    "summary_1shot = summarize(reviews_1shot, prompt, temperature = 0, model = \"gpt-4o\").choices[0].message.content\n",
    "summary_1shot"
   ],
   "id": "ebe36cbf89d98e97",
   "outputs": [
    {
     "name": "stdout",
     "output_type": "stream",
     "text": [
      "20자 미만 리뷰 개수 :  117\n",
      "필터링 된 높은 평점 개수 :  50\n"
     ]
    },
    {
     "data": {
      "text/plain": [
       "'글래드 삼성점은 삼성역 바로 앞에 위치해 있어 접근성이 매우 좋다는 평이 많습니다. 객실은 깔끔하고 청결하며, 직원들의 친절한 서비스가 돋보입니다. 셀프 체크인 시스템과 다양한 편의시설이 잘 갖추어져 있어 편리하게 이용할 수 있습니다. 조식도 맛있고 알찬 구성으로 제공되며, 넷플릭스와 같은 OTT 서비스도 이용 가능합니다. 다만, 일부 고객들은 공사 소음과 주차 비용에 대해 아쉬움을 표했습니다.'"
      ]
     },
     "execution_count": 43,
     "metadata": {},
     "output_type": "execute_result"
    }
   ],
   "execution_count": 43
  },
  {
   "metadata": {
    "ExecuteTime": {
     "end_time": "2024-07-09T18:25:25.128429Z",
     "start_time": "2024-07-09T18:23:44.081522Z"
    }
   },
   "cell_type": "code",
   "source": [
    "prompt_1shot = f\"\"\"\n",
    "당신은 요약 전문가입니다. 사용자 숙소 리뷰들이 주어졌을 때 요약하는 것이 당신의 목표입니다.\n",
    "요약 결과는 다음 조건들을 충족해야 합니다.\n",
    "1. 모든 문장은 항상 존댓말로 끝나야 합니다.\n",
    "2. 숙소에 대해 소개하는 톤앤매너로 작성해주세요.\n",
    " 2-1. 좋은 리뷰 요약 예시\n",
    "  a) 전반적으로 좋은 숙소였고, 방금도 괜찮았다는 평입니디.\n",
    "  b) 재방문 예정이라는 평들이 존재합니다.\n",
    " 2-2. 나쁜 리뷰 요약 예시\n",
    "  a) 좋은 숙소였고 방금도 괜찮음\n",
    "  b) 재방문 예정\n",
    "3. 요약 결과는 최소 2문장, 최대 5문장 사이로 작성하세요.\n",
    "\n",
    "다음은 리뷰들과 요약 예시입니다.\n",
    "\n",
    "예시 리뷰들 :\n",
    "{reviews_1shot}\n",
    "예시 요약 결과 :\n",
    "{summary_1shot}\n",
    "\n",
    "아래 숙소 리뷰들에 대해 요약하세요 :\n",
    "\"\"\"\n",
    "\n",
    "# 요약\n",
    "eval_cnt = 10\n",
    "\n",
    "# gpt-3.5의 성능 고도화\n",
    "# 4o는 3.5 모델의 성능을 높이기 위한 few-shot의 예시를 생성하기 위해 활용\n",
    "summaries_opti3 = [summarize(reviews, prompt_1shot, temperature = 0.8).choices[0].message.content for _ in range(eval_cnt)]\n",
    "\n",
    "# 평가\n",
    "wins, losses, ties = pairwise_eval_batch(reviews, summaries_opti3, [summary_gpt4_turbo for _ in range(len(summaries_opti3))])\n",
    "print(f\"Wins : {wins}, Losses : {losses}, Ties : {ties}\")"
   ],
   "id": "18b2c5287c3cebea",
   "outputs": [
    {
     "name": "stderr",
     "output_type": "stream",
     "text": [
      "100%|██████████| 10/10 [01:04<00:00,  6.46s/it]"
     ]
    },
    {
     "name": "stdout",
     "output_type": "stream",
     "text": [
      "Wins : 2, Losses : 8, Ties : 0\n"
     ]
    },
    {
     "name": "stderr",
     "output_type": "stream",
     "text": [
      "\n"
     ]
    }
   ],
   "execution_count": 44
  },
  {
   "metadata": {},
   "cell_type": "markdown",
   "source": [
    "- one-shot prompting 후에 결과가 다시 안좋아짐\n",
    "- 즉, 첫 번째 고도화 작업에서의 prompt 조건 설정과 고도화 작업에서의 one-shot을 같이 적용했다고 무조건 결과가 더 좋아지지 않을 수 있음 (프롬프트 조건들과 few-shot의 예시가 잘 안 맞거나 너무 복잡하여 난해한 경우)\n",
    "- 결론은 프롬프트 엔지니어링은 테스트의 영역"
   ],
   "id": "ec6f7bdb67fe7470"
  },
  {
   "metadata": {},
   "cell_type": "markdown",
   "source": "#### 조건 부분을 빼고 one-shot을 진행",
   "id": "b3b5bde382795024"
  },
  {
   "metadata": {
    "ExecuteTime": {
     "end_time": "2024-07-09T18:27:30.784564Z",
     "start_time": "2024-07-09T18:25:57.386884Z"
    }
   },
   "cell_type": "code",
   "source": [
    "prompt_1shot_v2 = f\"\"\"\n",
    "당신은 요약 전문가입니다. 사용자 숙소 리뷰들이 주어졌을 때 요약하는 것이 당신의 목표입니다.\n",
    "다음은 당신이 참고할 예시 리뷰들과 그에 대한 요약 결과 예시입니다.\n",
    "리뷰들과 요약 예시입니다.\n",
    "\n",
    "예시 리뷰들 :\n",
    "{reviews_1shot}\n",
    "예시 요약 결과 :\n",
    "{summary_1shot}\n",
    "\n",
    "아래 숙소 리뷰들에 대해 제대로 요약하세요 :\n",
    "\"\"\"\n",
    "\n",
    "# 요약\n",
    "eval_cnt = 10\n",
    "\n",
    "# gpt-3.5의 성능 고도화\n",
    "# 4o는 3.5 모델의 성능을 높이기 위한 few-shot의 예시를 생성하기 위해 활용\n",
    "summaries_opti4 = [summarize(reviews, prompt_1shot_v2, temperature = 0.8).choices[0].message.content for _ in range(eval_cnt)]\n",
    "\n",
    "# 평가\n",
    "wins, losses, ties = pairwise_eval_batch(reviews, summaries_opti4, [summary_gpt4_turbo for _ in range(len(summaries_opti4))])\n",
    "print(f\"Wins : {wins}, Losses : {losses}, Ties : {ties}\")"
   ],
   "id": "a34f2c44c2af4455",
   "outputs": [
    {
     "name": "stderr",
     "output_type": "stream",
     "text": [
      "100%|██████████| 10/10 [00:56<00:00,  5.68s/it]"
     ]
    },
    {
     "name": "stdout",
     "output_type": "stream",
     "text": [
      "Wins : 2, Losses : 8, Ties : 0\n"
     ]
    },
    {
     "name": "stderr",
     "output_type": "stream",
     "text": [
      "\n"
     ]
    }
   ],
   "execution_count": 45
  },
  {
   "metadata": {},
   "cell_type": "markdown",
   "source": "- two-shot prompting으로 예시를 더 많이 입력",
   "id": "b806811d1163189f"
  },
  {
   "metadata": {
    "ExecuteTime": {
     "end_time": "2024-07-09T18:27:33.828617Z",
     "start_time": "2024-07-09T18:27:30.784564Z"
    }
   },
   "cell_type": "code",
   "source": [
    "# two-shot 예시로 사용하기 위해 글래드 강남 코엑스 센터 호텔 리뷰 (reviews_1shot)들로 요약\n",
    "# 요약문 작성 시, 조건을 빼고 one-shot으로 작성한 prompt_1shot_v2를 입력해 요약 진행\n",
    "summary_1shot_v2 = summarize(reviews_1shot, prompt_1shot_v2, temperature = 0, model = \"gpt-4o\").choices[0].message.content\n",
    "summary_1shot_v2"
   ],
   "id": "bc9b9964abd08518",
   "outputs": [
    {
     "data": {
      "text/plain": [
       "'글래드 삼성점은 삼성역 바로 앞에 위치해 있어 접근성이 매우 좋다는 평이 많습니다. 객실은 깔끔하고 청결하며, 직원들의 친절한 서비스가 돋보입니다. 셀프 체크인 시스템과 다양한 편의시설이 잘 갖추어져 있어 편리하게 이용할 수 있습니다. 조식도 맛있고 알찬 구성으로 제공되며, 넷플릭스와 같은 OTT 서비스도 이용 가능합니다. 다만, 일부 고객들은 공사 소음과 주차 비용에 대해 아쉬움을 표했습니다. 침구의 편안함과 호텔의 청결함이 특히 많은 호평을 받았습니다.'"
      ]
     },
     "execution_count": 46,
     "metadata": {},
     "output_type": "execute_result"
    }
   ],
   "execution_count": 46
  },
  {
   "metadata": {
    "ExecuteTime": {
     "end_time": "2024-07-09T18:27:46.706526Z",
     "start_time": "2024-07-09T18:27:43.743167Z"
    }
   },
   "cell_type": "code",
   "source": [
    "# 호텔 인 나인 강남 리뷰 전처리 및 요약\n",
    "reviews_2shot, _ = preprocess_reviews(\"../data/ya_review_in9.json\")\n",
    "summary_2shot = summarize(reviews_2shot, prompt_1shot_v2, temperature = 0, model = \"gpt-4o\").choices[0].message.content\n",
    "summary_2shot"
   ],
   "id": "a2a57d99e3900ae9",
   "outputs": [
    {
     "name": "stdout",
     "output_type": "stream",
     "text": [
      "20자 미만 리뷰 개수 :  58\n",
      "필터링 된 높은 평점 개수 :  27\n"
     ]
    },
    {
     "data": {
      "text/plain": [
       "'이 호텔은 삼성역과 코엑스 근처에 위치해 있어 접근성이 매우 좋다는 평이 많습니다. 객실은 깔끔하고 청결하며, 침대가 특히 편안하다는 리뷰가 많습니다. 직원들의 친절한 서비스도 돋보입니다. 다만, 일부 고객들은 도로 소음, 화장실 하수구 냄새, 와이파이 약함, 방의 추위 등 몇 가지 불편함을 언급했습니다. 넷플릭스와 같은 OTT 서비스가 일부 객실에서만 가능하다는 점도 아쉬움으로 지적되었습니다. 전반적으로 가격 대비 만족도가 높고, 워케이션 장소로도 추천할 만한 호텔입니다.'"
      ]
     },
     "execution_count": 47,
     "metadata": {},
     "output_type": "execute_result"
    }
   ],
   "execution_count": 47
  },
  {
   "metadata": {
    "ExecuteTime": {
     "end_time": "2024-07-09T18:30:32.544613Z",
     "start_time": "2024-07-09T18:28:50.171113Z"
    }
   },
   "cell_type": "code",
   "source": [
    "prompt_2shot = f\"\"\"\n",
    "당신은 요약 전문가입니다. 사용자 숙소 리뷰들이 주어졌을 때 요약하는 것이 당신의 목표입니다.\n",
    "다음은 당신이 참고할 예시 리뷰들과 그에 대한 요약 결과 예시입니다.\n",
    "리뷰들과 요약 예시입니다.\n",
    "\n",
    "예시 리뷰들 1 :\n",
    "{reviews_1shot}\n",
    "예시 요약 결과 1 :\n",
    "{summary_1shot_v2}\n",
    "\n",
    "예시 리뷰들 2 :\n",
    "{reviews_2shot}\n",
    "예시 요약 결과 2 :\n",
    "{summary_2shot}\n",
    "\n",
    "아래 숙소 리뷰들에 대해 제대로 요약하세요 :\n",
    "\"\"\"\n",
    "\n",
    "# 요약\n",
    "eval_cnt = 10\n",
    "\n",
    "# gpt-3.5의 성능 고도화\n",
    "# 4o는 3.5 모델의 성능을 높이기 위한 few-shot의 예시를 생성하기 위해 활용\n",
    "summaries_opti5 = [summarize(reviews, prompt_2shot, temperature = 0.8).choices[0].message.content for _ in range(eval_cnt)]\n",
    "\n",
    "# 평가\n",
    "wins, losses, ties = pairwise_eval_batch(reviews, summaries_opti5, [summary_gpt4_turbo for _ in range(len(summaries_opti5))])\n",
    "print(f\"Wins : {wins}, Losses : {losses}, Ties : {ties}\")"
   ],
   "id": "8683e1074e32c63f",
   "outputs": [
    {
     "name": "stderr",
     "output_type": "stream",
     "text": [
      "100%|██████████| 10/10 [00:55<00:00,  5.59s/it]"
     ]
    },
    {
     "name": "stdout",
     "output_type": "stream",
     "text": [
      "Wins : 9, Losses : 1, Ties : 0\n"
     ]
    },
    {
     "name": "stderr",
     "output_type": "stream",
     "text": [
      "\n"
     ]
    }
   ],
   "execution_count": 48
  },
  {
   "metadata": {
    "ExecuteTime": {
     "end_time": "2024-07-09T18:30:32.555894Z",
     "start_time": "2024-07-09T18:30:32.544613Z"
    }
   },
   "cell_type": "code",
   "source": "summaries_opti5",
   "id": "ddb0010428e72ef",
   "outputs": [
    {
     "data": {
      "text/plain": [
       "['신라스테이는 깨끔하고 친절한 서비스로 고객들로부터 호평을 받고 있습니다. 객실은 깔끔하고 청결하며, 조식이 맛있는 것으로 유명합니다. 다만, 몇몇 고객들은 도로 소음이나 난방 온도 등 몇 가지 불편함을 언급했습니다. 전반적으로는 만족스러운 숙박을 경험할 수 있는 곳으로 평가받고 있습니다.',\n",
       " '숙소 리뷰들을 요약해보면, 대부분의 고객들이 깔끔하고 친절한 서비스, 좋은 위치, 편안한 침대, 그리고 만족스러운 조식을 강조하고 있습니다. 그러나 몇몇 고객들은 도로 소음이나 화장실 냄새 등의 불편함을 언급하기도 했습니다. 또한 넷플릭스와 같은 OTT 서비스가 모든 객실에서 이용 가능하지 않다는 점이 아쉬움으로 지적되기도 했습니다. 전반적으로는 가격 대비 만족도가 높고, 깔끔하고 편안한 숙소로 손꼽히는 평가를 받고 있습니다.',\n",
       " '위 숙소 리뷰들을 종합하면, 대부분의 고객들이 호텔의 깔끔한 객실과 친절한 직원 서비스에 만족하고 있습니다. 쾌적한 환경과 편리한 위치로 호텔을 추천하는 의견이 많이 나왔습니다. 다만, 도로 소음이나 화장실의 냄새 등 몇 가지 불편한 점을 언급한 리뷰도 있었습니다. 조식의 맛과 다양한 편의시설에 대한 호평도 많이 보였습니다. 종합적으로는 대체로 만족한 고객들이 많았으며, 일부 개선이 필요한 부분들도 언급되었습니다.',\n",
       " '숙소 리뷰들의 요약 결과는 다음과 같습니다:\\n신라스테이 역삼점은 깔끔하고 친절한 서비스로 만족도가 높다는 평이 많습니다. 객실은 청결하고 편안하며, 조식도 맛있고 편의시설이 잘 갖춰져 있어 편리하다는 의견이 많이 있습니다. 다만, 도로 소음이나 화장실 냄새 등 몇 가지 불편함을 언급하는 리뷰도 있습니다. 주차 공간이 넓고 가격도 합리적이라는 긍정적인 의견도 있지만, 가격 대비 아쉬움을 표현하는 리뷰도 있습니다.전반적으로는 깔끔하고 편리한 숙박을 원하는 분들에게 추천되는 숙소로 보입니다.',\n",
       " '신라스테이의 리뷰들을 요약하면, 대부분의 고객들이 청결한 객실과 친절한 직원 서비스를 칭찬했습니다. 위치가 좋고 조식이 맛있는 것으로 평가되었으며, 주차 편의성도 언급되었습니다. 그러나 몇몇 리뷰에서는 도로 소음이나 화장실에서의 냄새 등 일부 불편함을 언급했습니다. 전반적으로 만족도가 높은 호텔로 평가되었습니다.',\n",
       " '이 호텔은 깔끔하고 친절한 직원들이 돋보이며, 객실은 청결하고 편안한 분위기를 제공합니다. 위치가 교통편리하고 주변에 편의시설과 맛집이 많아 편리하게 이용할 수 있습니다. 조식은 맛있고 만족스럽다는 평이 많습니다. 다만, 도로 소음이나 화장실에서의 냄새 등 몇 가지 불편함을 언급한 리뷰도 있습니다. 전체적으로 만족도가 높은 호텔로 평가됩니다.',\n",
       " '신라스테이 역삼점은 깔끔하고 친절한 직원들과 편리한 교통편으로 인해 많은 고객들로부터 좋은 평가를 받고 있습니다. 다만, 도로 소음이나 화장실에서의 냄새 등 몇 가지 불편한 점이 지적되었습니다. 조식은 맛있다는 평이 많았고, 일부 객실에서는 넷플릭스 등의 OTT 서비스 이용이 가능하다고 하지만 다른 객실에서는 추가 비용이 발생한다는 점이 아쉬운 부분으로 언급되었습니다. 전반적으로는 가격 대비 만족도가 높은 호텔로 평가되었습니다.',\n",
       " '신라스테이 역삼점은 가격 대비 만족스러운 숙소로 평가받았습니다. 객실은 깨끔하고 친절한 직원들이 인상적이었으며, 조식도 맛있는 편입니다. 주차가 기계식으로 편리하고 주변에 편의시설이 많아서 편리한 위치에 있습니다. 다만 일부 소음이나 난방 문제, 방음이슈 등의 불편함이 언급되었으며, 화장실과 침대 등 청결에 대한 요구도 있었습니다. 전반적으로 만족도가 높지만 몇 가지 개선이 필요하다는 의견이 있었습니다.',\n",
       " '종합해보면, 신라스테이는 깔끔하고 친절한 서비스로 고객들에게 만족을 준다는 평가가 많이 보입니다. 위치가 편리하고 주변에 맛집과 편의시설이 많아서 머무르기에 좋다는 의견도 있습니다. 그러나 도로 소음이나 화장실에서 냄새 등 몇 가지 불편한 점을 지적하는 리뷰도 있었습니다. 전반적으로는 깔끔하고 쾌적한 환경에서 편안하게 머무를 수 있는 숙박 시설이라는 인상을 받았습니다.',\n",
       " '쾌적하고 깔끔한 신라스테이 역삼점은 교통 접근성이 우수하고 직원들의 친절한 서비스가 인상적입니다. 조식도 맛있고 객실은 깨끗하며, 일부 고객들은 조용하고 편안하게 머물기에 적합하다고 언급했습니다. 다만, 난방 온도가 낮게 설정되어 있거나 방음이 부족한 부분, 방의 크기 등에 대한 일부 불만이 있었습니다. 그러나 전반적으로 만족도가 높은 호텔로 평가되었습니다.']"
      ]
     },
     "execution_count": 49,
     "metadata": {},
     "output_type": "execute_result"
    }
   ],
   "execution_count": 49
  }
 ],
 "metadata": {
  "kernelspec": {
   "display_name": "Python 3",
   "language": "python",
   "name": "python3"
  },
  "language_info": {
   "codemirror_mode": {
    "name": "ipython",
    "version": 2
   },
   "file_extension": ".py",
   "mimetype": "text/x-python",
   "name": "python",
   "nbconvert_exporter": "python",
   "pygments_lexer": "ipython2",
   "version": "2.7.6"
  }
 },
 "nbformat": 4,
 "nbformat_minor": 5
}
