{
 "cells": [
  {
   "metadata": {},
   "cell_type": "markdown",
   "source": "### OpenAI에서 지원하는 GPT API 사용",
   "id": "7f4768d719a4a2fc"
  },
  {
   "metadata": {
    "ExecuteTime": {
     "end_time": "2024-07-09T13:05:27.921039Z",
     "start_time": "2024-07-09T13:05:26.301631Z"
    }
   },
   "cell_type": "code",
   "source": [
    "from openai import OpenAI\n",
    "from getpass import getpass # 보안 정보를 입력할 때 이를 화면에 노출하지 않도록 하는 모듈"
   ],
   "id": "238926614cf2357",
   "outputs": [],
   "execution_count": 1
  },
  {
   "metadata": {
    "ExecuteTime": {
     "end_time": "2024-07-09T13:05:30.368335Z",
     "start_time": "2024-07-09T13:05:27.921039Z"
    }
   },
   "cell_type": "code",
   "source": "MY_API_KEY = getpass(\"OpenAI API Key >> \")",
   "id": "7b0a655798cf5c36",
   "outputs": [],
   "execution_count": 2
  },
  {
   "metadata": {
    "ExecuteTime": {
     "end_time": "2024-07-09T13:05:31.345467Z",
     "start_time": "2024-07-09T13:05:30.368335Z"
    }
   },
   "cell_type": "code",
   "source": "client = OpenAI(api_key = MY_API_KEY)",
   "id": "cbb1b29deb24b0be",
   "outputs": [],
   "execution_count": 3
  },
  {
   "metadata": {},
   "cell_type": "markdown",
   "source": "#### GPT 모델을 불러와서 일반적인 질의하기",
   "id": "c8373ab6dd83bb9c"
  },
  {
   "metadata": {
    "ExecuteTime": {
     "end_time": "2024-07-09T13:12:59.139879Z",
     "start_time": "2024-07-09T13:12:56.377165Z"
    }
   },
   "cell_type": "code",
   "source": [
    "question = \"안녕? 오늘은 피크닉 가기엔 최악인 비 내리는 날씨네\"\n",
    "\n",
    "'''\n",
    "client.chat.completions.create() : OpenAI의 ChatAPI를 생성해 주는 함수\n",
    "messages : 질의에 대한 정보를 설정 (role = 역할, content = 질의 내용)\n",
    "role : \"system\", \"user\", \"assistant\" 중 하나로 지정 가능\n",
    "max_tokens : 모델이 처리할 수 있는 최대 토큰 수 (최대 출력 토큰)\n",
    "temperature : 응답의 일관성 및 창의성 정도를 조정하는 인자, 0 -> 모델이 같다면 항상 일관된 대답, 2 -> 매우 창의적\n",
    "'''\n",
    "res = client.chat.completions.create(\n",
    "    model = \"gpt-3.5-turbo\",\n",
    "    messages = [{\"role\" : \"user\", \"content\" : question}],\n",
    "    max_tokens = 150,\n",
    "    temperature = 0\n",
    ")"
   ],
   "id": "444453d046bb849b",
   "outputs": [],
   "execution_count": 4
  },
  {
   "metadata": {
    "ExecuteTime": {
     "end_time": "2024-07-09T13:12:59.157387Z",
     "start_time": "2024-07-09T13:12:59.139879Z"
    }
   },
   "cell_type": "code",
   "source": [
    "'''\n",
    "ChatCompletion : 객체에는 사용자의 요청에 대한 모델의 응답 정보들이 담겨 있음\n",
    "completion_tokens : 출력된 토큰 수 (응답)\n",
    "prompt_tokens : 입력된 토큰 수 (질문)\n",
    "'''\n",
    "res"
   ],
   "id": "8c687938878cd22",
   "outputs": [
    {
     "data": {
      "text/plain": [
       "ChatCompletion(id='chatcmpl-9j4wKBYF5X4acW7Ah7mhDorN8wN58', choices=[Choice(finish_reason='stop', index=0, logprobs=None, message=ChatCompletionMessage(content='안녕하세요! 그런 날씨라면 피크닉은 취소하고 실내에서 영화를 보거나 따뜻한 차를 마시며 쉬는 것도 좋을 것 같아요. 햇빛이 비추는 날씨에는 다시 피크닉을 즐기시면 될 것 같아요. 좋은 하루 보내세요!', role='assistant', function_call=None, tool_calls=None))], created=1720530776, model='gpt-3.5-turbo-0125', object='chat.completion', service_tier=None, system_fingerprint=None, usage=CompletionUsage(completion_tokens=116, prompt_tokens=41, total_tokens=157))"
      ]
     },
     "execution_count": 5,
     "metadata": {},
     "output_type": "execute_result"
    }
   ],
   "execution_count": 5
  },
  {
   "metadata": {
    "ExecuteTime": {
     "end_time": "2024-07-09T13:15:37.211262Z",
     "start_time": "2024-07-09T13:15:37.201504Z"
    }
   },
   "cell_type": "code",
   "source": "type(res)",
   "id": "3197cd8b9af3f50b",
   "outputs": [
    {
     "data": {
      "text/plain": [
       "openai.types.chat.chat_completion.ChatCompletion"
      ]
     },
     "execution_count": 6,
     "metadata": {},
     "output_type": "execute_result"
    }
   ],
   "execution_count": 6
  },
  {
   "metadata": {
    "ExecuteTime": {
     "end_time": "2024-07-09T13:16:21.870948Z",
     "start_time": "2024-07-09T13:16:21.850986Z"
    }
   },
   "cell_type": "code",
   "source": "res.choices[0].message.content",
   "id": "2ac4523d8b510040",
   "outputs": [
    {
     "data": {
      "text/plain": [
       "'안녕하세요! 그런 날씨라면 피크닉은 취소하고 실내에서 영화를 보거나 따뜻한 차를 마시며 쉬는 것도 좋을 것 같아요. 햇빛이 비추는 날씨에는 다시 피크닉을 즐기시면 될 것 같아요. 좋은 하루 보내세요!'"
      ]
     },
     "execution_count": 7,
     "metadata": {},
     "output_type": "execute_result"
    }
   ],
   "execution_count": 7
  },
  {
   "metadata": {},
   "cell_type": "markdown",
   "source": [
    "#### 자주 발생하는 코드 에러\n",
    "- RateLimitError : API 사용 한도 초과\n",
    "- InvalidRequestError : 잘못된 요청\n",
    "- APIConnectionError : API 서버와의 연결 문제\n",
    "- OpenAIError : 기타 일반 라이브러리 오류"
   ],
   "id": "7c4574f2978f0594"
  },
  {
   "metadata": {},
   "cell_type": "markdown",
   "source": "#### 프로그래밍 기술적인 내용 질의",
   "id": "3270d5e4a30c529f"
  },
  {
   "metadata": {
    "ExecuteTime": {
     "end_time": "2024-07-09T13:20:17.908205Z",
     "start_time": "2024-07-09T13:20:14.497742Z"
    }
   },
   "cell_type": "code",
   "source": [
    "question = \"Pandas DataFrame에서 중복 항목을 제거하는 방법은?\"\n",
    "\n",
    "res = client.chat.completions.create(\n",
    "    model = \"gpt-3.5-turbo\",\n",
    "    messages = [{\"role\" : \"user\", \"content\" : question}],\n",
    "    temperature = 0\n",
    ")\n",
    "res.choices[0].message.content"
   ],
   "id": "c7f61a440a976875",
   "outputs": [
    {
     "data": {
      "text/plain": [
       "\"Pandas DataFrame에서 중복 항목을 제거하는 방법은 `drop_duplicates()` 함수를 사용하는 것입니다. 이 함수는 DataFrame에서 중복된 행을 제거하고 유일한 값만을 남기는 역할을 합니다.\\n\\n예를들어, 다음은 DataFrame에서 중복 항목을 제거하는 예제 코드입니다.\\n\\n```python\\nimport pandas as pd\\n\\n# 샘플 DataFrame 생성\\ndata = {'A': [1, 2, 2, 3, 4],\\n        'B': ['a', 'b', 'b', 'c', 'd']}\\ndf = pd.DataFrame(data)\\n\\n# 중복 항목 제거\\ndf = df.drop_duplicates()\\n\\nprint(df)\\n```\\n\\n위 코드를 실행하면, 중복된 행이 제거된 DataFrame이 출력됩니다.\""
      ]
     },
     "execution_count": 8,
     "metadata": {},
     "output_type": "execute_result"
    }
   ],
   "execution_count": 8
  },
  {
   "metadata": {
    "ExecuteTime": {
     "end_time": "2024-07-09T13:20:25.241205Z",
     "start_time": "2024-07-09T13:20:25.224799Z"
    }
   },
   "cell_type": "code",
   "source": "print(res.choices[0].message.content)",
   "id": "7a3c3a14f9c1f7bf",
   "outputs": [
    {
     "name": "stdout",
     "output_type": "stream",
     "text": [
      "Pandas DataFrame에서 중복 항목을 제거하는 방법은 `drop_duplicates()` 함수를 사용하는 것입니다. 이 함수는 DataFrame에서 중복된 행을 제거하고 유일한 값만을 남기는 역할을 합니다.\n",
      "\n",
      "예를들어, 다음은 DataFrame에서 중복 항목을 제거하는 예제 코드입니다.\n",
      "\n",
      "```python\n",
      "import pandas as pd\n",
      "\n",
      "# 샘플 DataFrame 생성\n",
      "data = {'A': [1, 2, 2, 3, 4],\n",
      "        'B': ['a', 'b', 'b', 'c', 'd']}\n",
      "df = pd.DataFrame(data)\n",
      "\n",
      "# 중복 항목 제거\n",
      "df = df.drop_duplicates()\n",
      "\n",
      "print(df)\n",
      "```\n",
      "\n",
      "위 코드를 실행하면, 중복된 행이 제거된 DataFrame이 출력됩니다.\n"
     ]
    }
   ],
   "execution_count": 9
  },
  {
   "metadata": {},
   "cell_type": "markdown",
   "source": "#### 데이터 시각화 질의",
   "id": "332ba41fde3ae777"
  },
  {
   "metadata": {
    "ExecuteTime": {
     "end_time": "2024-07-09T13:23:44.406004Z",
     "start_time": "2024-07-09T13:23:42.273911Z"
    }
   },
   "cell_type": "code",
   "source": [
    "question = \"지난 1년 간의 판매 데이터를 시각화하기 위한 막대 차트를 생성해줘\"\n",
    "res = client.chat.completions.create(\n",
    "    model = \"gpt-3.5-turbo\",\n",
    "    messages = [{\"role\" : \"user\", \"content\" : question}],\n",
    "    max_tokens = 150,\n",
    "    temperature = 0\n",
    ")\n",
    "res.choices[0].message.content"
   ],
   "id": "cb07f93384cec46c",
   "outputs": [
    {
     "data": {
      "text/plain": [
       "'죄송합니다. 판매 데이터가 없기 때문에 정확한 막대 차트를 생성해 드릴 수 없습니다. 만약 판매 데이터를 제공해 주신다면, 해당 데이터를 기반으로 막대 차트를 생성해 드릴 수 있습니다. 부탁드립니다.'"
      ]
     },
     "execution_count": 10,
     "metadata": {},
     "output_type": "execute_result"
    }
   ],
   "execution_count": 10
  },
  {
   "metadata": {},
   "cell_type": "markdown",
   "source": "- 응답에 필요한 기초적인 데이터나 정보가 포함되어야 원하는 응답을 얻을 수 있음",
   "id": "d515b5378ccb7ef0"
  },
  {
   "metadata": {},
   "cell_type": "markdown",
   "source": "#### 일반적인 데이터 분석 질의",
   "id": "55edf2be34de444f"
  },
  {
   "metadata": {
    "ExecuteTime": {
     "end_time": "2024-07-09T13:26:21.270087Z",
     "start_time": "2024-07-09T13:26:16.502152Z"
    }
   },
   "cell_type": "code",
   "source": [
    "question = \"OTT 구독 서비스에서 고객 이탈에 영향을 미치는 주요 요인은?\"\n",
    "res = client.chat.completions.create(\n",
    "    model = \"gpt-3.5-turbo\",\n",
    "    messages = [{\"role\" : \"user\", \"content\" : question}],\n",
    "    max_tokens = 300,\n",
    "    temperature = 1\n",
    ")\n",
    "res.choices[0].message.content"
   ],
   "id": "14d82135f6cfea6f",
   "outputs": [
    {
     "data": {
      "text/plain": [
       "'1. 가격: 구독 서비스의 가격이 높을 경우 고객들이 이탈할 가능성이 높아질 수 있습니다. 가격이 경쟁사에 비해 부담스럽다고 느낄 경우 고객들은 쉽게 다른 서비스로 이탈할 수 있습니다.\\n\\n2. 콘텐츠 품질: 구독 서비스의 콘텐츠 품질이 낮을 경우 고객들이 이탈할 가능성이 높아질 수 있습니다. 고객들이 원하는 콘텐츠를 제공하지 않는다면, 그들은 다른 서비스로 이탈할 수 있습니다.\\n\\n3. 사용자 경험: 구독 서비스의 사용자 경험이 좋지 않을 경우 고객들이 이탈할 가능성이 높아질 수 있습니다. 불편한 인터페이스, 긴 로딩 시간, 많은 광고 등은 고객들을 다른 서비스로 이탈'"
      ]
     },
     "execution_count": 11,
     "metadata": {},
     "output_type": "execute_result"
    }
   ],
   "execution_count": 11
  },
  {
   "metadata": {
    "ExecuteTime": {
     "end_time": "2024-07-09T13:26:23.257415Z",
     "start_time": "2024-07-09T13:26:23.247071Z"
    }
   },
   "cell_type": "code",
   "source": "print(res.choices[0].message.content) # 답변이 max_tokens 때문에 잘림",
   "id": "75f961b44a9e7b94",
   "outputs": [
    {
     "name": "stdout",
     "output_type": "stream",
     "text": [
      "1. 가격: 구독 서비스의 가격이 높을 경우 고객들이 이탈할 가능성이 높아질 수 있습니다. 가격이 경쟁사에 비해 부담스럽다고 느낄 경우 고객들은 쉽게 다른 서비스로 이탈할 수 있습니다.\n",
      "\n",
      "2. 콘텐츠 품질: 구독 서비스의 콘텐츠 품질이 낮을 경우 고객들이 이탈할 가능성이 높아질 수 있습니다. 고객들이 원하는 콘텐츠를 제공하지 않는다면, 그들은 다른 서비스로 이탈할 수 있습니다.\n",
      "\n",
      "3. 사용자 경험: 구독 서비스의 사용자 경험이 좋지 않을 경우 고객들이 이탈할 가능성이 높아질 수 있습니다. 불편한 인터페이스, 긴 로딩 시간, 많은 광고 등은 고객들을 다른 서비스로 이탈\n"
     ]
    }
   ],
   "execution_count": 12
  },
  {
   "metadata": {},
   "cell_type": "markdown",
   "source": [
    "#### 입력한 파일에 대한 분석 요청\n",
    "- 파일과 질의를 구분해서 프롬프트 질문 내용으로 구성한 사용자 정의 함수를 만들어 활용"
   ],
   "id": "44b1718dcb64eb6d"
  },
  {
   "metadata": {
    "ExecuteTime": {
     "end_time": "2024-07-09T13:30:09.643147Z",
     "start_time": "2024-07-09T13:30:09.625615Z"
    }
   },
   "cell_type": "code",
   "source": [
    "def analysis_data(data, question, model) :\n",
    "    prompt = f\"Data : {data} \\n Question : {question}\"\n",
    "    res = client.chat.completions.create(\n",
    "        model = model,\n",
    "        messages = [{\"role\" : \"user\", \"content\" : prompt}],\n",
    "        max_tokens = 500,\n",
    "        temperature = 0\n",
    "    )\n",
    "    return res.choices[0].message.content"
   ],
   "id": "7e6feebdb106cf94",
   "outputs": [],
   "execution_count": 13
  },
  {
   "metadata": {
    "ExecuteTime": {
     "end_time": "2024-07-09T13:33:36.232161Z",
     "start_time": "2024-07-09T13:33:31.584666Z"
    }
   },
   "cell_type": "code",
   "source": [
    "data = \"../data/score.csv\"\n",
    "question = \"해당 숫자 데이터는 과목 별, 반 별 시험 점수야. 과목 별로 평균, 최댓값, 최솟값을 분석하고 matplotlib의 bar 그래프로 시각화 해줘.\"\n",
    "model = \"gpt-3.5-turbo\"\n",
    "\n",
    "result = analysis_data(data, question, model)\n",
    "print(result)"
   ],
   "id": "fe569cc3d1e304c6",
   "outputs": [
    {
     "name": "stdout",
     "output_type": "stream",
     "text": [
      "분석 및 시각화 코드는 아래와 같습니다.\n",
      "\n",
      "```python\n",
      "import pandas as pd\n",
      "import matplotlib.pyplot as plt\n",
      "\n",
      "# 데이터 불러오기\n",
      "data = pd.read_csv('../data/score.csv')\n",
      "\n",
      "# 과목 별 평균, 최댓값, 최솟값 계산\n",
      "subject_avg = data.groupby('과목')['점수'].mean()\n",
      "subject_max = data.groupby('과목')['점수'].max()\n",
      "subject_min = data.groupby('과목')['점수'].min()\n",
      "\n",
      "# 시각화\n",
      "plt.figure(figsize=(10, 6))\n",
      "subject_avg.plot(kind='bar', color='skyblue', label='평균')\n",
      "subject_max.plot(kind='bar', color='salmon', label='최댓값')\n",
      "subject_min.plot(kind='bar', color='lightgreen', label='최솟값')\n",
      "\n",
      "plt.title('과목 별 시험 점수 분석')\n",
      "plt.xlabel('과목')\n",
      "plt.ylabel('점수')\n",
      "plt.legend()\n",
      "plt.show()\n",
      "```\n",
      "\n",
      "위 코드를 실행하면 과목 별로 평균, 최댓값, 최솟값을 분석한 후 matplotlib의 bar 그래프로 시각화된 결과를 확인할 수 있습니다.\n"
     ]
    }
   ],
   "execution_count": 14
  },
  {
   "metadata": {},
   "cell_type": "markdown",
   "source": [
    "- Chat API를 활용하게 되면 문자열로 응답을 해주기 때문에 실제 시각화 된 이미지를 제공하지는 않고, 시각화를 할 수 있는 코드를 제공 (이미지 생성 모델로는 가능)\n",
    "- 웹 서비스에서의 \"gpt-3.5-turbo\" 버전은 파일 입력이 불가능 하지만, gpt-3.5-turbo API를 가져와서 로컬에서 활용하는 경우는 파일 입력 가능\n",
    "- 웹 서비스 gpt-4 버전 이상에서는 파일 입력 가능 "
   ],
   "id": "260e7fe0a0387e9d"
  }
 ],
 "metadata": {
  "kernelspec": {
   "display_name": "Python 3",
   "language": "python",
   "name": "python3"
  },
  "language_info": {
   "codemirror_mode": {
    "name": "ipython",
    "version": 2
   },
   "file_extension": ".py",
   "mimetype": "text/x-python",
   "name": "python",
   "nbconvert_exporter": "python",
   "pygments_lexer": "ipython2",
   "version": "2.7.6"
  }
 },
 "nbformat": 4,
 "nbformat_minor": 5
}
