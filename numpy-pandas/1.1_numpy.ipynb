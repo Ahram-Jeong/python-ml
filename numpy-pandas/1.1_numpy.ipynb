{
 "cells": [
  {
   "metadata": {},
   "cell_type": "markdown",
   "source": "### Numpy ndarray 개요 ",
   "id": "d0a6221c0bdd0c08"
  },
  {
   "metadata": {
    "ExecuteTime": {
     "end_time": "2024-05-27T18:06:27.910808Z",
     "start_time": "2024-05-27T18:06:27.652107Z"
    }
   },
   "cell_type": "code",
   "source": "import numpy as np",
   "id": "a518188ca9fb076c",
   "outputs": [],
   "execution_count": 1
  },
  {
   "metadata": {
    "ExecuteTime": {
     "end_time": "2024-05-27T18:06:27.932930Z",
     "start_time": "2024-05-27T18:06:27.910808Z"
    }
   },
   "cell_type": "code",
   "source": [
    "list1 = [1, 2, 3]\n",
    "print('list type :', type(list1))\n",
    "array1 = np.array(list1)\n",
    "# array1 = np.array([1, 2, 3])\n",
    "print('array1 type :', type(array1))\n",
    "print('array1 array 형태 :', array1.shape)\n",
    "\n",
    "array2 = np.array([[1, 2, 3,],\n",
    "                   [4, 5, 6]])\n",
    "print('array2 type :', type(array2))\n",
    "print('array2 array 형태 :', array2.shape)\n",
    "\n",
    "array3 = np.array([[1, 2, 3]])\n",
    "print('array3 type :', type(array3))\n",
    "print('array3 array 형태 :', array3.shape)"
   ],
   "id": "1cd06898c18d04a9",
   "outputs": [
    {
     "name": "stdout",
     "output_type": "stream",
     "text": [
      "list type : <class 'list'>\n",
      "array1 type : <class 'numpy.ndarray'>\n",
      "array1 array 형태 : (3,)\n",
      "array2 type : <class 'numpy.ndarray'>\n",
      "array2 array 형태 : (2, 3)\n",
      "array3 type : <class 'numpy.ndarray'>\n",
      "array3 array 형태 : (1, 3)\n"
     ]
    }
   ],
   "execution_count": 2
  },
  {
   "metadata": {
    "ExecuteTime": {
     "end_time": "2024-05-27T18:06:27.955500Z",
     "start_time": "2024-05-27T18:06:27.937Z"
    }
   },
   "cell_type": "code",
   "source": "print(f'array1 : {array1.ndim}차원, array2 : {array2.ndim}차원, array3 : {array3.ndim}차원')",
   "id": "5067ad8cbc8ca3b0",
   "outputs": [
    {
     "name": "stdout",
     "output_type": "stream",
     "text": [
      "array1 : 1차원, array2 : 2차원, array3 : 2차원\n"
     ]
    }
   ],
   "execution_count": 3
  },
  {
   "metadata": {},
   "cell_type": "markdown",
   "source": "### ndarray의 데이터 타입",
   "id": "2b3664ab4529bbdf"
  },
  {
   "metadata": {
    "ExecuteTime": {
     "end_time": "2024-05-27T18:06:27.977187Z",
     "start_time": "2024-05-27T18:06:27.955500Z"
    }
   },
   "cell_type": "code",
   "source": [
    "list1 = [1, 2, 3]\n",
    "print(type(list1))\n",
    "array1 = np.array(list1)\n",
    "print(type(array1))\n",
    "print(array1, array1.dtype)"
   ],
   "id": "d19456b77d18a7b3",
   "outputs": [
    {
     "name": "stdout",
     "output_type": "stream",
     "text": [
      "<class 'list'>\n",
      "<class 'numpy.ndarray'>\n",
      "[1 2 3] int32\n"
     ]
    }
   ],
   "execution_count": 4
  },
  {
   "metadata": {
    "ExecuteTime": {
     "end_time": "2024-05-27T18:07:53.484380Z",
     "start_time": "2024-05-27T18:07:53.471234Z"
    }
   },
   "cell_type": "code",
   "source": [
    "# ndarray에는 같은 dtype만 가능, 다른 자료형이 들어갈 경우 큰 쪽으로 자동 형변환 됨\n",
    "list2 = [1, 2, 'test']\n",
    "array2 = np.array(list2)\n",
    "print(array2, array2.dtype)\n",
    "\n",
    "list3 = [1, 2, 3.0]\n",
    "array3 = np.array(list3)\n",
    "print(array3, array3.dtype)"
   ],
   "id": "5341af066a39633f",
   "outputs": [
    {
     "name": "stdout",
     "output_type": "stream",
     "text": [
      "['1' '2' 'test'] <U11\n",
      "[1. 2. 3.] float64\n"
     ]
    }
   ],
   "execution_count": 5
  },
  {
   "metadata": {
    "ExecuteTime": {
     "end_time": "2024-05-27T18:11:16.750293Z",
     "start_time": "2024-05-27T18:11:16.737876Z"
    }
   },
   "cell_type": "code",
   "source": [
    "# type 변경\n",
    "array_int = np.array([1, 2, 3])\n",
    "array_float = array_int.astype('float64') # array_int.astype(np.float64)\n",
    "print(array_float, array_float.dtype)\n",
    "\n",
    "array_int1 = array_float.astype('int32')\n",
    "print(array_int1, array_int1.dtype)\n",
    "\n",
    "array_float1 = np.array([1.1, 2.1, 3.1])\n",
    "array_int2 = array_float1.astype('int32')\n",
    "print(array_int2, array_int2.dtype)"
   ],
   "id": "4231eb7706344856",
   "outputs": [
    {
     "name": "stdout",
     "output_type": "stream",
     "text": [
      "[1. 2. 3.] float64\n",
      "[1 2 3] int32\n",
      "[1 2 3] int32\n"
     ]
    }
   ],
   "execution_count": 6
  }
 ],
 "metadata": {
  "kernelspec": {
   "display_name": "Python 3",
   "language": "python",
   "name": "python3"
  },
  "language_info": {
   "codemirror_mode": {
    "name": "ipython",
    "version": 2
   },
   "file_extension": ".py",
   "mimetype": "text/x-python",
   "name": "python",
   "nbconvert_exporter": "python",
   "pygments_lexer": "ipython2",
   "version": "2.7.6"
  }
 },
 "nbformat": 4,
 "nbformat_minor": 5
}
