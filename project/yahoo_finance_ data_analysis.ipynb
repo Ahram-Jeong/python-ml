{
 "cells": [
  {
   "metadata": {
    "ExecuteTime": {
     "end_time": "2024-06-06T17:38:24.683405Z",
     "start_time": "2024-06-06T17:38:23.913980Z"
    }
   },
   "cell_type": "code",
   "source": [
    "import yfinance as yf\n",
    "import pandas as pd\n",
    "import numpy as np\n",
    "import matplotlib.pyplot as plt\n",
    "import matplotlib.dates as mdates\n",
    "from selenium import webdriver as wb\n",
    "from selenium.webdriver.common.by import By\n",
    "from selenium.webdriver.common.keys import Keys\n",
    "import seaborn as sns\n",
    "from tqdm import tqdm\n",
    "import datetime\n",
    "import time\n",
    "from wordcloud import WordCloud"
   ],
   "id": "7bca5c5dcf8ae91a",
   "execution_count": 1,
   "outputs": []
  },
  {
   "metadata": {},
   "cell_type": "markdown",
   "source": [
    "## 비트코인과 안정자산, 위험자산의 상관관계 분석\n",
    "- 데이터 산출 기간\n",
    "    - 제도 편입 전 : 2017.01.01 ~ 2019.12.31\n",
    "    - 제도 편입 후 : 2021.01.01 ~ 2024.06.01\n",
    "- 안전자산 비교군 : 금, 달러\n",
    "- 위험자산 비교군 : 원유\n",
    "- 데이터 출처 : Yahoo Finance"
   ],
   "id": "5d25de828cbf637e"
  },
  {
   "metadata": {
    "ExecuteTime": {
     "end_time": "2024-06-06T17:38:24.703243Z",
     "start_time": "2024-06-06T17:38:24.683405Z"
    }
   },
   "cell_type": "code",
   "source": [
    "# 기간\n",
    "start_date = \"2021-01-01\"\n",
    "end_date = \"2024-06-01\"\n",
    "news_date_list = [\"2022.03.28\", \"2022.11.14\", \"2023.04.03\", \"2024.01.08\", \"2024.03.25\", \"2024.05.06\"]\n",
    "\n",
    "# 종목\n",
    "bitcoin = \"BTC-USD\"\n",
    "gold = \"GC=F\"\n",
    "usd = \"EURUSD=X\"\n",
    "wti = \"CL=F\"\n",
    "sample = \"080220.KQ\"\n",
    "\n",
    "# 비교군 일간 티커 데이터 수집\n",
    "def ticker_data(tk_name, ds, de) : \n",
    "    result = yf.download(tk_name, ds, de)\n",
    "    result[\"change\"] = result[\"Adj Close\"].diff()\n",
    "    result[\"daily_return\"] = result[\"Adj Close\"].pct_change()*100\n",
    "    result = result.dropna() # NaN 포함 행 삭제\n",
    "    return result\n",
    "\n",
    "# 주간 티커 데이터 수집\n",
    "def ticker_data_wk(tk_name, ds, de) : \n",
    "    result = yf.download(tk_name, ds, de, interval = \"1wk\")\n",
    "    result[\"weekly_return\"] = result[\"Adj Close\"].pct_change()*100\n",
    "    result = result.dropna()\n",
    "    return result\n",
    "\n",
    "# 일별 수정종가 (Adj Close) 추출 함수\n",
    "def daily_adj_close(tk_name, ds, de) :\n",
    "    result = yf.download(tk_name, ds, de)\n",
    "    return result[\"Adj Close\"]\n",
    "\n",
    "# 일별 수익률 (daily_return) 추출 함수\n",
    "def daily_return_rate(tk_name, ds, de) :\n",
    "    result = ticker_data(tk_name, ds, de)\n",
    "    return result[\"daily_return\"]\n",
    "\n",
    "# 주간 수익률 (weekly_return) 추출 함수\n",
    "def weekly_return_rate(tk_name, ds, de) :\n",
    "    result = ticker_data_wk(tk_name, ds, de)\n",
    "    return result[\"weekly_return\"]\n",
    "\n",
    "# 비트코인과 티커 간의 상관관계 산출\n",
    "def corr_bit(tk_name, ds, de) :\n",
    "    result = weekly_return_rate(\"BTC-USD\", ds, de) / weekly_return_rate(tk_name, ds, de)\n",
    "    result = result.dropna()\n",
    "    return result"
   ],
   "id": "1c43b8c5abc93b13",
   "execution_count": 2,
   "outputs": []
  },
  {
   "metadata": {
    "ExecuteTime": {
     "end_time": "2024-06-06T17:38:27.090652Z",
     "start_time": "2024-06-06T17:38:24.703243Z"
    }
   },
   "cell_type": "code",
   "source": [
    "# 비트코인의 일간 티커 데이터 수집\n",
    "bit_ticker = ticker_data(bitcoin, start_date, end_date)\n",
    "bit_ticker"
   ],
   "id": "327abb64591cd87f",
   "execution_count": 3,
   "outputs": []
  },
  {
   "metadata": {
    "ExecuteTime": {
     "end_time": "2024-06-06T17:38:27.669967Z",
     "start_time": "2024-06-06T17:38:27.090652Z"
    }
   },
   "cell_type": "code",
   "source": [
    "# 비교군 일간 티커 데이터 수집\n",
    "ticker = ticker_data(usd, start_date, end_date)\n",
    "ticker"
   ],
   "id": "32bba34b21d3b568",
   "execution_count": 4,
   "outputs": []
  },
  {
   "metadata": {
    "ExecuteTime": {
     "end_time": "2024-06-06T17:38:31.420565Z",
     "start_time": "2024-06-06T17:38:27.669967Z"
    }
   },
   "cell_type": "code",
   "source": [
    "# daily price change graph\n",
    "y1 = daily_adj_close(bitcoin, start_date, end_date)\n",
    "y2 = daily_adj_close(gold, start_date, end_date)\n",
    "y3 = daily_adj_close(usd, start_date, end_date)\n",
    "y4 = daily_adj_close(wti, start_date, end_date)\n",
    "\n",
    "plt.rc(\"font\", family = \"NanumGothic\", size = 13)\n",
    "plt.rcParams[\"axes.unicode_minus\"] = False\n",
    "plt.figure(figsize = (20, 10))\n",
    "plt.plot(y1.index, y1, label = \"Bitcoin\")\n",
    "plt.plot(y2.index, y2, label = \"Gold\")\n",
    "plt.plot(y3.index, y3, label = \"EUR/USD\")\n",
    "plt.plot(y4.index, y4, label = \"WTI\")\n",
    "plt.legend(loc = \"best\", prop = {\"size\":20})\n",
    "plt.xlabel(\"Date\")\n",
    "plt.ylabel(\"Price\")\n",
    "plt.gca().xaxis.set_major_locator(mdates.MonthLocator())\n",
    "plt.gca().xaxis.set_major_formatter(mdates.DateFormatter(\"%Y-%m\"))\n",
    "plt.xticks(rotation = 300)\n",
    "plt.grid(True)\n",
    "plt.title(\"일별 시세 변동 그래프\")\n",
    "plt.show()"
   ],
   "id": "6065915c4ee58a2e",
   "execution_count": 5,
   "outputs": []
  },
  {
   "metadata": {
    "ExecuteTime": {
     "end_time": "2024-06-06T17:38:33.231460Z",
     "start_time": "2024-06-06T17:38:31.420565Z"
    }
   },
   "cell_type": "code",
   "source": [
    "# weekly price change graph\n",
    "y1_wk = ticker_data_wk(bitcoin, start_date, end_date)[\"Adj Close\"]\n",
    "y2_wk = ticker_data_wk(gold, start_date, end_date)[\"Adj Close\"]\n",
    "y3_wk = ticker_data_wk(usd, start_date, end_date)[\"Adj Close\"]\n",
    "y4_wk = ticker_data_wk(wti, start_date, end_date)[\"Adj Close\"]\n",
    "\n",
    "plt.rc(\"font\", family = \"NanumGothic\", size = 13)\n",
    "plt.rcParams[\"axes.unicode_minus\"] = False\n",
    "plt.figure(figsize = (20, 10))\n",
    "plt.plot(y1_wk.index, y1_wk, label = \"Bitcoin\")\n",
    "plt.plot(y2_wk.index, y2_wk, label = \"Gold\")\n",
    "plt.plot(y3_wk.index, y3_wk, label = \"EUR/USD\")\n",
    "plt.plot(y4_wk.index, y4_wk, label = \"WTI\")\n",
    "plt.legend(loc = \"best\", prop = {\"size\":20})\n",
    "plt.xlabel(\"Date\")\n",
    "plt.ylabel(\"Price\")\n",
    "plt.gca().xaxis.set_major_locator(mdates.MonthLocator())\n",
    "plt.gca().xaxis.set_major_formatter(mdates.DateFormatter(\"%Y-%m\"))\n",
    "plt.xticks(rotation = 300)\n",
    "plt.grid(True)\n",
    "plt.title(\"주간 시세 변동 그래프\")\n",
    "plt.show()"
   ],
   "id": "433abcdf43d706e",
   "execution_count": 6,
   "outputs": []
  },
  {
   "metadata": {
    "ExecuteTime": {
     "end_time": "2024-06-06T17:38:34.799695Z",
     "start_time": "2024-06-06T17:38:33.231460Z"
    }
   },
   "cell_type": "code",
   "source": [
    "# daily return rate change graph\n",
    "# 일별 수익률(=증감률)의 변동성 확인\n",
    "d_y1 = daily_return_rate(bitcoin, start_date, end_date)\n",
    "d_y2 = daily_return_rate(gold, start_date, end_date)\n",
    "d_y3 = daily_return_rate(usd, start_date, end_date)\n",
    "d_y4 = daily_return_rate(wti, start_date, end_date)\n",
    "\n",
    "plt.rc(\"font\", family = \"NanumGothic\", size = 13)\n",
    "plt.rcParams[\"axes.unicode_minus\"] = False\n",
    "plt.figure(figsize = (20, 10))\n",
    "plt.plot(d_y1.index, d_y1, label = \"Bitcoin\")\n",
    "plt.plot(d_y2.index, d_y2, label = \"Gold\")\n",
    "plt.plot(d_y3.index, d_y3, label = \"EUR/USD\")\n",
    "plt.plot(d_y4.index, d_y4, label = \"WTI\")\n",
    "plt.legend(loc = \"best\", prop = {\"size\":20})\n",
    "plt.xlabel(\"Date\")\n",
    "plt.ylabel(\"Daily retrun rate\")\n",
    "plt.gca().xaxis.set_major_locator(mdates.MonthLocator())\n",
    "plt.gca().xaxis.set_major_formatter(mdates.DateFormatter(\"%Y-%m\"))\n",
    "plt.xticks(rotation = 300)\n",
    "plt.grid(True)\n",
    "plt.title(\"일별 수익률 변동 그래프\")\n",
    "plt.show()"
   ],
   "id": "b4480bc903c52091",
   "execution_count": 7,
   "outputs": []
  },
  {
   "metadata": {
    "ExecuteTime": {
     "end_time": "2024-06-06T17:38:36.231175Z",
     "start_time": "2024-06-06T17:38:34.799695Z"
    }
   },
   "cell_type": "code",
   "source": [
    "# weekly return rate change graph\n",
    "# 주간 수익률(=증감률)의 변동성 확인\n",
    "w_y1 = weekly_return_rate(bitcoin, start_date, end_date)\n",
    "w_y2 = weekly_return_rate(gold, start_date, end_date)\n",
    "w_y3 = weekly_return_rate(usd, start_date, end_date)\n",
    "w_y4 = weekly_return_rate(wti, start_date, end_date)\n",
    "\n",
    "plt.rc(\"font\", family = \"NanumGothic\", size = 13)\n",
    "plt.rcParams[\"axes.unicode_minus\"] = False\n",
    "plt.figure(figsize = (20, 10))\n",
    "plt.plot(w_y1.index, w_y1, label = \"Bitcoin\")\n",
    "plt.plot(w_y2.index, w_y2, label = \"Gold\")\n",
    "plt.plot(w_y3.index, w_y3, label = \"EUR/USD\")\n",
    "plt.plot(w_y4.index, w_y4, label = \"WTI\")\n",
    "plt.legend(loc = \"best\", prop = {\"size\":20})\n",
    "plt.xlabel(\"Date\")\n",
    "plt.ylabel(\"Weekly retrun rate\")\n",
    "plt.gca().xaxis.set_major_locator(mdates.MonthLocator())\n",
    "plt.gca().xaxis.set_major_formatter(mdates.DateFormatter(\"%Y-%m\"))\n",
    "plt.xticks(rotation = 300)\n",
    "plt.grid(True)\n",
    "plt.title(\"주간 수익률 변동 그래프\")\n",
    "plt.show()"
   ],
   "id": "c50b5e07cc15f9e6",
   "execution_count": 8,
   "outputs": []
  },
  {
   "metadata": {
    "ExecuteTime": {
     "end_time": "2024-06-06T17:38:37.990344Z",
     "start_time": "2024-06-06T17:38:36.231175Z"
    }
   },
   "cell_type": "code",
   "source": [
    "# 상관성 그래프 시각화\n",
    "# weekly_return_rate(Bitcoin) / weekly_return_rate(ticker)\n",
    "corr_y1 = corr_bit(bitcoin, start_date, end_date)\n",
    "corr_y2 = corr_bit(gold, start_date, end_date)\n",
    "corr_y3 = corr_bit(usd, start_date, end_date)\n",
    "corr_y4 = corr_bit(wti, start_date, end_date)\n",
    "\n",
    "plt.rc(\"font\", family = \"NanumGothic\", size = 13)\n",
    "plt.rcParams[\"axes.unicode_minus\"] = False\n",
    "plt.figure(figsize = (20, 10))\n",
    "plt.plot(corr_y1.index, corr_y1, label = \"Bitcoin\")\n",
    "plt.plot(corr_y2.index, corr_y2, label = \"Gold\")\n",
    "plt.plot(corr_y3.index, corr_y3, label = \"EUR/USD\")\n",
    "plt.plot(corr_y4.index, corr_y4, label = \"WTI\")\n",
    "plt.legend(loc = \"best\", prop = {\"size\":20})\n",
    "plt.xlabel(\"Date\")\n",
    "plt.ylabel(\"Rate\")\n",
    "plt.gca().xaxis.set_major_locator(mdates.MonthLocator())\n",
    "plt.gca().xaxis.set_major_formatter(mdates.DateFormatter(\"%Y-%m\"))\n",
    "plt.xticks(rotation = 300)\n",
    "plt.grid(True)\n",
    "plt.title(\"비트코인/티커 상관성 그래프\")\n",
    "plt.show()"
   ],
   "id": "1d14da5e3c5487db",
   "execution_count": 9,
   "outputs": []
  },
  {
   "metadata": {},
   "cell_type": "markdown",
   "source": "## 피어슨 상관 계수",
   "id": "e0660433da6a4194"
  },
  {
   "metadata": {
    "ExecuteTime": {
     "end_time": "2024-06-06T17:38:38.011211Z",
     "start_time": "2024-06-06T17:38:37.990344Z"
    }
   },
   "cell_type": "code",
   "source": [
    "# 비트코인과 티커의 상관 계수 산출\n",
    "df_close = pd.concat([bit_ticker[\"Adj Close\"], ticker[\"Adj Close\"]], axis = 1)\n",
    "df_close.columns = [\"bit_adj_close\", \"tk_adj_close\"]\n",
    "df_close = df_close.dropna()\n",
    "corr_coefficient = np.corrcoef(df_close[\"bit_adj_close\"], df_close[\"tk_adj_close\"])[0, 1]\n",
    "print(f\"비트코인과의 상관 계수 : {corr_coefficient:.4f}\")"
   ],
   "id": "e6c1ac90a0315984",
   "execution_count": 10,
   "outputs": []
  },
  {
   "metadata": {
    "ExecuteTime": {
     "end_time": "2024-06-06T17:38:40.293924Z",
     "start_time": "2024-06-06T17:38:38.011211Z"
    }
   },
   "cell_type": "code",
   "source": [
    "# 상관 계수 시각화 - HeatMep\n",
    "corr_matrix = pd.DataFrame({\"Bitcoin\" : daily_adj_close(bitcoin, start_date, end_date),\n",
    "                            \"EUR/USD\" : daily_adj_close(usd, start_date, end_date),\n",
    "                            \"US ETF\" : daily_adj_close(\"TLT\", start_date, end_date),\n",
    "                            \"Dow Jones\" : daily_adj_close(\"^DJI\", start_date, end_date),\n",
    "                            \"Gold ETF\" : daily_adj_close(\"GLD\", start_date, end_date),\n",
    "                            \"Gold\" : daily_adj_close(gold, start_date, end_date),\n",
    "                            \"WTI\" : daily_adj_close(wti, start_date, end_date),\n",
    "                            \"Brent\" : daily_adj_close(\"BZ=F\", start_date, end_date),\n",
    "                            \"Tesla\" : daily_adj_close(\"TSLA\", start_date, end_date),\n",
    "                            \"Nasdaq-100 Index\" : daily_adj_close(\"QQQ\", start_date, end_date),\n",
    "                            \"Emerging Markets ETF\" : daily_adj_close(\"EEM\", start_date, end_date)}).corr()\n",
    "\n",
    "plt.rc(\"font\", family = \"NanumGothic\", size = 13)\n",
    "plt.rcParams[\"axes.unicode_minus\"] = False\n",
    "plt.figure(figsize = (10, 8))\n",
    "sns.heatmap(corr_matrix, annot = True, cmap = \"RdYlBu_r\", cbar = True)\n",
    "plt.title(\"상관 계수\")\n",
    "plt.show()"
   ],
   "id": "d9ad0239b5318a1b",
   "execution_count": 11,
   "outputs": []
  },
  {
   "metadata": {},
   "cell_type": "markdown",
   "source": "- 티커의 변동성이 큰 날짜와 특정 날짜의 네이버 뉴스 크롤링",
   "id": "9ce71c48e01b7376"
  },
  {
   "metadata": {
    "ExecuteTime": {
     "end_time": "2024-06-06T16:07:11.508340Z",
     "start_time": "2024-06-06T16:07:11.441696Z"
    }
   },
   "cell_type": "code",
   "source": [
    "# 주간 티커 데이터 수집\n",
    "ticker_wk = ticker_data_wk(usd, start_date, end_date)\n",
    "ticker_wk"
   ],
   "id": "44f3e7b678e0e6a5",
   "execution_count": 11,
   "outputs": []
  },
  {
   "metadata": {
    "ExecuteTime": {
     "end_time": "2024-06-06T16:07:11.526390Z",
     "start_time": "2024-06-06T16:07:11.508340Z"
    }
   },
   "cell_type": "code",
   "source": [
    "# 상승, 하락이 관계 없는 주간 변동성 추출\n",
    "ticker_chg_abs = (ticker_wk[\"Adj Close\"].pct_change()*100).abs()\n",
    "# 변동성 큰 구간 TOP6\n",
    "large_chg = ticker_chg_abs.sort_values(ascending = False)\n",
    "top6_chg = large_chg[:6]\n",
    "top6_chg"
   ],
   "id": "60f3e1623107bdd",
   "execution_count": 12,
   "outputs": []
  },
  {
   "metadata": {
    "ExecuteTime": {
     "end_time": "2024-06-06T16:07:11.544670Z",
     "start_time": "2024-06-06T16:07:11.526390Z"
    }
   },
   "cell_type": "code",
   "source": [
    "# 뉴스 크롤링 날짜 추가\n",
    "news_date_list = pd.to_datetime(news_date_list, format=\"%Y.%m.%d\").tolist()\n",
    "top6_lst = top6_chg.index.to_list()\n",
    "news_date_list.extend(top6_lst)\n",
    "news_date_list"
   ],
   "id": "f0e8055d56a736a5",
   "execution_count": 13,
   "outputs": []
  },
  {
   "metadata": {
    "ExecuteTime": {
     "end_time": "2024-06-06T16:09:50.797442Z",
     "start_time": "2024-06-06T16:07:11.544670Z"
    }
   },
   "cell_type": "code",
   "source": [
    "news_titles = []\n",
    "search = input(\"뉴스 검색어 입력 (ex. 비트코인 달러) : \")\n",
    "\n",
    "driver = wb.Chrome()\n",
    "driver.maximize_window()\n",
    "for i in tqdm(range(len(news_date_list))) :\n",
    "    # 뉴스 검색 기간 : 지정된 날짜 포함 일주일\n",
    "    news_ds = news_date_list[i]\n",
    "    news_de = news_ds + datetime.timedelta(days = 6)\n",
    "    driver.get(f\"https://search.naver.com/search.naver?where=news&query={search}&sm=tab_opt&sort=0&photo=0&field=0&pd=3&ds={news_ds.strftime('%Y.%m.%d')}&de={news_de.strftime('%Y.%m.%d')}&docid=&related=0&mynews=0&office_type=0&office_section_code=0\")\n",
    "    \n",
    "    body = driver.find_element(By.TAG_NAME, \"body\")\n",
    "    try :\n",
    "        # 스크롤\n",
    "        for _ in range(10) :\n",
    "            body.send_keys(Keys.END)\n",
    "            time.sleep(1)\n",
    "            \n",
    "        # 뉴스 타이틀 수집\n",
    "        titles = driver.find_elements(By.CSS_SELECTOR, \"a.news_tit\")\n",
    "        for i in titles :\n",
    "            news_titles.append(i.text)\n",
    "    except Exception as e :\n",
    "        print(\"오류 : \", e)\n",
    "print(\"완료😇\")\n",
    "driver.quit()"
   ],
   "id": "cf3cc88148a36b08",
   "execution_count": 14,
   "outputs": []
  },
  {
   "metadata": {
    "ExecuteTime": {
     "end_time": "2024-06-06T16:09:50.807137Z",
     "start_time": "2024-06-06T16:09:50.797442Z"
    }
   },
   "cell_type": "code",
   "source": [
    "print(len(news_titles))\n",
    "print(news_titles)"
   ],
   "id": "f0808c4860338ca1",
   "execution_count": 15,
   "outputs": []
  },
  {
   "metadata": {
    "ExecuteTime": {
     "end_time": "2024-06-06T16:09:51.612152Z",
     "start_time": "2024-06-06T16:09:50.807137Z"
    }
   },
   "cell_type": "code",
   "source": [
    "# 워드클라우드를 통한 핵심 키워드 시각화\n",
    "text = \",\".join(news_titles)\n",
    "f_path = \"C:\\Windows\\Fonts\\malgun.ttf\"\n",
    "\n",
    "wc = WordCloud(font_path = f_path, random_state = 42, background_color = \"white\").generate(text)\n",
    "plt.figure(figsize = (15, 10))\n",
    "plt.axis(\"off\")\n",
    "plt.imshow(wc, interpolation = \"None\")\n",
    "plt.show()"
   ],
   "id": "9c1a2bef7a9978e4",
   "execution_count": 16,
   "outputs": []
  },
  {
   "metadata": {},
   "cell_type": "markdown",
   "source": [
    "### 테스트 코드\n",
    "- 종목 : 제주반도체"
   ],
   "id": "c12416caaaa6761c"
  },
  {
   "metadata": {
    "ExecuteTime": {
     "end_time": "2024-06-06T16:09:52.820288Z",
     "start_time": "2024-06-06T16:09:51.612152Z"
    }
   },
   "cell_type": "code",
   "source": [
    "# 코스피 : .KS\n",
    "# 코스닥 : .KQ\n",
    "\n",
    "# 증권 데이터\n",
    "# 일별\n",
    "jeju = yf.download(sample, start_date, end_date)\n",
    "# 주간\n",
    "# jeju = yf.download(sample, start_date, end_date, interval = \"1wk\")\n",
    "\n",
    "# 컬럼 추가 (증감량)\n",
    "# diff() : 행과 행의 차이\n",
    "jeju[\"change\"] = jeju[\"Adj Close\"].diff()#.abs() 상승, 하락 관계 없으면 절대 값 사용\n",
    "\n",
    "# 컬럼 추가 (수익률)\n",
    "# pct_change() : (다음행 - 현재행) ÷ 현재행\n",
    "jeju[\"daily_return\"] = jeju[\"Adj Close\"].pct_change()*100\n",
    "jeju"
   ],
   "id": "579a2612dd0a1a77",
   "execution_count": 17,
   "outputs": []
  },
  {
   "metadata": {
    "ExecuteTime": {
     "end_time": "2024-06-06T16:09:53.013906Z",
     "start_time": "2024-06-06T16:09:52.820288Z"
    }
   },
   "cell_type": "code",
   "source": [
    "# Yahoo Finance 뉴스 데이터\n",
    "jeju_ticker = yf.Ticker(sample)\n",
    "jeju_news = jeju_ticker.news\n",
    "for i in range(len(jeju_news)) :\n",
    "    print(jeju_news[i][\"title\"])"
   ],
   "id": "a20565e15943e7fe",
   "execution_count": 18,
   "outputs": []
  },
  {
   "metadata": {
    "ExecuteTime": {
     "end_time": "2024-06-06T16:09:53.021159Z",
     "start_time": "2024-06-06T16:09:53.013906Z"
    }
   },
   "cell_type": "code",
   "source": [
    "# 특정 기간 수익률 계산 함수\n",
    "def period_return(ticker_arg, start_d, end_d) :\n",
    "    data = yf.download(ticker_arg, start = start_d, end = end_d)\n",
    "    # 시작일, 종료일의 종가 -> 위치 인덱싱 사용\n",
    "    start_price = data[\"Adj Close\"].iloc[0] # DF의 첫 번째 행\n",
    "    end_price = data[\"Adj Close\"].iloc[-1] # DF의 마지막 행\n",
    "    # 수익률 계산\n",
    "    return (end_price - start_price) / start_price * 100"
   ],
   "id": "3b9963c1a1f6526d",
   "execution_count": 19,
   "outputs": []
  },
  {
   "metadata": {
    "ExecuteTime": {
     "end_time": "2024-06-06T16:09:53.185838Z",
     "start_time": "2024-06-06T16:09:53.021159Z"
    }
   },
   "cell_type": "code",
   "source": "period_return(sample, \"2024-02-15\", \"2024-06-04\")",
   "id": "d331bb9e9c0b5f9d",
   "execution_count": 20,
   "outputs": []
  },
  {
   "metadata": {
    "ExecuteTime": {
     "end_time": "2024-06-06T16:09:53.195421Z",
     "start_time": "2024-06-06T16:09:53.185838Z"
    }
   },
   "cell_type": "code",
   "source": [
    "max_change_idx = jeju[\"change\"].idxmax().strftime(\"%Y-%m-%d\") # change 컬럼에서 최댓값의 인덱스 반환\n",
    "max_change_idx"
   ],
   "id": "6e78b761d31393dc",
   "execution_count": 21,
   "outputs": []
  },
  {
   "metadata": {
    "ExecuteTime": {
     "end_time": "2024-06-06T16:09:53.220896Z",
     "start_time": "2024-06-06T16:09:53.195421Z"
    }
   },
   "cell_type": "code",
   "source": [
    "top10_change = jeju.nlargest(10, \"change\") # change 컬럼에서 상위 10개 값의 row 추출\n",
    "top10_change"
   ],
   "id": "77fc5b01eada8be6",
   "execution_count": 22,
   "outputs": []
  },
  {
   "metadata": {
    "ExecuteTime": {
     "end_time": "2024-06-06T16:09:53.230919Z",
     "start_time": "2024-06-06T16:09:53.220896Z"
    }
   },
   "cell_type": "code",
   "source": "top10_change.index",
   "id": "9619cb909f34fd50",
   "execution_count": 23,
   "outputs": []
  }
 ],
 "metadata": {
  "kernelspec": {
   "display_name": "Python 3",
   "language": "python",
   "name": "python3"
  },
  "language_info": {
   "codemirror_mode": {
    "name": "ipython",
    "version": 2
   },
   "file_extension": ".py",
   "mimetype": "text/x-python",
   "name": "python",
   "nbconvert_exporter": "python",
   "pygments_lexer": "ipython2",
   "version": "2.7.6"
  }
 },
 "nbformat": 4,
 "nbformat_minor": 5
}
