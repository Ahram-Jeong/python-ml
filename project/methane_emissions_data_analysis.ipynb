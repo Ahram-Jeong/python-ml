{
 "cells": [
  {
   "cell_type": "code",
   "metadata": {
    "ExecuteTime": {
     "end_time": "2025-01-22T00:54:43.954485Z",
     "start_time": "2025-01-22T00:54:42.912870Z"
    }
   },
   "source": [
    "import pandas as pd"
   ],
   "outputs": [],
   "execution_count": 1
  },
  {
   "cell_type": "code",
   "metadata": {
    "ExecuteTime": {
     "end_time": "2025-01-22T00:54:44.052653Z",
     "start_time": "2025-01-22T00:54:43.954485Z"
    }
   },
   "source": [
    "df = pd.read_csv(\"../data/IEA-MethaneEmissionsComparison-World.csv\")\n",
    "df.info()\n",
    "df.head()"
   ],
   "outputs": [
    {
     "name": "stdout",
     "output_type": "stream",
     "text": [
      "<class 'pandas.core.frame.DataFrame'>\n",
      "RangeIndex: 1506 entries, 0 to 1505\n",
      "Data columns (total 11 columns):\n",
      " #   Column         Non-Null Count  Dtype  \n",
      "---  ------         --------------  -----  \n",
      " 0   region         1506 non-null   object \n",
      " 1   country        1484 non-null   object \n",
      " 2   emissions      1506 non-null   int64  \n",
      " 3   source         1506 non-null   object \n",
      " 4   type           1506 non-null   object \n",
      " 5   segment        1506 non-null   object \n",
      " 6   reason         1506 non-null   object \n",
      " 7   baseYear       1506 non-null   object \n",
      " 8   emissionsRank  1389 non-null   float64\n",
      " 9   energyRank     1389 non-null   float64\n",
      " 10  notes          638 non-null    object \n",
      "dtypes: float64(2), int64(1), object(8)\n",
      "memory usage: 129.6+ KB\n"
     ]
    },
    {
     "data": {
      "text/plain": [
       "   region  country  emissions source         type  \\\n",
       "0  Africa  Algeria        261    IEA  Agriculture   \n",
       "1  Africa  Algeria          0    IEA       Energy   \n",
       "2  Africa  Algeria         45    IEA       Energy   \n",
       "3  Africa  Algeria         71    IEA       Energy   \n",
       "4  Africa  Algeria        191    IEA       Energy   \n",
       "\n",
       "                            segment    reason   baseYear  emissionsRank  \\\n",
       "0                             Total       All  2019-2021           19.0   \n",
       "1                         Bioenergy       All       2023           19.0   \n",
       "2  Gas pipelines and LNG facilities  Fugitive       2023           19.0   \n",
       "3  Gas pipelines and LNG facilities    Vented       2023           19.0   \n",
       "4                       Onshore gas  Fugitive       2023           19.0   \n",
       "\n",
       "   energyRank                                              notes  \n",
       "0        11.0  Average based on United Nations Framework Conv...  \n",
       "1        11.0  Estimates from end-uses are for 2020 or 2021 (...  \n",
       "2        11.0                                                NaN  \n",
       "3        11.0                                                NaN  \n",
       "4        11.0                                                NaN  "
      ],
      "text/html": [
       "<div>\n",
       "<style scoped>\n",
       "    .dataframe tbody tr th:only-of-type {\n",
       "        vertical-align: middle;\n",
       "    }\n",
       "\n",
       "    .dataframe tbody tr th {\n",
       "        vertical-align: top;\n",
       "    }\n",
       "\n",
       "    .dataframe thead th {\n",
       "        text-align: right;\n",
       "    }\n",
       "</style>\n",
       "<table border=\"1\" class=\"dataframe\">\n",
       "  <thead>\n",
       "    <tr style=\"text-align: right;\">\n",
       "      <th></th>\n",
       "      <th>region</th>\n",
       "      <th>country</th>\n",
       "      <th>emissions</th>\n",
       "      <th>source</th>\n",
       "      <th>type</th>\n",
       "      <th>segment</th>\n",
       "      <th>reason</th>\n",
       "      <th>baseYear</th>\n",
       "      <th>emissionsRank</th>\n",
       "      <th>energyRank</th>\n",
       "      <th>notes</th>\n",
       "    </tr>\n",
       "  </thead>\n",
       "  <tbody>\n",
       "    <tr>\n",
       "      <th>0</th>\n",
       "      <td>Africa</td>\n",
       "      <td>Algeria</td>\n",
       "      <td>261</td>\n",
       "      <td>IEA</td>\n",
       "      <td>Agriculture</td>\n",
       "      <td>Total</td>\n",
       "      <td>All</td>\n",
       "      <td>2019-2021</td>\n",
       "      <td>19.0</td>\n",
       "      <td>11.0</td>\n",
       "      <td>Average based on United Nations Framework Conv...</td>\n",
       "    </tr>\n",
       "    <tr>\n",
       "      <th>1</th>\n",
       "      <td>Africa</td>\n",
       "      <td>Algeria</td>\n",
       "      <td>0</td>\n",
       "      <td>IEA</td>\n",
       "      <td>Energy</td>\n",
       "      <td>Bioenergy</td>\n",
       "      <td>All</td>\n",
       "      <td>2023</td>\n",
       "      <td>19.0</td>\n",
       "      <td>11.0</td>\n",
       "      <td>Estimates from end-uses are for 2020 or 2021 (...</td>\n",
       "    </tr>\n",
       "    <tr>\n",
       "      <th>2</th>\n",
       "      <td>Africa</td>\n",
       "      <td>Algeria</td>\n",
       "      <td>45</td>\n",
       "      <td>IEA</td>\n",
       "      <td>Energy</td>\n",
       "      <td>Gas pipelines and LNG facilities</td>\n",
       "      <td>Fugitive</td>\n",
       "      <td>2023</td>\n",
       "      <td>19.0</td>\n",
       "      <td>11.0</td>\n",
       "      <td>NaN</td>\n",
       "    </tr>\n",
       "    <tr>\n",
       "      <th>3</th>\n",
       "      <td>Africa</td>\n",
       "      <td>Algeria</td>\n",
       "      <td>71</td>\n",
       "      <td>IEA</td>\n",
       "      <td>Energy</td>\n",
       "      <td>Gas pipelines and LNG facilities</td>\n",
       "      <td>Vented</td>\n",
       "      <td>2023</td>\n",
       "      <td>19.0</td>\n",
       "      <td>11.0</td>\n",
       "      <td>NaN</td>\n",
       "    </tr>\n",
       "    <tr>\n",
       "      <th>4</th>\n",
       "      <td>Africa</td>\n",
       "      <td>Algeria</td>\n",
       "      <td>191</td>\n",
       "      <td>IEA</td>\n",
       "      <td>Energy</td>\n",
       "      <td>Onshore gas</td>\n",
       "      <td>Fugitive</td>\n",
       "      <td>2023</td>\n",
       "      <td>19.0</td>\n",
       "      <td>11.0</td>\n",
       "      <td>NaN</td>\n",
       "    </tr>\n",
       "  </tbody>\n",
       "</table>\n",
       "</div>"
      ]
     },
     "execution_count": 2,
     "metadata": {},
     "output_type": "execute_result"
    }
   ],
   "execution_count": 2
  },
  {
   "cell_type": "code",
   "metadata": {
    "ExecuteTime": {
     "end_time": "2025-01-22T00:54:44.077364Z",
     "start_time": "2025-01-22T00:54:44.052653Z"
    }
   },
   "source": [
    "df[\"emissions\"].describe()"
   ],
   "outputs": [
    {
     "data": {
      "text/plain": [
       "count      1506.000000\n",
       "mean        634.982072\n",
       "std        5513.162359\n",
       "min           0.000000\n",
       "25%           2.000000\n",
       "50%          23.000000\n",
       "75%         133.000000\n",
       "max      140639.000000\n",
       "Name: emissions, dtype: float64"
      ]
     },
     "execution_count": 3,
     "metadata": {},
     "output_type": "execute_result"
    }
   ],
   "execution_count": 3
  },
  {
   "cell_type": "code",
   "metadata": {
    "ExecuteTime": {
     "end_time": "2025-01-22T00:54:44.122957Z",
     "start_time": "2025-01-22T00:54:44.077364Z"
    }
   },
   "source": [
    "df[\"baseYear\"].unique()"
   ],
   "outputs": [
    {
     "data": {
      "text/plain": [
       "array(['2019-2021', '2023'], dtype=object)"
      ]
     },
     "execution_count": 4,
     "metadata": {},
     "output_type": "execute_result"
    }
   ],
   "execution_count": 4
  },
  {
   "cell_type": "code",
   "metadata": {
    "ExecuteTime": {
     "end_time": "2025-01-22T00:54:44.163807Z",
     "start_time": "2025-01-22T00:54:44.136058Z"
    }
   },
   "source": [
    "mt2019 = df[df[\"baseYear\"] == \"2019-2021\"]\n",
    "mt2023 = df[df[\"baseYear\"] == \"2023\"]"
   ],
   "outputs": [],
   "execution_count": 5
  },
  {
   "cell_type": "code",
   "metadata": {
    "ExecuteTime": {
     "end_time": "2025-01-22T00:54:44.192471Z",
     "start_time": "2025-01-22T00:54:44.163807Z"
    }
   },
   "source": [
    "mt2019[\"emissions\"].describe()"
   ],
   "outputs": [
    {
     "data": {
      "text/plain": [
       "count       288.000000\n",
       "mean       1533.135417\n",
       "std        9453.909311\n",
       "min           0.000000\n",
       "25%          28.000000\n",
       "50%         163.500000\n",
       "75%         677.000000\n",
       "max      140639.000000\n",
       "Name: emissions, dtype: float64"
      ]
     },
     "execution_count": 6,
     "metadata": {},
     "output_type": "execute_result"
    }
   ],
   "execution_count": 6
  },
  {
   "cell_type": "code",
   "metadata": {
    "ExecuteTime": {
     "end_time": "2025-01-22T00:54:44.216543Z",
     "start_time": "2025-01-22T00:54:44.192471Z"
    }
   },
   "source": [
    "mt2019[\"type\"].unique()"
   ],
   "outputs": [
    {
     "data": {
      "text/plain": [
       "array(['Agriculture', 'Other', 'Waste'], dtype=object)"
      ]
     },
     "execution_count": 7,
     "metadata": {},
     "output_type": "execute_result"
    }
   ],
   "execution_count": 7
  },
  {
   "cell_type": "code",
   "metadata": {
    "ExecuteTime": {
     "end_time": "2025-01-22T00:54:44.259938Z",
     "start_time": "2025-01-22T00:54:44.232183Z"
    }
   },
   "source": [
    "mt2023[\"type\"].unique()"
   ],
   "outputs": [
    {
     "data": {
      "text/plain": [
       "array(['Energy'], dtype=object)"
      ]
     },
     "execution_count": 8,
     "metadata": {},
     "output_type": "execute_result"
    }
   ],
   "execution_count": 8
  },
  {
   "cell_type": "code",
   "metadata": {
    "ExecuteTime": {
     "end_time": "2025-01-22T00:54:44.273657Z",
     "start_time": "2025-01-22T00:54:44.259938Z"
    }
   },
   "source": [
    "# 메탄 배출량의 합을 그룹화하는 함수 정의\n",
    "def getEmissionsGroup(df, col):\n",
    "\n",
    "    return df.groupby(col)[\"emissions\"].sum().sort_values(ascending=False)"
   ],
   "outputs": [],
   "execution_count": 9
  },
  {
   "cell_type": "code",
   "metadata": {
    "ExecuteTime": {
     "end_time": "2025-01-22T00:54:44.321677Z",
     "start_time": "2025-01-22T00:54:44.273657Z"
    }
   },
   "source": [
    "# \"2019-2021\" 기간 동안 메탄 배출량을 배출유형(산업) 별로 그룹화\n",
    "getEmissionsGroup(mt2019, \"type\")"
   ],
   "outputs": [
    {
     "data": {
      "text/plain": [
       "type\n",
       "Agriculture    281282\n",
       "Waste          141947\n",
       "Other           18314\n",
       "Name: emissions, dtype: int64"
      ]
     },
     "execution_count": 10,
     "metadata": {},
     "output_type": "execute_result"
    }
   ],
   "execution_count": 10
  },
  {
   "cell_type": "code",
   "metadata": {
    "ExecuteTime": {
     "end_time": "2025-01-22T00:54:44.381474Z",
     "start_time": "2025-01-22T00:54:44.339325Z"
    }
   },
   "source": [
    "# \"2019-2021\" 기간 동안 \"농업\"에서의 메탄 배출량을 지역(대륙) 별로 그룹화\n",
    "agriculture_df = mt2019[mt2019[\"type\"] == \"Agriculture\"]\n",
    "getEmissionsGroup(agriculture_df, \"region\")"
   ],
   "outputs": [
    {
     "data": {
      "text/plain": [
       "region\n",
       "World                        140639\n",
       "Asia Pacific                  63285\n",
       "Central and South America     23433\n",
       "Africa                        15658\n",
       "North America                 12830\n",
       "Europe                        12367\n",
       "Other                          7269\n",
       "Russia & Caspian               4196\n",
       "Middle East                    1605\n",
       "Name: emissions, dtype: int64"
      ]
     },
     "execution_count": 11,
     "metadata": {},
     "output_type": "execute_result"
    }
   ],
   "execution_count": 11
  },
  {
   "cell_type": "code",
   "metadata": {
    "ExecuteTime": {
     "end_time": "2025-01-22T00:54:44.409369Z",
     "start_time": "2025-01-22T00:54:44.381474Z"
    }
   },
   "source": [
    "# \"2019-2021\" 기간 동안 \"농업\"에서의 메탄 배출량을 아시아-태평양 지역 나라 별로 그룹화\n",
    "region_df = agriculture_df[agriculture_df[\"region\"] == \"Asia Pacific\"]\n",
    "getEmissionsGroup(region_df, \"country\")"
   ],
   "outputs": [
    {
     "data": {
      "text/plain": [
       "country\n",
       "China                                18560\n",
       "India                                18348\n",
       "Pakistan                              5387\n",
       "Indonesia                             3521\n",
       "Other countries in Southeast Asia     3320\n",
       "Bangladesh                            2401\n",
       "Australia                             2358\n",
       "Viet Nam                              2187\n",
       "Thailand                              2122\n",
       "Philippines                           1721\n",
       "New Zealand                           1139\n",
       "Japan                                  988\n",
       "Mongolia                               531\n",
       "Korea                                  514\n",
       "Malaysia                               187\n",
       "Brunei                                   1\n",
       "Name: emissions, dtype: int64"
      ]
     },
     "execution_count": 12,
     "metadata": {},
     "output_type": "execute_result"
    }
   ],
   "execution_count": 12
  }
 ],
 "metadata": {
  "kernelspec": {
   "display_name": "py_311",
   "language": "python",
   "name": "py_311"
  },
  "language_info": {
   "codemirror_mode": {
    "name": "ipython",
    "version": 3
   },
   "file_extension": ".py",
   "mimetype": "text/x-python",
   "name": "python",
   "nbconvert_exporter": "python",
   "pygments_lexer": "ipython3",
   "version": "3.11.9"
  }
 },
 "nbformat": 4,
 "nbformat_minor": 2
}
