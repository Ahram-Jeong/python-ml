{
 "cells": [
  {
   "cell_type": "code",
   "id": "initial_id",
   "metadata": {
    "collapsed": true,
    "ExecuteTime": {
     "end_time": "2024-07-21T08:19:13.949910Z",
     "start_time": "2024-07-21T08:19:12.600933Z"
    }
   },
   "source": [
    "import json\n",
    "from sklearn.feature_extraction.text import CountVectorizer\n",
    "from sklearn.metrics.pairwise import cosine_similarity"
   ],
   "outputs": [],
   "execution_count": 1
  },
  {
   "metadata": {
    "ExecuteTime": {
     "end_time": "2024-07-21T08:19:14.022073Z",
     "start_time": "2024-07-21T08:19:13.949910Z"
    }
   },
   "cell_type": "code",
   "source": [
    "# 1. JSON 불러오기\n",
    "with open(\"../data/book_info.json\", \"r\", encoding=\"utf-8\") as f :\n",
    "    data = json.load(f)\n",
    "\n",
    "# 2. \"categoryName\" 필드 추출\n",
    "categories = [i[\"categoryName\"] for i in data]\n",
    "\n",
    "# 3. 문서 - 단어 행렬 생성\n",
    "vectorizer = CountVectorizer()\n",
    "cnt_matrix = vectorizer.fit_transform(categories)\n",
    "\n",
    "# 4. 코사인 유사도 계산\n",
    "cosine_sim = cosine_similarity(cnt_matrix, cnt_matrix)\n",
    "\n",
    "# 5. 유사한 컨텐츠 추출 함수\n",
    "def get_similar_books(idx, sim_matrix, top_n = 10):\n",
    "    sim_scores = list(enumerate(sim_matrix[idx]))\n",
    "    sim_scores = sorted(sim_scores, key = lambda x : x[1], reverse = True)\n",
    "    sim_scores = [score for score in sim_scores if score[0] != idx] # 자기 자신을 제외\n",
    "    sim_scores = sim_scores[:top_n] # top_n 개\n",
    "    similar_indices = [i[0] for i in sim_scores]\n",
    "    return similar_indices"
   ],
   "id": "99359171036bb2ef",
   "outputs": [],
   "execution_count": 2
  },
  {
   "metadata": {
    "ExecuteTime": {
     "end_time": "2024-07-21T08:19:14.039617Z",
     "start_time": "2024-07-21T08:19:14.022073Z"
    }
   },
   "cell_type": "code",
   "source": [
    "# 인덱스 1005의 추천 도서 출력\n",
    "similar_books = get_similar_books(1005, cosine_sim)\n",
    "print(f\"<{data[1005]['title']}>와 유사한 상위 10개 도서 인덱스 : {similar_books}\")\n",
    "for idx in similar_books :\n",
    "    print(data[idx][\"title\"])"
   ],
   "id": "3b835c6a0d8f8246",
   "outputs": [
    {
     "name": "stdout",
     "output_type": "stream",
     "text": [
      "<페스트>와 유사한 상위 10개 도서 인덱스 : [11, 77, 142, 251, 604, 636, 804, 961, 2, 81]\n",
      "단순한 열정 (무선) - 문학동네 세계문학전집 99\n",
      "어린 왕자 (리커버 특별판)\n",
      "브람스를 좋아하세요...\n",
      "페스트 (무선)\n",
      "이방인\n",
      "애린 왕자 - 갱상도 (Gyeongsang-do Dialect)\n",
      "초판본 어린 왕자 (무선) - 1943년 오리지널 초판본 표지디자인\n",
      "심판\n",
      "동물농장\n",
      "크리스마스 피그\n"
     ]
    }
   ],
   "execution_count": 3
  }
 ],
 "metadata": {
  "kernelspec": {
   "display_name": "Python 3",
   "language": "python",
   "name": "python3"
  },
  "language_info": {
   "codemirror_mode": {
    "name": "ipython",
    "version": 2
   },
   "file_extension": ".py",
   "mimetype": "text/x-python",
   "name": "python",
   "nbconvert_exporter": "python",
   "pygments_lexer": "ipython2",
   "version": "2.7.6"
  }
 },
 "nbformat": 4,
 "nbformat_minor": 5
}
