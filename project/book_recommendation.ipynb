{
 "cells": [
  {
   "cell_type": "code",
   "execution_count": 2,
   "id": "initial_id",
   "metadata": {
    "ExecuteTime": {
     "end_time": "2024-07-21T08:19:13.949910Z",
     "start_time": "2024-07-21T08:19:12.600933Z"
    }
   },
   "outputs": [],
   "source": [
    "import json\n",
    "from sklearn.feature_extraction.text import CountVectorizer\n",
    "from sklearn.metrics.pairwise import cosine_similarity"
   ]
  },
  {
   "cell_type": "code",
   "execution_count": 3,
   "id": "99359171036bb2ef",
   "metadata": {
    "ExecuteTime": {
     "end_time": "2024-07-21T08:19:14.022073Z",
     "start_time": "2024-07-21T08:19:13.949910Z"
    }
   },
   "outputs": [],
   "source": [
    "# 1. JSON 불러오기\n",
    "with open(\"../data/book_info.json\", \"r\", encoding=\"utf-8\") as f :\n",
    "    data = json.load(f)\n",
    "\n",
    "# 2. \"categoryName\" 필드 추출\n",
    "categories = [i[\"categoryName\"] for i in data]\n",
    "\n",
    "# 3. 문서 - 단어 행렬 생성\n",
    "vectorizer = CountVectorizer()\n",
    "cnt_matrix = vectorizer.fit_transform(categories)\n",
    "\n",
    "# 4. 코사인 유사도 계산\n",
    "cosine_sim = cosine_similarity(cnt_matrix, cnt_matrix)\n",
    "\n",
    "# 5. 유사한 컨텐츠 추출 함수\n",
    "def get_similar_books(idx, sim_matrix, top_n = 10):\n",
    "    sim_scores = list(enumerate(sim_matrix[idx]))\n",
    "    sim_scores = sorted(sim_scores, key = lambda x : x[1], reverse = True)\n",
    "    sim_scores = [score for score in sim_scores if score[0] != idx] # 자기 자신을 제외\n",
    "    sim_scores = sim_scores[:top_n] # top_n 개\n",
    "    similar_indices = [i[0] for i in sim_scores]\n",
    "    return similar_indices"
   ]
  },
  {
   "cell_type": "code",
   "execution_count": 10,
   "id": "3b835c6a0d8f8246",
   "metadata": {
    "ExecuteTime": {
     "end_time": "2024-07-21T08:19:14.039617Z",
     "start_time": "2024-07-21T08:19:14.022073Z"
    }
   },
   "outputs": [
    {
     "name": "stdout",
     "output_type": "stream",
     "text": [
      "<종소리>와 유사한 상위 10개 도서 인덱스 : [32, 163, 181, 280, 329, 644, 655, 693, 712, 747]\n",
      "꿀벌의 예언 2\n",
      "듄 신장판 1\n",
      "꿀벌의 예언 1\n",
      "숨\n",
      "쿼런틴\n",
      "프로젝트 헤일메리\n",
      "문명 1\n",
      "기억 1\n",
      "멋진 신세계\n",
      "문명 2\n"
     ]
    }
   ],
   "source": [
    "# 인덱스 1013의 추천 도서 출력\n",
    "num = 1013\n",
    "similar_books = get_similar_books(num, cosine_sim)\n",
    "print(f\"<{data[num]['title']}>와 유사한 상위 10개 도서 인덱스 : {similar_books}\")\n",
    "for idx in similar_books :\n",
    "    print(data[idx][\"title\"])"
   ]
  }
 ],
 "metadata": {
  "kernelspec": {
   "display_name": "Python 3 (ipykernel)",
   "language": "python",
   "name": "python3"
  },
  "language_info": {
   "codemirror_mode": {
    "name": "ipython",
    "version": 3
   },
   "file_extension": ".py",
   "mimetype": "text/x-python",
   "name": "python",
   "nbconvert_exporter": "python",
   "pygments_lexer": "ipython3",
   "version": "3.11.9"
  }
 },
 "nbformat": 4,
 "nbformat_minor": 5
}
