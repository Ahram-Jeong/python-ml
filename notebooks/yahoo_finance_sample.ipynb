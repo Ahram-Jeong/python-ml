{
 "cells": [
  {
   "metadata": {
    "ExecuteTime": {
     "end_time": "2024-06-03T16:01:42.374644Z",
     "start_time": "2024-06-03T16:01:40.959660Z"
    }
   },
   "cell_type": "code",
   "source": "import yfinance as yf",
   "id": "7bca5c5dcf8ae91a",
   "outputs": [],
   "execution_count": 1
  },
  {
   "metadata": {
    "ExecuteTime": {
     "end_time": "2024-06-03T16:01:42.385663Z",
     "start_time": "2024-06-03T16:01:42.374644Z"
    }
   },
   "cell_type": "code",
   "source": [
    "# 기간\n",
    "start_date = \"2021-01-01\"\n",
    "end_date = \"2024-06-01\"\n",
    "\n",
    "# 종목\n",
    "bitcoin = \"BTC-USD\"\n",
    "gold = \"GC=F\"\n",
    "usd = \"KRW=X\"\n",
    "wti = \"CL=F\"\n",
    "brent = \"BZ=F\"\n",
    "sample = \"080220.KQ\""
   ],
   "id": "1c43b8c5abc93b13",
   "outputs": [],
   "execution_count": 2
  },
  {
   "metadata": {
    "ExecuteTime": {
     "end_time": "2024-06-03T16:01:44.851664Z",
     "start_time": "2024-06-03T16:01:42.388817Z"
    }
   },
   "cell_type": "code",
   "source": [
    "# 금 티커 데이터 수집\n",
    "yf.download(gold, start_date, end_date)\n",
    "gold_close = yf.download(gold, start_date, end_date)[\"Adj Close\"]\n",
    "gold_close"
   ],
   "id": "cfc02d4c85a36c58",
   "outputs": [
    {
     "name": "stderr",
     "output_type": "stream",
     "text": [
      "[*********************100%%**********************]  1 of 1 completed\n",
      "[*********************100%%**********************]  1 of 1 completed\n"
     ]
    },
    {
     "data": {
      "text/plain": [
       "Date\n",
       "2021-01-04    1944.699951\n",
       "2021-01-05    1952.699951\n",
       "2021-01-06    1906.900024\n",
       "2021-01-07    1912.300049\n",
       "2021-01-08    1834.099976\n",
       "                 ...     \n",
       "2024-05-24    2332.500000\n",
       "2024-05-28    2355.199951\n",
       "2024-05-29    2340.300049\n",
       "2024-05-30    2342.899902\n",
       "2024-05-31    2322.899902\n",
       "Name: Adj Close, Length: 859, dtype: float64"
      ]
     },
     "execution_count": 3,
     "metadata": {},
     "output_type": "execute_result"
    }
   ],
   "execution_count": 3
  },
  {
   "metadata": {
    "ExecuteTime": {
     "end_time": "2024-06-03T16:01:45.098273Z",
     "start_time": "2024-06-03T16:01:44.851664Z"
    }
   },
   "cell_type": "code",
   "source": [
    "# 원달러 티커 데이터 수집\n",
    "yf.download(usd, start_date, end_date)"
   ],
   "id": "32bba34b21d3b568",
   "outputs": [
    {
     "name": "stderr",
     "output_type": "stream",
     "text": [
      "[*********************100%%**********************]  1 of 1 completed\n"
     ]
    },
    {
     "data": {
      "text/plain": [
       "                   Open         High          Low        Close    Adj Close  \\\n",
       "Date                                                                          \n",
       "2021-01-01  1083.500000  1088.500000  1083.500000  1084.650024  1084.650024   \n",
       "2021-01-04  1084.729980  1086.469971  1079.219971  1084.729980  1084.729980   \n",
       "2021-01-05  1085.609985  1089.729980  1081.670044  1086.619995  1086.619995   \n",
       "2021-01-06  1085.650024  1088.589966  1083.250000  1086.449951  1086.449951   \n",
       "2021-01-07  1085.250000  1096.000000  1084.829956  1086.949951  1086.949951   \n",
       "...                 ...          ...          ...          ...          ...   \n",
       "2024-05-27  1365.709961  1366.920044  1360.050049  1365.709961  1365.709961   \n",
       "2024-05-28  1360.930054  1362.810059  1354.849976  1360.930054  1360.930054   \n",
       "2024-05-29  1362.760010  1370.270020  1362.729980  1362.760010  1362.760010   \n",
       "2024-05-30  1370.550049  1380.930054  1369.739990  1370.550049  1370.550049   \n",
       "2024-05-31  1375.619995  1387.489990  1375.359985  1375.619995  1375.619995   \n",
       "\n",
       "            Volume  \n",
       "Date                \n",
       "2021-01-01       0  \n",
       "2021-01-04       0  \n",
       "2021-01-05       0  \n",
       "2021-01-06       0  \n",
       "2021-01-07       0  \n",
       "...            ...  \n",
       "2024-05-27       0  \n",
       "2024-05-28       0  \n",
       "2024-05-29       0  \n",
       "2024-05-30       0  \n",
       "2024-05-31       0  \n",
       "\n",
       "[891 rows x 6 columns]"
      ],
      "text/html": [
       "<div>\n",
       "<style scoped>\n",
       "    .dataframe tbody tr th:only-of-type {\n",
       "        vertical-align: middle;\n",
       "    }\n",
       "\n",
       "    .dataframe tbody tr th {\n",
       "        vertical-align: top;\n",
       "    }\n",
       "\n",
       "    .dataframe thead th {\n",
       "        text-align: right;\n",
       "    }\n",
       "</style>\n",
       "<table border=\"1\" class=\"dataframe\">\n",
       "  <thead>\n",
       "    <tr style=\"text-align: right;\">\n",
       "      <th></th>\n",
       "      <th>Open</th>\n",
       "      <th>High</th>\n",
       "      <th>Low</th>\n",
       "      <th>Close</th>\n",
       "      <th>Adj Close</th>\n",
       "      <th>Volume</th>\n",
       "    </tr>\n",
       "    <tr>\n",
       "      <th>Date</th>\n",
       "      <th></th>\n",
       "      <th></th>\n",
       "      <th></th>\n",
       "      <th></th>\n",
       "      <th></th>\n",
       "      <th></th>\n",
       "    </tr>\n",
       "  </thead>\n",
       "  <tbody>\n",
       "    <tr>\n",
       "      <th>2021-01-01</th>\n",
       "      <td>1083.500000</td>\n",
       "      <td>1088.500000</td>\n",
       "      <td>1083.500000</td>\n",
       "      <td>1084.650024</td>\n",
       "      <td>1084.650024</td>\n",
       "      <td>0</td>\n",
       "    </tr>\n",
       "    <tr>\n",
       "      <th>2021-01-04</th>\n",
       "      <td>1084.729980</td>\n",
       "      <td>1086.469971</td>\n",
       "      <td>1079.219971</td>\n",
       "      <td>1084.729980</td>\n",
       "      <td>1084.729980</td>\n",
       "      <td>0</td>\n",
       "    </tr>\n",
       "    <tr>\n",
       "      <th>2021-01-05</th>\n",
       "      <td>1085.609985</td>\n",
       "      <td>1089.729980</td>\n",
       "      <td>1081.670044</td>\n",
       "      <td>1086.619995</td>\n",
       "      <td>1086.619995</td>\n",
       "      <td>0</td>\n",
       "    </tr>\n",
       "    <tr>\n",
       "      <th>2021-01-06</th>\n",
       "      <td>1085.650024</td>\n",
       "      <td>1088.589966</td>\n",
       "      <td>1083.250000</td>\n",
       "      <td>1086.449951</td>\n",
       "      <td>1086.449951</td>\n",
       "      <td>0</td>\n",
       "    </tr>\n",
       "    <tr>\n",
       "      <th>2021-01-07</th>\n",
       "      <td>1085.250000</td>\n",
       "      <td>1096.000000</td>\n",
       "      <td>1084.829956</td>\n",
       "      <td>1086.949951</td>\n",
       "      <td>1086.949951</td>\n",
       "      <td>0</td>\n",
       "    </tr>\n",
       "    <tr>\n",
       "      <th>...</th>\n",
       "      <td>...</td>\n",
       "      <td>...</td>\n",
       "      <td>...</td>\n",
       "      <td>...</td>\n",
       "      <td>...</td>\n",
       "      <td>...</td>\n",
       "    </tr>\n",
       "    <tr>\n",
       "      <th>2024-05-27</th>\n",
       "      <td>1365.709961</td>\n",
       "      <td>1366.920044</td>\n",
       "      <td>1360.050049</td>\n",
       "      <td>1365.709961</td>\n",
       "      <td>1365.709961</td>\n",
       "      <td>0</td>\n",
       "    </tr>\n",
       "    <tr>\n",
       "      <th>2024-05-28</th>\n",
       "      <td>1360.930054</td>\n",
       "      <td>1362.810059</td>\n",
       "      <td>1354.849976</td>\n",
       "      <td>1360.930054</td>\n",
       "      <td>1360.930054</td>\n",
       "      <td>0</td>\n",
       "    </tr>\n",
       "    <tr>\n",
       "      <th>2024-05-29</th>\n",
       "      <td>1362.760010</td>\n",
       "      <td>1370.270020</td>\n",
       "      <td>1362.729980</td>\n",
       "      <td>1362.760010</td>\n",
       "      <td>1362.760010</td>\n",
       "      <td>0</td>\n",
       "    </tr>\n",
       "    <tr>\n",
       "      <th>2024-05-30</th>\n",
       "      <td>1370.550049</td>\n",
       "      <td>1380.930054</td>\n",
       "      <td>1369.739990</td>\n",
       "      <td>1370.550049</td>\n",
       "      <td>1370.550049</td>\n",
       "      <td>0</td>\n",
       "    </tr>\n",
       "    <tr>\n",
       "      <th>2024-05-31</th>\n",
       "      <td>1375.619995</td>\n",
       "      <td>1387.489990</td>\n",
       "      <td>1375.359985</td>\n",
       "      <td>1375.619995</td>\n",
       "      <td>1375.619995</td>\n",
       "      <td>0</td>\n",
       "    </tr>\n",
       "  </tbody>\n",
       "</table>\n",
       "<p>891 rows × 6 columns</p>\n",
       "</div>"
      ]
     },
     "execution_count": 4,
     "metadata": {},
     "output_type": "execute_result"
    }
   ],
   "execution_count": 4
  },
  {
   "metadata": {
    "ExecuteTime": {
     "end_time": "2024-06-03T16:01:45.370267Z",
     "start_time": "2024-06-03T16:01:45.098273Z"
    }
   },
   "cell_type": "code",
   "source": [
    "# 비트코인 티커 데이터 수집\n",
    "yf.download(bitcoin, start_date, end_date)\n",
    "bit_close = yf.download(bitcoin, start_date, end_date)[\"Adj Close\"]\n",
    "bit_close"
   ],
   "id": "ef20396b73b6375c",
   "outputs": [
    {
     "name": "stderr",
     "output_type": "stream",
     "text": [
      "[*********************100%%**********************]  1 of 1 completed\n",
      "[*********************100%%**********************]  1 of 1 completed\n"
     ]
    },
    {
     "data": {
      "text/plain": [
       "Date\n",
       "2021-01-01    29374.152344\n",
       "2021-01-02    32127.267578\n",
       "2021-01-03    32782.023438\n",
       "2021-01-04    31971.914062\n",
       "2021-01-05    33992.429688\n",
       "                  ...     \n",
       "2024-05-27    69394.554688\n",
       "2024-05-28    68296.218750\n",
       "2024-05-29    67578.093750\n",
       "2024-05-30    68364.992188\n",
       "2024-05-31    67491.414062\n",
       "Name: Adj Close, Length: 1247, dtype: float64"
      ]
     },
     "execution_count": 5,
     "metadata": {},
     "output_type": "execute_result"
    }
   ],
   "execution_count": 5
  },
  {
   "metadata": {},
   "cell_type": "markdown",
   "source": [
    "### 테스트 코드\n",
    "- 종목 : 제주반도체"
   ],
   "id": "c12416caaaa6761c"
  },
  {
   "metadata": {
    "ExecuteTime": {
     "end_time": "2024-06-03T16:01:45.600384Z",
     "start_time": "2024-06-03T16:01:45.370267Z"
    }
   },
   "cell_type": "code",
   "source": [
    "# 코스피 : .KS\n",
    "# 코스닥 : .KQ\n",
    "\n",
    "jeju = yf.download(sample, start_date, end_date)\n",
    "\n",
    "# 컬럼 추가 (증감량)\n",
    "# diff() : 행과 행의 차이\n",
    "jeju[\"change\"] = jeju[\"Adj Close\"].diff()#.abs() 상승, 하락 관계 없으면 절대 값 사용\n",
    "\n",
    "# 컬럼 추가 (수익률)\n",
    "# pct_change() : (다음행 - 현재행) ÷ 현재행\n",
    "jeju[\"daily_return\"] = jeju[\"Adj Close\"].pct_change()*100\n",
    "jeju"
   ],
   "id": "579a2612dd0a1a77",
   "outputs": [
    {
     "name": "stderr",
     "output_type": "stream",
     "text": [
      "[*********************100%%**********************]  1 of 1 completed\n"
     ]
    },
    {
     "data": {
      "text/plain": [
       "               Open     High      Low    Close  Adj Close    Volume  change  \\\n",
       "Date                                                                          \n",
       "2021-01-04   3770.0   3790.0   3700.0   3740.0     3740.0    770788     NaN   \n",
       "2021-01-05   3740.0   3740.0   3655.0   3700.0     3700.0    490077   -40.0   \n",
       "2021-01-06   3705.0   3995.0   3705.0   3815.0     3815.0   4105868   115.0   \n",
       "2021-01-07   3865.0   4655.0   3825.0   4180.0     4180.0  28056870   365.0   \n",
       "2021-01-08   4230.0   4285.0   4060.0   4205.0     4205.0   4812752    25.0   \n",
       "...             ...      ...      ...      ...        ...       ...     ...   \n",
       "2024-05-27  20800.0  21100.0  20300.0  21000.0    21000.0   1054767   300.0   \n",
       "2024-05-28  21200.0  21200.0  20800.0  21150.0    21150.0    778921   150.0   \n",
       "2024-05-29  21400.0  24300.0  21200.0  22700.0    22700.0   8155709  1550.0   \n",
       "2024-05-30  22350.0  22600.0  21500.0  21650.0    21650.0   1352793 -1050.0   \n",
       "2024-05-31  21400.0  22000.0  21250.0  21450.0    21450.0    817759  -200.0   \n",
       "\n",
       "            daily_return  \n",
       "Date                      \n",
       "2021-01-04           NaN  \n",
       "2021-01-05     -1.069519  \n",
       "2021-01-06      3.108108  \n",
       "2021-01-07      9.567497  \n",
       "2021-01-08      0.598086  \n",
       "...                  ...  \n",
       "2024-05-27      1.449275  \n",
       "2024-05-28      0.714286  \n",
       "2024-05-29      7.328605  \n",
       "2024-05-30     -4.625551  \n",
       "2024-05-31     -0.923788  \n",
       "\n",
       "[837 rows x 8 columns]"
      ],
      "text/html": [
       "<div>\n",
       "<style scoped>\n",
       "    .dataframe tbody tr th:only-of-type {\n",
       "        vertical-align: middle;\n",
       "    }\n",
       "\n",
       "    .dataframe tbody tr th {\n",
       "        vertical-align: top;\n",
       "    }\n",
       "\n",
       "    .dataframe thead th {\n",
       "        text-align: right;\n",
       "    }\n",
       "</style>\n",
       "<table border=\"1\" class=\"dataframe\">\n",
       "  <thead>\n",
       "    <tr style=\"text-align: right;\">\n",
       "      <th></th>\n",
       "      <th>Open</th>\n",
       "      <th>High</th>\n",
       "      <th>Low</th>\n",
       "      <th>Close</th>\n",
       "      <th>Adj Close</th>\n",
       "      <th>Volume</th>\n",
       "      <th>change</th>\n",
       "      <th>daily_return</th>\n",
       "    </tr>\n",
       "    <tr>\n",
       "      <th>Date</th>\n",
       "      <th></th>\n",
       "      <th></th>\n",
       "      <th></th>\n",
       "      <th></th>\n",
       "      <th></th>\n",
       "      <th></th>\n",
       "      <th></th>\n",
       "      <th></th>\n",
       "    </tr>\n",
       "  </thead>\n",
       "  <tbody>\n",
       "    <tr>\n",
       "      <th>2021-01-04</th>\n",
       "      <td>3770.0</td>\n",
       "      <td>3790.0</td>\n",
       "      <td>3700.0</td>\n",
       "      <td>3740.0</td>\n",
       "      <td>3740.0</td>\n",
       "      <td>770788</td>\n",
       "      <td>NaN</td>\n",
       "      <td>NaN</td>\n",
       "    </tr>\n",
       "    <tr>\n",
       "      <th>2021-01-05</th>\n",
       "      <td>3740.0</td>\n",
       "      <td>3740.0</td>\n",
       "      <td>3655.0</td>\n",
       "      <td>3700.0</td>\n",
       "      <td>3700.0</td>\n",
       "      <td>490077</td>\n",
       "      <td>-40.0</td>\n",
       "      <td>-1.069519</td>\n",
       "    </tr>\n",
       "    <tr>\n",
       "      <th>2021-01-06</th>\n",
       "      <td>3705.0</td>\n",
       "      <td>3995.0</td>\n",
       "      <td>3705.0</td>\n",
       "      <td>3815.0</td>\n",
       "      <td>3815.0</td>\n",
       "      <td>4105868</td>\n",
       "      <td>115.0</td>\n",
       "      <td>3.108108</td>\n",
       "    </tr>\n",
       "    <tr>\n",
       "      <th>2021-01-07</th>\n",
       "      <td>3865.0</td>\n",
       "      <td>4655.0</td>\n",
       "      <td>3825.0</td>\n",
       "      <td>4180.0</td>\n",
       "      <td>4180.0</td>\n",
       "      <td>28056870</td>\n",
       "      <td>365.0</td>\n",
       "      <td>9.567497</td>\n",
       "    </tr>\n",
       "    <tr>\n",
       "      <th>2021-01-08</th>\n",
       "      <td>4230.0</td>\n",
       "      <td>4285.0</td>\n",
       "      <td>4060.0</td>\n",
       "      <td>4205.0</td>\n",
       "      <td>4205.0</td>\n",
       "      <td>4812752</td>\n",
       "      <td>25.0</td>\n",
       "      <td>0.598086</td>\n",
       "    </tr>\n",
       "    <tr>\n",
       "      <th>...</th>\n",
       "      <td>...</td>\n",
       "      <td>...</td>\n",
       "      <td>...</td>\n",
       "      <td>...</td>\n",
       "      <td>...</td>\n",
       "      <td>...</td>\n",
       "      <td>...</td>\n",
       "      <td>...</td>\n",
       "    </tr>\n",
       "    <tr>\n",
       "      <th>2024-05-27</th>\n",
       "      <td>20800.0</td>\n",
       "      <td>21100.0</td>\n",
       "      <td>20300.0</td>\n",
       "      <td>21000.0</td>\n",
       "      <td>21000.0</td>\n",
       "      <td>1054767</td>\n",
       "      <td>300.0</td>\n",
       "      <td>1.449275</td>\n",
       "    </tr>\n",
       "    <tr>\n",
       "      <th>2024-05-28</th>\n",
       "      <td>21200.0</td>\n",
       "      <td>21200.0</td>\n",
       "      <td>20800.0</td>\n",
       "      <td>21150.0</td>\n",
       "      <td>21150.0</td>\n",
       "      <td>778921</td>\n",
       "      <td>150.0</td>\n",
       "      <td>0.714286</td>\n",
       "    </tr>\n",
       "    <tr>\n",
       "      <th>2024-05-29</th>\n",
       "      <td>21400.0</td>\n",
       "      <td>24300.0</td>\n",
       "      <td>21200.0</td>\n",
       "      <td>22700.0</td>\n",
       "      <td>22700.0</td>\n",
       "      <td>8155709</td>\n",
       "      <td>1550.0</td>\n",
       "      <td>7.328605</td>\n",
       "    </tr>\n",
       "    <tr>\n",
       "      <th>2024-05-30</th>\n",
       "      <td>22350.0</td>\n",
       "      <td>22600.0</td>\n",
       "      <td>21500.0</td>\n",
       "      <td>21650.0</td>\n",
       "      <td>21650.0</td>\n",
       "      <td>1352793</td>\n",
       "      <td>-1050.0</td>\n",
       "      <td>-4.625551</td>\n",
       "    </tr>\n",
       "    <tr>\n",
       "      <th>2024-05-31</th>\n",
       "      <td>21400.0</td>\n",
       "      <td>22000.0</td>\n",
       "      <td>21250.0</td>\n",
       "      <td>21450.0</td>\n",
       "      <td>21450.0</td>\n",
       "      <td>817759</td>\n",
       "      <td>-200.0</td>\n",
       "      <td>-0.923788</td>\n",
       "    </tr>\n",
       "  </tbody>\n",
       "</table>\n",
       "<p>837 rows × 8 columns</p>\n",
       "</div>"
      ]
     },
     "execution_count": 6,
     "metadata": {},
     "output_type": "execute_result"
    }
   ],
   "execution_count": 6
  },
  {
   "metadata": {
    "ExecuteTime": {
     "end_time": "2024-06-03T16:01:45.621512Z",
     "start_time": "2024-06-03T16:01:45.600384Z"
    }
   },
   "cell_type": "code",
   "source": [
    "# 특정 기간 수익률 계산 함수\n",
    "def period_return(ticker, start_d, end_d) :\n",
    "    data = yf.download(ticker, start = start_d, end = end_d)\n",
    "    # 시작일, 종료일의 종가 -> 위치 인덱싱 사용\n",
    "    start_price = data[\"Adj Close\"].iloc[0] # DF의 첫 번째 행\n",
    "    end_price = data[\"Adj Close\"].iloc[-1] # DF의 마지막 행\n",
    "    # 수익률 계산\n",
    "    return (end_price - start_price) / start_price * 100"
   ],
   "id": "3b9963c1a1f6526d",
   "outputs": [],
   "execution_count": 7
  },
  {
   "metadata": {
    "ExecuteTime": {
     "end_time": "2024-06-03T16:01:45.894037Z",
     "start_time": "2024-06-03T16:01:45.621512Z"
    }
   },
   "cell_type": "code",
   "source": "period_return(sample, \"2024-02-01\", \"2024-06-01\")",
   "id": "d331bb9e9c0b5f9d",
   "outputs": [
    {
     "name": "stderr",
     "output_type": "stream",
     "text": [
      "[*********************100%%**********************]  1 of 1 completed\n"
     ]
    },
    {
     "data": {
      "text/plain": [
       "-22.282608695652172"
      ]
     },
     "execution_count": 8,
     "metadata": {},
     "output_type": "execute_result"
    }
   ],
   "execution_count": 8
  },
  {
   "metadata": {
    "ExecuteTime": {
     "end_time": "2024-06-03T16:01:45.907151Z",
     "start_time": "2024-06-03T16:01:45.894037Z"
    }
   },
   "cell_type": "code",
   "source": [
    "max_change_idx = jeju[\"change\"].idxmax().strftime(\"%Y-%m-%d\") # change 컬럼에서 최댓값의 인덱스 반환\n",
    "max_change_idx"
   ],
   "id": "6e78b761d31393dc",
   "outputs": [
    {
     "data": {
      "text/plain": [
       "'2024-03-28'"
      ]
     },
     "execution_count": 9,
     "metadata": {},
     "output_type": "execute_result"
    }
   ],
   "execution_count": 9
  },
  {
   "metadata": {
    "ExecuteTime": {
     "end_time": "2024-06-03T16:01:45.961431Z",
     "start_time": "2024-06-03T16:01:45.907151Z"
    }
   },
   "cell_type": "code",
   "source": [
    "top10_change = jeju.nlargest(10, 'change') # change 컬럼에서 상위 10개 값의 row 추출\n",
    "top10_change"
   ],
   "id": "77fc5b01eada8be6",
   "outputs": [
    {
     "data": {
      "text/plain": [
       "               Open     High      Low    Close  Adj Close    Volume  change  \\\n",
       "Date                                                                          \n",
       "2024-03-28  23500.0  29000.0  23050.0  28600.0    28600.0  27918940  5250.0   \n",
       "2024-01-19  23150.0  26950.0  21900.0  26250.0    26250.0  38373060  5000.0   \n",
       "2024-01-22  27900.0  31600.0  27550.0  30700.0    30700.0  25971060  4450.0   \n",
       "2024-01-15  17840.0  21250.0  17510.0  21150.0    21150.0  22329970  3100.0   \n",
       "2024-01-24  31050.0  34850.0  29550.0  33800.0    33800.0  14980960  3100.0   \n",
       "2024-01-02  13370.0  16990.0  13150.0  16700.0    16700.0  24147850  3000.0   \n",
       "2024-02-06  24650.0  29200.0  22200.0  27450.0    27450.0  27558960  2950.0   \n",
       "2024-02-14  28950.0  33400.0  28850.0  32300.0    32300.0  17882320  2400.0   \n",
       "2023-12-08   9300.0  11620.0   9020.0  11280.0    11280.0  36652960  2340.0   \n",
       "2024-03-04  27500.0  29500.0  27500.0  29250.0    29250.0   7137102  2150.0   \n",
       "\n",
       "            daily_return  \n",
       "Date                      \n",
       "2024-03-28     22.483940  \n",
       "2024-01-19     23.529412  \n",
       "2024-01-22     16.952381  \n",
       "2024-01-15     17.174515  \n",
       "2024-01-24     10.097720  \n",
       "2024-01-02     21.897810  \n",
       "2024-02-06     12.040816  \n",
       "2024-02-14      8.026756  \n",
       "2023-12-08     26.174497  \n",
       "2024-03-04      7.933579  "
      ],
      "text/html": [
       "<div>\n",
       "<style scoped>\n",
       "    .dataframe tbody tr th:only-of-type {\n",
       "        vertical-align: middle;\n",
       "    }\n",
       "\n",
       "    .dataframe tbody tr th {\n",
       "        vertical-align: top;\n",
       "    }\n",
       "\n",
       "    .dataframe thead th {\n",
       "        text-align: right;\n",
       "    }\n",
       "</style>\n",
       "<table border=\"1\" class=\"dataframe\">\n",
       "  <thead>\n",
       "    <tr style=\"text-align: right;\">\n",
       "      <th></th>\n",
       "      <th>Open</th>\n",
       "      <th>High</th>\n",
       "      <th>Low</th>\n",
       "      <th>Close</th>\n",
       "      <th>Adj Close</th>\n",
       "      <th>Volume</th>\n",
       "      <th>change</th>\n",
       "      <th>daily_return</th>\n",
       "    </tr>\n",
       "    <tr>\n",
       "      <th>Date</th>\n",
       "      <th></th>\n",
       "      <th></th>\n",
       "      <th></th>\n",
       "      <th></th>\n",
       "      <th></th>\n",
       "      <th></th>\n",
       "      <th></th>\n",
       "      <th></th>\n",
       "    </tr>\n",
       "  </thead>\n",
       "  <tbody>\n",
       "    <tr>\n",
       "      <th>2024-03-28</th>\n",
       "      <td>23500.0</td>\n",
       "      <td>29000.0</td>\n",
       "      <td>23050.0</td>\n",
       "      <td>28600.0</td>\n",
       "      <td>28600.0</td>\n",
       "      <td>27918940</td>\n",
       "      <td>5250.0</td>\n",
       "      <td>22.483940</td>\n",
       "    </tr>\n",
       "    <tr>\n",
       "      <th>2024-01-19</th>\n",
       "      <td>23150.0</td>\n",
       "      <td>26950.0</td>\n",
       "      <td>21900.0</td>\n",
       "      <td>26250.0</td>\n",
       "      <td>26250.0</td>\n",
       "      <td>38373060</td>\n",
       "      <td>5000.0</td>\n",
       "      <td>23.529412</td>\n",
       "    </tr>\n",
       "    <tr>\n",
       "      <th>2024-01-22</th>\n",
       "      <td>27900.0</td>\n",
       "      <td>31600.0</td>\n",
       "      <td>27550.0</td>\n",
       "      <td>30700.0</td>\n",
       "      <td>30700.0</td>\n",
       "      <td>25971060</td>\n",
       "      <td>4450.0</td>\n",
       "      <td>16.952381</td>\n",
       "    </tr>\n",
       "    <tr>\n",
       "      <th>2024-01-15</th>\n",
       "      <td>17840.0</td>\n",
       "      <td>21250.0</td>\n",
       "      <td>17510.0</td>\n",
       "      <td>21150.0</td>\n",
       "      <td>21150.0</td>\n",
       "      <td>22329970</td>\n",
       "      <td>3100.0</td>\n",
       "      <td>17.174515</td>\n",
       "    </tr>\n",
       "    <tr>\n",
       "      <th>2024-01-24</th>\n",
       "      <td>31050.0</td>\n",
       "      <td>34850.0</td>\n",
       "      <td>29550.0</td>\n",
       "      <td>33800.0</td>\n",
       "      <td>33800.0</td>\n",
       "      <td>14980960</td>\n",
       "      <td>3100.0</td>\n",
       "      <td>10.097720</td>\n",
       "    </tr>\n",
       "    <tr>\n",
       "      <th>2024-01-02</th>\n",
       "      <td>13370.0</td>\n",
       "      <td>16990.0</td>\n",
       "      <td>13150.0</td>\n",
       "      <td>16700.0</td>\n",
       "      <td>16700.0</td>\n",
       "      <td>24147850</td>\n",
       "      <td>3000.0</td>\n",
       "      <td>21.897810</td>\n",
       "    </tr>\n",
       "    <tr>\n",
       "      <th>2024-02-06</th>\n",
       "      <td>24650.0</td>\n",
       "      <td>29200.0</td>\n",
       "      <td>22200.0</td>\n",
       "      <td>27450.0</td>\n",
       "      <td>27450.0</td>\n",
       "      <td>27558960</td>\n",
       "      <td>2950.0</td>\n",
       "      <td>12.040816</td>\n",
       "    </tr>\n",
       "    <tr>\n",
       "      <th>2024-02-14</th>\n",
       "      <td>28950.0</td>\n",
       "      <td>33400.0</td>\n",
       "      <td>28850.0</td>\n",
       "      <td>32300.0</td>\n",
       "      <td>32300.0</td>\n",
       "      <td>17882320</td>\n",
       "      <td>2400.0</td>\n",
       "      <td>8.026756</td>\n",
       "    </tr>\n",
       "    <tr>\n",
       "      <th>2023-12-08</th>\n",
       "      <td>9300.0</td>\n",
       "      <td>11620.0</td>\n",
       "      <td>9020.0</td>\n",
       "      <td>11280.0</td>\n",
       "      <td>11280.0</td>\n",
       "      <td>36652960</td>\n",
       "      <td>2340.0</td>\n",
       "      <td>26.174497</td>\n",
       "    </tr>\n",
       "    <tr>\n",
       "      <th>2024-03-04</th>\n",
       "      <td>27500.0</td>\n",
       "      <td>29500.0</td>\n",
       "      <td>27500.0</td>\n",
       "      <td>29250.0</td>\n",
       "      <td>29250.0</td>\n",
       "      <td>7137102</td>\n",
       "      <td>2150.0</td>\n",
       "      <td>7.933579</td>\n",
       "    </tr>\n",
       "  </tbody>\n",
       "</table>\n",
       "</div>"
      ]
     },
     "execution_count": 10,
     "metadata": {},
     "output_type": "execute_result"
    }
   ],
   "execution_count": 10
  },
  {
   "metadata": {
    "ExecuteTime": {
     "end_time": "2024-06-03T16:01:45.973319Z",
     "start_time": "2024-06-03T16:01:45.961431Z"
    }
   },
   "cell_type": "code",
   "source": "top10_change.index",
   "id": "9619cb909f34fd50",
   "outputs": [
    {
     "data": {
      "text/plain": [
       "DatetimeIndex(['2024-03-28', '2024-01-19', '2024-01-22', '2024-01-15',\n",
       "               '2024-01-24', '2024-01-02', '2024-02-06', '2024-02-14',\n",
       "               '2023-12-08', '2024-03-04'],\n",
       "              dtype='datetime64[ns]', name='Date', freq=None)"
      ]
     },
     "execution_count": 11,
     "metadata": {},
     "output_type": "execute_result"
    }
   ],
   "execution_count": 11
  }
 ],
 "metadata": {
  "kernelspec": {
   "display_name": "Python 3",
   "language": "python",
   "name": "python3"
  },
  "language_info": {
   "codemirror_mode": {
    "name": "ipython",
    "version": 2
   },
   "file_extension": ".py",
   "mimetype": "text/x-python",
   "name": "python",
   "nbconvert_exporter": "python",
   "pygments_lexer": "ipython2",
   "version": "2.7.6"
  }
 },
 "nbformat": 4,
 "nbformat_minor": 5
}
