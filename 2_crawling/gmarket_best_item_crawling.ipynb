{
 "cells": [
  {
   "metadata": {},
   "cell_type": "markdown",
   "source": [
    "### 베스트 아이템 페이지 전체의 상품명, 가격, 카테고리 크롤링\n",
    "1. 베스트 아이템 페이지에서 각 물품의 상세 페이지 클릭\n",
    "2. 콘텐츠 수집\n",
    "3. 뒤로가기\n",
    "#### 1-2-3 반복"
   ],
   "id": "4e886c6fe9d08cf2"
  },
  {
   "cell_type": "code",
   "id": "initial_id",
   "metadata": {
    "collapsed": true,
    "ExecuteTime": {
     "end_time": "2024-05-29T13:39:53.356692Z",
     "start_time": "2024-05-29T13:39:52.307577Z"
    }
   },
   "source": [
    "from selenium import webdriver as wb # selenium의 webdriver를 사용하기 위한 모듈 (브라우저 할당)\n",
    "from selenium.webdriver.common.by import By # webdriver 라이브러리에서 웹 요소를 찾기 위한 방법들을 제공하는 모듈\n",
    "from tqdm import tqdm\n",
    "import pandas as pd\n",
    "# import time # 페이지 로딩을 기다리는 데에 사용하는 모듈"
   ],
   "execution_count": 1,
   "outputs": []
  },
  {
   "metadata": {
    "ExecuteTime": {
     "end_time": "2024-05-29T13:55:50.787099Z",
     "start_time": "2024-05-29T13:40:05.685966Z"
    }
   },
   "cell_type": "code",
   "source": [
    "driver = wb.Chrome()\n",
    "driver.get(\"https://www.gmarket.co.kr/n/best\")\n",
    "driver.maximize_window()\n",
    "\n",
    "# 전체 상품 리스트\n",
    "items = []\n",
    "# 상품 카테고리\n",
    "categories = []\n",
    "# 상품 명\n",
    "names = []\n",
    "# 가격\n",
    "prices = []\n",
    "\n",
    "# 전체 상품 리스트의 길이를 출력하기 위한 호출\n",
    "items = driver.find_elements(By.CSS_SELECTOR, \"a.itemname\")\n",
    "\n",
    "for i in tqdm(range(len(items))) :\n",
    "    try :\n",
    "        # 페이지 리로드 시 items 리스트를 다시 가져와야 함!\n",
    "        # 페이지가 새로 고쳐지면서 이전에 참조했던 요소들이 유효하지 않게 되기 때문\n",
    "        # Selenium이 특정 요소를 참조할 때, 그 요소는 현재 DOM 구조 내에서의 위치를 기반\n",
    "        # 요소의 참조는 페이지 로딩 시점의 상태를 기반으로 하므로, DOM이 변경되면 그 참조는 더 이상 유효하지 않음\n",
    "        items = driver.find_elements(By.CSS_SELECTOR, \"a.itemname\")\n",
    "        items[i].click()\n",
    "        # time.sleep(1) # 슬립\n",
    "        \n",
    "        category = driver.find_element(By.CSS_SELECTOR, \"li.on > a\")\n",
    "        name = driver.find_element(By.CSS_SELECTOR, \"h1.itemtit\")\n",
    "        price = driver.find_element(By.CSS_SELECTOR, \"strong.price_real\")\n",
    "        \n",
    "        categories.append(category.text)\n",
    "        names.append(name.text)\n",
    "        prices.append(price.text)\n",
    "        \n",
    "        driver.back()\n",
    "        # time.sleep(1) # 슬립\n",
    "    except Exception as e :\n",
    "        print(\"오류 발생 : \", e)\n",
    "        continue\n",
    "driver.quit()\n",
    "\n",
    "print(\"크롤링 완료😇\")\n",
    "print(len(categories))\n",
    "print(len(names))\n",
    "print(len(prices))\n",
    "\n",
    "gmarket_dic = {\"카테고리\" : categories, \"상품명\" : names, \"가격\" : prices}\n",
    "df = pd.DataFrame(gmarket_dic, index = range(1, len(names)+1))\n",
    "df.index.name = \"순위\"\n",
    "df"
   ],
   "id": "92bb319d1d3b335b",
   "execution_count": 2,
   "outputs": []
  },
  {
   "metadata": {
    "ExecuteTime": {
     "end_time": "2024-05-29T13:55:58.840572Z",
     "start_time": "2024-05-29T13:55:58.826618Z"
    }
   },
   "cell_type": "code",
   "source": "df.to_csv(\"../data/gmarket.csv\", encoding = \"utf-8\")",
   "id": "417d9e5ee6522691",
   "execution_count": 3,
   "outputs": []
  }
 ],
 "metadata": {
  "kernelspec": {
   "display_name": "Python 3",
   "language": "python",
   "name": "python3"
  },
  "language_info": {
   "codemirror_mode": {
    "name": "ipython",
    "version": 2
   },
   "file_extension": ".py",
   "mimetype": "text/x-python",
   "name": "python",
   "nbconvert_exporter": "python",
   "pygments_lexer": "ipython2",
   "version": "2.7.6"
  }
 },
 "nbformat": 4,
 "nbformat_minor": 5
}
