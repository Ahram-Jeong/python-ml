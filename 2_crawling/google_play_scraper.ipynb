{
 "cells": [
  {
   "cell_type": "markdown",
   "id": "4c26fc30",
   "metadata": {},
   "source": [
    "### import\n"
   ]
  },
  {
   "cell_type": "code",
   "execution_count": 1,
   "id": "6d3f2c9a",
   "metadata": {},
   "outputs": [],
   "source": [
    "import pandas as pd\n",
    "import numpy as np\n",
    "\n",
    "from google_play_scraper import reviews, Sort\n",
    "\n",
    "import seaborn as sns\n",
    "import matplotlib.pyplot as plt\n",
    "from wordcloud import WordCloud\n",
    "\n",
    "from konlpy.tag import Okt\n",
    "from collections import Counter\n",
    "\n",
    "from pprint import pprint\n",
    "from PIL import Image\n",
    "\n",
    "import warnings\n",
    "\n",
    "warnings.filterwarnings(\"ignore\")"
   ]
  },
  {
   "cell_type": "markdown",
   "id": "b73d7e3a",
   "metadata": {},
   "source": [
    "### 데이터 수집\n"
   ]
  },
  {
   "cell_type": "markdown",
   "id": "7c4a10a5",
   "metadata": {},
   "source": [
    "### 구글 playstore 리뷰 데이터\n"
   ]
  },
  {
   "cell_type": "code",
   "execution_count": 2,
   "id": "b84d3144",
   "metadata": {},
   "outputs": [],
   "source": [
    "def gstore_reviews(app_id):\n",
    "    # 리뷰 가져오기\n",
    "    result = reviews(\n",
    "        app_id,\n",
    "        lang=\"ko\",  # 한국어 리뷰\n",
    "        country=\"kr\",  # 한국\n",
    "        sort=Sort.NEWEST,  # 최신 리뷰 먼저 가져오기\n",
    "        count=100000,  # 가져올 리뷰 수 (최대 100000)\n",
    "    )\n",
    "\n",
    "    # 리뷰 데이터\n",
    "    review_data = result[0]\n",
    "\n",
    "    # DataFrame으로 변환\n",
    "    return pd.DataFrame(review_data)"
   ]
  },
  {
   "cell_type": "code",
   "execution_count": 3,
   "id": "4bb87225",
   "metadata": {},
   "outputs": [],
   "source": [
    "duo_df = gstore_reviews(\"com.duolingo\")\n",
    "duo_df.to_csv(\"duo_rv.csv\", index=False, encoding=\"utf-8\")\n",
    "\n",
    "qz_df = gstore_reviews(\"com.quizlet.quizletandroid\")\n",
    "qz_df.to_csv(\"qz_rv.csv\", index=False, encoding=\"utf-8\")\n",
    "\n",
    "cc_df = gstore_reviews(\"classcard.net\")\n",
    "cc_df.to_csv(\"cc_rv.csv\", index=False, encoding=\"utf-8\")\n",
    "\n",
    "qd_df = gstore_reviews(\"com.mathpresso.qanda\")\n",
    "qd_df.to_csv(\"qd_rv.csv\", index=False, encoding=\"utf-8\")"
   ]
  },
  {
   "cell_type": "code",
   "execution_count": 7,
   "id": "1bd34b4c",
   "metadata": {},
   "outputs": [],
   "source": [
    "# 퀴즈렛\n",
    "df = pd.read_csv(\"qz_rv.csv\")  # 실제 파일명으로 변경 필요\n",
    "\n",
    "# 날짜 컬럼을 datetime 형식으로 변환\n",
    "df[\"at\"] = pd.to_datetime(df[\"at\"])\n",
    "\n",
    "# 2025년 이후 데이터만 필터링\n",
    "df_filtered = df[df[\"at\"].dt.year >= 2025]\n",
    "df_filtered[[\"content\", \"score\", \"at\"]]\n",
    "\n",
    "df_filtered.to_csv(\"qz_rv_2025.csv\", index=False, encoding=\"utf-8\")"
   ]
  }
 ],
 "metadata": {
  "kernelspec": {
   "display_name": "py_311",
   "language": "python",
   "name": "py_311"
  },
  "language_info": {
   "codemirror_mode": {
    "name": "ipython",
    "version": 3
   },
   "file_extension": ".py",
   "mimetype": "text/x-python",
   "name": "python",
   "nbconvert_exporter": "python",
   "pygments_lexer": "ipython3",
   "version": "3.11.9"
  },
  "toc": {
   "base_numbering": 1,
   "nav_menu": {},
   "number_sections": true,
   "sideBar": true,
   "skip_h1_title": false,
   "title_cell": "Table of Contents",
   "title_sidebar": "Contents",
   "toc_cell": false,
   "toc_position": {
    "height": "calc(100% - 180px)",
    "left": "10px",
    "top": "150px",
    "width": "165px"
   },
   "toc_section_display": true,
   "toc_window_display": true
  }
 },
 "nbformat": 4,
 "nbformat_minor": 5
}
