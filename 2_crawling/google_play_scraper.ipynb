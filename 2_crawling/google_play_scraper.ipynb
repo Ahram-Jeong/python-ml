{
 "cells": [
  {
   "cell_type": "code",
   "id": "6d3f2c9a",
   "metadata": {
    "ExecuteTime": {
     "end_time": "2025-02-25T12:57:18.933405Z",
     "start_time": "2025-02-25T12:57:17.842883Z"
    }
   },
   "source": [
    "import pandas as pd\n",
    "from google_play_scraper import reviews, Sort\n",
    "import warnings\n",
    "\n",
    "warnings.filterwarnings(\"ignore\")"
   ],
   "outputs": [],
   "execution_count": 1
  },
  {
   "cell_type": "markdown",
   "id": "7c4a10a5",
   "metadata": {},
   "source": [
    "## 데이터 수집\n",
    "### 구글 playstore 리뷰 데이터"
   ]
  },
  {
   "cell_type": "code",
   "id": "b84d3144",
   "metadata": {
    "ExecuteTime": {
     "end_time": "2025-02-25T12:57:18.944461Z",
     "start_time": "2025-02-25T12:57:18.933405Z"
    }
   },
   "source": [
    "def gstore_reviews(app_id):\n",
    "    # 리뷰 가져오기\n",
    "    result = reviews(\n",
    "        app_id,\n",
    "        lang=\"ko\", # 한국어 리뷰\n",
    "        country=\"kr\", # 한국\n",
    "        sort=Sort.NEWEST, # 최신 리뷰 먼저 가져오기\n",
    "        count=100000, # 가져올 리뷰 수 (최대 100,000)\n",
    "    )\n",
    "\n",
    "    # 리뷰 데이터\n",
    "    review_data = result[0]\n",
    "\n",
    "    # DataFrame으로 변환\n",
    "    return pd.DataFrame(review_data)"
   ],
   "outputs": [],
   "execution_count": 2
  },
  {
   "cell_type": "code",
   "id": "4bb87225",
   "metadata": {
    "ExecuteTime": {
     "end_time": "2025-02-25T12:57:23.013132Z",
     "start_time": "2025-02-25T12:57:18.944461Z"
    }
   },
   "source": [
    "duo_df = gstore_reviews(\"com.duolingo\")\n",
    "duo_df.to_csv(\"duo_rv.csv\", index=False, encoding=\"utf-8\")\n",
    "\n",
    "qz_df = gstore_reviews(\"com.quizlet.quizletandroid\")\n",
    "qz_df.to_csv(\"qz_rv.csv\", index=False, encoding=\"utf-8\")\n",
    "\n",
    "cc_df = gstore_reviews(\"classcard.net\")\n",
    "cc_df.to_csv(\"cc_rv.csv\", index=False, encoding=\"utf-8\")\n",
    "\n",
    "qd_df = gstore_reviews(\"com.mathpresso.qanda\")\n",
    "qd_df.to_csv(\"qd_rv.csv\", index=False, encoding=\"utf-8\")"
   ],
   "outputs": [],
   "execution_count": 3
  },
  {
   "cell_type": "code",
   "id": "1bd34b4c",
   "metadata": {
    "ExecuteTime": {
     "end_time": "2025-02-25T12:57:23.079023Z",
     "start_time": "2025-02-25T12:57:23.064951Z"
    }
   },
   "source": [
    "# 퀴즈렛\n",
    "df = pd.read_csv(\"qz_rv.csv\")  # 실제 파일명으로 변경 필요\n",
    "\n",
    "# 날짜 컬럼을 datetime 형식으로 변환\n",
    "df[\"at\"] = pd.to_datetime(df[\"at\"])\n",
    "\n",
    "# 2025년 이후 데이터만 필터링\n",
    "df_filtered = df[df[\"at\"].dt.year >= 2025]\n",
    "df_filtered.to_csv(\"qz_rv_2025.csv\", index=False, encoding=\"utf-8\")"
   ],
   "outputs": [],
   "execution_count": 5
  },
  {
   "metadata": {},
   "cell_type": "markdown",
   "source": "### Quizlet의 학습용, 교구용 비율 분석 - 사용자 리뷰 기반",
   "id": "c4c93c281e1a23ea"
  },
  {
   "metadata": {},
   "cell_type": "code",
   "outputs": [
    {
     "data": {
      "text/plain": [
       "category\n",
       "기타     61.069652\n",
       "학습용    38.163350\n",
       "교구용     0.766998\n",
       "Name: proportion, dtype: float64"
      ]
     },
     "execution_count": 4,
     "metadata": {},
     "output_type": "execute_result"
    }
   ],
   "execution_count": 4,
   "source": [
    "# 학습용 분류 키워드 설정\n",
    "study_keywords = [\n",
    "    \"시험\",\n",
    "    \"문제\",\n",
    "    \"단어\",\n",
    "    \"개념\",\n",
    "    \"복습\",\n",
    "    \"암기\",\n",
    "    \"테스트\",\n",
    "    \"학습\",\n",
    "    \"공부\",\n",
    "    \"연습\",\n",
    "]\n",
    "\n",
    "# 교구용 분류 키워드 설정\n",
    "teaching_keywords = [\n",
    "    \"수업\",\n",
    "    \"퀴즈\",\n",
    "    \"교사용\",\n",
    "    \"학습지\",\n",
    "    \"학생\",\n",
    "    \"수업자료\",\n",
    "    \"활동\",\n",
    "    \"플래시카드\",\n",
    "]\n",
    "\n",
    "def categorize_content(text):\n",
    "    if isinstance(text, str):  # 문자열 인지 확인\n",
    "        if any(word in text for word in study_keywords):\n",
    "            return \"학습용\"\n",
    "        elif any(word in text for word in teaching_keywords):\n",
    "            return \"교구용\"\n",
    "    return \"기타\"\n",
    "\n",
    "# category 컬럼 추가, values = \"학습용\", \"교구용\", \"기타\"\n",
    "qz_df[\"category\"] = qz_df[\"content\"].apply(categorize_content)\n",
    "\n",
    "# 카테고리 별 비율 계산\n",
    "category_counts = qz_df[\"category\"].value_counts(normalize=True) * 100\n",
    "category_counts"
   ],
   "id": "9b5557f16d947a8c"
  }
 ],
 "metadata": {
  "kernelspec": {
   "display_name": "py_311",
   "language": "python",
   "name": "py_311"
  },
  "language_info": {
   "codemirror_mode": {
    "name": "ipython",
    "version": 3
   },
   "file_extension": ".py",
   "mimetype": "text/x-python",
   "name": "python",
   "nbconvert_exporter": "python",
   "pygments_lexer": "ipython3",
   "version": "3.11.9"
  },
  "toc": {
   "base_numbering": 1,
   "nav_menu": {},
   "number_sections": true,
   "sideBar": true,
   "skip_h1_title": false,
   "title_cell": "Table of Contents",
   "title_sidebar": "Contents",
   "toc_cell": false,
   "toc_position": {
    "height": "calc(100% - 180px)",
    "left": "10px",
    "top": "150px",
    "width": "165px"
   },
   "toc_section_display": true,
   "toc_window_display": true
  }
 },
 "nbformat": 4,
 "nbformat_minor": 5
}
