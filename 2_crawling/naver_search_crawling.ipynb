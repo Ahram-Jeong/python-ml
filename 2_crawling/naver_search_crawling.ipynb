{
 "cells": [
  {
   "metadata": {},
   "cell_type": "markdown",
   "source": [
    "### 네이버 검색 후 뉴스 제목 크롤링\n",
    "1. 크롬 브라우저 열기\n",
    "2. 네이버 접속\n",
    "3. 검색 창 접근 후, 원하는 검색에 입력하여 검색\n",
    "4. 이미지 탭 클릭\n",
    "5. 뒤로가기\n",
    "6. 뉴스 탭 클릭하여 스크롤을 맨 끝으로 내린 후, 뉴스 제목 크롤링\n",
    "7. 크롤링 내용은 DataFrame으로 만들고 파일로 저장\n",
    "8. 뒤로가기를 통해 메인으로 이동\n",
    "9. 브라우저 완전 종료"
   ],
   "id": "e151dde435b42a5b"
  },
  {
   "metadata": {
    "ExecuteTime": {
     "end_time": "2024-05-29T16:26:36.264407Z",
     "start_time": "2024-05-29T16:26:35.208824Z"
    }
   },
   "cell_type": "code",
   "source": [
    "from selenium import webdriver as wb\n",
    "from selenium.webdriver.common.by import By\n",
    "from selenium.webdriver.common.keys import Keys\n",
    "import pandas as pd\n",
    "import time"
   ],
   "id": "1f30087a4fe55576",
   "execution_count": 1,
   "outputs": []
  },
  {
   "metadata": {
    "ExecuteTime": {
     "end_time": "2024-05-29T16:26:52.703955Z",
     "start_time": "2024-05-29T16:26:36.264407Z"
    }
   },
   "cell_type": "code",
   "source": [
    "driver = wb.Chrome()\n",
    "driver.get(\"https://www.naver.com/\")\n",
    "driver.maximize_window()\n",
    "\n",
    "# 원하는 검색에 입력하여 검색\n",
    "search = driver.find_element(By.CSS_SELECTOR, \"#query\")\n",
    "search.send_keys(\"뉴진스\")\n",
    "btn = driver.find_element(By.CSS_SELECTOR, \"#search-btn\")\n",
    "btn.click()\n",
    "\n",
    "# 이미지 탭 클릭, 뒤로가기\n",
    "img = driver.find_element(By.CSS_SELECTOR, \".spnew2.ico_nav_image\")\n",
    "img.click()\n",
    "time.sleep(2)\n",
    "driver.back()\n",
    "\n",
    "# 뉴스 탭 클릭\n",
    "news = driver.find_element(By.CSS_SELECTOR, \".spnew2.ico_nav_news\")\n",
    "news.click()\n",
    "# 스크롤 끝으로 내리기\n",
    "body = driver.find_element(By.TAG_NAME, \"body\")\n",
    "body.send_keys(Keys.END)\n",
    "time.sleep(2)\n",
    "\n",
    "# 뉴스 제목 크롤링\n",
    "result = []\n",
    "naver_news = driver.find_elements(By.CSS_SELECTOR, \".news_tit\")\n",
    "for i in range(len(naver_news)) :\n",
    "    result.append(naver_news[i].text)\n",
    "    \n",
    "news_dic = {\"제목\" : result}\n",
    "df = pd.DataFrame(news_dic, index = range(1, len(naver_news)+1))\n",
    "df.index.name = \"No\"\n",
    "df.to_csv(\"../data/naver_news.csv\", encoding = \"utf-8\")\n",
    "\n",
    "driver.back()\n",
    "driver.back()\n",
    "driver.quit()"
   ],
   "id": "e909a4635dddc1cc",
   "execution_count": 2,
   "outputs": []
  },
  {
   "metadata": {
    "ExecuteTime": {
     "end_time": "2024-05-29T16:26:52.726439Z",
     "start_time": "2024-05-29T16:26:52.703955Z"
    }
   },
   "cell_type": "code",
   "source": "df",
   "id": "65d3a2af1045d04e",
   "execution_count": 3,
   "outputs": []
  }
 ],
 "metadata": {
  "kernelspec": {
   "display_name": "Python 3",
   "language": "python",
   "name": "python3"
  },
  "language_info": {
   "codemirror_mode": {
    "name": "ipython",
    "version": 2
   },
   "file_extension": ".py",
   "mimetype": "text/x-python",
   "name": "python",
   "nbconvert_exporter": "python",
   "pygments_lexer": "ipython2",
   "version": "2.7.6"
  }
 },
 "nbformat": 4,
 "nbformat_minor": 5
}
