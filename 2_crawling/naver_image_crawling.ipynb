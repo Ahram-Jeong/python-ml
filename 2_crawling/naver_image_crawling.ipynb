{
 "cells": [
  {
   "metadata": {},
   "cell_type": "markdown",
   "source": [
    "### 네이버에서 특정 검색어 입력 후 이미지 데이터 수집\n",
    "- 스크롤 10번 동작 후 수집"
   ],
   "id": "3286ebfcd0fa3736"
  },
  {
   "metadata": {
    "ExecuteTime": {
     "end_time": "2024-06-02T09:01:33.827660Z",
     "start_time": "2024-06-02T09:01:33.539714Z"
    }
   },
   "cell_type": "code",
   "source": [
    "from selenium import webdriver as wb\n",
    "from selenium.webdriver.common.by import By\n",
    "from selenium.webdriver.common.keys import Keys\n",
    "from tqdm import tqdm\n",
    "import time\n",
    "import os\n",
    "from urllib.request import urlretrieve"
   ],
   "id": "5d44843d1aaa65af",
   "outputs": [],
   "execution_count": 1
  },
  {
   "metadata": {
    "ExecuteTime": {
     "end_time": "2024-06-02T09:03:21.468716Z",
     "start_time": "2024-06-02T09:01:35.366114Z"
    }
   },
   "cell_type": "code",
   "source": [
    "driver = wb.Chrome()\n",
    "driver.maximize_window()\n",
    "search = input(\"검색어 입력 >> \")\n",
    "driver.get(f\"https://search.naver.com/search.naver?ssc=tab.image.all&where=image&sm=tab_jum&query={search}\")\n",
    "\n",
    "img_list = []\n",
    "body = driver.find_element(By.TAG_NAME, \"body\")\n",
    "cnt = 1 # 파일 명\n",
    "\n",
    "try :\n",
    "    # 10번 스크롤\n",
    "    for _ in tqdm(range(10)) :\n",
    "        body.send_keys(Keys.END)\n",
    "        time.sleep(1)\n",
    "    \n",
    "    # 스크롤 후 이미지 find_elements\n",
    "    imgs = driver.find_elements(By.CSS_SELECTOR, \"div.mod_vw_thumb.link_thumb > img\")\n",
    "    \n",
    "    for i in tqdm(range(len(imgs))) :\n",
    "        img_list.append(imgs[i].get_attribute(\"src\"))\n",
    "    \n",
    "    # 디렉토리 존재 확인\n",
    "    if not os.path.isdir(\"../data/imgs\") :\n",
    "        os.mkdir(\"../data/imgs\")\n",
    "        print(\"폴더 생성 완료\")\n",
    "    else :\n",
    "        print(\"폴더 이미 존재\")\n",
    "        \n",
    "    # 수집 된 속성 다운로드\n",
    "    for i in tqdm(img_list) :\n",
    "        urlretrieve(i, \"../data/imgs/\" + str(cnt) + \".jpg\")\n",
    "        cnt += 1\n",
    "    print(\"완료😇\")\n",
    "except Exception as e :\n",
    "    print(\"실패 : \", e)"
   ],
   "id": "b4458f5dd6c3e0",
   "outputs": [
    {
     "name": "stderr",
     "output_type": "stream",
     "text": [
      "100%|██████████| 10/10 [00:11<00:00,  1.11s/it]\n",
      "100%|██████████| 500/500 [00:03<00:00, 162.13it/s]\n"
     ]
    },
    {
     "name": "stdout",
     "output_type": "stream",
     "text": [
      "폴더 생성 완료\n"
     ]
    },
    {
     "name": "stderr",
     "output_type": "stream",
     "text": [
      "100%|██████████| 500/500 [01:16<00:00,  6.57it/s]"
     ]
    },
    {
     "name": "stdout",
     "output_type": "stream",
     "text": [
      "완료😇\n"
     ]
    },
    {
     "name": "stderr",
     "output_type": "stream",
     "text": [
      "\n"
     ]
    }
   ],
   "execution_count": 2
  },
  {
   "metadata": {
    "ExecuteTime": {
     "end_time": "2024-06-02T09:03:35.963941Z",
     "start_time": "2024-06-02T09:03:32.664825Z"
    }
   },
   "cell_type": "code",
   "source": "driver.quit()",
   "id": "ea2fa5817910c231",
   "outputs": [],
   "execution_count": 3
  }
 ],
 "metadata": {
  "kernelspec": {
   "display_name": "Python 3",
   "language": "python",
   "name": "python3"
  },
  "language_info": {
   "codemirror_mode": {
    "name": "ipython",
    "version": 2
   },
   "file_extension": ".py",
   "mimetype": "text/x-python",
   "name": "python",
   "nbconvert_exporter": "python",
   "pygments_lexer": "ipython2",
   "version": "2.7.6"
  }
 },
 "nbformat": 4,
 "nbformat_minor": 5
}
