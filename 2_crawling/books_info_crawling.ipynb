{
 "cells": [
  {
   "cell_type": "code",
   "id": "311b26cf-d259-4abd-9dcf-ab2d850df361",
   "metadata": {
    "ExecuteTime": {
     "end_time": "2024-07-19T06:00:20.181986Z",
     "start_time": "2024-07-19T06:00:19.071259Z"
    }
   },
   "source": [
    "import requests as req\n",
    "from bs4 import BeautifulSoup as bs\n",
    "from tqdm import tqdm\n",
    "import json"
   ],
   "outputs": [],
   "execution_count": 1
  },
  {
   "metadata": {
    "ExecuteTime": {
     "end_time": "2024-07-19T06:00:20.192607Z",
     "start_time": "2024-07-19T06:00:20.181986Z"
    }
   },
   "cell_type": "code",
   "source": [
    "# 알라딘 OpenAPI KEY\n",
    "with open(\"../data/API_KEYS.json\") as f :\n",
    "    api_key = json.loads(f.read())\n",
    "key = api_key[\"ALADIN_KEY\"]"
   ],
   "id": "ff88bd2c-93fb-4254-bc93-6b100c7c17bc",
   "outputs": [],
   "execution_count": 2
  },
  {
   "cell_type": "code",
   "id": "6a4665a9-5f76-4601-9b19-a96adcd46ed4",
   "metadata": {
    "ExecuteTime": {
     "end_time": "2024-07-19T06:01:11.707323Z",
     "start_time": "2024-07-19T06:00:20.195356Z"
    }
   },
   "source": [
    "# 2020-2023 역대 베스트셀러 itemId 추출\n",
    "itemId_lst = []\n",
    "for year in range(2020, 2024) :\n",
    "    for i in range(1, 7) :\n",
    "        url = f\"https://www.aladin.co.kr/shop/common/wbest.aspx?BestType=YearlyBest&BranchType=1&CID=0&Year={year}&page={i}&cnt=300&SortOrder=1\"\n",
    "        res = req.get(url)\n",
    "        soup = bs(res.content, \"html.parser\")\n",
    "        items = soup.select(\"div.ss_book_box\")\n",
    "        for i in items :\n",
    "            if \"itemid\" in i.attrs :\n",
    "                itemId_lst.append(i[\"itemid\"])"
   ],
   "outputs": [],
   "execution_count": 3
  },
  {
   "cell_type": "code",
   "id": "a4e90bf5-5627-4933-8640-57ab1904391d",
   "metadata": {
    "ExecuteTime": {
     "end_time": "2024-07-19T06:01:11.723614Z",
     "start_time": "2024-07-19T06:01:11.707323Z"
    }
   },
   "source": [
    "# 중복 값 제거\n",
    "itemId_lst = set(itemId_lst)\n",
    "itemId_lst = list(itemId_lst)\n",
    "len(itemId_lst)"
   ],
   "outputs": [
    {
     "data": {
      "text/plain": [
       "1006"
      ]
     },
     "execution_count": 4,
     "metadata": {},
     "output_type": "execute_result"
    }
   ],
   "execution_count": 4
  },
  {
   "cell_type": "code",
   "id": "a097499c-5f32-4854-990a-abba17ffb001",
   "metadata": {
    "ExecuteTime": {
     "end_time": "2024-07-19T06:04:45.194206Z",
     "start_time": "2024-07-19T06:03:05.644733Z"
    }
   },
   "source": [
    "# JSON 변환\n",
    "books = []\n",
    "for i in tqdm(range(len(itemId_lst))) :\n",
    "    # 도서 상세 정보\n",
    "    url = f\"http://www.aladin.co.kr/ttb/api/ItemLookUp.aspx?ttbkey={key}&itemIdType=ItemId&ItemId={itemId_lst[i]}&output=js&Version=20131101\"\n",
    "    res = req.get(url, timeout = 15)\n",
    "    # 응답 받은 JSON 데이터 변수에 할당\n",
    "    data = res.json()\n",
    "    books.extend(data[\"item\"])\n",
    "\n",
    "# JSON 데이터를 파일로 저장\n",
    "with open(\"../data/book_info.json\", \"w\", encoding = \"utf-8\") as f :\n",
    "    json.dump(books, f, ensure_ascii = False, indent = 4)\n",
    "print(\"완료😇\")"
   ],
   "outputs": [
    {
     "name": "stderr",
     "output_type": "stream",
     "text": [
      "100%|██████████| 1006/1006 [01:39<00:00, 10.12it/s]"
     ]
    },
    {
     "name": "stdout",
     "output_type": "stream",
     "text": [
      "완료😇\n"
     ]
    },
    {
     "name": "stderr",
     "output_type": "stream",
     "text": [
      "\n"
     ]
    }
   ],
   "execution_count": 7
  }
 ],
 "metadata": {
  "kernelspec": {
   "display_name": "Python 3 (ipykernel)",
   "language": "python",
   "name": "python3"
  },
  "language_info": {
   "codemirror_mode": {
    "name": "ipython",
    "version": 3
   },
   "file_extension": ".py",
   "mimetype": "text/x-python",
   "name": "python",
   "nbconvert_exporter": "python",
   "pygments_lexer": "ipython3",
   "version": "3.12.4"
  }
 },
 "nbformat": 4,
 "nbformat_minor": 5
}
