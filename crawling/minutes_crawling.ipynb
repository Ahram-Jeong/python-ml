{
 "cells": [
  {
   "cell_type": "code",
   "id": "initial_id",
   "metadata": {
    "ExecuteTime": {
     "end_time": "2024-06-18T18:01:26.672562Z",
     "start_time": "2024-06-18T18:01:24.880522Z"
    }
   },
   "source": [
    "from bs4 import BeautifulSoup as bs\n",
    "import pandas as pd\n",
    "import requests as req\n",
    "from tqdm import tqdm\n",
    "import os\n",
    "import re\n",
    "from tika import parser\n",
    "import shutil\n",
    "from os import listdir\n",
    "from os.path import isfile, join"
   ],
   "outputs": [],
   "execution_count": 1
  },
  {
   "cell_type": "code",
   "id": "6de4175cc05fc904",
   "metadata": {
    "ExecuteTime": {
     "end_time": "2024-06-18T18:01:26.682230Z",
     "start_time": "2024-06-18T18:01:26.672562Z"
    }
   },
   "source": [
    "# 제목\n",
    "title_list = []\n",
    "# 날짜\n",
    "date_list = []\n",
    "# 첨부 파일\n",
    "f_name_list = [] # 파일명\n",
    "link_list = [] # url\n",
    "# text 변환\n",
    "txt_list = []"
   ],
   "outputs": [],
   "execution_count": 2
  },
  {
   "cell_type": "code",
   "id": "4d92866f8b85881b",
   "metadata": {
    "ExecuteTime": {
     "end_time": "2024-06-18T18:02:39.126982Z",
     "start_time": "2024-06-18T18:01:26.682230Z"
    }
   },
   "source": [
    "# HTML 컨텐츠 수집\n",
    "for i in tqdm(range(1, 54)) : \n",
    "    min_url = f\"https://www.bok.or.kr/portal/bbs/B0000245/list.do?menuNo=200761&pageIndex={i}\"\n",
    "    res = req.get(min_url)\n",
    "    soup = bs(res.content, \"html.parser\")\n",
    "    \n",
    "    links = soup.select(\"div.col.m2.s2.x3.fileLink a\")\n",
    "    titles = soup.select(\"span.titlesub\")\n",
    "    dates = soup.select(\"span.date\")\n",
    "\n",
    "    for i in range(len(titles)) :\n",
    "        title_list.append(titles[i].text)\n",
    "    for i in range(len(dates)) :\n",
    "        date_list.append(dates[i].text)\n",
    "\n",
    "    cnt = 0 # 중요! : i번 째 페이지에서 컨텐츠 갯수만큼 돌고, 다시 초기화하여 다음 페이지로 넘어가기 위함\n",
    "    for i in links :\n",
    "        filename = i.get_text().strip()\n",
    "        \n",
    "        # 확장자가 hwp인 파일만 수집\n",
    "        if filename[-3:] == \"pdf\" :\n",
    "            # 파일명\n",
    "            filename = f\"minutes_{dates[cnt].text}.pdf\"\n",
    "            f_name_list.append(filename)\n",
    "            cnt += 1\n",
    "            \n",
    "            # 파일의 주소 값\n",
    "            file_addr = \"http://bok.or.kr\" + i[\"href\"]\n",
    "            link_list.append(file_addr)\n",
    "\n",
    "print(len(title_list), len(date_list), len(f_name_list), len(link_list))"
   ],
   "outputs": [
    {
     "name": "stderr",
     "output_type": "stream",
     "text": [
      "100%|██████████| 53/53 [01:12<00:00,  1.37s/it]"
     ]
    },
    {
     "name": "stdout",
     "output_type": "stream",
     "text": [
      "526 526 393 393\n"
     ]
    },
    {
     "name": "stderr",
     "output_type": "stream",
     "text": [
      "\n"
     ]
    }
   ],
   "execution_count": 3
  },
  {
   "cell_type": "code",
   "id": "a5b4f205af992feb",
   "metadata": {
    "ExecuteTime": {
     "end_time": "2024-06-18T18:02:39.135910Z",
     "start_time": "2024-06-18T18:02:39.126982Z"
    }
   },
   "source": [
    "# 한국은행 금융통화위원회 의사록 페이지 HTML구조가 바뀌기 전까지로 list 길이 수정\n",
    "title_list = title_list[:300]\n",
    "date_list = date_list[:300]\n",
    "f_name_list = f_name_list[:300]\n",
    "link_list = link_list[:300]"
   ],
   "outputs": [],
   "execution_count": 4
  },
  {
   "cell_type": "markdown",
   "id": "63114a2a-04e5-4f3a-91ea-88f14da1b504",
   "metadata": {},
   "source": [
    "## PDF"
   ]
  },
  {
   "cell_type": "code",
   "id": "241a2a2568a258da",
   "metadata": {
    "ExecuteTime": {
     "end_time": "2024-06-18T18:03:33.845608Z",
     "start_time": "2024-06-18T18:02:39.135910Z"
    }
   },
   "source": [
    "# 첨부파일 다운로드\n",
    "for i in tqdm(range(len(link_list))) :\n",
    "    try :\n",
    "        res = req.get(link_list[i])\n",
    "        # dir 생성 or 확인\n",
    "        if not os.path.isdir(\"data\") :\n",
    "            os.mkdir(\"data\")\n",
    "        if res.status_code == 200 :\n",
    "            file_path = os.path.join(\"data\", f_name_list[i])\n",
    "\n",
    "            # 파일 열기, 쓰기\n",
    "            open(file_path, \"wb\").write(res.content)\n",
    "    except Exception as e :\n",
    "        print(\"Error! : \", e)\n",
    "        continue\n",
    "print(\"Complete😇\")"
   ],
   "outputs": [
    {
     "name": "stderr",
     "output_type": "stream",
     "text": [
      "100%|██████████| 300/300 [00:54<00:00,  5.49it/s]"
     ]
    },
    {
     "name": "stdout",
     "output_type": "stream",
     "text": [
      "Complete😇\n"
     ]
    },
    {
     "name": "stderr",
     "output_type": "stream",
     "text": [
      "\n"
     ]
    }
   ],
   "execution_count": 5
  },
  {
   "cell_type": "markdown",
   "id": "df5388bc-4b64-417f-9d00-f0d22c199a60",
   "metadata": {},
   "source": [
    "## PDF 👉 text"
   ]
  },
  {
   "cell_type": "code",
   "id": "b9dd3e01-ca80-48bf-a9f8-3acb2abca4cd",
   "metadata": {
    "ExecuteTime": {
     "end_time": "2024-06-18T18:03:33.856273Z",
     "start_time": "2024-06-18T18:03:33.845608Z"
    }
   },
   "source": [
    "# 폴더 내 pdf파일을 txt 파일로 변경\n",
    "def pdf2txt(source_folder=\"./data/\", output_folder=\"./data/text/\"):\n",
    "    if not os.path.isdir(\"./data/text/\") :\n",
    "            os.mkdir(\"./data/text/\")\n",
    "    # 지정 폴더 내 파일 목록 조회 (파일만)\n",
    "    pdf_files = [f for f in listdir(source_folder) if isfile(join(source_folder, f))]\n",
    "    \n",
    "    try :\n",
    "        for pdf in tqdm(pdf_files) :\n",
    "            pdf_filepath = source_folder + pdf\n",
    "            pdf_tmp_filepath = output_folder + 'tmp.pdf'\n",
    "\n",
    "            # pdf 파일을 text로 변환\n",
    "            shutil.copyfile(pdf_filepath, pdf_tmp_filepath)\n",
    "            parsedPDF = parser.from_file(pdf_tmp_filepath)[\"content\"]\n",
    "\n",
    "            #enter 삭제\n",
    "            parsedPDF = re.sub('\\n', '', parser.from_file(pdf_tmp_filepath)[\"content\"])\n",
    "\n",
    "            output_filepath = (output_folder + pdf).replace('.pdf', '.txt')\n",
    "            \n",
    "            with open(output_filepath, \"w\", -1,\"utf-8\") as f:\n",
    "                print(output_filepath)\n",
    "                f.write(parsedPDF)\n",
    "                f.close()\n",
    "    except Exception as e:\n",
    "        print('오류', e)\n",
    "        pass"
   ],
   "outputs": [],
   "execution_count": 6
  },
  {
   "cell_type": "code",
   "id": "97a041ce-a586-40a5-add5-79d5fab62c36",
   "metadata": {
    "ExecuteTime": {
     "end_time": "2024-06-18T18:05:19.836207Z",
     "start_time": "2024-06-18T18:03:33.856273Z"
    }
   },
   "source": [
    "pdf2txt(source_folder=\"./data/\", output_folder=\"./data/text/\")"
   ],
   "outputs": [
    {
     "name": "stderr",
     "output_type": "stream",
     "text": [
      "  0%|          | 0/297 [00:00<?, ?it/s]2024-06-19 03:03:36,113 [MainThread  ] [WARNI]  Failed to see startup log message; retrying...\n",
      "  0%|          | 1/297 [00:08<41:10,  8.35s/it]"
     ]
    },
    {
     "name": "stdout",
     "output_type": "stream",
     "text": [
      "./data/text/minutes_등록일2009.06.23.txt\n"
     ]
    },
    {
     "name": "stderr",
     "output_type": "stream",
     "text": [
      "  1%|          | 2/297 [00:08<17:32,  3.57s/it]"
     ]
    },
    {
     "name": "stdout",
     "output_type": "stream",
     "text": [
      "./data/text/minutes_등록일2009.07.07.txt\n"
     ]
    },
    {
     "name": "stderr",
     "output_type": "stream",
     "text": [
      "  1%|          | 3/297 [00:09<10:58,  2.24s/it]"
     ]
    },
    {
     "name": "stdout",
     "output_type": "stream",
     "text": [
      "./data/text/minutes_등록일2009.07.28.txt\n"
     ]
    },
    {
     "name": "stderr",
     "output_type": "stream",
     "text": [
      "  1%|▏         | 4/297 [00:09<07:04,  1.45s/it]"
     ]
    },
    {
     "name": "stdout",
     "output_type": "stream",
     "text": [
      "./data/text/minutes_등록일2009.08.11.txt\n"
     ]
    },
    {
     "name": "stderr",
     "output_type": "stream",
     "text": [
      "  2%|▏         | 5/297 [00:09<05:00,  1.03s/it]"
     ]
    },
    {
     "name": "stdout",
     "output_type": "stream",
     "text": [
      "./data/text/minutes_등록일2009.08.25.txt\n"
     ]
    },
    {
     "name": "stderr",
     "output_type": "stream",
     "text": [
      "  2%|▏         | 6/297 [00:10<03:50,  1.26it/s]"
     ]
    },
    {
     "name": "stdout",
     "output_type": "stream",
     "text": [
      "./data/text/minutes_등록일2009.09.08.txt\n"
     ]
    },
    {
     "name": "stderr",
     "output_type": "stream",
     "text": [
      "  2%|▏         | 7/297 [00:10<03:58,  1.22it/s]"
     ]
    },
    {
     "name": "stdout",
     "output_type": "stream",
     "text": [
      "./data/text/minutes_등록일2009.09.29.txt\n"
     ]
    },
    {
     "name": "stderr",
     "output_type": "stream",
     "text": [
      "  3%|▎         | 8/297 [00:11<03:50,  1.25it/s]"
     ]
    },
    {
     "name": "stdout",
     "output_type": "stream",
     "text": [
      "./data/text/minutes_등록일2009.10.27.txt\n"
     ]
    },
    {
     "name": "stderr",
     "output_type": "stream",
     "text": [
      "  3%|▎         | 9/297 [00:12<03:37,  1.32it/s]"
     ]
    },
    {
     "name": "stdout",
     "output_type": "stream",
     "text": [
      "./data/text/minutes_등록일2009.11.10.txt\n"
     ]
    },
    {
     "name": "stderr",
     "output_type": "stream",
     "text": [
      "  3%|▎         | 10/297 [00:12<03:16,  1.46it/s]"
     ]
    },
    {
     "name": "stdout",
     "output_type": "stream",
     "text": [
      "./data/text/minutes_등록일2009.11.24.txt\n"
     ]
    },
    {
     "name": "stderr",
     "output_type": "stream",
     "text": [
      "  4%|▎         | 11/297 [00:13<02:36,  1.82it/s]"
     ]
    },
    {
     "name": "stdout",
     "output_type": "stream",
     "text": [
      "./data/text/minutes_등록일2009.12.29.txt\n",
      "./data/text/minutes_등록일2010.01.12.txt\n"
     ]
    },
    {
     "name": "stderr",
     "output_type": "stream",
     "text": [
      "  5%|▍         | 14/297 [00:13<01:25,  3.30it/s]"
     ]
    },
    {
     "name": "stdout",
     "output_type": "stream",
     "text": [
      "./data/text/minutes_등록일2010.01.26.txt\n",
      "./data/text/minutes_등록일2010.02.09.txt\n"
     ]
    },
    {
     "name": "stderr",
     "output_type": "stream",
     "text": [
      "  5%|▌         | 16/297 [00:13<01:05,  4.26it/s]"
     ]
    },
    {
     "name": "stdout",
     "output_type": "stream",
     "text": [
      "./data/text/minutes_등록일2010.02.23.txt\n",
      "./data/text/minutes_등록일2010.03.09.txt\n"
     ]
    },
    {
     "name": "stderr",
     "output_type": "stream",
     "text": [
      "  6%|▌         | 17/297 [00:14<01:06,  4.21it/s]"
     ]
    },
    {
     "name": "stdout",
     "output_type": "stream",
     "text": [
      "./data/text/minutes_등록일2010.03.30.txt\n"
     ]
    },
    {
     "name": "stderr",
     "output_type": "stream",
     "text": [
      "  6%|▋         | 19/297 [00:14<00:57,  4.83it/s]"
     ]
    },
    {
     "name": "stdout",
     "output_type": "stream",
     "text": [
      "./data/text/minutes_등록일2010.04.27.txt\n",
      "./data/text/minutes_등록일2010.05.11.txt\n"
     ]
    },
    {
     "name": "stderr",
     "output_type": "stream",
     "text": [
      "  7%|▋         | 20/297 [00:14<00:58,  4.75it/s]"
     ]
    },
    {
     "name": "stdout",
     "output_type": "stream",
     "text": [
      "./data/text/minutes_등록일2010.05.25.txt\n",
      "./data/text/minutes_등록일2010.06.08.txt\n"
     ]
    },
    {
     "name": "stderr",
     "output_type": "stream",
     "text": [
      "  7%|▋         | 22/297 [00:15<00:53,  5.12it/s]"
     ]
    },
    {
     "name": "stdout",
     "output_type": "stream",
     "text": [
      "./data/text/minutes_등록일2010.06.29.txt\n"
     ]
    },
    {
     "name": "stderr",
     "output_type": "stream",
     "text": [
      "  8%|▊         | 23/297 [00:15<00:56,  4.83it/s]"
     ]
    },
    {
     "name": "stdout",
     "output_type": "stream",
     "text": [
      "./data/text/minutes_등록일2010.07.27.txt\n",
      "./data/text/minutes_등록일2010.08.10.txt\n"
     ]
    },
    {
     "name": "stderr",
     "output_type": "stream",
     "text": [
      "  8%|▊         | 25/297 [00:15<00:49,  5.53it/s]"
     ]
    },
    {
     "name": "stdout",
     "output_type": "stream",
     "text": [
      "./data/text/minutes_등록일2010.08.24.txt\n",
      "./data/text/minutes_등록일2010.09.14.txt\n"
     ]
    },
    {
     "name": "stderr",
     "output_type": "stream",
     "text": [
      "  9%|▉         | 27/297 [00:15<00:47,  5.67it/s]"
     ]
    },
    {
     "name": "stdout",
     "output_type": "stream",
     "text": [
      "./data/text/minutes_등록일2010.09.28.txt\n",
      "./data/text/minutes_등록일2010.10.19.txt\n"
     ]
    },
    {
     "name": "stderr",
     "output_type": "stream",
     "text": [
      " 10%|▉         | 29/297 [00:16<00:48,  5.53it/s]"
     ]
    },
    {
     "name": "stdout",
     "output_type": "stream",
     "text": [
      "./data/text/minutes_등록일2010.10.26.txt\n",
      "./data/text/minutes_등록일2010.11.09.txt\n"
     ]
    },
    {
     "name": "stderr",
     "output_type": "stream",
     "text": [
      " 11%|█         | 32/297 [00:16<00:47,  5.56it/s]"
     ]
    },
    {
     "name": "stdout",
     "output_type": "stream",
     "text": [
      "./data/text/minutes_등록일2010.11.30.txt\n",
      "./data/text/minutes_등록일2011.01.04.txt\n"
     ]
    },
    {
     "name": "stderr",
     "output_type": "stream",
     "text": [
      " 11%|█▏        | 34/297 [00:17<00:42,  6.20it/s]"
     ]
    },
    {
     "name": "stdout",
     "output_type": "stream",
     "text": [
      "./data/text/minutes_등록일2011.01.25.txt\n",
      "./data/text/minutes_등록일2011.02.08.txt\n"
     ]
    },
    {
     "name": "stderr",
     "output_type": "stream",
     "text": [
      " 12%|█▏        | 36/297 [00:17<00:43,  6.07it/s]"
     ]
    },
    {
     "name": "stdout",
     "output_type": "stream",
     "text": [
      "./data/text/minutes_등록일2011.02.22.txt\n",
      "./data/text/minutes_등록일2011.03.02.txt\n"
     ]
    },
    {
     "name": "stderr",
     "output_type": "stream",
     "text": [
      " 12%|█▏        | 37/297 [00:17<00:39,  6.61it/s]"
     ]
    },
    {
     "name": "stdout",
     "output_type": "stream",
     "text": [
      "./data/text/minutes_등록일2011.03.08.txt\n"
     ]
    },
    {
     "name": "stderr",
     "output_type": "stream",
     "text": [
      " 13%|█▎        | 38/297 [00:17<00:44,  5.83it/s]"
     ]
    },
    {
     "name": "stdout",
     "output_type": "stream",
     "text": [
      "./data/text/minutes_등록일2011.03.29.txt\n",
      "./data/text/minutes_등록일2011.04.12.txt\n"
     ]
    },
    {
     "name": "stderr",
     "output_type": "stream",
     "text": [
      " 14%|█▍        | 41/297 [00:18<00:34,  7.38it/s]"
     ]
    },
    {
     "name": "stdout",
     "output_type": "stream",
     "text": [
      "./data/text/minutes_등록일2011.04.26.txt\n",
      "./data/text/minutes_등록일2011.05.11.txt\n"
     ]
    },
    {
     "name": "stderr",
     "output_type": "stream",
     "text": [
      " 14%|█▍        | 43/297 [00:18<00:38,  6.62it/s]"
     ]
    },
    {
     "name": "stdout",
     "output_type": "stream",
     "text": [
      "./data/text/minutes_등록일2011.05.31.txt\n",
      "./data/text/minutes_등록일2011.06.28.txt\n"
     ]
    },
    {
     "name": "stderr",
     "output_type": "stream",
     "text": [
      " 15%|█▌        | 46/297 [00:18<00:31,  7.94it/s]"
     ]
    },
    {
     "name": "stdout",
     "output_type": "stream",
     "text": [
      "./data/text/minutes_등록일2011.07.26.txt\n",
      "./data/text/minutes_등록일2011.08.09.txt\n",
      "./data/text/minutes_등록일2011.08.30.txt\n",
      "./data/text/minutes_등록일2011.09.06.txt\n"
     ]
    },
    {
     "name": "stderr",
     "output_type": "stream",
     "text": [
      " 16%|█▋        | 49/297 [00:19<00:35,  7.05it/s]"
     ]
    },
    {
     "name": "stdout",
     "output_type": "stream",
     "text": [
      "./data/text/minutes_등록일2011.09.27.txt\n",
      "./data/text/minutes_등록일2011.10.25.txt\n"
     ]
    },
    {
     "name": "stderr",
     "output_type": "stream",
     "text": [
      " 17%|█▋        | 50/297 [00:19<00:32,  7.54it/s]"
     ]
    },
    {
     "name": "stdout",
     "output_type": "stream",
     "text": [
      "./data/text/minutes_등록일2011.11.08.txt\n"
     ]
    },
    {
     "name": "stderr",
     "output_type": "stream",
     "text": [
      " 17%|█▋        | 51/297 [00:19<00:40,  6.13it/s]"
     ]
    },
    {
     "name": "stdout",
     "output_type": "stream",
     "text": [
      "./data/text/minutes_등록일2011.11.29.txt\n"
     ]
    },
    {
     "name": "stderr",
     "output_type": "stream",
     "text": [
      " 18%|█▊        | 52/297 [00:19<00:43,  5.66it/s]"
     ]
    },
    {
     "name": "stdout",
     "output_type": "stream",
     "text": [
      "./data/text/minutes_등록일2011.12.27.txt\n",
      "./data/text/minutes_등록일2012.01.13.txt\n"
     ]
    },
    {
     "name": "stderr",
     "output_type": "stream",
     "text": [
      " 19%|█▉        | 56/297 [00:20<00:31,  7.73it/s]"
     ]
    },
    {
     "name": "stdout",
     "output_type": "stream",
     "text": [
      "./data/text/minutes_등록일2012.01.25.txt\n",
      "./data/text/minutes_등록일2012.01.31.txt\n",
      "./data/text/minutes_등록일2012.02.07.txt\n",
      "./data/text/minutes_등록일2012.02.14.txt\n"
     ]
    },
    {
     "name": "stderr",
     "output_type": "stream",
     "text": [
      " 20%|█▉        | 58/297 [00:20<00:38,  6.27it/s]"
     ]
    },
    {
     "name": "stdout",
     "output_type": "stream",
     "text": [
      "./data/text/minutes_등록일2012.02.28.txt\n",
      "./data/text/minutes_등록일2012.03.13.txt\n"
     ]
    },
    {
     "name": "stderr",
     "output_type": "stream",
     "text": [
      " 20%|██        | 60/297 [00:21<00:43,  5.43it/s]"
     ]
    },
    {
     "name": "stdout",
     "output_type": "stream",
     "text": [
      "./data/text/minutes_등록일2012.03.27.txt\n"
     ]
    },
    {
     "name": "stderr",
     "output_type": "stream",
     "text": [
      " 21%|██        | 62/297 [00:21<00:48,  4.85it/s]"
     ]
    },
    {
     "name": "stdout",
     "output_type": "stream",
     "text": [
      "./data/text/minutes_등록일2012.04.24.txt\n",
      "./data/text/minutes_등록일2012.05.08.txt\n"
     ]
    },
    {
     "name": "stderr",
     "output_type": "stream",
     "text": [
      " 21%|██        | 63/297 [00:22<01:04,  3.62it/s]"
     ]
    },
    {
     "name": "stdout",
     "output_type": "stream",
     "text": [
      "./data/text/minutes_등록일2012.05.29.txt\n"
     ]
    },
    {
     "name": "stderr",
     "output_type": "stream",
     "text": [
      " 22%|██▏       | 64/297 [00:22<01:05,  3.53it/s]"
     ]
    },
    {
     "name": "stdout",
     "output_type": "stream",
     "text": [
      "./data/text/minutes_등록일2012.06.26.txt\n"
     ]
    },
    {
     "name": "stderr",
     "output_type": "stream",
     "text": [
      " 22%|██▏       | 65/297 [00:22<01:08,  3.38it/s]"
     ]
    },
    {
     "name": "stdout",
     "output_type": "stream",
     "text": [
      "./data/text/minutes_등록일2012.07.24.txt\n",
      "./data/text/minutes_등록일2012.08.07.txt\n"
     ]
    },
    {
     "name": "stderr",
     "output_type": "stream",
     "text": [
      " 23%|██▎       | 67/297 [00:23<01:00,  3.79it/s]"
     ]
    },
    {
     "name": "stdout",
     "output_type": "stream",
     "text": [
      "./data/text/minutes_등록일2012.08.28.txt\n",
      "./data/text/minutes_등록일2012.09.11.txt\n"
     ]
    },
    {
     "name": "stderr",
     "output_type": "stream",
     "text": [
      " 23%|██▎       | 69/297 [00:23<01:03,  3.60it/s]"
     ]
    },
    {
     "name": "stdout",
     "output_type": "stream",
     "text": [
      "./data/text/minutes_등록일2012.09.18.txt\n"
     ]
    },
    {
     "name": "stderr",
     "output_type": "stream",
     "text": [
      " 24%|██▎       | 70/297 [00:24<01:13,  3.09it/s]"
     ]
    },
    {
     "name": "stdout",
     "output_type": "stream",
     "text": [
      "./data/text/minutes_등록일2012.10.02.txt\n",
      "./data/text/minutes_등록일2012.10.16.txt\n"
     ]
    },
    {
     "name": "stderr",
     "output_type": "stream",
     "text": [
      " 24%|██▍       | 72/297 [00:24<01:10,  3.18it/s]"
     ]
    },
    {
     "name": "stdout",
     "output_type": "stream",
     "text": [
      "./data/text/minutes_등록일2012.10.30.txt\n",
      "./data/text/minutes_등록일2012.11.13.txt\n"
     ]
    },
    {
     "name": "stderr",
     "output_type": "stream",
     "text": [
      " 25%|██▍       | 74/297 [00:25<01:06,  3.34it/s]"
     ]
    },
    {
     "name": "stdout",
     "output_type": "stream",
     "text": [
      "./data/text/minutes_등록일2012.11.27.txt\n"
     ]
    },
    {
     "name": "stderr",
     "output_type": "stream",
     "text": [
      " 26%|██▌       | 76/297 [00:26<01:06,  3.31it/s]"
     ]
    },
    {
     "name": "stdout",
     "output_type": "stream",
     "text": [
      "./data/text/minutes_등록일2013.01.02.txt\n",
      "./data/text/minutes_등록일2013.01.15.txt\n"
     ]
    },
    {
     "name": "stderr",
     "output_type": "stream",
     "text": [
      " 26%|██▌       | 77/297 [00:27<01:46,  2.07it/s]"
     ]
    },
    {
     "name": "stdout",
     "output_type": "stream",
     "text": [
      "./data/text/minutes_등록일2013.01.29.txt\n"
     ]
    },
    {
     "name": "stderr",
     "output_type": "stream",
     "text": [
      " 27%|██▋       | 79/297 [00:29<02:22,  1.53it/s]"
     ]
    },
    {
     "name": "stdout",
     "output_type": "stream",
     "text": [
      "./data/text/minutes_등록일2013.03.05.txt\n",
      "./data/text/minutes_등록일2013.03.19.txt\n"
     ]
    },
    {
     "name": "stderr",
     "output_type": "stream",
     "text": [
      " 27%|██▋       | 81/297 [00:31<02:57,  1.22it/s]"
     ]
    },
    {
     "name": "stdout",
     "output_type": "stream",
     "text": [
      "./data/text/minutes_등록일2013.04.02.txt\n",
      "./data/text/minutes_등록일2013.04.16.txt\n"
     ]
    },
    {
     "name": "stderr",
     "output_type": "stream",
     "text": [
      " 28%|██▊       | 83/297 [00:34<03:16,  1.09it/s]"
     ]
    },
    {
     "name": "stdout",
     "output_type": "stream",
     "text": [
      "./data/text/minutes_등록일2013.04.30.txt\n",
      "./data/text/minutes_등록일2013.05.14.txt\n"
     ]
    },
    {
     "name": "stderr",
     "output_type": "stream",
     "text": [
      " 28%|██▊       | 84/297 [00:34<02:53,  1.23it/s]"
     ]
    },
    {
     "name": "stdout",
     "output_type": "stream",
     "text": [
      "./data/text/minutes_등록일2013.05.28.txt\n"
     ]
    },
    {
     "name": "stderr",
     "output_type": "stream",
     "text": [
      " 29%|██▊       | 85/297 [00:34<02:24,  1.47it/s]"
     ]
    },
    {
     "name": "stdout",
     "output_type": "stream",
     "text": [
      "./data/text/minutes_등록일2013.07.02.txt\n",
      "./data/text/minutes_등록일2013.07.16.txt\n"
     ]
    },
    {
     "name": "stderr",
     "output_type": "stream",
     "text": [
      " 29%|██▉       | 87/297 [00:35<01:41,  2.07it/s]"
     ]
    },
    {
     "name": "stdout",
     "output_type": "stream",
     "text": [
      "./data/text/minutes_등록일2013.07.30.txt\n",
      "./data/text/minutes_등록일2013.08.13.txt\n"
     ]
    },
    {
     "name": "stderr",
     "output_type": "stream",
     "text": [
      " 30%|██▉       | 89/297 [00:35<01:20,  2.57it/s]"
     ]
    },
    {
     "name": "stdout",
     "output_type": "stream",
     "text": [
      "./data/text/minutes_등록일2013.08.27.txt\n"
     ]
    },
    {
     "name": "stderr",
     "output_type": "stream",
     "text": [
      " 31%|███       | 91/297 [00:36<01:05,  3.13it/s]"
     ]
    },
    {
     "name": "stdout",
     "output_type": "stream",
     "text": [
      "./data/text/minutes_등록일2013.10.01.txt\n",
      "./data/text/minutes_등록일2013.10.15.txt\n"
     ]
    },
    {
     "name": "stderr",
     "output_type": "stream",
     "text": [
      " 31%|███       | 92/297 [00:36<01:11,  2.86it/s]"
     ]
    },
    {
     "name": "stdout",
     "output_type": "stream",
     "text": [
      "./data/text/minutes_등록일2013.10.29.txt\n",
      "./data/text/minutes_등록일2013.11.12.txt\n"
     ]
    },
    {
     "name": "stderr",
     "output_type": "stream",
     "text": [
      " 32%|███▏      | 94/297 [00:37<00:58,  3.47it/s]"
     ]
    },
    {
     "name": "stdout",
     "output_type": "stream",
     "text": [
      "./data/text/minutes_등록일2013.12.03.txt\n"
     ]
    },
    {
     "name": "stderr",
     "output_type": "stream",
     "text": [
      " 32%|███▏      | 96/297 [00:37<00:56,  3.54it/s]"
     ]
    },
    {
     "name": "stdout",
     "output_type": "stream",
     "text": [
      "./data/text/minutes_등록일2013.12.31.txt\n",
      "./data/text/minutes_등록일2014.01.14.txt\n"
     ]
    },
    {
     "name": "stderr",
     "output_type": "stream",
     "text": [
      " 33%|███▎      | 97/297 [00:38<01:13,  2.73it/s]"
     ]
    },
    {
     "name": "stdout",
     "output_type": "stream",
     "text": [
      "./data/text/minutes_등록일2014.01.28.txt\n"
     ]
    },
    {
     "name": "stderr",
     "output_type": "stream",
     "text": [
      " 33%|███▎      | 98/297 [00:39<01:25,  2.33it/s]"
     ]
    },
    {
     "name": "stdout",
     "output_type": "stream",
     "text": [
      "./data/text/minutes_등록일2014.03.04.txt\n"
     ]
    },
    {
     "name": "stderr",
     "output_type": "stream",
     "text": [
      " 33%|███▎      | 99/297 [00:39<01:38,  2.00it/s]"
     ]
    },
    {
     "name": "stdout",
     "output_type": "stream",
     "text": [
      "./data/text/minutes_등록일2014.04.01.txt\n"
     ]
    },
    {
     "name": "stderr",
     "output_type": "stream",
     "text": [
      " 34%|███▎      | 100/297 [00:39<01:24,  2.34it/s]"
     ]
    },
    {
     "name": "stdout",
     "output_type": "stream",
     "text": [
      "./data/text/minutes_등록일2014.04.15.txt\n"
     ]
    },
    {
     "name": "stderr",
     "output_type": "stream",
     "text": [
      " 34%|███▍      | 102/297 [00:40<01:10,  2.77it/s]"
     ]
    },
    {
     "name": "stdout",
     "output_type": "stream",
     "text": [
      "./data/text/minutes_등록일2014.04.29.txt\n",
      "./data/text/minutes_등록일2014.05.13.txt\n"
     ]
    },
    {
     "name": "stderr",
     "output_type": "stream",
     "text": [
      " 35%|███▍      | 103/297 [00:41<01:17,  2.51it/s]"
     ]
    },
    {
     "name": "stdout",
     "output_type": "stream",
     "text": [
      "./data/text/minutes_등록일2014.05.27.txt\n"
     ]
    },
    {
     "name": "stderr",
     "output_type": "stream",
     "text": [
      " 35%|███▌      | 104/297 [00:41<01:18,  2.46it/s]"
     ]
    },
    {
     "name": "stdout",
     "output_type": "stream",
     "text": [
      "./data/text/minutes_등록일2014.07.01.txt\n"
     ]
    },
    {
     "name": "stderr",
     "output_type": "stream",
     "text": [
      " 36%|███▌      | 106/297 [00:42<01:08,  2.78it/s]"
     ]
    },
    {
     "name": "stdout",
     "output_type": "stream",
     "text": [
      "./data/text/minutes_등록일2014.07.29.txt\n",
      "./data/text/minutes_등록일2014.08.12.txt\n"
     ]
    },
    {
     "name": "stderr",
     "output_type": "stream",
     "text": [
      " 36%|███▌      | 107/297 [00:42<01:21,  2.32it/s]"
     ]
    },
    {
     "name": "stdout",
     "output_type": "stream",
     "text": [
      "./data/text/minutes_등록일2014.09.02.txt\n"
     ]
    },
    {
     "name": "stderr",
     "output_type": "stream",
     "text": [
      " 36%|███▋      | 108/297 [00:43<01:29,  2.10it/s]"
     ]
    },
    {
     "name": "stdout",
     "output_type": "stream",
     "text": [
      "./data/text/minutes_등록일2014.09.30.txt\n",
      "./data/text/minutes_등록일2014.10.14.txt\n"
     ]
    },
    {
     "name": "stderr",
     "output_type": "stream",
     "text": [
      " 37%|███▋      | 111/297 [00:44<01:06,  2.78it/s]"
     ]
    },
    {
     "name": "stdout",
     "output_type": "stream",
     "text": [
      "./data/text/minutes_등록일2014.11.04.txt\n",
      "./data/text/minutes_등록일2014.11.11.txt\n"
     ]
    },
    {
     "name": "stderr",
     "output_type": "stream",
     "text": [
      " 38%|███▊      | 112/297 [00:44<01:11,  2.59it/s]"
     ]
    },
    {
     "name": "stdout",
     "output_type": "stream",
     "text": [
      "./data/text/minutes_등록일2014.12.02.txt\n"
     ]
    },
    {
     "name": "stderr",
     "output_type": "stream",
     "text": [
      " 38%|███▊      | 113/297 [00:45<01:20,  2.27it/s]"
     ]
    },
    {
     "name": "stdout",
     "output_type": "stream",
     "text": [
      "./data/text/minutes_등록일2014.12.30.txt\n",
      "./data/text/minutes_등록일2015.01.13.txt\n"
     ]
    },
    {
     "name": "stderr",
     "output_type": "stream",
     "text": [
      " 39%|███▉      | 116/297 [00:46<01:06,  2.71it/s]"
     ]
    },
    {
     "name": "stdout",
     "output_type": "stream",
     "text": [
      "./data/text/minutes_등록일2015.02.03.txt\n",
      "./data/text/minutes_등록일2015.02.17.txt\n"
     ]
    },
    {
     "name": "stderr",
     "output_type": "stream",
     "text": [
      " 39%|███▉      | 117/297 [00:47<01:25,  2.11it/s]"
     ]
    },
    {
     "name": "stdout",
     "output_type": "stream",
     "text": [
      "./data/text/minutes_등록일2015.03.10.txt\n"
     ]
    },
    {
     "name": "stderr",
     "output_type": "stream",
     "text": [
      " 40%|███▉      | 118/297 [00:47<01:36,  1.86it/s]"
     ]
    },
    {
     "name": "stdout",
     "output_type": "stream",
     "text": [
      "./data/text/minutes_등록일2015.03.31.txt\n"
     ]
    },
    {
     "name": "stderr",
     "output_type": "stream",
     "text": [
      " 40%|████      | 119/297 [00:48<01:20,  2.22it/s]"
     ]
    },
    {
     "name": "stdout",
     "output_type": "stream",
     "text": [
      "./data/text/minutes_등록일2015.04.14.txt\n"
     ]
    },
    {
     "name": "stderr",
     "output_type": "stream",
     "text": [
      " 41%|████      | 121/297 [00:48<01:03,  2.76it/s]"
     ]
    },
    {
     "name": "stdout",
     "output_type": "stream",
     "text": [
      "./data/text/minutes_등록일2015.04.28.txt\n",
      "./data/text/minutes_등록일2015.05.12.txt\n"
     ]
    },
    {
     "name": "stderr",
     "output_type": "stream",
     "text": [
      " 41%|████      | 122/297 [00:49<01:10,  2.49it/s]"
     ]
    },
    {
     "name": "stdout",
     "output_type": "stream",
     "text": [
      "./data/text/minutes_등록일2015.06.02.txt\n"
     ]
    },
    {
     "name": "stderr",
     "output_type": "stream",
     "text": [
      " 41%|████▏     | 123/297 [00:49<01:15,  2.30it/s]"
     ]
    },
    {
     "name": "stdout",
     "output_type": "stream",
     "text": [
      "./data/text/minutes_등록일2015.06.30.txt\n",
      "./data/text/minutes_등록일2015.07.14.txt\n"
     ]
    },
    {
     "name": "stderr",
     "output_type": "stream",
     "text": [
      " 42%|████▏     | 125/297 [00:50<01:05,  2.62it/s]"
     ]
    },
    {
     "name": "stdout",
     "output_type": "stream",
     "text": [
      "./data/text/minutes_등록일2015.07.28.txt\n",
      "./data/text/minutes_등록일2015.08.11.txt\n"
     ]
    },
    {
     "name": "stderr",
     "output_type": "stream",
     "text": [
      " 43%|████▎     | 128/297 [00:51<00:48,  3.46it/s]"
     ]
    },
    {
     "name": "stdout",
     "output_type": "stream",
     "text": [
      "./data/text/minutes_등록일2015.09.01.txt\n",
      "./data/text/minutes_등록일2015.09.15.txt\n"
     ]
    },
    {
     "name": "stderr",
     "output_type": "stream",
     "text": [
      " 44%|████▍     | 130/297 [00:51<00:47,  3.49it/s]"
     ]
    },
    {
     "name": "stdout",
     "output_type": "stream",
     "text": [
      "./data/text/minutes_등록일2015.09.30.txt\n",
      "./data/text/minutes_등록일2015.10.13.txt\n"
     ]
    },
    {
     "name": "stderr",
     "output_type": "stream",
     "text": [
      " 44%|████▍     | 131/297 [00:52<01:01,  2.68it/s]"
     ]
    },
    {
     "name": "stdout",
     "output_type": "stream",
     "text": [
      "./data/text/minutes_등록일2015.11.03.txt\n",
      "./data/text/minutes_등록일2015.11.17.txt\n"
     ]
    },
    {
     "name": "stderr",
     "output_type": "stream",
     "text": [
      " 45%|████▌     | 134/297 [00:52<00:45,  3.61it/s]"
     ]
    },
    {
     "name": "stdout",
     "output_type": "stream",
     "text": [
      "./data/text/minutes_등록일2015.12.01.txt\n",
      "./data/text/minutes_등록일2015.12.15.txt\n"
     ]
    },
    {
     "name": "stderr",
     "output_type": "stream",
     "text": [
      " 46%|████▌     | 136/297 [00:53<00:42,  3.76it/s]"
     ]
    },
    {
     "name": "stdout",
     "output_type": "stream",
     "text": [
      "./data/text/minutes_등록일2015.12.29.txt\n",
      "./data/text/minutes_등록일2016.01.05.txt\n",
      "./data/text/minutes_등록일2016.01.12.txt\n"
     ]
    },
    {
     "name": "stderr",
     "output_type": "stream",
     "text": [
      " 46%|████▋     | 138/297 [00:54<00:45,  3.52it/s]"
     ]
    },
    {
     "name": "stdout",
     "output_type": "stream",
     "text": [
      "./data/text/minutes_등록일2016.02.02.txt\n",
      "./data/text/minutes_등록일2016.02.16.txt\n"
     ]
    },
    {
     "name": "stderr",
     "output_type": "stream",
     "text": [
      " 47%|████▋     | 140/297 [00:54<00:43,  3.64it/s]"
     ]
    },
    {
     "name": "stdout",
     "output_type": "stream",
     "text": [
      "./data/text/minutes_등록일2016.03.02.txt\n",
      "./data/text/minutes_등록일2016.03.15.txt\n"
     ]
    },
    {
     "name": "stderr",
     "output_type": "stream",
     "text": [
      " 48%|████▊     | 143/297 [00:55<00:36,  4.23it/s]"
     ]
    },
    {
     "name": "stdout",
     "output_type": "stream",
     "text": [
      "./data/text/minutes_등록일2016.03.29.txt\n",
      "./data/text/minutes_등록일2016.04.12.txt\n"
     ]
    },
    {
     "name": "stderr",
     "output_type": "stream",
     "text": [
      " 48%|████▊     | 144/297 [00:55<00:43,  3.49it/s]"
     ]
    },
    {
     "name": "stdout",
     "output_type": "stream",
     "text": [
      "./data/text/minutes_등록일2016.05.04.txt\n"
     ]
    },
    {
     "name": "stderr",
     "output_type": "stream",
     "text": [
      " 49%|████▉     | 145/297 [00:56<00:49,  3.10it/s]"
     ]
    },
    {
     "name": "stdout",
     "output_type": "stream",
     "text": [
      "./data/text/minutes_등록일2016.05.31.txt\n"
     ]
    },
    {
     "name": "stderr",
     "output_type": "stream",
     "text": [
      " 49%|████▉     | 147/297 [00:56<00:47,  3.16it/s]"
     ]
    },
    {
     "name": "stdout",
     "output_type": "stream",
     "text": [
      "./data/text/minutes_등록일2016.06.28.txt\n",
      "./data/text/minutes_등록일2016.07.12.txt\n",
      "./data/text/minutes_등록일2016.07.19.txt\n"
     ]
    },
    {
     "name": "stderr",
     "output_type": "stream",
     "text": [
      " 50%|█████     | 149/297 [00:57<00:40,  3.69it/s]"
     ]
    },
    {
     "name": "stdout",
     "output_type": "stream",
     "text": [
      "./data/text/minutes_등록일2016.08.02.txt\n"
     ]
    },
    {
     "name": "stderr",
     "output_type": "stream",
     "text": [
      " 51%|█████     | 150/297 [00:57<00:42,  3.42it/s]"
     ]
    },
    {
     "name": "stdout",
     "output_type": "stream",
     "text": [
      "./data/text/minutes_등록일2016.08.30.txt\n"
     ]
    },
    {
     "name": "stderr",
     "output_type": "stream",
     "text": [
      " 51%|█████     | 152/297 [00:58<00:39,  3.69it/s]"
     ]
    },
    {
     "name": "stdout",
     "output_type": "stream",
     "text": [
      "./data/text/minutes_등록일2016.09.27.txt\n",
      "./data/text/minutes_등록일2016.10.11.txt\n"
     ]
    },
    {
     "name": "stderr",
     "output_type": "stream",
     "text": [
      " 52%|█████▏    | 154/297 [00:58<00:37,  3.84it/s]"
     ]
    },
    {
     "name": "stdout",
     "output_type": "stream",
     "text": [
      "./data/text/minutes_등록일2016.11.01.txt\n",
      "./data/text/minutes_등록일2016.11.15.txt\n"
     ]
    },
    {
     "name": "stderr",
     "output_type": "stream",
     "text": [
      " 52%|█████▏    | 155/297 [00:59<00:45,  3.14it/s]"
     ]
    },
    {
     "name": "stdout",
     "output_type": "stream",
     "text": [
      "./data/text/minutes_등록일2016.11.29.txt\n",
      "./data/text/minutes_등록일2016.12.13.txt\n"
     ]
    },
    {
     "name": "stderr",
     "output_type": "stream",
     "text": [
      " 54%|█████▎    | 159/297 [00:59<00:27,  4.97it/s]"
     ]
    },
    {
     "name": "stdout",
     "output_type": "stream",
     "text": [
      "./data/text/minutes_등록일2017.01.03.txt\n",
      "./data/text/minutes_등록일2017.01.10.txt\n",
      "./data/text/minutes_등록일2017.01.17.txt\n"
     ]
    },
    {
     "name": "stderr",
     "output_type": "stream",
     "text": [
      " 54%|█████▍    | 160/297 [01:00<00:40,  3.39it/s]"
     ]
    },
    {
     "name": "stdout",
     "output_type": "stream",
     "text": [
      "./data/text/minutes_등록일2017.01.31.txt\n",
      "./data/text/minutes_등록일2017.02.14.txt\n"
     ]
    },
    {
     "name": "stderr",
     "output_type": "stream",
     "text": [
      " 55%|█████▍    | 163/297 [01:01<00:38,  3.52it/s]"
     ]
    },
    {
     "name": "stdout",
     "output_type": "stream",
     "text": [
      "./data/text/minutes_등록일2017.03.14.txt\n",
      "./data/text/minutes_등록일2017.04.07.txt\n"
     ]
    },
    {
     "name": "stderr",
     "output_type": "stream",
     "text": [
      " 56%|█████▌    | 165/297 [01:02<00:42,  3.12it/s]"
     ]
    },
    {
     "name": "stdout",
     "output_type": "stream",
     "text": [
      "./data/text/minutes_등록일2017.05.02.txt\n",
      "./data/text/minutes_등록일2017.05.16.txt\n"
     ]
    },
    {
     "name": "stderr",
     "output_type": "stream",
     "text": [
      " 56%|█████▌    | 166/297 [01:02<00:51,  2.55it/s]"
     ]
    },
    {
     "name": "stdout",
     "output_type": "stream",
     "text": [
      "./data/text/minutes_등록일2017.06.13.txt\n"
     ]
    },
    {
     "name": "stderr",
     "output_type": "stream",
     "text": [
      " 56%|█████▌    | 167/297 [01:03<00:53,  2.44it/s]"
     ]
    },
    {
     "name": "stdout",
     "output_type": "stream",
     "text": [
      "./data/text/minutes_등록일2017.07.07.txt\n"
     ]
    },
    {
     "name": "stderr",
     "output_type": "stream",
     "text": [
      " 57%|█████▋    | 168/297 [01:03<00:57,  2.25it/s]"
     ]
    },
    {
     "name": "stdout",
     "output_type": "stream",
     "text": [
      "./data/text/minutes_등록일2017.08.01.txt\n",
      "./data/text/minutes_등록일2017.08.29.txt\n"
     ]
    },
    {
     "name": "stderr",
     "output_type": "stream",
     "text": [
      " 57%|█████▋    | 170/297 [01:04<00:46,  2.71it/s]"
     ]
    },
    {
     "name": "stdout",
     "output_type": "stream",
     "text": [
      "./data/text/minutes_등록일2017.09.19.txt\n"
     ]
    },
    {
     "name": "stderr",
     "output_type": "stream",
     "text": [
      " 58%|█████▊    | 171/297 [01:04<00:43,  2.89it/s]"
     ]
    },
    {
     "name": "stdout",
     "output_type": "stream",
     "text": [
      "./data/text/minutes_등록일2017.10.10.txt\n"
     ]
    },
    {
     "name": "stderr",
     "output_type": "stream",
     "text": [
      " 58%|█████▊    | 173/297 [01:05<00:41,  2.96it/s]"
     ]
    },
    {
     "name": "stdout",
     "output_type": "stream",
     "text": [
      "./data/text/minutes_등록일2017.11.07.txt\n",
      "./data/text/minutes_등록일2017.11.28.txt\n"
     ]
    },
    {
     "name": "stderr",
     "output_type": "stream",
     "text": [
      " 59%|█████▉    | 175/297 [01:05<00:37,  3.26it/s]"
     ]
    },
    {
     "name": "stdout",
     "output_type": "stream",
     "text": [
      "./data/text/minutes_등록일2017.12.19.txt\n",
      "./data/text/minutes_등록일2017.12.26.txt\n"
     ]
    },
    {
     "name": "stderr",
     "output_type": "stream",
     "text": [
      " 60%|█████▉    | 177/297 [01:06<00:27,  4.36it/s]"
     ]
    },
    {
     "name": "stdout",
     "output_type": "stream",
     "text": [
      "./data/text/minutes_등록일2018.01.02.txt\n",
      "./data/text/minutes_등록일2018.01.16.txt\n"
     ]
    },
    {
     "name": "stderr",
     "output_type": "stream",
     "text": [
      " 60%|█████▉    | 178/297 [01:06<00:37,  3.20it/s]"
     ]
    },
    {
     "name": "stdout",
     "output_type": "stream",
     "text": [
      "./data/text/minutes_등록일2018.02.06.txt\n",
      "./data/text/minutes_등록일2018.02.27.txt\n"
     ]
    },
    {
     "name": "stderr",
     "output_type": "stream",
     "text": [
      " 61%|██████    | 181/297 [01:07<00:32,  3.57it/s]"
     ]
    },
    {
     "name": "stdout",
     "output_type": "stream",
     "text": [
      "./data/text/minutes_등록일2018.03.20.txt\n",
      "./data/text/minutes_등록일2018.03.27.txt\n"
     ]
    },
    {
     "name": "stderr",
     "output_type": "stream",
     "text": [
      " 61%|██████▏   | 182/297 [01:07<00:29,  3.85it/s]"
     ]
    },
    {
     "name": "stdout",
     "output_type": "stream",
     "text": [
      "./data/text/minutes_등록일2018.04.17.txt\n"
     ]
    },
    {
     "name": "stderr",
     "output_type": "stream",
     "text": [
      " 62%|██████▏   | 184/297 [01:08<00:36,  3.10it/s]"
     ]
    },
    {
     "name": "stdout",
     "output_type": "stream",
     "text": [
      "./data/text/minutes_등록일2018.05.02.txt\n",
      "./data/text/minutes_등록일2018.05.15.txt\n"
     ]
    },
    {
     "name": "stderr",
     "output_type": "stream",
     "text": [
      " 63%|██████▎   | 186/297 [01:09<00:39,  2.82it/s]"
     ]
    },
    {
     "name": "stdout",
     "output_type": "stream",
     "text": [
      "./data/text/minutes_등록일2018.06.12.txt\n",
      "./data/text/minutes_등록일2018.07.06.txt\n"
     ]
    },
    {
     "name": "stderr",
     "output_type": "stream",
     "text": [
      " 63%|██████▎   | 188/297 [01:10<00:39,  2.79it/s]"
     ]
    },
    {
     "name": "stdout",
     "output_type": "stream",
     "text": [
      "./data/text/minutes_등록일2018.07.31.txt\n",
      "./data/text/minutes_등록일2018.08.14.txt\n"
     ]
    },
    {
     "name": "stderr",
     "output_type": "stream",
     "text": [
      " 64%|██████▍   | 190/297 [01:11<00:43,  2.43it/s]"
     ]
    },
    {
     "name": "stdout",
     "output_type": "stream",
     "text": [
      "./data/text/minutes_등록일2018.09.18.txt\n",
      "./data/text/minutes_등록일2018.10.10.txt\n"
     ]
    },
    {
     "name": "stderr",
     "output_type": "stream",
     "text": [
      " 65%|██████▍   | 192/297 [01:12<00:39,  2.65it/s]"
     ]
    },
    {
     "name": "stdout",
     "output_type": "stream",
     "text": [
      "./data/text/minutes_등록일2018.11.06.txt\n",
      "./data/text/minutes_등록일2018.11.27.txt\n"
     ]
    },
    {
     "name": "stderr",
     "output_type": "stream",
     "text": [
      " 65%|██████▍   | 193/297 [01:12<00:40,  2.58it/s]"
     ]
    },
    {
     "name": "stdout",
     "output_type": "stream",
     "text": [
      "./data/text/minutes_등록일2018.12.18.txt\n",
      "./data/text/minutes_등록일2018.12.26.txt\n"
     ]
    },
    {
     "name": "stderr",
     "output_type": "stream",
     "text": [
      " 66%|██████▌   | 196/297 [01:12<00:23,  4.35it/s]"
     ]
    },
    {
     "name": "stdout",
     "output_type": "stream",
     "text": [
      "./data/text/minutes_등록일2019.01.08.txt\n",
      "./data/text/minutes_등록일2019.01.15.txt\n"
     ]
    },
    {
     "name": "stderr",
     "output_type": "stream",
     "text": [
      " 66%|██████▋   | 197/297 [01:13<00:21,  4.68it/s]"
     ]
    },
    {
     "name": "stdout",
     "output_type": "stream",
     "text": [
      "./data/text/minutes_등록일2019.02.07.txt\n"
     ]
    },
    {
     "name": "stderr",
     "output_type": "stream",
     "text": [
      " 67%|██████▋   | 199/297 [01:13<00:20,  4.75it/s]"
     ]
    },
    {
     "name": "stdout",
     "output_type": "stream",
     "text": [
      "./data/text/minutes_등록일2019.02.12.txt\n",
      "./data/text/minutes_등록일2019.03.05.txt\n"
     ]
    },
    {
     "name": "stderr",
     "output_type": "stream",
     "text": [
      " 68%|██████▊   | 201/297 [01:14<00:26,  3.63it/s]"
     ]
    },
    {
     "name": "stdout",
     "output_type": "stream",
     "text": [
      "./data/text/minutes_등록일2019.03.19.txt\n",
      "./data/text/minutes_등록일2019.04.12.txt\n"
     ]
    },
    {
     "name": "stderr",
     "output_type": "stream",
     "text": [
      " 68%|██████▊   | 203/297 [01:14<00:23,  4.00it/s]"
     ]
    },
    {
     "name": "stdout",
     "output_type": "stream",
     "text": [
      "./data/text/minutes_등록일2019.05.07.txt\n",
      "./data/text/minutes_등록일2019.05.28.txt\n"
     ]
    },
    {
     "name": "stderr",
     "output_type": "stream",
     "text": [
      " 69%|██████▉   | 205/297 [01:15<00:24,  3.78it/s]"
     ]
    },
    {
     "name": "stdout",
     "output_type": "stream",
     "text": [
      "./data/text/minutes_등록일2019.06.18.txt\n",
      "./data/text/minutes_등록일2019.07.09.txt\n"
     ]
    },
    {
     "name": "stderr",
     "output_type": "stream",
     "text": [
      " 70%|██████▉   | 207/297 [01:16<00:23,  3.79it/s]"
     ]
    },
    {
     "name": "stdout",
     "output_type": "stream",
     "text": [
      "./data/text/minutes_등록일2019.08.06.txt\n",
      "./data/text/minutes_등록일2019.08.27.txt\n"
     ]
    },
    {
     "name": "stderr",
     "output_type": "stream",
     "text": [
      " 70%|███████   | 209/297 [01:16<00:25,  3.49it/s]"
     ]
    },
    {
     "name": "stdout",
     "output_type": "stream",
     "text": [
      "./data/text/minutes_등록일2019.09.17.txt\n",
      "./data/text/minutes_등록일2019.10.11.txt\n"
     ]
    },
    {
     "name": "stderr",
     "output_type": "stream",
     "text": [
      " 71%|███████   | 210/297 [01:17<00:30,  2.90it/s]"
     ]
    },
    {
     "name": "stdout",
     "output_type": "stream",
     "text": [
      "./data/text/minutes_등록일2019.11.05.txt\n"
     ]
    },
    {
     "name": "stderr",
     "output_type": "stream",
     "text": [
      " 71%|███████▏  | 212/297 [01:17<00:24,  3.40it/s]"
     ]
    },
    {
     "name": "stdout",
     "output_type": "stream",
     "text": [
      "./data/text/minutes_등록일2019.12.17.txt\n",
      "./data/text/minutes_등록일2019.12.31.txt\n"
     ]
    },
    {
     "name": "stderr",
     "output_type": "stream",
     "text": [
      " 72%|███████▏  | 213/297 [01:17<00:20,  4.08it/s]"
     ]
    },
    {
     "name": "stdout",
     "output_type": "stream",
     "text": [
      "./data/text/minutes_등록일2020.01.10.txt\n"
     ]
    },
    {
     "name": "stderr",
     "output_type": "stream",
     "text": [
      " 72%|███████▏  | 214/297 [01:18<00:22,  3.64it/s]"
     ]
    },
    {
     "name": "stdout",
     "output_type": "stream",
     "text": [
      "./data/text/minutes_등록일2020.02.04.txt\n"
     ]
    },
    {
     "name": "stderr",
     "output_type": "stream",
     "text": [
      " 73%|███████▎  | 216/297 [01:18<00:20,  4.02it/s]"
     ]
    },
    {
     "name": "stdout",
     "output_type": "stream",
     "text": [
      "./data/text/minutes_등록일2020.03.17.txt\n",
      "./data/text/minutes_등록일2020.03.31.txt\n"
     ]
    },
    {
     "name": "stderr",
     "output_type": "stream",
     "text": [
      " 73%|███████▎  | 217/297 [01:18<00:17,  4.55it/s]"
     ]
    },
    {
     "name": "stdout",
     "output_type": "stream",
     "text": [
      "./data/text/minutes_등록일2020.04.14.txt\n"
     ]
    },
    {
     "name": "stderr",
     "output_type": "stream",
     "text": [
      " 74%|███████▎  | 219/297 [01:19<00:16,  4.70it/s]"
     ]
    },
    {
     "name": "stdout",
     "output_type": "stream",
     "text": [
      "./data/text/minutes_등록일2020.04.28.txt\n",
      "./data/text/minutes_등록일2020.05.06.txt\n"
     ]
    },
    {
     "name": "stderr",
     "output_type": "stream",
     "text": [
      " 74%|███████▍  | 220/297 [01:19<00:14,  5.37it/s]"
     ]
    },
    {
     "name": "stdout",
     "output_type": "stream",
     "text": [
      "./data/text/minutes_등록일2020.06.02.txt\n"
     ]
    },
    {
     "name": "stderr",
     "output_type": "stream",
     "text": [
      " 75%|███████▍  | 222/297 [01:19<00:15,  4.80it/s]"
     ]
    },
    {
     "name": "stdout",
     "output_type": "stream",
     "text": [
      "./data/text/minutes_등록일2020.06.16.txt\n",
      "./data/text/minutes_등록일2020.06.30.txt\n",
      "./data/text/minutes_등록일2020.07.10.txt\n"
     ]
    },
    {
     "name": "stderr",
     "output_type": "stream",
     "text": [
      " 76%|███████▌  | 225/297 [01:20<00:13,  5.46it/s]"
     ]
    },
    {
     "name": "stdout",
     "output_type": "stream",
     "text": [
      "./data/text/minutes_등록일2020.08.04.txt\n",
      "./data/text/minutes_등록일2020.08.18.txt\n"
     ]
    },
    {
     "name": "stderr",
     "output_type": "stream",
     "text": [
      " 76%|███████▋  | 227/297 [01:20<00:15,  4.65it/s]"
     ]
    },
    {
     "name": "stdout",
     "output_type": "stream",
     "text": [
      "./data/text/minutes_등록일2020.09.15.txt\n",
      "./data/text/minutes_등록일2020.09.29.txt\n"
     ]
    },
    {
     "name": "stderr",
     "output_type": "stream",
     "text": [
      " 77%|███████▋  | 228/297 [01:21<00:12,  5.32it/s]"
     ]
    },
    {
     "name": "stdout",
     "output_type": "stream",
     "text": [
      "./data/text/minutes_등록일2020.10.08.txt\n"
     ]
    },
    {
     "name": "stderr",
     "output_type": "stream",
     "text": [
      " 77%|███████▋  | 229/297 [01:21<00:14,  4.67it/s]"
     ]
    },
    {
     "name": "stdout",
     "output_type": "stream",
     "text": [
      "./data/text/minutes_등록일2020.11.03.txt\n",
      "./data/text/minutes_등록일2020.11.17.txt\n"
     ]
    },
    {
     "name": "stderr",
     "output_type": "stream",
     "text": [
      " 78%|███████▊  | 231/297 [01:21<00:13,  4.74it/s]"
     ]
    },
    {
     "name": "stdout",
     "output_type": "stream",
     "text": [
      "./data/text/minutes_등록일2020.12.15.txt\n",
      "./data/text/minutes_등록일2020.12.29.txt\n"
     ]
    },
    {
     "name": "stderr",
     "output_type": "stream",
     "text": [
      " 78%|███████▊  | 233/297 [01:21<00:10,  5.95it/s]"
     ]
    },
    {
     "name": "stdout",
     "output_type": "stream",
     "text": [
      "./data/text/minutes_등록일2021.01.08.txt\n"
     ]
    },
    {
     "name": "stderr",
     "output_type": "stream",
     "text": [
      " 79%|███████▉  | 235/297 [01:22<00:16,  3.81it/s]"
     ]
    },
    {
     "name": "stdout",
     "output_type": "stream",
     "text": [
      "./data/text/minutes_등록일2021.02.02.txt\n",
      "./data/text/minutes_등록일2021.02.16.txt\n"
     ]
    },
    {
     "name": "stderr",
     "output_type": "stream",
     "text": [
      " 80%|███████▉  | 237/297 [01:23<00:15,  3.76it/s]"
     ]
    },
    {
     "name": "stdout",
     "output_type": "stream",
     "text": [
      "./data/text/minutes_등록일2021.03.16.txt\n",
      "./data/text/minutes_등록일2021.03.30.txt\n"
     ]
    },
    {
     "name": "stderr",
     "output_type": "stream",
     "text": [
      " 80%|████████  | 238/297 [01:23<00:13,  4.47it/s]"
     ]
    },
    {
     "name": "stdout",
     "output_type": "stream",
     "text": [
      "./data/text/minutes_등록일2021.04.09.txt\n"
     ]
    },
    {
     "name": "stderr",
     "output_type": "stream",
     "text": [
      " 80%|████████  | 239/297 [01:24<00:15,  3.69it/s]"
     ]
    },
    {
     "name": "stdout",
     "output_type": "stream",
     "text": [
      "./data/text/minutes_등록일2021.05.04.txt\n"
     ]
    },
    {
     "name": "stderr",
     "output_type": "stream",
     "text": [
      " 81%|████████  | 240/297 [01:24<00:17,  3.28it/s]"
     ]
    },
    {
     "name": "stdout",
     "output_type": "stream",
     "text": [
      "./data/text/minutes_등록일2021.06.15.txt\n",
      "./data/text/minutes_등록일2021.06.29.txt\n"
     ]
    },
    {
     "name": "stderr",
     "output_type": "stream",
     "text": [
      " 81%|████████▏ | 242/297 [01:24<00:11,  4.65it/s]"
     ]
    },
    {
     "name": "stdout",
     "output_type": "stream",
     "text": [
      "./data/text/minutes_등록일2021.07.09.txt\n",
      "./data/text/minutes_등록일2021.07.20.txt\n"
     ]
    },
    {
     "name": "stderr",
     "output_type": "stream",
     "text": [
      " 82%|████████▏ | 245/297 [01:25<00:11,  4.58it/s]"
     ]
    },
    {
     "name": "stdout",
     "output_type": "stream",
     "text": [
      "./data/text/minutes_등록일2021.08.03.txt\n",
      "./data/text/minutes_등록일2021.08.17.txt\n"
     ]
    },
    {
     "name": "stderr",
     "output_type": "stream",
     "text": [
      " 83%|████████▎ | 247/297 [01:25<00:11,  4.29it/s]"
     ]
    },
    {
     "name": "stdout",
     "output_type": "stream",
     "text": [
      "./data/text/minutes_등록일2021.09.14.txt\n",
      "./data/text/minutes_등록일2021.09.28.txt\n"
     ]
    },
    {
     "name": "stderr",
     "output_type": "stream",
     "text": [
      " 84%|████████▎ | 248/297 [01:25<00:09,  4.93it/s]"
     ]
    },
    {
     "name": "stdout",
     "output_type": "stream",
     "text": [
      "./data/text/minutes_등록일2021.10.12.txt\n"
     ]
    },
    {
     "name": "stderr",
     "output_type": "stream",
     "text": [
      " 84%|████████▍ | 249/297 [01:26<00:17,  2.70it/s]"
     ]
    },
    {
     "name": "stdout",
     "output_type": "stream",
     "text": [
      "./data/text/minutes_등록일2021.11.02.txt\n"
     ]
    },
    {
     "name": "stderr",
     "output_type": "stream",
     "text": [
      " 85%|████████▍ | 252/297 [01:27<00:13,  3.44it/s]"
     ]
    },
    {
     "name": "stdout",
     "output_type": "stream",
     "text": [
      "./data/text/minutes_등록일2021.12.14.txt\n",
      "./data/text/minutes_등록일2021.12.28.txt\n",
      "./data/text/minutes_등록일2022.01.07.txt\n"
     ]
    },
    {
     "name": "stderr",
     "output_type": "stream",
     "text": [
      " 85%|████████▌ | 253/297 [01:28<00:15,  2.91it/s]"
     ]
    },
    {
     "name": "stdout",
     "output_type": "stream",
     "text": [
      "./data/text/minutes_등록일2022.02.03.txt\n"
     ]
    },
    {
     "name": "stderr",
     "output_type": "stream",
     "text": [
      " 86%|████████▌ | 255/297 [01:29<00:15,  2.74it/s]"
     ]
    },
    {
     "name": "stdout",
     "output_type": "stream",
     "text": [
      "./data/text/minutes_등록일2022.03.15.txt\n",
      "./data/text/minutes_등록일2022.03.29.txt\n"
     ]
    },
    {
     "name": "stderr",
     "output_type": "stream",
     "text": [
      " 86%|████████▌ | 256/297 [01:29<00:13,  3.14it/s]"
     ]
    },
    {
     "name": "stdout",
     "output_type": "stream",
     "text": [
      "./data/text/minutes_등록일2022.04.08.txt\n"
     ]
    },
    {
     "name": "stderr",
     "output_type": "stream",
     "text": [
      " 87%|████████▋ | 257/297 [01:29<00:12,  3.08it/s]"
     ]
    },
    {
     "name": "stdout",
     "output_type": "stream",
     "text": [
      "./data/text/minutes_등록일2022.05.03.txt\n"
     ]
    },
    {
     "name": "stderr",
     "output_type": "stream",
     "text": [
      " 87%|████████▋ | 259/297 [01:30<00:11,  3.23it/s]"
     ]
    },
    {
     "name": "stdout",
     "output_type": "stream",
     "text": [
      "./data/text/minutes_등록일2022.06.14.txt\n",
      "./data/text/minutes_등록일2022.06.28.txt\n"
     ]
    },
    {
     "name": "stderr",
     "output_type": "stream",
     "text": [
      " 88%|████████▊ | 260/297 [01:30<00:09,  3.72it/s]"
     ]
    },
    {
     "name": "stdout",
     "output_type": "stream",
     "text": [
      "./data/text/minutes_등록일2022.07.08.txt\n"
     ]
    },
    {
     "name": "stderr",
     "output_type": "stream",
     "text": [
      " 88%|████████▊ | 262/297 [01:31<00:10,  3.43it/s]"
     ]
    },
    {
     "name": "stdout",
     "output_type": "stream",
     "text": [
      "./data/text/minutes_등록일2022.08.02.txt\n",
      "./data/text/minutes_등록일2022.08.16.txt\n"
     ]
    },
    {
     "name": "stderr",
     "output_type": "stream",
     "text": [
      " 89%|████████▉ | 264/297 [01:31<00:10,  3.09it/s]"
     ]
    },
    {
     "name": "stdout",
     "output_type": "stream",
     "text": [
      "./data/text/minutes_등록일2022.09.13.txt\n",
      "./data/text/minutes_등록일2022.09.27.txt\n"
     ]
    },
    {
     "name": "stderr",
     "output_type": "stream",
     "text": [
      " 89%|████████▉ | 265/297 [01:32<00:08,  3.69it/s]"
     ]
    },
    {
     "name": "stdout",
     "output_type": "stream",
     "text": [
      "./data/text/minutes_등록일2022.10.07.txt\n"
     ]
    },
    {
     "name": "stderr",
     "output_type": "stream",
     "text": [
      " 90%|████████▉ | 267/297 [01:33<00:10,  2.74it/s]"
     ]
    },
    {
     "name": "stdout",
     "output_type": "stream",
     "text": [
      "./data/text/minutes_등록일2022.11.01.txt\n",
      "./data/text/minutes_등록일2022.11.15.txt\n"
     ]
    },
    {
     "name": "stderr",
     "output_type": "stream",
     "text": [
      " 90%|█████████ | 268/297 [01:33<00:08,  3.44it/s]"
     ]
    },
    {
     "name": "stdout",
     "output_type": "stream",
     "text": [
      "./data/text/minutes_등록일2022.11.29.txt\n"
     ]
    },
    {
     "name": "stderr",
     "output_type": "stream",
     "text": [
      " 91%|█████████ | 270/297 [01:34<00:09,  2.87it/s]"
     ]
    },
    {
     "name": "stdout",
     "output_type": "stream",
     "text": [
      "./data/text/minutes_등록일2022.12.13.txt\n",
      "./data/text/minutes_등록일2022.12.27.txt\n"
     ]
    },
    {
     "name": "stderr",
     "output_type": "stream",
     "text": [
      " 91%|█████████ | 271/297 [01:34<00:07,  3.28it/s]"
     ]
    },
    {
     "name": "stdout",
     "output_type": "stream",
     "text": [
      "./data/text/minutes_등록일2023.01.06.txt\n"
     ]
    },
    {
     "name": "stderr",
     "output_type": "stream",
     "text": [
      " 92%|█████████▏| 272/297 [01:35<00:11,  2.26it/s]"
     ]
    },
    {
     "name": "stdout",
     "output_type": "stream",
     "text": [
      "./data/text/minutes_등록일2023.01.31.txt\n"
     ]
    },
    {
     "name": "stderr",
     "output_type": "stream",
     "text": [
      " 92%|█████████▏| 274/297 [01:36<00:10,  2.23it/s]"
     ]
    },
    {
     "name": "stdout",
     "output_type": "stream",
     "text": [
      "./data/text/minutes_등록일2023.03.14.txt\n",
      "./data/text/minutes_등록일2023.03.28.txt\n"
     ]
    },
    {
     "name": "stderr",
     "output_type": "stream",
     "text": [
      " 93%|█████████▎| 275/297 [01:36<00:07,  2.77it/s]"
     ]
    },
    {
     "name": "stdout",
     "output_type": "stream",
     "text": [
      "./data/text/minutes_등록일2023.04.07.txt\n"
     ]
    },
    {
     "name": "stderr",
     "output_type": "stream",
     "text": [
      " 93%|█████████▎| 276/297 [01:37<00:11,  1.88it/s]"
     ]
    },
    {
     "name": "stdout",
     "output_type": "stream",
     "text": [
      "./data/text/minutes_등록일2023.05.02.txt\n"
     ]
    },
    {
     "name": "stderr",
     "output_type": "stream",
     "text": [
      " 94%|█████████▎| 278/297 [01:38<00:08,  2.17it/s]"
     ]
    },
    {
     "name": "stdout",
     "output_type": "stream",
     "text": [
      "./data/text/minutes_등록일2023.06.13.txt\n",
      "./data/text/minutes_등록일2023.06.27.txt\n"
     ]
    },
    {
     "name": "stderr",
     "output_type": "stream",
     "text": [
      " 94%|█████████▍| 279/297 [01:38<00:06,  2.75it/s]"
     ]
    },
    {
     "name": "stdout",
     "output_type": "stream",
     "text": [
      "./data/text/minutes_등록일2023.07.07.txt\n"
     ]
    },
    {
     "name": "stderr",
     "output_type": "stream",
     "text": [
      " 95%|█████████▍| 281/297 [01:39<00:05,  2.76it/s]"
     ]
    },
    {
     "name": "stdout",
     "output_type": "stream",
     "text": [
      "./data/text/minutes_등록일2023.08.01.txt\n",
      "./data/text/minutes_등록일2023.08.16.txt\n"
     ]
    },
    {
     "name": "stderr",
     "output_type": "stream",
     "text": [
      " 95%|█████████▌| 283/297 [01:40<00:05,  2.53it/s]"
     ]
    },
    {
     "name": "stdout",
     "output_type": "stream",
     "text": [
      "./data/text/minutes_등록일2023.09.12.txt\n",
      "./data/text/minutes_등록일2023.10.04.txt\n"
     ]
    },
    {
     "name": "stderr",
     "output_type": "stream",
     "text": [
      " 96%|█████████▌| 284/297 [01:40<00:04,  3.12it/s]"
     ]
    },
    {
     "name": "stdout",
     "output_type": "stream",
     "text": [
      "./data/text/minutes_등록일2023.10.13.txt\n"
     ]
    },
    {
     "name": "stderr",
     "output_type": "stream",
     "text": [
      " 96%|█████████▌| 285/297 [01:40<00:05,  2.26it/s]"
     ]
    },
    {
     "name": "stdout",
     "output_type": "stream",
     "text": [
      "./data/text/minutes_등록일2023.11.07.txt\n"
     ]
    },
    {
     "name": "stderr",
     "output_type": "stream",
     "text": [
      " 97%|█████████▋| 287/297 [01:41<00:03,  2.64it/s]"
     ]
    },
    {
     "name": "stdout",
     "output_type": "stream",
     "text": [
      "./data/text/minutes_등록일2023.12.19.txt\n",
      "./data/text/minutes_등록일2024.01.02.txt\n"
     ]
    },
    {
     "name": "stderr",
     "output_type": "stream",
     "text": [
      " 97%|█████████▋| 288/297 [01:41<00:02,  3.12it/s]"
     ]
    },
    {
     "name": "stdout",
     "output_type": "stream",
     "text": [
      "./data/text/minutes_등록일2024.01.16.txt\n"
     ]
    },
    {
     "name": "stderr",
     "output_type": "stream",
     "text": [
      " 98%|█████████▊| 290/297 [01:42<00:02,  2.52it/s]"
     ]
    },
    {
     "name": "stdout",
     "output_type": "stream",
     "text": [
      "./data/text/minutes_등록일2024.01.30.txt\n",
      "./data/text/minutes_등록일2024.02.13.txt\n"
     ]
    },
    {
     "name": "stderr",
     "output_type": "stream",
     "text": [
      " 98%|█████████▊| 291/297 [01:43<00:01,  3.17it/s]"
     ]
    },
    {
     "name": "stdout",
     "output_type": "stream",
     "text": [
      "./data/text/minutes_등록일2024.02.27.txt\n"
     ]
    },
    {
     "name": "stderr",
     "output_type": "stream",
     "text": [
      " 99%|█████████▊| 293/297 [01:43<00:01,  2.74it/s]"
     ]
    },
    {
     "name": "stdout",
     "output_type": "stream",
     "text": [
      "./data/text/minutes_등록일2024.03.12.txt\n",
      "./data/text/minutes_등록일2024.04.02.txt\n"
     ]
    },
    {
     "name": "stderr",
     "output_type": "stream",
     "text": [
      " 99%|█████████▉| 294/297 [01:44<00:00,  3.20it/s]"
     ]
    },
    {
     "name": "stdout",
     "output_type": "stream",
     "text": [
      "./data/text/minutes_등록일2024.04.16.txt\n"
     ]
    },
    {
     "name": "stderr",
     "output_type": "stream",
     "text": [
      "100%|█████████▉| 296/297 [01:45<00:00,  2.74it/s]"
     ]
    },
    {
     "name": "stdout",
     "output_type": "stream",
     "text": [
      "./data/text/minutes_등록일2024.04.30.txt\n",
      "./data/text/minutes_등록일2024.05.28.txt\n"
     ]
    },
    {
     "name": "stderr",
     "output_type": "stream",
     "text": [
      "100%|██████████| 297/297 [01:45<00:00,  2.80it/s]"
     ]
    },
    {
     "name": "stdout",
     "output_type": "stream",
     "text": [
      "./data/text/minutes_등록일2024.06.11.txt\n"
     ]
    },
    {
     "name": "stderr",
     "output_type": "stream",
     "text": [
      "\n"
     ]
    }
   ],
   "execution_count": 7
  },
  {
   "cell_type": "markdown",
   "id": "0c66458c-5e4f-4aa4-acb6-8a48173774eb",
   "metadata": {},
   "source": [
    "### 의사록 섹션 분리"
   ]
  },
  {
   "cell_type": "code",
   "id": "42080f40-0dd2-45c4-97ab-bdb669fa8f61",
   "metadata": {
    "ExecuteTime": {
     "end_time": "2024-06-18T18:05:19.853363Z",
     "start_time": "2024-06-18T18:05:19.836207Z"
    }
   },
   "source": [
    "def tidy_sentences(section) :\n",
    "    sentence_enders = re.compile(r'((?<=[함음됨임봄짐움])(\\s*\\n|\\.|;)|(?<=다)\\.)\\s*')\n",
    "    splits = list((m.start(), m.end()) for m in re.finditer(sentence_enders, section))\n",
    "    starts = [0] + [i[1] for i in splits]\n",
    "    ends = [i[0] for i in splits]\n",
    "    sentences = [section[start:end] for start, end in zip(starts[:-1], ends)]\n",
    "    for i, s in enumerate(sentences):\n",
    "        sentences[i] = (s.replace('\\n', ' ').replace(' ', ' ')) + '.'\n",
    "    text = '\\n'.join(sentences) if len(sentences) > 0 else ''\n",
    "    \n",
    "    return sentences, text"
   ],
   "outputs": [],
   "execution_count": 8
  },
  {
   "cell_type": "code",
   "id": "039db3fa-a9dc-44db-9366-e4452e02ed3c",
   "metadata": {
    "ExecuteTime": {
     "end_time": "2024-06-18T18:05:19.906974Z",
     "start_time": "2024-06-18T18:05:19.853363Z"
    }
   },
   "source": [
    "def preprocess_minutes(minutes) :\n",
    "    pos = re.search('(.?국내외\\s?경제\\s?동향.?과 관련하여,?|\\(가\\).+경제전망.*|\\(가\\) 국내외 경제동향 및 평가)\\n?\\s*일부 위원은', minutes, re.MULTILINE)\n",
    "    s1 = pos.start() if pos else -1\n",
    "    pos = re.search('(.?외환.?국제금융\\s?동향.?과 관련하여.*|\\(나\\) 외환.국제금융\\s?(및 금융시장)?\\s?동향)\\n?\\s*(일부 위원은|대부분의 위원들은)', minutes,re.MULTILINE)\n",
    "    s2 = pos.start() if pos else -1\n",
    "    pos = re.search('(.?금융시장\\s?동향.?과 관련하여,?|\\(다\\) 금융시장\\s?동향)\\n?\\s*일부 위원은', minutes, re.MULTILINE)\n",
    "    s3 = pos.start() if pos else -1\n",
    "    pos = re.search('((\\((다|라)\\) )?.?통화정책\\s?방향.?에 관한 토론,?|이상과 같은 의견\\s?교환을 바탕으로.*통화정책\\s?방향.*에.*토론.*)\\n?', minutes,re.MULTILINE)\n",
    "    s4 = pos.start() if pos else -1\n",
    "    pos = re.search('(\\(4\\) 정부측 열석자 발언.*)\\n?', minutes, re.MULTILINE)\n",
    "    s5 = pos.start() if pos else -1\n",
    "    pos = re.search('(\\(.*\\) 한국은행 기준금리 결정에 관한 위원별 의견\\s?개진|이상과 같은 토론에 이어 .* 관한 위원별 의견개진이 있었음.*)\\n?', minutes,re.MULTILINE)\n",
    "    s6 = pos.start() if pos else -1\n",
    "    positer = re.finditer('(\\(\\s?.*\\s?\\) ()(심의결과|토의결론))\\n?', minutes, re.MULTILINE)\n",
    "    s7 = [pos.start() for pos in positer if pos.start() > s6]\n",
    "    s7 = s7[0] if s7 else -1\n",
    "\n",
    "    # 국내외 경제동향\n",
    "    bos = s1\n",
    "    eos = s2\n",
    "    section = minutes[bos:eos] if bos >= 0 or eos >= 0 else ''\n",
    "    pos = re.search('(일부|대부분의) 위원들?은', section, re.MULTILINE)\n",
    "    bos = pos.start() if pos else -1\n",
    "    section = section[bos:] if bos >= 0 else section\n",
    "    section1, section1_txt = tidy_sentences(section)\n",
    "\n",
    "    # 외환․국제금융 동향\n",
    "    bos = s2\n",
    "    eos = s3 if s3 >= 0 else s4\n",
    "    section = minutes[bos:eos] if bos >= 0 or eos >= 0 else ''\n",
    "    pos = re.search('(일부|대부분의) 위원들?은', section, re.MULTILINE)\n",
    "    bos = pos.start() if pos else -1\n",
    "    section = section[bos:] if bos >= 0 else section\n",
    "    section2, section2_txt = tidy_sentences(section)\n",
    "\n",
    "    # 금융시장 동향\n",
    "    bos = s3\n",
    "    eos = s4\n",
    "    section = minutes[bos:eos] if bos >= 0 or eos >= 0 else ''\n",
    "    pos = re.search('(일부|대부분의) 위원들?은', section, re.MULTILINE)\n",
    "    bos = pos.start() if pos else -1\n",
    "    section = section[bos:] if bos >= 0 else section\n",
    "    section3, section3_txt = tidy_sentences(section)\n",
    "\n",
    "    # 통화정책방향\n",
    "    bos = s4\n",
    "    eos = s5 if s5 >= 0 else s6 if s6 >= 0 else s7\n",
    "    section = minutes[bos:eos] if bos >= 0 or eos >= 0 else ''\n",
    "    pos = re.search('(일부|대부분의) 위원들?은', section, re.MULTILINE)\n",
    "    bos = pos.start() if pos else -1\n",
    "    section = section[bos:] if bos >= 0 else section\n",
    "    section4, section4_txt = tidy_sentences(section)\n",
    "\n",
    "    # 위원별 의견 개진\n",
    "    bos = s6\n",
    "    eos = s7\n",
    "    section = minutes[bos:eos] if bos >= 0 or eos >= 0 else ''\n",
    "    pos = re.search('(일부|대부분의) 위원들?은', section, re.MULTILINE)\n",
    "    bos = pos.start() if pos else -1\n",
    "    section = section[bos:] if bos >= 0 else section\n",
    "    section5, section5_txt = tidy_sentences(section)\n",
    "\n",
    "    # 정부측 열석자 발언\n",
    "    bos = s5\n",
    "    eos = s6\n",
    "    section = minutes[bos:eos] if bos >= 0 or eos >= 0 else ''\n",
    "    pos = re.search('정부측 열석자 발언', section, re.MULTILINE)\n",
    "    bos = pos.end() + 1 if pos else -1\n",
    "    section = section[bos:] if bos >= 0 else section\n",
    "    section6, section6_txt = tidy_sentences(section)\n",
    "\n",
    "    sections = ['Economic Situation', 'Foreign Currency', 'Financial Markets',\n",
    "                'Monetary Policy', 'Participants’ Views', 'Government’s View']\n",
    "    section_texts = (section1, section2, section3, section4, section5, section6)\n",
    "\n",
    "    return sections, section_texts"
   ],
   "outputs": [],
   "execution_count": 9
  },
  {
   "cell_type": "code",
   "id": "8410c9b1-6e15-40de-be51-10a54a611360",
   "metadata": {
    "ExecuteTime": {
     "end_time": "2024-06-18T18:05:32.424416Z",
     "start_time": "2024-06-18T18:05:19.906974Z"
    }
   },
   "source": [
    "def preprocessing(source_folder=\"/data/text/\", output_file=\"/data/min_df.csv\") :\n",
    "    # 지정 폴더 내 파일 목록 조회 (파일만)\n",
    "    txt_files = [f for f in listdir(source_folder) if isfile(join(source_folder, f))]\n",
    "    txt_files.sort()\n",
    "    df = pd.DataFrame(columns=[\"date\", \"minutes\"])\n",
    "    df[\"Economic Situation\"] = \"\"\n",
    "    df[\"Foreign Currency\"] = \"\"\n",
    "    df[\"Financial Markets\"] = \"\"\n",
    "    df[\"Monetary Policy\"] = \"\"\n",
    "    df[\"Participant Views\"] = \"\"\n",
    "    df[\"Government View\"] = \"\"\n",
    "\n",
    "    df[\"Economic Situation count\"] = \"\"\n",
    "    df[\"Foreign Currency count\"] = \"\"\n",
    "    df[\"Financial Markets count\"] = \"\"\n",
    "    df[\"Monetary Policy count\"] = \"\"\n",
    "    df[\"Participant Views count\"] = \"\"\n",
    "    df[\"Government View count\"] = \"\"\n",
    "\n",
    "    for txt_file in txt_files :\n",
    "        try :\n",
    "            with open(source_folder + txt_file, \"r\", encoding = \"utf-8\") as f :\n",
    "                txt = f.read()\n",
    "                sections, section_texts = preprocess_minutes(txt)\n",
    "\n",
    "                print(txt_file)\n",
    "\n",
    "                df.loc[len(df)] = [txt_file.split('_')[0],\n",
    "                                   txt,\n",
    "                                   '@@@'.join(section_texts[0]),\n",
    "                                   '@@@'.join(section_texts[1]),\n",
    "                                   '@@@'.join(section_texts[2]),\n",
    "                                   '@@@'.join(section_texts[3]),\n",
    "                                   '@@@'.join(section_texts[4]),\n",
    "                                   '@@@'.join(section_texts[5]),\n",
    "                                   len(section_texts[0]),\n",
    "                                   len(section_texts[1]),\n",
    "                                   len(section_texts[2]),\n",
    "                                   len(section_texts[3]),\n",
    "                                   len(section_texts[4]),\n",
    "                                   len(section_texts[5]),]\n",
    "        except Exception as e:\n",
    "            print('오류', e)\n",
    "            pass\n",
    "\n",
    "    df.to_csv(output_file, index = False, encoding = \"utf-8\", errors = 'ignore')\n",
    "    print(\"DF 구조 \", df.shape)\n",
    "    \n",
    "    return df\n",
    "\n",
    "result = preprocessing(source_folder=\"./data/text/\", output_file=\"./data/min_df.csv\")"
   ],
   "outputs": [
    {
     "name": "stdout",
     "output_type": "stream",
     "text": [
      "minutes_등록일2009.06.23.txt\n",
      "minutes_등록일2009.07.07.txt\n",
      "minutes_등록일2009.07.28.txt\n",
      "minutes_등록일2009.08.11.txt\n",
      "minutes_등록일2009.08.25.txt\n",
      "minutes_등록일2009.09.08.txt\n",
      "minutes_등록일2009.09.29.txt\n",
      "minutes_등록일2009.10.27.txt\n",
      "minutes_등록일2009.11.10.txt\n",
      "minutes_등록일2009.11.24.txt\n",
      "minutes_등록일2009.12.29.txt\n",
      "minutes_등록일2010.01.12.txt\n",
      "minutes_등록일2010.01.26.txt\n",
      "minutes_등록일2010.02.09.txt\n",
      "minutes_등록일2010.02.23.txt\n",
      "minutes_등록일2010.03.09.txt\n",
      "minutes_등록일2010.03.30.txt\n",
      "minutes_등록일2010.04.27.txt\n",
      "minutes_등록일2010.05.11.txt\n",
      "minutes_등록일2010.05.25.txt\n",
      "minutes_등록일2010.06.08.txt\n",
      "minutes_등록일2010.06.29.txt\n",
      "minutes_등록일2010.07.27.txt\n",
      "minutes_등록일2010.08.10.txt\n",
      "minutes_등록일2010.08.24.txt\n",
      "minutes_등록일2010.09.14.txt\n",
      "minutes_등록일2010.09.28.txt\n",
      "minutes_등록일2010.10.19.txt\n",
      "minutes_등록일2010.10.26.txt\n",
      "minutes_등록일2010.11.09.txt\n",
      "minutes_등록일2010.11.30.txt\n",
      "minutes_등록일2011.01.04.txt\n",
      "minutes_등록일2011.01.25.txt\n",
      "minutes_등록일2011.02.08.txt\n",
      "minutes_등록일2011.02.22.txt\n",
      "minutes_등록일2011.03.02.txt\n",
      "minutes_등록일2011.03.08.txt\n",
      "minutes_등록일2011.03.29.txt\n",
      "minutes_등록일2011.04.12.txt\n",
      "minutes_등록일2011.04.26.txt\n",
      "minutes_등록일2011.05.11.txt\n",
      "minutes_등록일2011.05.31.txt\n",
      "minutes_등록일2011.06.28.txt\n",
      "minutes_등록일2011.07.26.txt\n",
      "minutes_등록일2011.08.09.txt\n",
      "minutes_등록일2011.08.30.txt\n",
      "minutes_등록일2011.09.06.txt\n",
      "minutes_등록일2011.09.27.txt\n",
      "minutes_등록일2011.10.25.txt\n",
      "minutes_등록일2011.11.08.txt\n",
      "minutes_등록일2011.11.29.txt\n",
      "minutes_등록일2011.12.27.txt\n",
      "minutes_등록일2012.01.13.txt\n",
      "minutes_등록일2012.01.25.txt\n",
      "minutes_등록일2012.01.31.txt\n",
      "minutes_등록일2012.02.07.txt\n",
      "minutes_등록일2012.02.14.txt\n",
      "minutes_등록일2012.02.28.txt\n",
      "minutes_등록일2012.03.13.txt\n",
      "minutes_등록일2012.03.27.txt\n",
      "minutes_등록일2012.04.24.txt\n",
      "minutes_등록일2012.05.08.txt\n",
      "minutes_등록일2012.05.29.txt\n",
      "minutes_등록일2012.06.26.txt\n",
      "minutes_등록일2012.07.24.txt\n",
      "minutes_등록일2012.08.07.txt\n",
      "minutes_등록일2012.08.28.txt\n",
      "minutes_등록일2012.09.11.txt\n",
      "minutes_등록일2012.09.18.txt\n",
      "minutes_등록일2012.10.02.txt\n",
      "minutes_등록일2012.10.16.txt\n",
      "minutes_등록일2012.10.30.txt\n",
      "minutes_등록일2012.11.13.txt\n",
      "minutes_등록일2012.11.27.txt\n",
      "minutes_등록일2013.01.02.txt\n",
      "minutes_등록일2013.01.15.txt\n",
      "minutes_등록일2013.01.29.txt\n",
      "minutes_등록일2013.03.05.txt\n",
      "minutes_등록일2013.03.19.txt\n",
      "minutes_등록일2013.04.02.txt\n",
      "minutes_등록일2013.04.16.txt\n",
      "minutes_등록일2013.04.30.txt\n",
      "minutes_등록일2013.05.14.txt\n",
      "minutes_등록일2013.05.28.txt\n",
      "minutes_등록일2013.07.02.txt\n",
      "minutes_등록일2013.07.16.txt\n",
      "minutes_등록일2013.07.30.txt\n",
      "minutes_등록일2013.08.13.txt\n",
      "minutes_등록일2013.08.27.txt\n",
      "minutes_등록일2013.10.01.txt\n",
      "minutes_등록일2013.10.15.txt\n",
      "minutes_등록일2013.10.29.txt\n",
      "minutes_등록일2013.11.12.txt\n",
      "minutes_등록일2013.12.03.txt\n",
      "minutes_등록일2013.12.31.txt\n",
      "minutes_등록일2014.01.14.txt\n",
      "minutes_등록일2014.01.28.txt\n",
      "minutes_등록일2014.03.04.txt\n",
      "minutes_등록일2014.04.01.txt\n",
      "minutes_등록일2014.04.15.txt\n",
      "minutes_등록일2014.04.29.txt\n",
      "minutes_등록일2014.05.13.txt\n",
      "minutes_등록일2014.05.27.txt\n",
      "minutes_등록일2014.07.01.txt\n",
      "minutes_등록일2014.07.29.txt\n",
      "minutes_등록일2014.08.12.txt\n",
      "minutes_등록일2014.09.02.txt\n",
      "minutes_등록일2014.09.30.txt\n",
      "minutes_등록일2014.10.14.txt\n",
      "minutes_등록일2014.11.04.txt\n",
      "minutes_등록일2014.11.11.txt\n",
      "minutes_등록일2014.12.02.txt\n",
      "minutes_등록일2014.12.30.txt\n",
      "minutes_등록일2015.01.13.txt\n",
      "minutes_등록일2015.02.03.txt\n",
      "minutes_등록일2015.02.17.txt\n",
      "minutes_등록일2015.03.10.txt\n",
      "minutes_등록일2015.03.31.txt\n",
      "minutes_등록일2015.04.14.txt\n",
      "minutes_등록일2015.04.28.txt\n",
      "minutes_등록일2015.05.12.txt\n",
      "minutes_등록일2015.06.02.txt\n",
      "minutes_등록일2015.06.30.txt\n",
      "minutes_등록일2015.07.14.txt\n",
      "minutes_등록일2015.07.28.txt\n",
      "minutes_등록일2015.08.11.txt\n",
      "minutes_등록일2015.09.01.txt\n",
      "minutes_등록일2015.09.15.txt\n",
      "minutes_등록일2015.09.30.txt\n",
      "minutes_등록일2015.10.13.txt\n",
      "minutes_등록일2015.11.03.txt\n",
      "minutes_등록일2015.11.17.txt\n",
      "minutes_등록일2015.12.01.txt\n",
      "minutes_등록일2015.12.15.txt\n",
      "minutes_등록일2015.12.29.txt\n",
      "minutes_등록일2016.01.05.txt\n",
      "minutes_등록일2016.01.12.txt\n",
      "minutes_등록일2016.02.02.txt\n",
      "minutes_등록일2016.02.16.txt\n",
      "minutes_등록일2016.03.02.txt\n",
      "minutes_등록일2016.03.15.txt\n",
      "minutes_등록일2016.03.29.txt\n",
      "minutes_등록일2016.04.12.txt\n",
      "minutes_등록일2016.05.04.txt\n",
      "minutes_등록일2016.05.31.txt\n",
      "minutes_등록일2016.06.28.txt\n",
      "minutes_등록일2016.07.12.txt\n",
      "minutes_등록일2016.07.19.txt\n",
      "minutes_등록일2016.08.02.txt\n",
      "minutes_등록일2016.08.30.txt\n",
      "minutes_등록일2016.09.27.txt\n",
      "minutes_등록일2016.10.11.txt\n",
      "minutes_등록일2016.11.01.txt\n",
      "minutes_등록일2016.11.15.txt\n",
      "minutes_등록일2016.11.29.txt\n",
      "minutes_등록일2016.12.13.txt\n",
      "minutes_등록일2017.01.03.txt\n",
      "minutes_등록일2017.01.10.txt\n",
      "minutes_등록일2017.01.17.txt\n",
      "minutes_등록일2017.01.31.txt\n",
      "minutes_등록일2017.02.14.txt\n",
      "minutes_등록일2017.03.14.txt\n",
      "minutes_등록일2017.04.07.txt\n",
      "minutes_등록일2017.05.02.txt\n",
      "minutes_등록일2017.05.16.txt\n",
      "minutes_등록일2017.06.13.txt\n",
      "minutes_등록일2017.07.07.txt\n",
      "minutes_등록일2017.08.01.txt\n",
      "minutes_등록일2017.08.29.txt\n",
      "minutes_등록일2017.09.19.txt\n",
      "minutes_등록일2017.10.10.txt\n",
      "minutes_등록일2017.11.07.txt\n",
      "minutes_등록일2017.11.28.txt\n",
      "minutes_등록일2017.12.19.txt\n",
      "minutes_등록일2017.12.26.txt\n",
      "minutes_등록일2018.01.02.txt\n",
      "minutes_등록일2018.01.16.txt\n",
      "minutes_등록일2018.02.06.txt\n",
      "minutes_등록일2018.02.27.txt\n",
      "minutes_등록일2018.03.20.txt\n",
      "minutes_등록일2018.03.27.txt\n",
      "minutes_등록일2018.04.17.txt\n",
      "minutes_등록일2018.05.02.txt\n",
      "minutes_등록일2018.05.15.txt\n",
      "minutes_등록일2018.06.12.txt\n",
      "minutes_등록일2018.07.06.txt\n",
      "minutes_등록일2018.07.31.txt\n",
      "minutes_등록일2018.08.14.txt\n",
      "minutes_등록일2018.09.18.txt\n",
      "minutes_등록일2018.10.10.txt\n",
      "minutes_등록일2018.11.06.txt\n",
      "minutes_등록일2018.11.27.txt\n",
      "minutes_등록일2018.12.18.txt\n",
      "minutes_등록일2018.12.26.txt\n",
      "minutes_등록일2019.01.08.txt\n",
      "minutes_등록일2019.01.15.txt\n",
      "minutes_등록일2019.02.07.txt\n",
      "minutes_등록일2019.02.12.txt\n",
      "minutes_등록일2019.03.05.txt\n",
      "minutes_등록일2019.03.19.txt\n",
      "minutes_등록일2019.04.12.txt\n",
      "minutes_등록일2019.05.07.txt\n",
      "minutes_등록일2019.05.28.txt\n",
      "minutes_등록일2019.06.18.txt\n",
      "minutes_등록일2019.07.09.txt\n",
      "minutes_등록일2019.08.06.txt\n",
      "minutes_등록일2019.08.27.txt\n",
      "minutes_등록일2019.09.17.txt\n",
      "minutes_등록일2019.10.11.txt\n",
      "minutes_등록일2019.11.05.txt\n",
      "minutes_등록일2019.12.17.txt\n",
      "minutes_등록일2019.12.31.txt\n",
      "minutes_등록일2020.01.10.txt\n",
      "minutes_등록일2020.02.04.txt\n",
      "minutes_등록일2020.03.17.txt\n",
      "minutes_등록일2020.03.31.txt\n",
      "minutes_등록일2020.04.14.txt\n",
      "minutes_등록일2020.04.28.txt\n",
      "minutes_등록일2020.05.06.txt\n",
      "minutes_등록일2020.06.02.txt\n",
      "minutes_등록일2020.06.16.txt\n",
      "minutes_등록일2020.06.30.txt\n",
      "minutes_등록일2020.07.10.txt\n",
      "minutes_등록일2020.08.04.txt\n",
      "minutes_등록일2020.08.18.txt\n",
      "minutes_등록일2020.09.15.txt\n",
      "minutes_등록일2020.09.29.txt\n",
      "minutes_등록일2020.10.08.txt\n",
      "minutes_등록일2020.11.03.txt\n",
      "minutes_등록일2020.11.17.txt\n",
      "minutes_등록일2020.12.15.txt\n",
      "minutes_등록일2020.12.29.txt\n",
      "minutes_등록일2021.01.08.txt\n",
      "minutes_등록일2021.02.02.txt\n",
      "minutes_등록일2021.02.16.txt\n",
      "minutes_등록일2021.03.16.txt\n",
      "minutes_등록일2021.03.30.txt\n",
      "minutes_등록일2021.04.09.txt\n",
      "minutes_등록일2021.05.04.txt\n",
      "minutes_등록일2021.06.15.txt\n",
      "minutes_등록일2021.06.29.txt\n",
      "minutes_등록일2021.07.09.txt\n",
      "minutes_등록일2021.07.20.txt\n",
      "minutes_등록일2021.08.03.txt\n",
      "minutes_등록일2021.08.17.txt\n",
      "minutes_등록일2021.09.14.txt\n",
      "minutes_등록일2021.09.28.txt\n",
      "minutes_등록일2021.10.12.txt\n",
      "minutes_등록일2021.11.02.txt\n",
      "minutes_등록일2021.12.14.txt\n",
      "minutes_등록일2021.12.28.txt\n",
      "minutes_등록일2022.01.07.txt\n",
      "minutes_등록일2022.02.03.txt\n",
      "minutes_등록일2022.03.15.txt\n",
      "minutes_등록일2022.03.29.txt\n",
      "minutes_등록일2022.04.08.txt\n",
      "minutes_등록일2022.05.03.txt\n",
      "minutes_등록일2022.06.14.txt\n",
      "minutes_등록일2022.06.28.txt\n",
      "minutes_등록일2022.07.08.txt\n",
      "minutes_등록일2022.08.02.txt\n",
      "minutes_등록일2022.08.16.txt\n",
      "minutes_등록일2022.09.13.txt\n",
      "minutes_등록일2022.09.27.txt\n",
      "minutes_등록일2022.10.07.txt\n",
      "minutes_등록일2022.11.01.txt\n",
      "minutes_등록일2022.11.15.txt\n",
      "minutes_등록일2022.11.29.txt\n",
      "minutes_등록일2022.12.13.txt\n",
      "minutes_등록일2022.12.27.txt\n",
      "minutes_등록일2023.01.06.txt\n",
      "minutes_등록일2023.01.31.txt\n",
      "minutes_등록일2023.03.14.txt\n",
      "minutes_등록일2023.03.28.txt\n",
      "minutes_등록일2023.04.07.txt\n",
      "minutes_등록일2023.05.02.txt\n",
      "minutes_등록일2023.06.13.txt\n",
      "minutes_등록일2023.06.27.txt\n",
      "minutes_등록일2023.07.07.txt\n",
      "minutes_등록일2023.08.01.txt\n",
      "minutes_등록일2023.08.16.txt\n",
      "minutes_등록일2023.09.12.txt\n",
      "minutes_등록일2023.10.04.txt\n",
      "minutes_등록일2023.10.13.txt\n",
      "minutes_등록일2023.11.07.txt\n",
      "minutes_등록일2023.12.19.txt\n",
      "minutes_등록일2024.01.02.txt\n",
      "minutes_등록일2024.01.16.txt\n",
      "minutes_등록일2024.01.30.txt\n",
      "minutes_등록일2024.02.13.txt\n",
      "minutes_등록일2024.02.27.txt\n",
      "minutes_등록일2024.03.12.txt\n",
      "minutes_등록일2024.04.02.txt\n",
      "minutes_등록일2024.04.16.txt\n",
      "minutes_등록일2024.04.30.txt\n",
      "minutes_등록일2024.05.28.txt\n",
      "minutes_등록일2024.06.11.txt\n",
      "오류 'utf-8' codec can't decode byte 0xaa in position 10: invalid start byte\n",
      "DF 구조  (297, 14)\n"
     ]
    }
   ],
   "execution_count": 10
  },
  {
   "cell_type": "code",
   "id": "c4a7471b-51b2-42ee-876e-8afa20d5f9d5",
   "metadata": {
    "ExecuteTime": {
     "end_time": "2024-06-18T18:05:34.672257Z",
     "start_time": "2024-06-18T18:05:32.424416Z"
    }
   },
   "source": [
    "result.to_csv(\"./data/min_df.csv\", index = False)"
   ],
   "outputs": [],
   "execution_count": 11
  },
  {
   "cell_type": "code",
   "id": "bfadca6a-856a-4085-826a-2c476ac30ecc",
   "metadata": {
    "ExecuteTime": {
     "end_time": "2024-06-18T18:05:36.755709Z",
     "start_time": "2024-06-18T18:05:34.672257Z"
    }
   },
   "source": [
    "pd.read_csv(\"./data/min_df.csv\")"
   ],
   "outputs": [
    {
     "data": {
      "text/plain": [
       "        date                                            minutes  \\\n",
       "0    minutes  UYWVWGTCRIIL.hwp금융통화위원회 의사록2009년도 제 차 회의12일 자1...   \n",
       "1    minutes  WMLHEQIJNQNW.hwp- 1 -금융통화위원회 의사록2009년도 제 차 회의1...   \n",
       "2    minutes  AXTJVNBXVDZE.hwp- 1 -금융통화위원회 의사록2009년도 제 차 회의1...   \n",
       "3    minutes  HVBEHWQPSRCR.hwp- 1 -금융통화위원회 의사록2009년도 제 차 회의1...   \n",
       "4    minutes  PTKUFAIJRVLU.hwp금융통화위원회 의사록2009년도 제 차 회의16일 자1...   \n",
       "..       ...                                                ...   \n",
       "292  minutes  2024년도 제5차금융통화위원회(정기) 의사록한 국 은 행- 1 -1. 일 자 20...   \n",
       "293  minutes  2024년도 제6차금융통화위원회(정기) 의사록한 국 은 행- 1 -1. 일 자 20...   \n",
       "294  minutes  2024년도 제7차금융통화위원회(정기) 의사록한 국 은 행- 1 -1. 일 자 20...   \n",
       "295  minutes  2024년도 제9차금융통화위원회(정기) 의사록한 국 은 행- 1 -1. 일 자 20...   \n",
       "296  minutes  2024년도 제10차금융통화위원회(정기) 의사록한 국 은 행- 1 -1. 일 자 2...   \n",
       "\n",
       "                                    Economic Situation  \\\n",
       "0                                                  NaN   \n",
       "1                                                  NaN   \n",
       "2                                                  NaN   \n",
       "3                                                  NaN   \n",
       "4                                                  NaN   \n",
       "..                                                 ...   \n",
       "292                                                NaN   \n",
       "293                                                NaN   \n",
       "294  일부 위원은 소비자물가 상승률에 대한 식료품의 기여도가 미국이나 유로지역에서는 지속...   \n",
       "295                                                NaN   \n",
       "296  일부 위원은 OPEC 결속력 약화, 미국의 원유 생산능력 증가 등을 고려하면국제유가...   \n",
       "\n",
       "                                      Foreign Currency Financial Markets  \\\n",
       "0                                                  NaN               NaN   \n",
       "1                                                  NaN               NaN   \n",
       "2                                                  NaN               NaN   \n",
       "3                                                  NaN               NaN   \n",
       "4                                                  NaN               NaN   \n",
       "..                                                 ...               ...   \n",
       "292                                                NaN               NaN   \n",
       "293                                                NaN               NaN   \n",
       "294  일부 위원은 미국 소비자물가(2024.3월) 발표 이후 일각에서 미 연준의 금리인상...               NaN   \n",
       "295                                                NaN               NaN   \n",
       "296  일부 위원은 유로지역 등 주요국이 미국에 앞서 선제적으로 정책금리를 인하할 가능성이...               NaN   \n",
       "\n",
       "    Monetary Policy                                  Participant Views  \\\n",
       "0               NaN  일부 위원은 이번 달에는 한국은행 기준금리를 현 수준으로 유지할 것을제안하면서 다음...   \n",
       "1               NaN                                                NaN   \n",
       "2               NaN  일부 위원은 다음과 같은 점을 종합적으로 고려할 때 당분간 통화정책은경기회복을 적극...   \n",
       "3               NaN                                                NaN   \n",
       "4               NaN  일부 위원은 다음과 같은 점을 종합적으로 고려할 때 앞으로 당분간 통화정책 운용은 ...   \n",
       "..              ...                                                ...   \n",
       "292             NaN                                                NaN   \n",
       "293             NaN                                                NaN   \n",
       "294             NaN  일부 위원은 소비자물가 상승률에 대한 식료품의 기여도가 미국이나 유로지역에서는 지속...   \n",
       "295             NaN                                                NaN   \n",
       "296             NaN  일부 위원은 OPEC 결속력 약화, 미국의 원유 생산능력 증가 등을 고려하면국제유가...   \n",
       "\n",
       "     Government View  Economic Situation count  Foreign Currency count  \\\n",
       "0                NaN                         0                       0   \n",
       "1                NaN                         0                       0   \n",
       "2                NaN                         0                       0   \n",
       "3                NaN                         0                       0   \n",
       "4                NaN                         0                       0   \n",
       "..               ...                       ...                     ...   \n",
       "292              NaN                         0                       0   \n",
       "293              NaN                         0                       0   \n",
       "294              NaN                        49                      57   \n",
       "295              NaN                         0                       0   \n",
       "296              NaN                        67                      73   \n",
       "\n",
       "     Financial Markets count  Monetary Policy count  Participant Views count  \\\n",
       "0                          0                      0                        4   \n",
       "1                          0                      0                        0   \n",
       "2                          0                      0                        4   \n",
       "3                          0                      0                        0   \n",
       "4                          0                      0                        3   \n",
       "..                       ...                    ...                      ...   \n",
       "292                        0                      0                        0   \n",
       "293                        0                      0                        0   \n",
       "294                        0                      0                      307   \n",
       "295                        0                      0                        0   \n",
       "296                        0                      0                      344   \n",
       "\n",
       "     Government View count  \n",
       "0                        0  \n",
       "1                        0  \n",
       "2                        0  \n",
       "3                        0  \n",
       "4                        0  \n",
       "..                     ...  \n",
       "292                      0  \n",
       "293                      0  \n",
       "294                      0  \n",
       "295                      0  \n",
       "296                      0  \n",
       "\n",
       "[297 rows x 14 columns]"
      ],
      "text/html": [
       "<div>\n",
       "<style scoped>\n",
       "    .dataframe tbody tr th:only-of-type {\n",
       "        vertical-align: middle;\n",
       "    }\n",
       "\n",
       "    .dataframe tbody tr th {\n",
       "        vertical-align: top;\n",
       "    }\n",
       "\n",
       "    .dataframe thead th {\n",
       "        text-align: right;\n",
       "    }\n",
       "</style>\n",
       "<table border=\"1\" class=\"dataframe\">\n",
       "  <thead>\n",
       "    <tr style=\"text-align: right;\">\n",
       "      <th></th>\n",
       "      <th>date</th>\n",
       "      <th>minutes</th>\n",
       "      <th>Economic Situation</th>\n",
       "      <th>Foreign Currency</th>\n",
       "      <th>Financial Markets</th>\n",
       "      <th>Monetary Policy</th>\n",
       "      <th>Participant Views</th>\n",
       "      <th>Government View</th>\n",
       "      <th>Economic Situation count</th>\n",
       "      <th>Foreign Currency count</th>\n",
       "      <th>Financial Markets count</th>\n",
       "      <th>Monetary Policy count</th>\n",
       "      <th>Participant Views count</th>\n",
       "      <th>Government View count</th>\n",
       "    </tr>\n",
       "  </thead>\n",
       "  <tbody>\n",
       "    <tr>\n",
       "      <th>0</th>\n",
       "      <td>minutes</td>\n",
       "      <td>UYWVWGTCRIIL.hwp금융통화위원회 의사록2009년도 제 차 회의12일 자1...</td>\n",
       "      <td>NaN</td>\n",
       "      <td>NaN</td>\n",
       "      <td>NaN</td>\n",
       "      <td>NaN</td>\n",
       "      <td>일부 위원은 이번 달에는 한국은행 기준금리를 현 수준으로 유지할 것을제안하면서 다음...</td>\n",
       "      <td>NaN</td>\n",
       "      <td>0</td>\n",
       "      <td>0</td>\n",
       "      <td>0</td>\n",
       "      <td>0</td>\n",
       "      <td>4</td>\n",
       "      <td>0</td>\n",
       "    </tr>\n",
       "    <tr>\n",
       "      <th>1</th>\n",
       "      <td>minutes</td>\n",
       "      <td>WMLHEQIJNQNW.hwp- 1 -금융통화위원회 의사록2009년도 제 차 회의1...</td>\n",
       "      <td>NaN</td>\n",
       "      <td>NaN</td>\n",
       "      <td>NaN</td>\n",
       "      <td>NaN</td>\n",
       "      <td>NaN</td>\n",
       "      <td>NaN</td>\n",
       "      <td>0</td>\n",
       "      <td>0</td>\n",
       "      <td>0</td>\n",
       "      <td>0</td>\n",
       "      <td>0</td>\n",
       "      <td>0</td>\n",
       "    </tr>\n",
       "    <tr>\n",
       "      <th>2</th>\n",
       "      <td>minutes</td>\n",
       "      <td>AXTJVNBXVDZE.hwp- 1 -금융통화위원회 의사록2009년도 제 차 회의1...</td>\n",
       "      <td>NaN</td>\n",
       "      <td>NaN</td>\n",
       "      <td>NaN</td>\n",
       "      <td>NaN</td>\n",
       "      <td>일부 위원은 다음과 같은 점을 종합적으로 고려할 때 당분간 통화정책은경기회복을 적극...</td>\n",
       "      <td>NaN</td>\n",
       "      <td>0</td>\n",
       "      <td>0</td>\n",
       "      <td>0</td>\n",
       "      <td>0</td>\n",
       "      <td>4</td>\n",
       "      <td>0</td>\n",
       "    </tr>\n",
       "    <tr>\n",
       "      <th>3</th>\n",
       "      <td>minutes</td>\n",
       "      <td>HVBEHWQPSRCR.hwp- 1 -금융통화위원회 의사록2009년도 제 차 회의1...</td>\n",
       "      <td>NaN</td>\n",
       "      <td>NaN</td>\n",
       "      <td>NaN</td>\n",
       "      <td>NaN</td>\n",
       "      <td>NaN</td>\n",
       "      <td>NaN</td>\n",
       "      <td>0</td>\n",
       "      <td>0</td>\n",
       "      <td>0</td>\n",
       "      <td>0</td>\n",
       "      <td>0</td>\n",
       "      <td>0</td>\n",
       "    </tr>\n",
       "    <tr>\n",
       "      <th>4</th>\n",
       "      <td>minutes</td>\n",
       "      <td>PTKUFAIJRVLU.hwp금융통화위원회 의사록2009년도 제 차 회의16일 자1...</td>\n",
       "      <td>NaN</td>\n",
       "      <td>NaN</td>\n",
       "      <td>NaN</td>\n",
       "      <td>NaN</td>\n",
       "      <td>일부 위원은 다음과 같은 점을 종합적으로 고려할 때 앞으로 당분간 통화정책 운용은 ...</td>\n",
       "      <td>NaN</td>\n",
       "      <td>0</td>\n",
       "      <td>0</td>\n",
       "      <td>0</td>\n",
       "      <td>0</td>\n",
       "      <td>3</td>\n",
       "      <td>0</td>\n",
       "    </tr>\n",
       "    <tr>\n",
       "      <th>...</th>\n",
       "      <td>...</td>\n",
       "      <td>...</td>\n",
       "      <td>...</td>\n",
       "      <td>...</td>\n",
       "      <td>...</td>\n",
       "      <td>...</td>\n",
       "      <td>...</td>\n",
       "      <td>...</td>\n",
       "      <td>...</td>\n",
       "      <td>...</td>\n",
       "      <td>...</td>\n",
       "      <td>...</td>\n",
       "      <td>...</td>\n",
       "      <td>...</td>\n",
       "    </tr>\n",
       "    <tr>\n",
       "      <th>292</th>\n",
       "      <td>minutes</td>\n",
       "      <td>2024년도 제5차금융통화위원회(정기) 의사록한 국 은 행- 1 -1. 일 자 20...</td>\n",
       "      <td>NaN</td>\n",
       "      <td>NaN</td>\n",
       "      <td>NaN</td>\n",
       "      <td>NaN</td>\n",
       "      <td>NaN</td>\n",
       "      <td>NaN</td>\n",
       "      <td>0</td>\n",
       "      <td>0</td>\n",
       "      <td>0</td>\n",
       "      <td>0</td>\n",
       "      <td>0</td>\n",
       "      <td>0</td>\n",
       "    </tr>\n",
       "    <tr>\n",
       "      <th>293</th>\n",
       "      <td>minutes</td>\n",
       "      <td>2024년도 제6차금융통화위원회(정기) 의사록한 국 은 행- 1 -1. 일 자 20...</td>\n",
       "      <td>NaN</td>\n",
       "      <td>NaN</td>\n",
       "      <td>NaN</td>\n",
       "      <td>NaN</td>\n",
       "      <td>NaN</td>\n",
       "      <td>NaN</td>\n",
       "      <td>0</td>\n",
       "      <td>0</td>\n",
       "      <td>0</td>\n",
       "      <td>0</td>\n",
       "      <td>0</td>\n",
       "      <td>0</td>\n",
       "    </tr>\n",
       "    <tr>\n",
       "      <th>294</th>\n",
       "      <td>minutes</td>\n",
       "      <td>2024년도 제7차금융통화위원회(정기) 의사록한 국 은 행- 1 -1. 일 자 20...</td>\n",
       "      <td>일부 위원은 소비자물가 상승률에 대한 식료품의 기여도가 미국이나 유로지역에서는 지속...</td>\n",
       "      <td>일부 위원은 미국 소비자물가(2024.3월) 발표 이후 일각에서 미 연준의 금리인상...</td>\n",
       "      <td>NaN</td>\n",
       "      <td>NaN</td>\n",
       "      <td>일부 위원은 소비자물가 상승률에 대한 식료품의 기여도가 미국이나 유로지역에서는 지속...</td>\n",
       "      <td>NaN</td>\n",
       "      <td>49</td>\n",
       "      <td>57</td>\n",
       "      <td>0</td>\n",
       "      <td>0</td>\n",
       "      <td>307</td>\n",
       "      <td>0</td>\n",
       "    </tr>\n",
       "    <tr>\n",
       "      <th>295</th>\n",
       "      <td>minutes</td>\n",
       "      <td>2024년도 제9차금융통화위원회(정기) 의사록한 국 은 행- 1 -1. 일 자 20...</td>\n",
       "      <td>NaN</td>\n",
       "      <td>NaN</td>\n",
       "      <td>NaN</td>\n",
       "      <td>NaN</td>\n",
       "      <td>NaN</td>\n",
       "      <td>NaN</td>\n",
       "      <td>0</td>\n",
       "      <td>0</td>\n",
       "      <td>0</td>\n",
       "      <td>0</td>\n",
       "      <td>0</td>\n",
       "      <td>0</td>\n",
       "    </tr>\n",
       "    <tr>\n",
       "      <th>296</th>\n",
       "      <td>minutes</td>\n",
       "      <td>2024년도 제10차금융통화위원회(정기) 의사록한 국 은 행- 1 -1. 일 자 2...</td>\n",
       "      <td>일부 위원은 OPEC 결속력 약화, 미국의 원유 생산능력 증가 등을 고려하면국제유가...</td>\n",
       "      <td>일부 위원은 유로지역 등 주요국이 미국에 앞서 선제적으로 정책금리를 인하할 가능성이...</td>\n",
       "      <td>NaN</td>\n",
       "      <td>NaN</td>\n",
       "      <td>일부 위원은 OPEC 결속력 약화, 미국의 원유 생산능력 증가 등을 고려하면국제유가...</td>\n",
       "      <td>NaN</td>\n",
       "      <td>67</td>\n",
       "      <td>73</td>\n",
       "      <td>0</td>\n",
       "      <td>0</td>\n",
       "      <td>344</td>\n",
       "      <td>0</td>\n",
       "    </tr>\n",
       "  </tbody>\n",
       "</table>\n",
       "<p>297 rows × 14 columns</p>\n",
       "</div>"
      ]
     },
     "execution_count": 12,
     "metadata": {},
     "output_type": "execute_result"
    }
   ],
   "execution_count": 12
  },
  {
   "cell_type": "code",
   "id": "862618b50202010e",
   "metadata": {
    "scrolled": true,
    "ExecuteTime": {
     "end_time": "2024-06-18T18:05:37.048220Z",
     "start_time": "2024-06-18T18:05:36.755709Z"
    }
   },
   "source": [
    "# DataFrame 생성\n",
    "pd.set_option(\"display.max_rows\", None)\n",
    "df = pd.DataFrame({\n",
    "    \"title\" : title_list,\n",
    "    \"date\" : date_list,\n",
    "    \"file\" : f_name_list,\n",
    "    \"url\" : link_list\n",
    "})\n",
    "\n",
    "# 날짜 컬럼 문자열 자르기\n",
    "df[\"date\"] = df[\"date\"].str.replace(\"등록일\", \"\")\n",
    "df"
   ],
   "outputs": [
    {
     "data": {
      "text/plain": [
       "                                      title        date  \\\n",
       "0       금융통화위원회 의사록(2024년도 제10차)(2024.5.23)  2024.06.11   \n",
       "1         금융통화위원회 의사록(2024년도 제9차)(2024.5.9)  2024.05.28   \n",
       "2        금융통화위원회 의사록(2024년도 제7차)(2024.4.12)  2024.04.30   \n",
       "3        금융통화위원회 의사록(2024년도 제6차)(2024.3.28)  2024.04.16   \n",
       "4        금융통화위원회 의사록(2024년도 제5차)(2024.3.14)  2024.04.02   \n",
       "5        금융통화위원회 의사록(2024년도 제4차)(2024.2.22)  2024.03.12   \n",
       "6         금융통화위원회 의사록(2024년도 제3차)(2024.2.8)  2024.02.27   \n",
       "7        금융통화위원회 의사록(2024년도 제2차)(2024.1.25)  2024.02.13   \n",
       "8        금융통화위원회 의사록(2024년도 제1차)(2024.1.11)  2024.01.30   \n",
       "9      금융통화위원회 의사록(2023년도 제24차)(2023.12.28)  2024.01.16   \n",
       "10     금융통화위원회 의사록(2023년도 제23차)(2023.12.14)  2024.01.02   \n",
       "11     금융통화위원회 의사록(2023년도 제22차)(2023.11.30)  2023.12.19   \n",
       "12     금융통화위원회 의사록(2023년도 제19차)(2023.10.19)  2023.11.07   \n",
       "13      금융통화위원회 의사록(2023년도 제18차)(2023.9.26)  2023.10.13   \n",
       "14      금융통화위원회 의사록(2023년도 제17차)(2023.9.14)  2023.10.04   \n",
       "15      금융통화위원회 의사록(2023년도 제16차)(2023.8.24)  2023.09.12   \n",
       "16      금융통화위원회 의사록(2023년도 제14차)(2023.7.27)  2023.08.16   \n",
       "17      금융통화위원회 의사록(2023년도 제13차)(2023.7.13)  2023.08.01   \n",
       "18      금융통화위원회 의사록(2023년도 제12차)(2023.6.21)  2023.07.07   \n",
       "19       금융통화위원회 의사록(2023년도 제11차)(2023.6.8)  2023.06.27   \n",
       "20      금융통화위원회 의사록(2023년도 제10차)(2023.5.25)  2023.06.13   \n",
       "21       금융통화위원회 의사록(2023년도 제7차)(2023.4.11)  2023.05.02   \n",
       "22       금융통화위원회 의사록(2023년도 제6차)(2023.3.23)  2023.04.07   \n",
       "23        금융통화위원회 의사록(2023년도 제5차)(2023.3.9)  2023.03.28   \n",
       "24       금융통화위원회 의사록(2023년도 제4차)(2023.2.23)  2023.03.14   \n",
       "25       금융통화위원회 의사록(2023년도 제1차)(2023.1.13)  2023.01.31   \n",
       "26     금융통화위원회 의사록(2022년도 제24차)(2022.12.22)  2023.01.06   \n",
       "27      금융통화위원회 의사록(2022년도 제23차)(2022.12.8)  2022.12.27   \n",
       "28     금융통화위원회 의사록(2022년도 제22차)(2022.11.24)  2022.12.13   \n",
       "29     금융통화위원회 의사록(2022년도 제21차)(2022.11.10)  2022.11.29   \n",
       "30     금융통화위원회 의사록(2022년도 제20차)(2022.10.27)  2022.11.15   \n",
       "31     금융통화위원회 의사록(2022년도 제19차)(2022.10.12)  2022.11.01   \n",
       "32      금융통화위원회 의사록(2022년도 제18차)(2022.9.22)  2022.10.07   \n",
       "33      금융통화위원회 의사록(2022년도 제17차)(2022.9.8)   2022.09.27   \n",
       "34     금융통화위원회 의사록(2022년도 제16차)(2022.8.25)   2022.09.13   \n",
       "35     금융통화위원회 의사록(2022년도 제14차)(2022.7.28)   2022.08.16   \n",
       "36      금융통화위원회 의사록(2022년도 제13차)(2022.7.13)  2022.08.02   \n",
       "37     금융통화위원회 의사록(2022년도 제12차)(2022.6.22)   2022.07.08   \n",
       "38      금융통화위원회 의사록(2022년도 제11차)(2022.6.9)   2022.06.28   \n",
       "39     금융통화위원회 의사록(2022년도 제10차)(2022.5.26)   2022.06.14   \n",
       "40       금융통화위원회 의사록(2022년도 제7차)(2022.4.14)  2022.05.03   \n",
       "41       금융통화위원회 의사록(2022년도 제6차)(2022.3.24)  2022.04.08   \n",
       "42      금융통화위원회 의사록(2022년도 제5차)(2022.3.10.)  2022.03.29   \n",
       "43      금융통화위원회 의사록(2022년도 제4차)(2022.2.24.)  2022.03.15   \n",
       "44      금융통화위원회 의사록(2022년도 제1차)(2022.1.14.)  2022.02.03   \n",
       "45    금융통화위원회 의사록(2021년도 제25차)(2021.12.23.)  2022.01.07   \n",
       "46     금융통화위원회 의사록(2021년도 제24차)(2021.12.9.)  2021.12.28   \n",
       "47    금융통화위원회 의사록(2021년도 제23차)(2021.11.25.)  2021.12.14   \n",
       "48    금융통화위원회 의사록(2021년도 제20차)(2021.10.12.)  2021.11.02   \n",
       "49     금융통화위원회 의사록(2021년도 제19차)(2021.9.24.)  2021.10.12   \n",
       "50      금융통화위원회 의사록(2021년도 제18차)(2021.9.9.)  2021.09.28   \n",
       "51     금융통화위원회 의사록(2021년도 제17차)(2021.8.26.)  2021.09.14   \n",
       "52     금융통화위원회 의사록(2021년도 제15차)(2021.7.29.)  2021.08.17   \n",
       "53     금융통화위원회 의사록(2021년도 제14차)(2021.7.15.)  2021.08.03   \n",
       "54     금융통화위원회 의사록(2021년도 제13차)(2021.6.30.)  2021.07.20   \n",
       "55     금융통화위원회 의사록(2021년도 제12차)(2021.6.22.)  2021.07.09   \n",
       "56      금융통화위원회 의사록(2021년도 제11차)(2021.6.10)  2021.06.29   \n",
       "57      금융통화위원회 의사록(2021년도 제10차)(2021.5.27)  2021.06.15   \n",
       "58       금융통화위원회 의사록(2021년도 제7차)(2021.4.15)  2021.05.04   \n",
       "59       금융통화위원회 의사록(2021년도 제6차)(2021.3.25)  2021.04.09   \n",
       "60       금융통화위원회 의사록(2021년도 제5차)(2021.3.11)  2021.03.30   \n",
       "61       금융통화위원회 의사록(2021년도 제4차)(2021.2.25)  2021.03.16   \n",
       "62      금융통화위원회 의사록(2021년도 제2차)(2021.1.28.)  2021.02.16   \n",
       "63      금융통화위원회 의사록(2021년도 제1차)(2021.1.15.)  2021.02.02   \n",
       "64     금융통화위원회 의사록(2020년도 제27차)(2020.12.24)  2021.01.08   \n",
       "65     금융통화위원회 의사록(2020년도 제26차)(2020.12.10)  2020.12.29   \n",
       "66     금융통화위원회 의사록(2020년도 제25차)(2020.11.26)  2020.12.15   \n",
       "67     금융통화위원회 의사록(2020년도 제23차)(2020.10.29)  2020.11.17   \n",
       "68    금융통화위원회 의사록(2020년도 제22차)(2020.10.14)   2020.11.03   \n",
       "69    금융통화위원회 의사록(2020년도 제21차)(2020.09.24)   2020.10.08   \n",
       "70     금융통화위원회 의사록(2020년도 제20차)(2020.09.10)  2020.09.29   \n",
       "71     금융통화위원회 의사록(2020년도 제19차)(2020.8.27.)  2020.09.15   \n",
       "72     금융통화위원회 의사록(2020년도 제17차)(2020.7.30.)  2020.08.18   \n",
       "73     금융통화위원회 의사록(2020년도 제16차)(2020.7.17.)  2020.08.04   \n",
       "74     금융통화위원회 의사록(2020년도 제15차)(2020.7.16.)  2020.08.04   \n",
       "75     금융통화위원회 의사록(2020년도 제14차)(2020.6.24.)  2020.07.10   \n",
       "76     금융통화위원회 의사록(2020년도 제13차)(2020.6.11.)  2020.06.30   \n",
       "77     금융통화위원회 의사록(2020년도 제12차)(2020.5.28.)  2020.06.16   \n",
       "78     금융통화위원회 의사록(2020년도 제11차)(2020.5.14.)  2020.06.02   \n",
       "79      금융통화위원회 의사록(2020년도 제9차)(2020.4.16.)  2020.05.06   \n",
       "80       금융통화위원회 의사록(2020년도 제8차)(2020.4.9.)  2020.04.28   \n",
       "81      금융통화위원회 의사록(2020년도 제7차)(2020.3.26.)  2020.04.14   \n",
       "82      금융통화위원회 의사록(2020년도 제6차)(2020.3.16.)  2020.03.31   \n",
       "83      금융통화위원회 의사록(2020년도 제5차)(2020.3.12.)  2020.03.31   \n",
       "84      금융통화위원회 의사록(2020년도 제4차)(2020.2.27.)  2020.03.17   \n",
       "85      금융통화위원회 의사록(2020년도 제1차)(2020.1.17.)  2020.02.04   \n",
       "86    금융통화위원회 의사록(2019년도 제24차)(2019.12.26.)  2020.01.10   \n",
       "87    금융통화위원회 의사록(2019년도 제23차)(2019.12.12.)  2019.12.31   \n",
       "88    금융통화위원회 의사록(2019년도 제22차)(2019.11.29.)  2019.12.17   \n",
       "89    금융통화위원회 의사록(2019년도 제19차)(2019.10.16.)  2019.11.05   \n",
       "90     금융통화위원회 의사록(2019년도 제18차)(2019.9.26.)  2019.10.11   \n",
       "91     금융통화위원회 의사록(2019년도 제16차)(2019.8.30.)  2019.09.17   \n",
       "92      금융통화위원회 의사록(2019년도 제15차)(2019.8.8.)  2019.08.27   \n",
       "93     금융통화위원회 의사록(2019년도 제13차)(2019.7.18.)  2019.08.06   \n",
       "94     금융통화위원회 의사록(2019년도 제12차)(2019.6.20.)  2019.07.09   \n",
       "95     금융통화위원회 의사록(2019년도 제10차)(2019.5.31.)  2019.06.18   \n",
       "96        금융통화위원회 의사록(2019년도 제9차)(2019.5.9)  2019.05.28   \n",
       "97      금융통화위원회 의사록(2019년도 제7차)(2019.4.18.)  2019.05.07   \n",
       "98      금융통화위원회 의사록(2019년도 제6차)(2019.3.28.)  2019.04.12   \n",
       "99      금융통화위원회 의사록(2019년도 제4차)(2019.2.28.)  2019.03.19   \n",
       "100     금융통화위원회 의사록(2019년도 제3차)(2019.2.14.)  2019.03.05   \n",
       "101     금융통화위원회 의사록(2019년도 제2차)(2019.1.24.)  2019.02.12   \n",
       "102     금융통화위원회 의사록(2019년도 제1차)(2019.1.17.)  2019.02.07   \n",
       "103  금융통화위원회 의사록(2018년도 제25차)(2018.12.26.)   2019.01.15   \n",
       "104  금융통화위원회 의사록(2018년도 제24차)(2018.12.20.)   2019.01.08   \n",
       "105    금융통화위원회 의사록(2018년도 제23차)(2018.12.6.)  2018.12.26   \n",
       "106   금융통화위원회 의사록(2018년도 제22차)(2018.11.30.)  2018.12.18   \n",
       "107   금융통화위원회 의사록(2018년도 제21차)(2018.11.8.)   2018.11.27   \n",
       "108   금융통화위원회 의사록(2018년도 제19차)(2018.10.18.)  2018.11.06   \n",
       "109   금융통화위원회 의사록(2018년도 제18차)(2018.9.20.)   2018.10.10   \n",
       "110   금융통화위원회 의사록(2018년도 제16차)(2018.8.31.)   2018.09.18   \n",
       "111   금융통화위원회 의사록(2018년도 제14차)(2018.7.26.)   2018.08.14   \n",
       "112   금융통화위원회 의사록(2018년도 제13차)(2018.7.12.)   2018.07.31   \n",
       "113   금융통화위원회 의사록(2018년도 제12차)(2018.6.20.)   2018.07.06   \n",
       "114   금융통화위원회 의사록(2018년도 제10차)(2018.5.24.)   2018.06.12   \n",
       "115     금융통화위원회 의사록(2018년도 제8차)(2018.4.26.)  2018.05.15   \n",
       "116     금융통화위원회 의사록(2018년도 제7차)(2018.4.12.)  2018.05.02   \n",
       "117     금융통화위원회 의사록(2018년도 제6차)(2018.3.29.)  2018.04.17   \n",
       "118      금융통화위원회 의사록(2018년도 제5차)(2018.3.8.)  2018.03.27   \n",
       "119     금융통화위원회 의사록(2018년도 제4차)(2018.2.27.)  2018.03.20   \n",
       "120      금융통화위원회 의사록(2018년도 제3차)(2018.2.8.)  2018.02.27   \n",
       "121     금융통화위원회 의사록(2018년도 제1차)(2018.1.18.)  2018.02.06   \n",
       "122   금융통화위원회 의사록(2017년도 제25차)(2017.12.28.)  2018.01.16   \n",
       "123   금융통화위원회 의사록(2017년도 제24차)(2017.12.14.)  2018.01.02   \n",
       "124    금융통화위원회 의사록(2017년도 제23차)(2017.12.7.)  2017.12.26   \n",
       "125   금융통화위원회 의사록(2017년도 제22차)(2017.11.30.)  2017.12.19   \n",
       "126    금융통화위원회 의사록(2017년도 제21차)(2017.11.9.)  2017.11.28   \n",
       "127   금융통화위원회 의사록(2017년도 제19차)(2017.10.19.)  2017.11.07   \n",
       "128    금융통화위원회 의사록(2017년도 제18차)(2017.9.21.)  2017.10.10   \n",
       "129    금융통화위원회 의사록(2017년도 제16차)(2017.8.31.)  2017.09.19   \n",
       "130    금융통화위원회 의사록(2017년도 제15차)(2017.8.10.)  2017.08.29   \n",
       "131    금융통화위원회 의사록(2017년도 제13차)(2017.7.13.)  2017.08.01   \n",
       "132    금융통화위원회 의사록(2017년도 제12차)(2017.6.22.)  2017.07.07   \n",
       "133    금융통화위원회 의사록(2017년도 제10차)(2017.5.25.)  2017.06.13   \n",
       "134     금융통화위원회 의사록(2017년도 제8차)(2017.4.27.)  2017.05.16   \n",
       "135     금융통화위원회 의사록(2017년도 제7차)(2017.4.13.)  2017.05.02   \n",
       "136     금융통화위원회 의사록(2017년도 제6차)(2017.3.23.)  2017.04.07   \n",
       "137     금융통화위원회 의사록(2017년도 제4차)(2017.2.23.)  2017.03.14   \n",
       "138     금융통화위원회 의사록(2017년도 제2차)(2017.1.26.)  2017.02.14   \n",
       "139     금융통화위원회 의사록(2017년도 제1차)(2017.1.13.)  2017.01.31   \n",
       "140   금융통화위원회 의사록(2016년도 제26차)(2016.12.29.)  2017.01.17   \n",
       "141   금융통화위원회 의사록(2016년도 제25차)(2016.12.21.)  2017.01.10   \n",
       "142   금융통화위원회 의사록(2016년도 제24차)(2016.12.15.)  2017.01.03   \n",
       "143   금융통화위원회 의사록(2016년도 제23차)(2016.11.24.)  2016.12.13   \n",
       "144   금융통화위원회 의사록(2016년도 제22차)(2016.11.11.)  2016.11.29   \n",
       "145   금융통화위원회 의사록(2016년도 제21차)(2016.10.27.)  2016.11.15   \n",
       "146   금융통화위원회 의사록(2016년도 제20차)(2016.10.13.)  2016.11.01   \n",
       "147    금융통화위원회 의사록(2016년도 제19차)(2016.9.22.)  2016.10.11   \n",
       "148     금융통화위원회 의사록(2016년도 제18차)(2016.9.9.)  2016.09.27   \n",
       "149    금융통화위원회 의사록(2016년도 제16차)(2016.8.11.)  2016.08.30   \n",
       "150    금융통화위원회 의사록(2016년도 제14차)(2016.7.14.)  2016.08.02   \n",
       "151     금융통화위원회 의사록(2016년도 제13차)(2016.7.1.)  2016.07.19   \n",
       "152    금융통화위원회 의사록(2016년도 제12차)(2016.6.23.)  2016.07.12   \n",
       "153     금융통화위원회 의사록(2016년도 제11차)(2016.6.9.)  2016.06.28   \n",
       "154     금융통화위원회 의사록(2016년도 제9차)(2016.5.13.)  2016.05.31   \n",
       "155     금융통화위원회 의사록(2016년도 제7차)(2016.4.19.)  2016.05.04   \n",
       "156     금융통화위원회 의사록(2016년도 제6차)(2016.3.24.)  2016.04.12   \n",
       "157     금융통화위원회 의사록(2016년도 제5차)(2016.3.10.)  2016.03.29   \n",
       "158     금융통화위원회 의사록(2016년도 제4차)(2016.2.25.)  2016.03.15   \n",
       "159      금융통화위원회 의사록(2016년도 제3차)(2016.2.16)  2016.03.02   \n",
       "160     금융통화위원회 의사록(2016년도 제2차)(2016.1.28.)  2016.02.16   \n",
       "161     금융통화위원회 의사록(2016년도 제1차)(2016.1.14.)  2016.02.02   \n",
       "162   금융통화위원회 의사록(2015년도 제25차)(2015.12.24.)  2016.01.12   \n",
       "163   금융통화위원회 의사록(2015년도 제24차)(2015.12.16.)  2016.01.05   \n",
       "164   금융통화위원회 의사록(2015년도 제23차)(2015.12.10.)  2015.12.29   \n",
       "165   금융통화위원회 의사록(2015년도 제22차)(2015.11.26.)  2015.12.15   \n",
       "166   금융통화위원회 의사록(2015년도 제21차)(2015.11.12.)  2015.12.01   \n",
       "167   금융통화위원회 의사록(2015년도 제20차)(2015.10.29.)  2015.11.17   \n",
       "168   금융통화위원회 의사록(2015년도 제19차)(2015.10.15.)  2015.11.03   \n",
       "169    금융통화위원회 의사록(2015년도 제18차)(2015.9.24.)  2015.10.13   \n",
       "170    금융통화위원회 의사록(2015년도 제17차)(2015.9.11.)  2015.09.30   \n",
       "171    금융통화위원회 의사록(2015년도 제16차)(2015.8.27.)  2015.09.15   \n",
       "172    금융통화위원회 의사록(2015년도 제15차)(2015.8.13.)  2015.09.01   \n",
       "173    금융통화위원회 의사록(2015년도 제14차)(2015.7.23.)  2015.08.11   \n",
       "174     금융통화위원회 의사록(2015년도 제13차)(2015.7.9.)  2015.07.28   \n",
       "175    금융통화위원회 의사록(2015년도 제12차)(2015.6.25.)  2015.07.14   \n",
       "176    금융통화위원회 의사록(2015년도 제11차)(2015.6.11.)  2015.06.30   \n",
       "177     금융통화위원회 의사록(2015년도 제9차)(2015.5.15.)  2015.06.02   \n",
       "178     금융통화위원회 의사록(2015년도 제8차)(2015.4.23.)  2015.05.12   \n",
       "179      금융통화위원회 의사록(2015년도 제7차)(2015.4.9.)  2015.04.28   \n",
       "180     금융통화위원회 의사록(2015년도 제6차)(2015.3.26.)  2015.04.14   \n",
       "181     금융통화위원회 의사록(2015년도 제5차)(2015.3.12.)  2015.03.31   \n",
       "182     금융통화위원회 의사록(2015년도 제3차)(2015.2.17.)  2015.03.10   \n",
       "183     금융통화위원회 의사록(2015년도 제2차)(2015.1.29.)  2015.02.17   \n",
       "184     금융통화위원회 의사록(2015년도 제1차)(2015.1.15.)  2015.02.03   \n",
       "185   금융통화위원회 의사록(2014년도 제24차)(2014.12.24.)  2015.01.13   \n",
       "186   금융통화위원회 의사록(2014년도 제23차)(2014.12.11.)  2014.12.30   \n",
       "187   금융통화위원회 의사록(2014년도 제21차)(2014.11.13.)  2014.12.02   \n",
       "188   금융통화위원회 의사록(2014년도 제20차)(2014.10.23.)  2014.11.11   \n",
       "189   금융통화위원회 의사록(2014년도 제19차)(2014.10.15.)  2014.11.04   \n",
       "190    금융통화위원회 의사록(2014년도 제18차)(2014.9.25.)  2014.10.14   \n",
       "191    금융통화위원회 의사록(2014년도 제17차)(2014.9.12.)  2014.09.30   \n",
       "192    금융통화위원회 의사록(2014년도 제15차)(2014.8.14.)  2014.09.02   \n",
       "193    금융통화위원회 의사록(2014년도 제14차)(2014.7.24.)  2014.08.12   \n",
       "194    금융통화위원회 의사록(2014년도 제13차)(2014.7.10.)  2014.07.29   \n",
       "195    금융통화위원회 의사록(2014년도 제11차)(2014.6.12.)  2014.07.01   \n",
       "196      금융통화위원회 의사록(2014년도 제9차)(2014.5.9.)  2014.05.27   \n",
       "197     금융통화위원회 의사록(2014년도 제8차)(2014.4.24.)  2014.05.13   \n",
       "198     금융통화위원회 의사록(2014년도 제7차)(2014.4.10.)  2014.04.29   \n",
       "199     금융통화위원회 의사록(2014년도 제6차)(2014.3.27.)  2014.04.15   \n",
       "200     금융통화위원회 의사록(2014년도 제5차)(2014.3.13.)  2014.04.01   \n",
       "201     금융통화위원회 의사록(2014년도 제3차)(2014.2.13.)  2014.03.04   \n",
       "202       금융통화위원회 의사록(2014년도 제1차)(2014.1.9)  2014.01.28   \n",
       "203   금융통화위원회 의사록(2013년도 제24차)(2013.12.26.)  2014.01.14   \n",
       "204   금융통화위원회 의사록(2013년도 제23차)(2013.12.12.)  2013.12.31   \n",
       "205    금융통화위원회 의사록(2013년도 제21차)(2013.11.14)  2013.12.03   \n",
       "206   금융통화위원회 의사록(2013년도 제20차)(2013.10.24.)  2013.11.12   \n",
       "207   금융통화위원회 의사록(2013년도 제19차)(2013.10.10.)  2013.10.29   \n",
       "208    금융통화위원회 의사록(2013년도 제18차)(2013.9.26.)  2013.10.15   \n",
       "209     금융통화위원회 의사록(2013년도 제17차)(2013.9.12)  2013.10.01   \n",
       "210      금융통화위원회 의사록(2013년도 제15차)(2013.8.8)  2013.08.27   \n",
       "211     금융통화위원회 의사록(2013년도 제14차)(2013.7.25)  2013.08.13   \n",
       "212     금융통화위원회 의사록(2013년도 제13차)(2013.7.11)  2013.07.30   \n",
       "213     금융통화위원회 의사록(2013년도 제12차)(2013.6.27)  2013.07.16   \n",
       "214     금융통화위원회 의사록(2013년도 제11차)(2013.6.13)  2013.07.02   \n",
       "215       금융통화위원회 의사록(2013년도 제9차)(2013.5.9)  2013.05.28   \n",
       "216      금융통화위원회 의사록(2013년도 제8차)(2013.4.25)  2013.05.14   \n",
       "217      금융통화위원회 의사록(2013년도 제7차)(2013.4.11)  2013.04.30   \n",
       "218      금융통화위원회 의사록(2013년도 제6차)(2013.3.28)  2013.04.16   \n",
       "219      금융통화위원회 의사록(2013년도 제5차)(2013.3.14)  2013.04.02   \n",
       "220      금융통화위원회 의사록(2013년도 제4차)(2013.2.28)  2013.03.19   \n",
       "221      금융통화위원회 의사록(2013년도 제3차)(2013.2.14)  2013.03.05   \n",
       "222      금융통화위원회 의사록(2013년도 제1차)(2013.1.11)  2013.01.29   \n",
       "223    금융통화위원회 의사록(2012년도 제25차)(2012.12.27)  2013.01.15   \n",
       "224    금융통화위원회 의사록(2012년도 제23차)(2012.12.13)  2013.01.02   \n",
       "225     금융통화위원회 의사록(2012년도 제21차)(2012.11.9)  2012.11.27   \n",
       "226    금융통화위원회 의사록(2012년도 제20차)(2012.10.25)  2012.11.13   \n",
       "227    금융통화위원회 의사록(2012년도 제19차)(2012.10.11)  2012.10.30   \n",
       "228     금융통화위원회 의사록(2012년도 제18차)(2012.9.27)  2012.10.16   \n",
       "229    금융통화위원회 의사록(2012년도 제17차)(2012.9.13.)  2012.10.02   \n",
       "230      금융통화위원회 의사록(2012년도 제15차)(2012.8.9)  2012.09.18   \n",
       "231     금융통화위원회 의사록(2012년도 제14차)(2012.7.26)  2012.09.11   \n",
       "232     금융통화위원회 의사록(2012년도 제13차)(2012.7.12)  2012.08.28   \n",
       "233     금융통화위원회 의사록(2012년도 제12차)(2012.6.21)  2012.08.07   \n",
       "234      금융통화위원회 의사록(2012년도 제11차)(2012.6.8)  2012.07.24   \n",
       "235      금융통화위원회 의사록(2012년도 제9차)(2012.5.10)  2012.06.26   \n",
       "236      금융통화위원회 의사록(2012년도 제7차)(2012.4.13)  2012.05.29   \n",
       "237      금융통화위원회 의사록(2012년도 제6차)(2012.3.22)  2012.05.08   \n",
       "238       금융통화위원회 의사록(2012년도 제5차)(2012.3.8)  2012.04.24   \n",
       "239       금융통화위원회 의사록(2012년도 제3차)(2012.2.9)  2012.03.27   \n",
       "240      금융통화위원회 의사록(2012년도 제2차)(2012.1.26)  2012.03.13   \n",
       "241      금융통화위원회 의사록(2012년도 제1차)(2012.1.13)  2012.02.28   \n",
       "242    금융통화위원회 의사록(2011년도 제30차)(2011.12.29)  2012.02.14   \n",
       "243    금융통화위원회 의사록(2011년도 제29차)(2011.12.22)  2012.02.07   \n",
       "244    금융통화위원회 의사록(2011년도 제28차)(2011.12.16)  2012.01.31   \n",
       "245     금융통화위원회 의사록(2011년도 제27차)(2011.12.8)  2012.01.25   \n",
       "246    금융통화위원회 의사록(2011년도 제26차)(2011.11.24)  2012.01.13   \n",
       "247    금융통화위원회 의사록(2011년도 제25차)(2011.11.11)  2011.12.27   \n",
       "248    금융통화위원회 의사록(2011년도 제23차)(2011.10.13)  2011.11.29   \n",
       "249     금융통화위원회 의사록(2011년도 제22차)(2011.9.22)  2011.11.08   \n",
       "250      금융통화위원회 의사록(2011년도 제21차)(2011.9.8)  2011.10.25   \n",
       "251     금융통화위원회 의사록(2011년도 제19차)(2011.8.11)  2011.09.27   \n",
       "252     금융통화위원회 의사록(2011년도 제18차)(2011.7.21)  2011.09.06   \n",
       "253     금융통화위원회 의사록(2011년도 제17차)(2011.7.14)  2011.08.30   \n",
       "254     금융통화위원회 의사록(2011년도 제16차)(2011.6.23)  2011.08.09   \n",
       "255     금융통화위원회 의사록(2011년도 제15차)(2011.6.10)  2011.07.26   \n",
       "256     금융통화위원회 의사록(2011년도 제13차)(2011.5.13)  2011.06.28   \n",
       "257      금융통화위원회 의사록(2011년도 제9차)(2011.4.12)  2011.05.31   \n",
       "258      금융통화위원회 의사록(2011년도 제8차)(2011.3.24)  2011.05.11   \n",
       "259      금융통화위원회 의사록(2011년도 제7차)(2011.3.10)  2011.04.26   \n",
       "260      금융통화위원회 의사록(2011년도 제6차)(2011.2.24)  2011.04.12   \n",
       "261      금융통화위원회 의사록(2011년도 제5차)(2011.2.11)  2011.03.29   \n",
       "262      금융통화위원회 의사록(2011년도 제3차)(2011.1.20)  2011.03.08   \n",
       "263      금융통화위원회 의사록(2011년도 제2차)(2011.1.13)  2011.03.02   \n",
       "264       금융통화위원회 의사록(2011년도 제1차)(2011.1.6)  2011.02.22   \n",
       "265    금융통화위원회 의사록(2010년도 제25차)(2010.12.23)  2011.02.08   \n",
       "266     금융통화위원회 의사록(2010년도 제24차)(2010.12.9)  2011.01.25   \n",
       "267    금융통화위원회 의사록(2010년도 제22차)(2010.11.16)  2011.01.04   \n",
       "268    금융통화위원회 의사록(2010년도 제20차)(2010.10.14)  2010.11.30   \n",
       "269     금융통화위원회 의사록(2010년도 제19차)(2010.9.24)  2010.11.09   \n",
       "270      금융통화위원회 의사록(2010년도 제18차)(2010.9.9)  2010.10.26   \n",
       "271     금융통화위원회 의사록(2010년도 제17차)(2010.8.31)  2010.10.19   \n",
       "272     금융통화위원회 의사록(2010년도 제16차)(2010.8.12)  2010.09.28   \n",
       "273     금융통화위원회 의사록(2010년도 제15차)(2010.7.29)  2010.09.14   \n",
       "274      금융통화위원회 의사록(2010년도 제14차)(2010.7.9)  2010.08.24   \n",
       "275     금융통화위원회 의사록(2010년도 제13차)(2010.6.24)  2010.08.10   \n",
       "276     금융통화위원회 의사록(2010년도 제12차)(2010.6.10)  2010.07.27   \n",
       "277     금융통화위원회 의사록(2010년도 제10차)(2010.5.12)  2010.06.29   \n",
       "278      금융통화위원회 의사록(2010년도 제9차)(2010.4.22)  2010.06.08   \n",
       "279       금융통화위원회 의사록(2010년도 제8차)(2010.4.9)  2010.05.25   \n",
       "280      금융통화위원회 의사록(2010년도 제7차)(2010.3.25)  2010.05.11   \n",
       "281      금융통화위원회 의사록(2010년도 제6차)(2010.3.11)  2010.04.27   \n",
       "282      금융통화위원회 의사록(2010년도 제4차)(2010.2.11)  2010.03.30   \n",
       "283      금융통화위원회 의사록(2010년도 제3차)(2010.1.21)  2010.03.09   \n",
       "284       금융통화위원회 의사록(2010년도 제1차)(2010.1.7)  2010.02.23   \n",
       "285       금융통화위원회 의사록(2010년도 제2차)(2010.1.8)  2010.02.23   \n",
       "286    금융통화위원회 의사록(2009년도 제27차)(2009.12.24)  2010.02.09   \n",
       "287    금융통화위원회 의사록(2009년도 제26차)(2009.12.10)  2010.01.26   \n",
       "288    금융통화위원회 의사록(2009년도 제25차)(2009.11.26)  2010.01.12   \n",
       "289    금융통화위원회 의사록(2009년도 제24차)(2009.11.12)  2009.12.29   \n",
       "290     금융통화위원회 의사록(2009년도 제22차)(2009.10.9)  2009.11.24   \n",
       "291     금융통화위원회 의사록(2009년도 제21차)(2009.9.24)  2009.11.10   \n",
       "292     금융통화위원회 의사록(2009년도 제20차)(2009.9.10)  2009.10.27   \n",
       "293     금융통화위원회 의사록(2009년도 제18차)(2009.8.11)  2009.09.29   \n",
       "294     금융통화위원회 의사록(2009년도 제17차)(2009.7.23)  2009.09.08   \n",
       "295      금융통화위원회 의사록(2009년도 제16차)(2009.7.9)  2009.08.25   \n",
       "296     금융통화위원회 의사록(2009년도 제15차)(2009.6.25)  2009.08.11   \n",
       "297     금융통화위원회 의사록(2009년도 제14차)(2009.6.11)  2009.07.28   \n",
       "298     금융통화위원회 의사록(2009년도 제13차)(2009.5.21)  2009.07.07   \n",
       "299     금융통화위원회 의사록(2009년도 제12차)(2009.5.12)  2009.06.23   \n",
       "\n",
       "                          file  \\\n",
       "0    minutes_등록일2024.06.11.pdf   \n",
       "1    minutes_등록일2024.05.28.pdf   \n",
       "2    minutes_등록일2024.04.30.pdf   \n",
       "3    minutes_등록일2024.04.16.pdf   \n",
       "4    minutes_등록일2024.04.02.pdf   \n",
       "5    minutes_등록일2024.03.12.pdf   \n",
       "6    minutes_등록일2024.02.27.pdf   \n",
       "7    minutes_등록일2024.02.13.pdf   \n",
       "8    minutes_등록일2024.01.30.pdf   \n",
       "9    minutes_등록일2024.01.16.pdf   \n",
       "10   minutes_등록일2024.01.02.pdf   \n",
       "11   minutes_등록일2023.12.19.pdf   \n",
       "12   minutes_등록일2023.11.07.pdf   \n",
       "13   minutes_등록일2023.10.13.pdf   \n",
       "14   minutes_등록일2023.10.04.pdf   \n",
       "15   minutes_등록일2023.09.12.pdf   \n",
       "16   minutes_등록일2023.08.16.pdf   \n",
       "17   minutes_등록일2023.08.01.pdf   \n",
       "18   minutes_등록일2023.07.07.pdf   \n",
       "19   minutes_등록일2023.06.27.pdf   \n",
       "20   minutes_등록일2023.06.13.pdf   \n",
       "21   minutes_등록일2023.05.02.pdf   \n",
       "22   minutes_등록일2023.04.07.pdf   \n",
       "23   minutes_등록일2023.03.28.pdf   \n",
       "24   minutes_등록일2023.03.14.pdf   \n",
       "25   minutes_등록일2023.01.31.pdf   \n",
       "26   minutes_등록일2023.01.06.pdf   \n",
       "27   minutes_등록일2022.12.27.pdf   \n",
       "28   minutes_등록일2022.12.13.pdf   \n",
       "29   minutes_등록일2022.11.29.pdf   \n",
       "30   minutes_등록일2022.11.15.pdf   \n",
       "31   minutes_등록일2022.11.01.pdf   \n",
       "32   minutes_등록일2022.10.07.pdf   \n",
       "33   minutes_등록일2022.09.27.pdf   \n",
       "34   minutes_등록일2022.09.13.pdf   \n",
       "35   minutes_등록일2022.08.16.pdf   \n",
       "36   minutes_등록일2022.08.02.pdf   \n",
       "37   minutes_등록일2022.07.08.pdf   \n",
       "38   minutes_등록일2022.06.28.pdf   \n",
       "39   minutes_등록일2022.06.14.pdf   \n",
       "40   minutes_등록일2022.05.03.pdf   \n",
       "41   minutes_등록일2022.04.08.pdf   \n",
       "42   minutes_등록일2022.03.29.pdf   \n",
       "43   minutes_등록일2022.03.15.pdf   \n",
       "44   minutes_등록일2022.02.03.pdf   \n",
       "45   minutes_등록일2022.01.07.pdf   \n",
       "46   minutes_등록일2021.12.28.pdf   \n",
       "47   minutes_등록일2021.12.14.pdf   \n",
       "48   minutes_등록일2021.11.02.pdf   \n",
       "49   minutes_등록일2021.10.12.pdf   \n",
       "50   minutes_등록일2021.09.28.pdf   \n",
       "51   minutes_등록일2021.09.14.pdf   \n",
       "52   minutes_등록일2021.08.17.pdf   \n",
       "53   minutes_등록일2021.08.03.pdf   \n",
       "54   minutes_등록일2021.07.20.pdf   \n",
       "55   minutes_등록일2021.07.09.pdf   \n",
       "56   minutes_등록일2021.06.29.pdf   \n",
       "57   minutes_등록일2021.06.15.pdf   \n",
       "58   minutes_등록일2021.05.04.pdf   \n",
       "59   minutes_등록일2021.04.09.pdf   \n",
       "60   minutes_등록일2021.03.30.pdf   \n",
       "61   minutes_등록일2021.03.16.pdf   \n",
       "62   minutes_등록일2021.02.16.pdf   \n",
       "63   minutes_등록일2021.02.02.pdf   \n",
       "64   minutes_등록일2021.01.08.pdf   \n",
       "65   minutes_등록일2020.12.29.pdf   \n",
       "66   minutes_등록일2020.12.15.pdf   \n",
       "67   minutes_등록일2020.11.17.pdf   \n",
       "68   minutes_등록일2020.11.03.pdf   \n",
       "69   minutes_등록일2020.10.08.pdf   \n",
       "70   minutes_등록일2020.09.29.pdf   \n",
       "71   minutes_등록일2020.09.15.pdf   \n",
       "72   minutes_등록일2020.08.18.pdf   \n",
       "73   minutes_등록일2020.08.04.pdf   \n",
       "74   minutes_등록일2020.08.04.pdf   \n",
       "75   minutes_등록일2020.07.10.pdf   \n",
       "76   minutes_등록일2020.06.30.pdf   \n",
       "77   minutes_등록일2020.06.16.pdf   \n",
       "78   minutes_등록일2020.06.02.pdf   \n",
       "79   minutes_등록일2020.05.06.pdf   \n",
       "80   minutes_등록일2020.04.28.pdf   \n",
       "81   minutes_등록일2020.04.14.pdf   \n",
       "82   minutes_등록일2020.03.31.pdf   \n",
       "83   minutes_등록일2020.03.31.pdf   \n",
       "84   minutes_등록일2020.03.17.pdf   \n",
       "85   minutes_등록일2020.02.04.pdf   \n",
       "86   minutes_등록일2020.01.10.pdf   \n",
       "87   minutes_등록일2019.12.31.pdf   \n",
       "88   minutes_등록일2019.12.17.pdf   \n",
       "89   minutes_등록일2019.11.05.pdf   \n",
       "90   minutes_등록일2019.10.11.pdf   \n",
       "91   minutes_등록일2019.09.17.pdf   \n",
       "92   minutes_등록일2019.08.27.pdf   \n",
       "93   minutes_등록일2019.08.06.pdf   \n",
       "94   minutes_등록일2019.07.09.pdf   \n",
       "95   minutes_등록일2019.06.18.pdf   \n",
       "96   minutes_등록일2019.05.28.pdf   \n",
       "97   minutes_등록일2019.05.07.pdf   \n",
       "98   minutes_등록일2019.04.12.pdf   \n",
       "99   minutes_등록일2019.03.19.pdf   \n",
       "100  minutes_등록일2019.03.05.pdf   \n",
       "101  minutes_등록일2019.02.12.pdf   \n",
       "102  minutes_등록일2019.02.07.pdf   \n",
       "103  minutes_등록일2019.01.15.pdf   \n",
       "104  minutes_등록일2019.01.08.pdf   \n",
       "105  minutes_등록일2018.12.26.pdf   \n",
       "106  minutes_등록일2018.12.18.pdf   \n",
       "107  minutes_등록일2018.11.27.pdf   \n",
       "108  minutes_등록일2018.11.06.pdf   \n",
       "109  minutes_등록일2018.10.10.pdf   \n",
       "110  minutes_등록일2018.09.18.pdf   \n",
       "111  minutes_등록일2018.08.14.pdf   \n",
       "112  minutes_등록일2018.07.31.pdf   \n",
       "113  minutes_등록일2018.07.06.pdf   \n",
       "114  minutes_등록일2018.06.12.pdf   \n",
       "115  minutes_등록일2018.05.15.pdf   \n",
       "116  minutes_등록일2018.05.02.pdf   \n",
       "117  minutes_등록일2018.04.17.pdf   \n",
       "118  minutes_등록일2018.03.27.pdf   \n",
       "119  minutes_등록일2018.03.20.pdf   \n",
       "120  minutes_등록일2018.02.27.pdf   \n",
       "121  minutes_등록일2018.02.06.pdf   \n",
       "122  minutes_등록일2018.01.16.pdf   \n",
       "123  minutes_등록일2018.01.02.pdf   \n",
       "124  minutes_등록일2017.12.26.pdf   \n",
       "125  minutes_등록일2017.12.19.pdf   \n",
       "126  minutes_등록일2017.11.28.pdf   \n",
       "127  minutes_등록일2017.11.07.pdf   \n",
       "128  minutes_등록일2017.10.10.pdf   \n",
       "129  minutes_등록일2017.09.19.pdf   \n",
       "130  minutes_등록일2017.08.29.pdf   \n",
       "131  minutes_등록일2017.08.01.pdf   \n",
       "132  minutes_등록일2017.07.07.pdf   \n",
       "133  minutes_등록일2017.06.13.pdf   \n",
       "134  minutes_등록일2017.05.16.pdf   \n",
       "135  minutes_등록일2017.05.02.pdf   \n",
       "136  minutes_등록일2017.04.07.pdf   \n",
       "137  minutes_등록일2017.03.14.pdf   \n",
       "138  minutes_등록일2017.02.14.pdf   \n",
       "139  minutes_등록일2017.01.31.pdf   \n",
       "140  minutes_등록일2017.01.17.pdf   \n",
       "141  minutes_등록일2017.01.10.pdf   \n",
       "142  minutes_등록일2017.01.03.pdf   \n",
       "143  minutes_등록일2016.12.13.pdf   \n",
       "144  minutes_등록일2016.11.29.pdf   \n",
       "145  minutes_등록일2016.11.15.pdf   \n",
       "146  minutes_등록일2016.11.01.pdf   \n",
       "147  minutes_등록일2016.10.11.pdf   \n",
       "148  minutes_등록일2016.09.27.pdf   \n",
       "149  minutes_등록일2016.08.30.pdf   \n",
       "150  minutes_등록일2016.08.02.pdf   \n",
       "151  minutes_등록일2016.07.19.pdf   \n",
       "152  minutes_등록일2016.07.12.pdf   \n",
       "153  minutes_등록일2016.06.28.pdf   \n",
       "154  minutes_등록일2016.05.31.pdf   \n",
       "155  minutes_등록일2016.05.04.pdf   \n",
       "156  minutes_등록일2016.04.12.pdf   \n",
       "157  minutes_등록일2016.03.29.pdf   \n",
       "158  minutes_등록일2016.03.15.pdf   \n",
       "159  minutes_등록일2016.03.02.pdf   \n",
       "160  minutes_등록일2016.02.16.pdf   \n",
       "161  minutes_등록일2016.02.02.pdf   \n",
       "162  minutes_등록일2016.01.12.pdf   \n",
       "163  minutes_등록일2016.01.05.pdf   \n",
       "164  minutes_등록일2015.12.29.pdf   \n",
       "165  minutes_등록일2015.12.15.pdf   \n",
       "166  minutes_등록일2015.12.01.pdf   \n",
       "167  minutes_등록일2015.11.17.pdf   \n",
       "168  minutes_등록일2015.11.03.pdf   \n",
       "169  minutes_등록일2015.10.13.pdf   \n",
       "170  minutes_등록일2015.09.30.pdf   \n",
       "171  minutes_등록일2015.09.15.pdf   \n",
       "172  minutes_등록일2015.09.01.pdf   \n",
       "173  minutes_등록일2015.08.11.pdf   \n",
       "174  minutes_등록일2015.07.28.pdf   \n",
       "175  minutes_등록일2015.07.14.pdf   \n",
       "176  minutes_등록일2015.06.30.pdf   \n",
       "177  minutes_등록일2015.06.02.pdf   \n",
       "178  minutes_등록일2015.05.12.pdf   \n",
       "179  minutes_등록일2015.04.28.pdf   \n",
       "180  minutes_등록일2015.04.14.pdf   \n",
       "181  minutes_등록일2015.03.31.pdf   \n",
       "182  minutes_등록일2015.03.10.pdf   \n",
       "183  minutes_등록일2015.02.17.pdf   \n",
       "184  minutes_등록일2015.02.03.pdf   \n",
       "185  minutes_등록일2015.01.13.pdf   \n",
       "186  minutes_등록일2014.12.30.pdf   \n",
       "187  minutes_등록일2014.12.02.pdf   \n",
       "188  minutes_등록일2014.11.11.pdf   \n",
       "189  minutes_등록일2014.11.04.pdf   \n",
       "190  minutes_등록일2014.10.14.pdf   \n",
       "191  minutes_등록일2014.09.30.pdf   \n",
       "192  minutes_등록일2014.09.02.pdf   \n",
       "193  minutes_등록일2014.08.12.pdf   \n",
       "194  minutes_등록일2014.07.29.pdf   \n",
       "195  minutes_등록일2014.07.01.pdf   \n",
       "196  minutes_등록일2014.05.27.pdf   \n",
       "197  minutes_등록일2014.05.13.pdf   \n",
       "198  minutes_등록일2014.04.29.pdf   \n",
       "199  minutes_등록일2014.04.15.pdf   \n",
       "200  minutes_등록일2014.04.01.pdf   \n",
       "201  minutes_등록일2014.03.04.pdf   \n",
       "202  minutes_등록일2014.01.28.pdf   \n",
       "203  minutes_등록일2014.01.14.pdf   \n",
       "204  minutes_등록일2013.12.31.pdf   \n",
       "205  minutes_등록일2013.12.03.pdf   \n",
       "206  minutes_등록일2013.11.12.pdf   \n",
       "207  minutes_등록일2013.10.29.pdf   \n",
       "208  minutes_등록일2013.10.15.pdf   \n",
       "209  minutes_등록일2013.10.01.pdf   \n",
       "210  minutes_등록일2013.08.27.pdf   \n",
       "211  minutes_등록일2013.08.13.pdf   \n",
       "212  minutes_등록일2013.07.30.pdf   \n",
       "213  minutes_등록일2013.07.16.pdf   \n",
       "214  minutes_등록일2013.07.02.pdf   \n",
       "215  minutes_등록일2013.05.28.pdf   \n",
       "216  minutes_등록일2013.05.14.pdf   \n",
       "217  minutes_등록일2013.04.30.pdf   \n",
       "218  minutes_등록일2013.04.16.pdf   \n",
       "219  minutes_등록일2013.04.02.pdf   \n",
       "220  minutes_등록일2013.03.19.pdf   \n",
       "221  minutes_등록일2013.03.05.pdf   \n",
       "222  minutes_등록일2013.01.29.pdf   \n",
       "223  minutes_등록일2013.01.15.pdf   \n",
       "224  minutes_등록일2013.01.02.pdf   \n",
       "225  minutes_등록일2012.11.27.pdf   \n",
       "226  minutes_등록일2012.11.13.pdf   \n",
       "227  minutes_등록일2012.10.30.pdf   \n",
       "228  minutes_등록일2012.10.16.pdf   \n",
       "229  minutes_등록일2012.10.02.pdf   \n",
       "230  minutes_등록일2012.09.18.pdf   \n",
       "231  minutes_등록일2012.09.11.pdf   \n",
       "232  minutes_등록일2012.08.28.pdf   \n",
       "233  minutes_등록일2012.08.07.pdf   \n",
       "234  minutes_등록일2012.07.24.pdf   \n",
       "235  minutes_등록일2012.06.26.pdf   \n",
       "236  minutes_등록일2012.05.29.pdf   \n",
       "237  minutes_등록일2012.05.08.pdf   \n",
       "238  minutes_등록일2012.04.24.pdf   \n",
       "239  minutes_등록일2012.03.27.pdf   \n",
       "240  minutes_등록일2012.03.13.pdf   \n",
       "241  minutes_등록일2012.02.28.pdf   \n",
       "242  minutes_등록일2012.02.14.pdf   \n",
       "243  minutes_등록일2012.02.07.pdf   \n",
       "244  minutes_등록일2012.01.31.pdf   \n",
       "245  minutes_등록일2012.01.25.pdf   \n",
       "246  minutes_등록일2012.01.13.pdf   \n",
       "247  minutes_등록일2011.12.27.pdf   \n",
       "248  minutes_등록일2011.11.29.pdf   \n",
       "249  minutes_등록일2011.11.08.pdf   \n",
       "250  minutes_등록일2011.10.25.pdf   \n",
       "251  minutes_등록일2011.09.27.pdf   \n",
       "252  minutes_등록일2011.09.06.pdf   \n",
       "253  minutes_등록일2011.08.30.pdf   \n",
       "254  minutes_등록일2011.08.09.pdf   \n",
       "255  minutes_등록일2011.07.26.pdf   \n",
       "256  minutes_등록일2011.06.28.pdf   \n",
       "257  minutes_등록일2011.05.31.pdf   \n",
       "258  minutes_등록일2011.05.11.pdf   \n",
       "259  minutes_등록일2011.04.26.pdf   \n",
       "260  minutes_등록일2011.04.12.pdf   \n",
       "261  minutes_등록일2011.03.29.pdf   \n",
       "262  minutes_등록일2011.03.08.pdf   \n",
       "263  minutes_등록일2011.03.02.pdf   \n",
       "264  minutes_등록일2011.02.22.pdf   \n",
       "265  minutes_등록일2011.02.08.pdf   \n",
       "266  minutes_등록일2011.01.25.pdf   \n",
       "267  minutes_등록일2011.01.04.pdf   \n",
       "268  minutes_등록일2010.11.30.pdf   \n",
       "269  minutes_등록일2010.11.09.pdf   \n",
       "270  minutes_등록일2010.10.26.pdf   \n",
       "271  minutes_등록일2010.10.19.pdf   \n",
       "272  minutes_등록일2010.09.28.pdf   \n",
       "273  minutes_등록일2010.09.14.pdf   \n",
       "274  minutes_등록일2010.08.24.pdf   \n",
       "275  minutes_등록일2010.08.10.pdf   \n",
       "276  minutes_등록일2010.07.27.pdf   \n",
       "277  minutes_등록일2010.06.29.pdf   \n",
       "278  minutes_등록일2010.06.08.pdf   \n",
       "279  minutes_등록일2010.05.25.pdf   \n",
       "280  minutes_등록일2010.05.11.pdf   \n",
       "281  minutes_등록일2010.04.27.pdf   \n",
       "282  minutes_등록일2010.03.30.pdf   \n",
       "283  minutes_등록일2010.03.09.pdf   \n",
       "284  minutes_등록일2010.02.23.pdf   \n",
       "285  minutes_등록일2010.02.23.pdf   \n",
       "286  minutes_등록일2010.02.09.pdf   \n",
       "287  minutes_등록일2010.01.26.pdf   \n",
       "288  minutes_등록일2010.01.12.pdf   \n",
       "289  minutes_등록일2009.12.29.pdf   \n",
       "290  minutes_등록일2009.11.24.pdf   \n",
       "291  minutes_등록일2009.11.10.pdf   \n",
       "292  minutes_등록일2009.10.27.pdf   \n",
       "293  minutes_등록일2009.09.29.pdf   \n",
       "294  minutes_등록일2009.09.08.pdf   \n",
       "295  minutes_등록일2009.08.25.pdf   \n",
       "296  minutes_등록일2009.08.11.pdf   \n",
       "297  minutes_등록일2009.07.28.pdf   \n",
       "298  minutes_등록일2009.07.07.pdf   \n",
       "299  minutes_등록일2009.06.23.pdf   \n",
       "\n",
       "                                                   url  \n",
       "0    http://bok.or.kr/portal/cmmn/file/fileDown.do?...  \n",
       "1    http://bok.or.kr/portal/cmmn/file/fileDown.do?...  \n",
       "2    http://bok.or.kr/portal/cmmn/file/fileDown.do?...  \n",
       "3    http://bok.or.kr/portal/cmmn/file/fileDown.do?...  \n",
       "4    http://bok.or.kr/portal/cmmn/file/fileDown.do?...  \n",
       "5    http://bok.or.kr/portal/cmmn/file/fileDown.do?...  \n",
       "6    http://bok.or.kr/portal/cmmn/file/fileDown.do?...  \n",
       "7    http://bok.or.kr/portal/cmmn/file/fileDown.do?...  \n",
       "8    http://bok.or.kr/portal/cmmn/file/fileDown.do?...  \n",
       "9    http://bok.or.kr/portal/cmmn/file/fileDown.do?...  \n",
       "10   http://bok.or.kr/portal/cmmn/file/fileDown.do?...  \n",
       "11   http://bok.or.kr/portal/cmmn/file/fileDown.do?...  \n",
       "12   http://bok.or.kr/portal/cmmn/file/fileDown.do?...  \n",
       "13   http://bok.or.kr/portal/cmmn/file/fileDown.do?...  \n",
       "14   http://bok.or.kr/portal/cmmn/file/fileDown.do?...  \n",
       "15   http://bok.or.kr/portal/cmmn/file/fileDown.do?...  \n",
       "16   http://bok.or.kr/portal/cmmn/file/fileDown.do?...  \n",
       "17   http://bok.or.kr/portal/cmmn/file/fileDown.do?...  \n",
       "18   http://bok.or.kr/portal/cmmn/file/fileDown.do?...  \n",
       "19   http://bok.or.kr/portal/cmmn/file/fileDown.do?...  \n",
       "20   http://bok.or.kr/portal/cmmn/file/fileDown.do?...  \n",
       "21   http://bok.or.kr/portal/cmmn/file/fileDown.do?...  \n",
       "22   http://bok.or.kr/portal/cmmn/file/fileDown.do?...  \n",
       "23   http://bok.or.kr/portal/cmmn/file/fileDown.do?...  \n",
       "24   http://bok.or.kr/portal/cmmn/file/fileDown.do?...  \n",
       "25   http://bok.or.kr/portal/cmmn/file/fileDown.do?...  \n",
       "26   http://bok.or.kr/portal/cmmn/file/fileDown.do?...  \n",
       "27   http://bok.or.kr/portal/cmmn/file/fileDown.do?...  \n",
       "28   http://bok.or.kr/portal/cmmn/file/fileDown.do?...  \n",
       "29   http://bok.or.kr/portal/cmmn/file/fileDown.do?...  \n",
       "30   http://bok.or.kr/portal/cmmn/file/fileDown.do?...  \n",
       "31   http://bok.or.kr/portal/cmmn/file/fileDown.do?...  \n",
       "32   http://bok.or.kr/portal/cmmn/file/fileDown.do?...  \n",
       "33   http://bok.or.kr/portal/cmmn/file/fileDown.do?...  \n",
       "34   http://bok.or.kr/portal/cmmn/file/fileDown.do?...  \n",
       "35   http://bok.or.kr/portal/cmmn/file/fileDown.do?...  \n",
       "36   http://bok.or.kr/portal/cmmn/file/fileDown.do?...  \n",
       "37   http://bok.or.kr/portal/cmmn/file/fileDown.do?...  \n",
       "38   http://bok.or.kr/portal/cmmn/file/fileDown.do?...  \n",
       "39   http://bok.or.kr/portal/cmmn/file/fileDown.do?...  \n",
       "40   http://bok.or.kr/portal/cmmn/file/fileDown.do?...  \n",
       "41   http://bok.or.kr/portal/cmmn/file/fileDown.do?...  \n",
       "42   http://bok.or.kr/portal/cmmn/file/fileDown.do?...  \n",
       "43   http://bok.or.kr/portal/cmmn/file/fileDown.do?...  \n",
       "44   http://bok.or.kr/portal/cmmn/file/fileDown.do?...  \n",
       "45   http://bok.or.kr/portal/cmmn/file/fileDown.do?...  \n",
       "46   http://bok.or.kr/portal/cmmn/file/fileDown.do?...  \n",
       "47   http://bok.or.kr/portal/cmmn/file/fileDown.do?...  \n",
       "48   http://bok.or.kr/portal/cmmn/file/fileDown.do?...  \n",
       "49   http://bok.or.kr/portal/cmmn/file/fileDown.do?...  \n",
       "50   http://bok.or.kr/portal/cmmn/file/fileDown.do?...  \n",
       "51   http://bok.or.kr/portal/cmmn/file/fileDown.do?...  \n",
       "52   http://bok.or.kr/portal/cmmn/file/fileDown.do?...  \n",
       "53   http://bok.or.kr/portal/cmmn/file/fileDown.do?...  \n",
       "54   http://bok.or.kr/portal/cmmn/file/fileDown.do?...  \n",
       "55   http://bok.or.kr/portal/cmmn/file/fileDown.do?...  \n",
       "56   http://bok.or.kr/portal/cmmn/file/fileDown.do?...  \n",
       "57   http://bok.or.kr/portal/cmmn/file/fileDown.do?...  \n",
       "58   http://bok.or.kr/portal/cmmn/file/fileDown.do?...  \n",
       "59   http://bok.or.kr/portal/cmmn/file/fileDown.do?...  \n",
       "60   http://bok.or.kr/portal/cmmn/file/fileDown.do?...  \n",
       "61   http://bok.or.kr/portal/cmmn/file/fileDown.do?...  \n",
       "62   http://bok.or.kr/portal/cmmn/file/fileDown.do?...  \n",
       "63   http://bok.or.kr/portal/cmmn/file/fileDown.do?...  \n",
       "64   http://bok.or.kr/portal/cmmn/file/fileDown.do?...  \n",
       "65   http://bok.or.kr/portal/cmmn/file/fileDown.do?...  \n",
       "66   http://bok.or.kr/portal/cmmn/file/fileDown.do?...  \n",
       "67   http://bok.or.kr/portal/cmmn/file/fileDown.do?...  \n",
       "68   http://bok.or.kr/portal/cmmn/file/fileDown.do?...  \n",
       "69   http://bok.or.kr/portal/cmmn/file/fileDown.do?...  \n",
       "70   http://bok.or.kr/portal/cmmn/file/fileDown.do?...  \n",
       "71   http://bok.or.kr/portal/cmmn/file/fileDown.do?...  \n",
       "72   http://bok.or.kr/portal/cmmn/file/fileDown.do?...  \n",
       "73   http://bok.or.kr/portal/cmmn/file/fileDown.do?...  \n",
       "74   http://bok.or.kr/portal/cmmn/file/fileDown.do?...  \n",
       "75   http://bok.or.kr/portal/cmmn/file/fileDown.do?...  \n",
       "76   http://bok.or.kr/portal/cmmn/file/fileDown.do?...  \n",
       "77   http://bok.or.kr/portal/cmmn/file/fileDown.do?...  \n",
       "78   http://bok.or.kr/portal/cmmn/file/fileDown.do?...  \n",
       "79   http://bok.or.kr/portal/cmmn/file/fileDown.do?...  \n",
       "80   http://bok.or.kr/portal/cmmn/file/fileDown.do?...  \n",
       "81   http://bok.or.kr/portal/cmmn/file/fileDown.do?...  \n",
       "82   http://bok.or.kr/portal/cmmn/file/fileDown.do?...  \n",
       "83   http://bok.or.kr/portal/cmmn/file/fileDown.do?...  \n",
       "84   http://bok.or.kr/portal/cmmn/file/fileDown.do?...  \n",
       "85   http://bok.or.kr/portal/cmmn/file/fileDown.do?...  \n",
       "86   http://bok.or.kr/portal/cmmn/file/fileDown.do?...  \n",
       "87   http://bok.or.kr/portal/cmmn/file/fileDown.do?...  \n",
       "88   http://bok.or.kr/portal/cmmn/file/fileDown.do?...  \n",
       "89   http://bok.or.kr/portal/cmmn/file/fileDown.do?...  \n",
       "90   http://bok.or.kr/portal/cmmn/file/fileDown.do?...  \n",
       "91   http://bok.or.kr/portal/cmmn/file/fileDown.do?...  \n",
       "92   http://bok.or.kr/portal/cmmn/file/fileDown.do?...  \n",
       "93   http://bok.or.kr/portal/cmmn/file/fileDown.do?...  \n",
       "94   http://bok.or.kr/portal/cmmn/file/fileDown.do?...  \n",
       "95   http://bok.or.kr/portal/cmmn/file/fileDown.do?...  \n",
       "96   http://bok.or.kr/portal/cmmn/file/fileDown.do?...  \n",
       "97   http://bok.or.kr/portal/cmmn/file/fileDown.do?...  \n",
       "98   http://bok.or.kr/portal/cmmn/file/fileDown.do?...  \n",
       "99   http://bok.or.kr/portal/cmmn/file/fileDown.do?...  \n",
       "100  http://bok.or.kr/portal/cmmn/file/fileDown.do?...  \n",
       "101  http://bok.or.kr/portal/cmmn/file/fileDown.do?...  \n",
       "102  http://bok.or.kr/portal/cmmn/file/fileDown.do?...  \n",
       "103  http://bok.or.kr/portal/cmmn/file/fileDown.do?...  \n",
       "104  http://bok.or.kr/portal/cmmn/file/fileDown.do?...  \n",
       "105  http://bok.or.kr/portal/cmmn/file/fileDown.do?...  \n",
       "106  http://bok.or.kr/portal/cmmn/file/fileDown.do?...  \n",
       "107  http://bok.or.kr/portal/cmmn/file/fileDown.do?...  \n",
       "108  http://bok.or.kr/portal/cmmn/file/fileDown.do?...  \n",
       "109  http://bok.or.kr/portal/cmmn/file/fileDown.do?...  \n",
       "110  http://bok.or.kr/portal/cmmn/file/fileDown.do?...  \n",
       "111  http://bok.or.kr/portal/cmmn/file/fileDown.do?...  \n",
       "112  http://bok.or.kr/portal/cmmn/file/fileDown.do?...  \n",
       "113  http://bok.or.kr/portal/cmmn/file/fileDown.do?...  \n",
       "114  http://bok.or.kr/portal/cmmn/file/fileDown.do?...  \n",
       "115  http://bok.or.kr/portal/cmmn/file/fileDown.do?...  \n",
       "116  http://bok.or.kr/portal/cmmn/file/fileDown.do?...  \n",
       "117  http://bok.or.kr/portal/cmmn/file/fileDown.do?...  \n",
       "118  http://bok.or.kr/portal/cmmn/file/fileDown.do?...  \n",
       "119  http://bok.or.kr/portal/cmmn/file/fileDown.do?...  \n",
       "120  http://bok.or.kr/portal/cmmn/file/fileDown.do?...  \n",
       "121  http://bok.or.kr/portal/cmmn/file/fileDown.do?...  \n",
       "122  http://bok.or.kr/portal/cmmn/file/fileDown.do?...  \n",
       "123  http://bok.or.kr/portal/cmmn/file/fileDown.do?...  \n",
       "124  http://bok.or.kr/portal/cmmn/file/fileDown.do?...  \n",
       "125  http://bok.or.kr/portal/cmmn/file/fileDown.do?...  \n",
       "126  http://bok.or.kr/portal/cmmn/file/fileDown.do?...  \n",
       "127  http://bok.or.kr/portal/cmmn/file/fileDown.do?...  \n",
       "128  http://bok.or.kr/portal/cmmn/file/fileDown.do?...  \n",
       "129  http://bok.or.kr/portal/cmmn/file/fileDown.do?...  \n",
       "130  http://bok.or.kr/portal/cmmn/file/fileDown.do?...  \n",
       "131  http://bok.or.kr/portal/cmmn/file/fileDown.do?...  \n",
       "132  http://bok.or.kr/portal/cmmn/file/fileDown.do?...  \n",
       "133  http://bok.or.kr/portal/cmmn/file/fileDown.do?...  \n",
       "134  http://bok.or.kr/portal/cmmn/file/fileDown.do?...  \n",
       "135  http://bok.or.kr/portal/cmmn/file/fileDown.do?...  \n",
       "136  http://bok.or.kr/portal/cmmn/file/fileDown.do?...  \n",
       "137  http://bok.or.kr/portal/cmmn/file/fileDown.do?...  \n",
       "138  http://bok.or.kr/portal/cmmn/file/fileDown.do?...  \n",
       "139  http://bok.or.kr/portal/cmmn/file/fileDown.do?...  \n",
       "140  http://bok.or.kr/portal/cmmn/file/fileDown.do?...  \n",
       "141  http://bok.or.kr/portal/cmmn/file/fileDown.do?...  \n",
       "142  http://bok.or.kr/portal/cmmn/file/fileDown.do?...  \n",
       "143  http://bok.or.kr/portal/cmmn/file/fileDown.do?...  \n",
       "144  http://bok.or.kr/portal/cmmn/file/fileDown.do?...  \n",
       "145  http://bok.or.kr/portal/cmmn/file/fileDown.do?...  \n",
       "146  http://bok.or.kr/portal/cmmn/file/fileDown.do?...  \n",
       "147  http://bok.or.kr/portal/cmmn/file/fileDown.do?...  \n",
       "148  http://bok.or.kr/portal/cmmn/file/fileDown.do?...  \n",
       "149  http://bok.or.kr/portal/cmmn/file/fileDown.do?...  \n",
       "150  http://bok.or.kr/portal/cmmn/file/fileDown.do?...  \n",
       "151  http://bok.or.kr/portal/cmmn/file/fileDown.do?...  \n",
       "152  http://bok.or.kr/portal/cmmn/file/fileDown.do?...  \n",
       "153  http://bok.or.kr/portal/cmmn/file/fileDown.do?...  \n",
       "154  http://bok.or.kr/portal/cmmn/file/fileDown.do?...  \n",
       "155  http://bok.or.kr/portal/cmmn/file/fileDown.do?...  \n",
       "156  http://bok.or.kr/portal/cmmn/file/fileDown.do?...  \n",
       "157  http://bok.or.kr/portal/cmmn/file/fileDown.do?...  \n",
       "158  http://bok.or.kr/portal/cmmn/file/fileDown.do?...  \n",
       "159  http://bok.or.kr/portal/cmmn/file/fileDown.do?...  \n",
       "160  http://bok.or.kr/portal/cmmn/file/fileDown.do?...  \n",
       "161  http://bok.or.kr/portal/cmmn/file/fileDown.do?...  \n",
       "162  http://bok.or.kr/portal/cmmn/file/fileDown.do?...  \n",
       "163  http://bok.or.kr/portal/cmmn/file/fileDown.do?...  \n",
       "164  http://bok.or.kr/portal/cmmn/file/fileDown.do?...  \n",
       "165  http://bok.or.kr/portal/cmmn/file/fileDown.do?...  \n",
       "166  http://bok.or.kr/portal/cmmn/file/fileDown.do?...  \n",
       "167  http://bok.or.kr/portal/cmmn/file/fileDown.do?...  \n",
       "168  http://bok.or.kr/portal/cmmn/file/fileDown.do?...  \n",
       "169  http://bok.or.kr/portal/cmmn/file/fileDown.do?...  \n",
       "170  http://bok.or.kr/portal/cmmn/file/fileDown.do?...  \n",
       "171  http://bok.or.kr/portal/cmmn/file/fileDown.do?...  \n",
       "172  http://bok.or.kr/portal/cmmn/file/fileDown.do?...  \n",
       "173  http://bok.or.kr/portal/cmmn/file/fileDown.do?...  \n",
       "174  http://bok.or.kr/portal/cmmn/file/fileDown.do?...  \n",
       "175  http://bok.or.kr/portal/cmmn/file/fileDown.do?...  \n",
       "176  http://bok.or.kr/portal/cmmn/file/fileDown.do?...  \n",
       "177  http://bok.or.kr/portal/cmmn/file/fileDown.do?...  \n",
       "178  http://bok.or.kr/portal/cmmn/file/fileDown.do?...  \n",
       "179  http://bok.or.kr/portal/cmmn/file/fileDown.do?...  \n",
       "180  http://bok.or.kr/portal/cmmn/file/fileDown.do?...  \n",
       "181  http://bok.or.kr/portal/cmmn/file/fileDown.do?...  \n",
       "182  http://bok.or.kr/portal/cmmn/file/fileDown.do?...  \n",
       "183  http://bok.or.kr/portal/cmmn/file/fileDown.do?...  \n",
       "184  http://bok.or.kr/portal/cmmn/file/fileDown.do?...  \n",
       "185  http://bok.or.kr/portal/cmmn/file/fileDown.do?...  \n",
       "186  http://bok.or.kr/portal/cmmn/file/fileDown.do?...  \n",
       "187  http://bok.or.kr/portal/cmmn/file/fileDown.do?...  \n",
       "188  http://bok.or.kr/portal/cmmn/file/fileDown.do?...  \n",
       "189  http://bok.or.kr/portal/cmmn/file/fileDown.do?...  \n",
       "190  http://bok.or.kr/portal/cmmn/file/fileDown.do?...  \n",
       "191  http://bok.or.kr/portal/cmmn/file/fileDown.do?...  \n",
       "192  http://bok.or.kr/portal/cmmn/file/fileDown.do?...  \n",
       "193  http://bok.or.kr/portal/cmmn/file/fileDown.do?...  \n",
       "194  http://bok.or.kr/portal/cmmn/file/fileDown.do?...  \n",
       "195  http://bok.or.kr/portal/cmmn/file/fileDown.do?...  \n",
       "196  http://bok.or.kr/portal/cmmn/file/fileDown.do?...  \n",
       "197  http://bok.or.kr/portal/cmmn/file/fileDown.do?...  \n",
       "198  http://bok.or.kr/portal/cmmn/file/fileDown.do?...  \n",
       "199  http://bok.or.kr/portal/cmmn/file/fileDown.do?...  \n",
       "200  http://bok.or.kr/portal/cmmn/file/fileDown.do?...  \n",
       "201  http://bok.or.kr/portal/cmmn/file/fileDown.do?...  \n",
       "202  http://bok.or.kr/portal/cmmn/file/fileDown.do?...  \n",
       "203  http://bok.or.kr/portal/cmmn/file/fileDown.do?...  \n",
       "204  http://bok.or.kr/portal/cmmn/file/fileDown.do?...  \n",
       "205  http://bok.or.kr/portal/cmmn/file/fileDown.do?...  \n",
       "206  http://bok.or.kr/portal/cmmn/file/fileDown.do?...  \n",
       "207  http://bok.or.kr/portal/cmmn/file/fileDown.do?...  \n",
       "208  http://bok.or.kr/portal/cmmn/file/fileDown.do?...  \n",
       "209  http://bok.or.kr/portal/cmmn/file/fileDown.do?...  \n",
       "210  http://bok.or.kr/portal/cmmn/file/fileDown.do?...  \n",
       "211  http://bok.or.kr/portal/cmmn/file/fileDown.do?...  \n",
       "212  http://bok.or.kr/portal/cmmn/file/fileDown.do?...  \n",
       "213  http://bok.or.kr/portal/cmmn/file/fileDown.do?...  \n",
       "214  http://bok.or.kr/portal/cmmn/file/fileDown.do?...  \n",
       "215  http://bok.or.kr/portal/cmmn/file/fileDown.do?...  \n",
       "216  http://bok.or.kr/portal/cmmn/file/fileDown.do?...  \n",
       "217  http://bok.or.kr/portal/cmmn/file/fileDown.do?...  \n",
       "218  http://bok.or.kr/portal/cmmn/file/fileDown.do?...  \n",
       "219  http://bok.or.kr/portal/cmmn/file/fileDown.do?...  \n",
       "220  http://bok.or.kr/portal/cmmn/file/fileDown.do?...  \n",
       "221  http://bok.or.kr/portal/cmmn/file/fileDown.do?...  \n",
       "222  http://bok.or.kr/portal/cmmn/file/fileDown.do?...  \n",
       "223  http://bok.or.kr/portal/cmmn/file/fileDown.do?...  \n",
       "224  http://bok.or.kr/portal/cmmn/file/fileDown.do?...  \n",
       "225  http://bok.or.kr/portal/cmmn/file/fileDown.do?...  \n",
       "226  http://bok.or.kr/portal/cmmn/file/fileDown.do?...  \n",
       "227  http://bok.or.kr/portal/cmmn/file/fileDown.do?...  \n",
       "228  http://bok.or.kr/portal/cmmn/file/fileDown.do?...  \n",
       "229  http://bok.or.kr/portal/cmmn/file/fileDown.do?...  \n",
       "230  http://bok.or.kr/portal/cmmn/file/fileDown.do?...  \n",
       "231  http://bok.or.kr/portal/cmmn/file/fileDown.do?...  \n",
       "232  http://bok.or.kr/portal/cmmn/file/fileDown.do?...  \n",
       "233  http://bok.or.kr/portal/cmmn/file/fileDown.do?...  \n",
       "234  http://bok.or.kr/portal/cmmn/file/fileDown.do?...  \n",
       "235  http://bok.or.kr/portal/cmmn/file/fileDown.do?...  \n",
       "236  http://bok.or.kr/portal/cmmn/file/fileDown.do?...  \n",
       "237  http://bok.or.kr/portal/cmmn/file/fileDown.do?...  \n",
       "238  http://bok.or.kr/portal/cmmn/file/fileDown.do?...  \n",
       "239  http://bok.or.kr/portal/cmmn/file/fileDown.do?...  \n",
       "240  http://bok.or.kr/portal/cmmn/file/fileDown.do?...  \n",
       "241  http://bok.or.kr/portal/cmmn/file/fileDown.do?...  \n",
       "242  http://bok.or.kr/portal/cmmn/file/fileDown.do?...  \n",
       "243  http://bok.or.kr/portal/cmmn/file/fileDown.do?...  \n",
       "244  http://bok.or.kr/portal/cmmn/file/fileDown.do?...  \n",
       "245  http://bok.or.kr/portal/cmmn/file/fileDown.do?...  \n",
       "246  http://bok.or.kr/portal/cmmn/file/fileDown.do?...  \n",
       "247  http://bok.or.kr/portal/cmmn/file/fileDown.do?...  \n",
       "248  http://bok.or.kr/portal/cmmn/file/fileDown.do?...  \n",
       "249  http://bok.or.kr/portal/cmmn/file/fileDown.do?...  \n",
       "250  http://bok.or.kr/portal/cmmn/file/fileDown.do?...  \n",
       "251  http://bok.or.kr/portal/cmmn/file/fileDown.do?...  \n",
       "252  http://bok.or.kr/portal/cmmn/file/fileDown.do?...  \n",
       "253  http://bok.or.kr/portal/cmmn/file/fileDown.do?...  \n",
       "254  http://bok.or.kr/portal/cmmn/file/fileDown.do?...  \n",
       "255  http://bok.or.kr/portal/cmmn/file/fileDown.do?...  \n",
       "256  http://bok.or.kr/portal/cmmn/file/fileDown.do?...  \n",
       "257  http://bok.or.kr/portal/cmmn/file/fileDown.do?...  \n",
       "258  http://bok.or.kr/portal/cmmn/file/fileDown.do?...  \n",
       "259  http://bok.or.kr/portal/cmmn/file/fileDown.do?...  \n",
       "260  http://bok.or.kr/portal/cmmn/file/fileDown.do?...  \n",
       "261  http://bok.or.kr/portal/cmmn/file/fileDown.do?...  \n",
       "262  http://bok.or.kr/portal/cmmn/file/fileDown.do?...  \n",
       "263  http://bok.or.kr/portal/cmmn/file/fileDown.do?...  \n",
       "264  http://bok.or.kr/portal/cmmn/file/fileDown.do?...  \n",
       "265  http://bok.or.kr/portal/cmmn/file/fileDown.do?...  \n",
       "266  http://bok.or.kr/portal/cmmn/file/fileDown.do?...  \n",
       "267  http://bok.or.kr/portal/cmmn/file/fileDown.do?...  \n",
       "268  http://bok.or.kr/portal/cmmn/file/fileDown.do?...  \n",
       "269  http://bok.or.kr/portal/cmmn/file/fileDown.do?...  \n",
       "270  http://bok.or.kr/portal/cmmn/file/fileDown.do?...  \n",
       "271  http://bok.or.kr/portal/cmmn/file/fileDown.do?...  \n",
       "272  http://bok.or.kr/portal/cmmn/file/fileDown.do?...  \n",
       "273  http://bok.or.kr/portal/cmmn/file/fileDown.do?...  \n",
       "274  http://bok.or.kr/portal/cmmn/file/fileDown.do?...  \n",
       "275  http://bok.or.kr/portal/cmmn/file/fileDown.do?...  \n",
       "276  http://bok.or.kr/portal/cmmn/file/fileDown.do?...  \n",
       "277  http://bok.or.kr/portal/cmmn/file/fileDown.do?...  \n",
       "278  http://bok.or.kr/portal/cmmn/file/fileDown.do?...  \n",
       "279  http://bok.or.kr/portal/cmmn/file/fileDown.do?...  \n",
       "280  http://bok.or.kr/portal/cmmn/file/fileDown.do?...  \n",
       "281  http://bok.or.kr/portal/cmmn/file/fileDown.do?...  \n",
       "282  http://bok.or.kr/portal/cmmn/file/fileDown.do?...  \n",
       "283  http://bok.or.kr/portal/cmmn/file/fileDown.do?...  \n",
       "284  http://bok.or.kr/portal/cmmn/file/fileDown.do?...  \n",
       "285  http://bok.or.kr/portal/cmmn/file/fileDown.do?...  \n",
       "286  http://bok.or.kr/portal/cmmn/file/fileDown.do?...  \n",
       "287  http://bok.or.kr/portal/cmmn/file/fileDown.do?...  \n",
       "288  http://bok.or.kr/portal/cmmn/file/fileDown.do?...  \n",
       "289  http://bok.or.kr/portal/cmmn/file/fileDown.do?...  \n",
       "290  http://bok.or.kr/portal/cmmn/file/fileDown.do?...  \n",
       "291  http://bok.or.kr/portal/cmmn/file/fileDown.do?...  \n",
       "292  http://bok.or.kr/portal/cmmn/file/fileDown.do?...  \n",
       "293  http://bok.or.kr/portal/cmmn/file/fileDown.do?...  \n",
       "294  http://bok.or.kr/portal/cmmn/file/fileDown.do?...  \n",
       "295  http://bok.or.kr/portal/cmmn/file/fileDown.do?...  \n",
       "296  http://bok.or.kr/portal/cmmn/file/fileDown.do?...  \n",
       "297  http://bok.or.kr/portal/cmmn/file/fileDown.do?...  \n",
       "298  http://bok.or.kr/portal/cmmn/file/fileDown.do?...  \n",
       "299  http://bok.or.kr/portal/cmmn/file/fileDown.do?...  "
      ],
      "text/html": [
       "<div>\n",
       "<style scoped>\n",
       "    .dataframe tbody tr th:only-of-type {\n",
       "        vertical-align: middle;\n",
       "    }\n",
       "\n",
       "    .dataframe tbody tr th {\n",
       "        vertical-align: top;\n",
       "    }\n",
       "\n",
       "    .dataframe thead th {\n",
       "        text-align: right;\n",
       "    }\n",
       "</style>\n",
       "<table border=\"1\" class=\"dataframe\">\n",
       "  <thead>\n",
       "    <tr style=\"text-align: right;\">\n",
       "      <th></th>\n",
       "      <th>title</th>\n",
       "      <th>date</th>\n",
       "      <th>file</th>\n",
       "      <th>url</th>\n",
       "    </tr>\n",
       "  </thead>\n",
       "  <tbody>\n",
       "    <tr>\n",
       "      <th>0</th>\n",
       "      <td>금융통화위원회 의사록(2024년도 제10차)(2024.5.23)</td>\n",
       "      <td>2024.06.11</td>\n",
       "      <td>minutes_등록일2024.06.11.pdf</td>\n",
       "      <td>http://bok.or.kr/portal/cmmn/file/fileDown.do?...</td>\n",
       "    </tr>\n",
       "    <tr>\n",
       "      <th>1</th>\n",
       "      <td>금융통화위원회 의사록(2024년도 제9차)(2024.5.9)</td>\n",
       "      <td>2024.05.28</td>\n",
       "      <td>minutes_등록일2024.05.28.pdf</td>\n",
       "      <td>http://bok.or.kr/portal/cmmn/file/fileDown.do?...</td>\n",
       "    </tr>\n",
       "    <tr>\n",
       "      <th>2</th>\n",
       "      <td>금융통화위원회 의사록(2024년도 제7차)(2024.4.12)</td>\n",
       "      <td>2024.04.30</td>\n",
       "      <td>minutes_등록일2024.04.30.pdf</td>\n",
       "      <td>http://bok.or.kr/portal/cmmn/file/fileDown.do?...</td>\n",
       "    </tr>\n",
       "    <tr>\n",
       "      <th>3</th>\n",
       "      <td>금융통화위원회 의사록(2024년도 제6차)(2024.3.28)</td>\n",
       "      <td>2024.04.16</td>\n",
       "      <td>minutes_등록일2024.04.16.pdf</td>\n",
       "      <td>http://bok.or.kr/portal/cmmn/file/fileDown.do?...</td>\n",
       "    </tr>\n",
       "    <tr>\n",
       "      <th>4</th>\n",
       "      <td>금융통화위원회 의사록(2024년도 제5차)(2024.3.14)</td>\n",
       "      <td>2024.04.02</td>\n",
       "      <td>minutes_등록일2024.04.02.pdf</td>\n",
       "      <td>http://bok.or.kr/portal/cmmn/file/fileDown.do?...</td>\n",
       "    </tr>\n",
       "    <tr>\n",
       "      <th>5</th>\n",
       "      <td>금융통화위원회 의사록(2024년도 제4차)(2024.2.22)</td>\n",
       "      <td>2024.03.12</td>\n",
       "      <td>minutes_등록일2024.03.12.pdf</td>\n",
       "      <td>http://bok.or.kr/portal/cmmn/file/fileDown.do?...</td>\n",
       "    </tr>\n",
       "    <tr>\n",
       "      <th>6</th>\n",
       "      <td>금융통화위원회 의사록(2024년도 제3차)(2024.2.8)</td>\n",
       "      <td>2024.02.27</td>\n",
       "      <td>minutes_등록일2024.02.27.pdf</td>\n",
       "      <td>http://bok.or.kr/portal/cmmn/file/fileDown.do?...</td>\n",
       "    </tr>\n",
       "    <tr>\n",
       "      <th>7</th>\n",
       "      <td>금융통화위원회 의사록(2024년도 제2차)(2024.1.25)</td>\n",
       "      <td>2024.02.13</td>\n",
       "      <td>minutes_등록일2024.02.13.pdf</td>\n",
       "      <td>http://bok.or.kr/portal/cmmn/file/fileDown.do?...</td>\n",
       "    </tr>\n",
       "    <tr>\n",
       "      <th>8</th>\n",
       "      <td>금융통화위원회 의사록(2024년도 제1차)(2024.1.11)</td>\n",
       "      <td>2024.01.30</td>\n",
       "      <td>minutes_등록일2024.01.30.pdf</td>\n",
       "      <td>http://bok.or.kr/portal/cmmn/file/fileDown.do?...</td>\n",
       "    </tr>\n",
       "    <tr>\n",
       "      <th>9</th>\n",
       "      <td>금융통화위원회 의사록(2023년도 제24차)(2023.12.28)</td>\n",
       "      <td>2024.01.16</td>\n",
       "      <td>minutes_등록일2024.01.16.pdf</td>\n",
       "      <td>http://bok.or.kr/portal/cmmn/file/fileDown.do?...</td>\n",
       "    </tr>\n",
       "    <tr>\n",
       "      <th>10</th>\n",
       "      <td>금융통화위원회 의사록(2023년도 제23차)(2023.12.14)</td>\n",
       "      <td>2024.01.02</td>\n",
       "      <td>minutes_등록일2024.01.02.pdf</td>\n",
       "      <td>http://bok.or.kr/portal/cmmn/file/fileDown.do?...</td>\n",
       "    </tr>\n",
       "    <tr>\n",
       "      <th>11</th>\n",
       "      <td>금융통화위원회 의사록(2023년도 제22차)(2023.11.30)</td>\n",
       "      <td>2023.12.19</td>\n",
       "      <td>minutes_등록일2023.12.19.pdf</td>\n",
       "      <td>http://bok.or.kr/portal/cmmn/file/fileDown.do?...</td>\n",
       "    </tr>\n",
       "    <tr>\n",
       "      <th>12</th>\n",
       "      <td>금융통화위원회 의사록(2023년도 제19차)(2023.10.19)</td>\n",
       "      <td>2023.11.07</td>\n",
       "      <td>minutes_등록일2023.11.07.pdf</td>\n",
       "      <td>http://bok.or.kr/portal/cmmn/file/fileDown.do?...</td>\n",
       "    </tr>\n",
       "    <tr>\n",
       "      <th>13</th>\n",
       "      <td>금융통화위원회 의사록(2023년도 제18차)(2023.9.26)</td>\n",
       "      <td>2023.10.13</td>\n",
       "      <td>minutes_등록일2023.10.13.pdf</td>\n",
       "      <td>http://bok.or.kr/portal/cmmn/file/fileDown.do?...</td>\n",
       "    </tr>\n",
       "    <tr>\n",
       "      <th>14</th>\n",
       "      <td>금융통화위원회 의사록(2023년도 제17차)(2023.9.14)</td>\n",
       "      <td>2023.10.04</td>\n",
       "      <td>minutes_등록일2023.10.04.pdf</td>\n",
       "      <td>http://bok.or.kr/portal/cmmn/file/fileDown.do?...</td>\n",
       "    </tr>\n",
       "    <tr>\n",
       "      <th>15</th>\n",
       "      <td>금융통화위원회 의사록(2023년도 제16차)(2023.8.24)</td>\n",
       "      <td>2023.09.12</td>\n",
       "      <td>minutes_등록일2023.09.12.pdf</td>\n",
       "      <td>http://bok.or.kr/portal/cmmn/file/fileDown.do?...</td>\n",
       "    </tr>\n",
       "    <tr>\n",
       "      <th>16</th>\n",
       "      <td>금융통화위원회 의사록(2023년도 제14차)(2023.7.27)</td>\n",
       "      <td>2023.08.16</td>\n",
       "      <td>minutes_등록일2023.08.16.pdf</td>\n",
       "      <td>http://bok.or.kr/portal/cmmn/file/fileDown.do?...</td>\n",
       "    </tr>\n",
       "    <tr>\n",
       "      <th>17</th>\n",
       "      <td>금융통화위원회 의사록(2023년도 제13차)(2023.7.13)</td>\n",
       "      <td>2023.08.01</td>\n",
       "      <td>minutes_등록일2023.08.01.pdf</td>\n",
       "      <td>http://bok.or.kr/portal/cmmn/file/fileDown.do?...</td>\n",
       "    </tr>\n",
       "    <tr>\n",
       "      <th>18</th>\n",
       "      <td>금융통화위원회 의사록(2023년도 제12차)(2023.6.21)</td>\n",
       "      <td>2023.07.07</td>\n",
       "      <td>minutes_등록일2023.07.07.pdf</td>\n",
       "      <td>http://bok.or.kr/portal/cmmn/file/fileDown.do?...</td>\n",
       "    </tr>\n",
       "    <tr>\n",
       "      <th>19</th>\n",
       "      <td>금융통화위원회 의사록(2023년도 제11차)(2023.6.8)</td>\n",
       "      <td>2023.06.27</td>\n",
       "      <td>minutes_등록일2023.06.27.pdf</td>\n",
       "      <td>http://bok.or.kr/portal/cmmn/file/fileDown.do?...</td>\n",
       "    </tr>\n",
       "    <tr>\n",
       "      <th>20</th>\n",
       "      <td>금융통화위원회 의사록(2023년도 제10차)(2023.5.25)</td>\n",
       "      <td>2023.06.13</td>\n",
       "      <td>minutes_등록일2023.06.13.pdf</td>\n",
       "      <td>http://bok.or.kr/portal/cmmn/file/fileDown.do?...</td>\n",
       "    </tr>\n",
       "    <tr>\n",
       "      <th>21</th>\n",
       "      <td>금융통화위원회 의사록(2023년도 제7차)(2023.4.11)</td>\n",
       "      <td>2023.05.02</td>\n",
       "      <td>minutes_등록일2023.05.02.pdf</td>\n",
       "      <td>http://bok.or.kr/portal/cmmn/file/fileDown.do?...</td>\n",
       "    </tr>\n",
       "    <tr>\n",
       "      <th>22</th>\n",
       "      <td>금융통화위원회 의사록(2023년도 제6차)(2023.3.23)</td>\n",
       "      <td>2023.04.07</td>\n",
       "      <td>minutes_등록일2023.04.07.pdf</td>\n",
       "      <td>http://bok.or.kr/portal/cmmn/file/fileDown.do?...</td>\n",
       "    </tr>\n",
       "    <tr>\n",
       "      <th>23</th>\n",
       "      <td>금융통화위원회 의사록(2023년도 제5차)(2023.3.9)</td>\n",
       "      <td>2023.03.28</td>\n",
       "      <td>minutes_등록일2023.03.28.pdf</td>\n",
       "      <td>http://bok.or.kr/portal/cmmn/file/fileDown.do?...</td>\n",
       "    </tr>\n",
       "    <tr>\n",
       "      <th>24</th>\n",
       "      <td>금융통화위원회 의사록(2023년도 제4차)(2023.2.23)</td>\n",
       "      <td>2023.03.14</td>\n",
       "      <td>minutes_등록일2023.03.14.pdf</td>\n",
       "      <td>http://bok.or.kr/portal/cmmn/file/fileDown.do?...</td>\n",
       "    </tr>\n",
       "    <tr>\n",
       "      <th>25</th>\n",
       "      <td>금융통화위원회 의사록(2023년도 제1차)(2023.1.13)</td>\n",
       "      <td>2023.01.31</td>\n",
       "      <td>minutes_등록일2023.01.31.pdf</td>\n",
       "      <td>http://bok.or.kr/portal/cmmn/file/fileDown.do?...</td>\n",
       "    </tr>\n",
       "    <tr>\n",
       "      <th>26</th>\n",
       "      <td>금융통화위원회 의사록(2022년도 제24차)(2022.12.22)</td>\n",
       "      <td>2023.01.06</td>\n",
       "      <td>minutes_등록일2023.01.06.pdf</td>\n",
       "      <td>http://bok.or.kr/portal/cmmn/file/fileDown.do?...</td>\n",
       "    </tr>\n",
       "    <tr>\n",
       "      <th>27</th>\n",
       "      <td>금융통화위원회 의사록(2022년도 제23차)(2022.12.8)</td>\n",
       "      <td>2022.12.27</td>\n",
       "      <td>minutes_등록일2022.12.27.pdf</td>\n",
       "      <td>http://bok.or.kr/portal/cmmn/file/fileDown.do?...</td>\n",
       "    </tr>\n",
       "    <tr>\n",
       "      <th>28</th>\n",
       "      <td>금융통화위원회 의사록(2022년도 제22차)(2022.11.24)</td>\n",
       "      <td>2022.12.13</td>\n",
       "      <td>minutes_등록일2022.12.13.pdf</td>\n",
       "      <td>http://bok.or.kr/portal/cmmn/file/fileDown.do?...</td>\n",
       "    </tr>\n",
       "    <tr>\n",
       "      <th>29</th>\n",
       "      <td>금융통화위원회 의사록(2022년도 제21차)(2022.11.10)</td>\n",
       "      <td>2022.11.29</td>\n",
       "      <td>minutes_등록일2022.11.29.pdf</td>\n",
       "      <td>http://bok.or.kr/portal/cmmn/file/fileDown.do?...</td>\n",
       "    </tr>\n",
       "    <tr>\n",
       "      <th>30</th>\n",
       "      <td>금융통화위원회 의사록(2022년도 제20차)(2022.10.27)</td>\n",
       "      <td>2022.11.15</td>\n",
       "      <td>minutes_등록일2022.11.15.pdf</td>\n",
       "      <td>http://bok.or.kr/portal/cmmn/file/fileDown.do?...</td>\n",
       "    </tr>\n",
       "    <tr>\n",
       "      <th>31</th>\n",
       "      <td>금융통화위원회 의사록(2022년도 제19차)(2022.10.12)</td>\n",
       "      <td>2022.11.01</td>\n",
       "      <td>minutes_등록일2022.11.01.pdf</td>\n",
       "      <td>http://bok.or.kr/portal/cmmn/file/fileDown.do?...</td>\n",
       "    </tr>\n",
       "    <tr>\n",
       "      <th>32</th>\n",
       "      <td>금융통화위원회 의사록(2022년도 제18차)(2022.9.22)</td>\n",
       "      <td>2022.10.07</td>\n",
       "      <td>minutes_등록일2022.10.07.pdf</td>\n",
       "      <td>http://bok.or.kr/portal/cmmn/file/fileDown.do?...</td>\n",
       "    </tr>\n",
       "    <tr>\n",
       "      <th>33</th>\n",
       "      <td>금융통화위원회 의사록(2022년도 제17차)(2022.9.8)</td>\n",
       "      <td>2022.09.27</td>\n",
       "      <td>minutes_등록일2022.09.27.pdf</td>\n",
       "      <td>http://bok.or.kr/portal/cmmn/file/fileDown.do?...</td>\n",
       "    </tr>\n",
       "    <tr>\n",
       "      <th>34</th>\n",
       "      <td>금융통화위원회 의사록(2022년도 제16차)(2022.8.25)</td>\n",
       "      <td>2022.09.13</td>\n",
       "      <td>minutes_등록일2022.09.13.pdf</td>\n",
       "      <td>http://bok.or.kr/portal/cmmn/file/fileDown.do?...</td>\n",
       "    </tr>\n",
       "    <tr>\n",
       "      <th>35</th>\n",
       "      <td>금융통화위원회 의사록(2022년도 제14차)(2022.7.28)</td>\n",
       "      <td>2022.08.16</td>\n",
       "      <td>minutes_등록일2022.08.16.pdf</td>\n",
       "      <td>http://bok.or.kr/portal/cmmn/file/fileDown.do?...</td>\n",
       "    </tr>\n",
       "    <tr>\n",
       "      <th>36</th>\n",
       "      <td>금융통화위원회 의사록(2022년도 제13차)(2022.7.13)</td>\n",
       "      <td>2022.08.02</td>\n",
       "      <td>minutes_등록일2022.08.02.pdf</td>\n",
       "      <td>http://bok.or.kr/portal/cmmn/file/fileDown.do?...</td>\n",
       "    </tr>\n",
       "    <tr>\n",
       "      <th>37</th>\n",
       "      <td>금융통화위원회 의사록(2022년도 제12차)(2022.6.22)</td>\n",
       "      <td>2022.07.08</td>\n",
       "      <td>minutes_등록일2022.07.08.pdf</td>\n",
       "      <td>http://bok.or.kr/portal/cmmn/file/fileDown.do?...</td>\n",
       "    </tr>\n",
       "    <tr>\n",
       "      <th>38</th>\n",
       "      <td>금융통화위원회 의사록(2022년도 제11차)(2022.6.9)</td>\n",
       "      <td>2022.06.28</td>\n",
       "      <td>minutes_등록일2022.06.28.pdf</td>\n",
       "      <td>http://bok.or.kr/portal/cmmn/file/fileDown.do?...</td>\n",
       "    </tr>\n",
       "    <tr>\n",
       "      <th>39</th>\n",
       "      <td>금융통화위원회 의사록(2022년도 제10차)(2022.5.26)</td>\n",
       "      <td>2022.06.14</td>\n",
       "      <td>minutes_등록일2022.06.14.pdf</td>\n",
       "      <td>http://bok.or.kr/portal/cmmn/file/fileDown.do?...</td>\n",
       "    </tr>\n",
       "    <tr>\n",
       "      <th>40</th>\n",
       "      <td>금융통화위원회 의사록(2022년도 제7차)(2022.4.14)</td>\n",
       "      <td>2022.05.03</td>\n",
       "      <td>minutes_등록일2022.05.03.pdf</td>\n",
       "      <td>http://bok.or.kr/portal/cmmn/file/fileDown.do?...</td>\n",
       "    </tr>\n",
       "    <tr>\n",
       "      <th>41</th>\n",
       "      <td>금융통화위원회 의사록(2022년도 제6차)(2022.3.24)</td>\n",
       "      <td>2022.04.08</td>\n",
       "      <td>minutes_등록일2022.04.08.pdf</td>\n",
       "      <td>http://bok.or.kr/portal/cmmn/file/fileDown.do?...</td>\n",
       "    </tr>\n",
       "    <tr>\n",
       "      <th>42</th>\n",
       "      <td>금융통화위원회 의사록(2022년도 제5차)(2022.3.10.)</td>\n",
       "      <td>2022.03.29</td>\n",
       "      <td>minutes_등록일2022.03.29.pdf</td>\n",
       "      <td>http://bok.or.kr/portal/cmmn/file/fileDown.do?...</td>\n",
       "    </tr>\n",
       "    <tr>\n",
       "      <th>43</th>\n",
       "      <td>금융통화위원회 의사록(2022년도 제4차)(2022.2.24.)</td>\n",
       "      <td>2022.03.15</td>\n",
       "      <td>minutes_등록일2022.03.15.pdf</td>\n",
       "      <td>http://bok.or.kr/portal/cmmn/file/fileDown.do?...</td>\n",
       "    </tr>\n",
       "    <tr>\n",
       "      <th>44</th>\n",
       "      <td>금융통화위원회 의사록(2022년도 제1차)(2022.1.14.)</td>\n",
       "      <td>2022.02.03</td>\n",
       "      <td>minutes_등록일2022.02.03.pdf</td>\n",
       "      <td>http://bok.or.kr/portal/cmmn/file/fileDown.do?...</td>\n",
       "    </tr>\n",
       "    <tr>\n",
       "      <th>45</th>\n",
       "      <td>금융통화위원회 의사록(2021년도 제25차)(2021.12.23.)</td>\n",
       "      <td>2022.01.07</td>\n",
       "      <td>minutes_등록일2022.01.07.pdf</td>\n",
       "      <td>http://bok.or.kr/portal/cmmn/file/fileDown.do?...</td>\n",
       "    </tr>\n",
       "    <tr>\n",
       "      <th>46</th>\n",
       "      <td>금융통화위원회 의사록(2021년도 제24차)(2021.12.9.)</td>\n",
       "      <td>2021.12.28</td>\n",
       "      <td>minutes_등록일2021.12.28.pdf</td>\n",
       "      <td>http://bok.or.kr/portal/cmmn/file/fileDown.do?...</td>\n",
       "    </tr>\n",
       "    <tr>\n",
       "      <th>47</th>\n",
       "      <td>금융통화위원회 의사록(2021년도 제23차)(2021.11.25.)</td>\n",
       "      <td>2021.12.14</td>\n",
       "      <td>minutes_등록일2021.12.14.pdf</td>\n",
       "      <td>http://bok.or.kr/portal/cmmn/file/fileDown.do?...</td>\n",
       "    </tr>\n",
       "    <tr>\n",
       "      <th>48</th>\n",
       "      <td>금융통화위원회 의사록(2021년도 제20차)(2021.10.12.)</td>\n",
       "      <td>2021.11.02</td>\n",
       "      <td>minutes_등록일2021.11.02.pdf</td>\n",
       "      <td>http://bok.or.kr/portal/cmmn/file/fileDown.do?...</td>\n",
       "    </tr>\n",
       "    <tr>\n",
       "      <th>49</th>\n",
       "      <td>금융통화위원회 의사록(2021년도 제19차)(2021.9.24.)</td>\n",
       "      <td>2021.10.12</td>\n",
       "      <td>minutes_등록일2021.10.12.pdf</td>\n",
       "      <td>http://bok.or.kr/portal/cmmn/file/fileDown.do?...</td>\n",
       "    </tr>\n",
       "    <tr>\n",
       "      <th>50</th>\n",
       "      <td>금융통화위원회 의사록(2021년도 제18차)(2021.9.9.)</td>\n",
       "      <td>2021.09.28</td>\n",
       "      <td>minutes_등록일2021.09.28.pdf</td>\n",
       "      <td>http://bok.or.kr/portal/cmmn/file/fileDown.do?...</td>\n",
       "    </tr>\n",
       "    <tr>\n",
       "      <th>51</th>\n",
       "      <td>금융통화위원회 의사록(2021년도 제17차)(2021.8.26.)</td>\n",
       "      <td>2021.09.14</td>\n",
       "      <td>minutes_등록일2021.09.14.pdf</td>\n",
       "      <td>http://bok.or.kr/portal/cmmn/file/fileDown.do?...</td>\n",
       "    </tr>\n",
       "    <tr>\n",
       "      <th>52</th>\n",
       "      <td>금융통화위원회 의사록(2021년도 제15차)(2021.7.29.)</td>\n",
       "      <td>2021.08.17</td>\n",
       "      <td>minutes_등록일2021.08.17.pdf</td>\n",
       "      <td>http://bok.or.kr/portal/cmmn/file/fileDown.do?...</td>\n",
       "    </tr>\n",
       "    <tr>\n",
       "      <th>53</th>\n",
       "      <td>금융통화위원회 의사록(2021년도 제14차)(2021.7.15.)</td>\n",
       "      <td>2021.08.03</td>\n",
       "      <td>minutes_등록일2021.08.03.pdf</td>\n",
       "      <td>http://bok.or.kr/portal/cmmn/file/fileDown.do?...</td>\n",
       "    </tr>\n",
       "    <tr>\n",
       "      <th>54</th>\n",
       "      <td>금융통화위원회 의사록(2021년도 제13차)(2021.6.30.)</td>\n",
       "      <td>2021.07.20</td>\n",
       "      <td>minutes_등록일2021.07.20.pdf</td>\n",
       "      <td>http://bok.or.kr/portal/cmmn/file/fileDown.do?...</td>\n",
       "    </tr>\n",
       "    <tr>\n",
       "      <th>55</th>\n",
       "      <td>금융통화위원회 의사록(2021년도 제12차)(2021.6.22.)</td>\n",
       "      <td>2021.07.09</td>\n",
       "      <td>minutes_등록일2021.07.09.pdf</td>\n",
       "      <td>http://bok.or.kr/portal/cmmn/file/fileDown.do?...</td>\n",
       "    </tr>\n",
       "    <tr>\n",
       "      <th>56</th>\n",
       "      <td>금융통화위원회 의사록(2021년도 제11차)(2021.6.10)</td>\n",
       "      <td>2021.06.29</td>\n",
       "      <td>minutes_등록일2021.06.29.pdf</td>\n",
       "      <td>http://bok.or.kr/portal/cmmn/file/fileDown.do?...</td>\n",
       "    </tr>\n",
       "    <tr>\n",
       "      <th>57</th>\n",
       "      <td>금융통화위원회 의사록(2021년도 제10차)(2021.5.27)</td>\n",
       "      <td>2021.06.15</td>\n",
       "      <td>minutes_등록일2021.06.15.pdf</td>\n",
       "      <td>http://bok.or.kr/portal/cmmn/file/fileDown.do?...</td>\n",
       "    </tr>\n",
       "    <tr>\n",
       "      <th>58</th>\n",
       "      <td>금융통화위원회 의사록(2021년도 제7차)(2021.4.15)</td>\n",
       "      <td>2021.05.04</td>\n",
       "      <td>minutes_등록일2021.05.04.pdf</td>\n",
       "      <td>http://bok.or.kr/portal/cmmn/file/fileDown.do?...</td>\n",
       "    </tr>\n",
       "    <tr>\n",
       "      <th>59</th>\n",
       "      <td>금융통화위원회 의사록(2021년도 제6차)(2021.3.25)</td>\n",
       "      <td>2021.04.09</td>\n",
       "      <td>minutes_등록일2021.04.09.pdf</td>\n",
       "      <td>http://bok.or.kr/portal/cmmn/file/fileDown.do?...</td>\n",
       "    </tr>\n",
       "    <tr>\n",
       "      <th>60</th>\n",
       "      <td>금융통화위원회 의사록(2021년도 제5차)(2021.3.11)</td>\n",
       "      <td>2021.03.30</td>\n",
       "      <td>minutes_등록일2021.03.30.pdf</td>\n",
       "      <td>http://bok.or.kr/portal/cmmn/file/fileDown.do?...</td>\n",
       "    </tr>\n",
       "    <tr>\n",
       "      <th>61</th>\n",
       "      <td>금융통화위원회 의사록(2021년도 제4차)(2021.2.25)</td>\n",
       "      <td>2021.03.16</td>\n",
       "      <td>minutes_등록일2021.03.16.pdf</td>\n",
       "      <td>http://bok.or.kr/portal/cmmn/file/fileDown.do?...</td>\n",
       "    </tr>\n",
       "    <tr>\n",
       "      <th>62</th>\n",
       "      <td>금융통화위원회 의사록(2021년도 제2차)(2021.1.28.)</td>\n",
       "      <td>2021.02.16</td>\n",
       "      <td>minutes_등록일2021.02.16.pdf</td>\n",
       "      <td>http://bok.or.kr/portal/cmmn/file/fileDown.do?...</td>\n",
       "    </tr>\n",
       "    <tr>\n",
       "      <th>63</th>\n",
       "      <td>금융통화위원회 의사록(2021년도 제1차)(2021.1.15.)</td>\n",
       "      <td>2021.02.02</td>\n",
       "      <td>minutes_등록일2021.02.02.pdf</td>\n",
       "      <td>http://bok.or.kr/portal/cmmn/file/fileDown.do?...</td>\n",
       "    </tr>\n",
       "    <tr>\n",
       "      <th>64</th>\n",
       "      <td>금융통화위원회 의사록(2020년도 제27차)(2020.12.24)</td>\n",
       "      <td>2021.01.08</td>\n",
       "      <td>minutes_등록일2021.01.08.pdf</td>\n",
       "      <td>http://bok.or.kr/portal/cmmn/file/fileDown.do?...</td>\n",
       "    </tr>\n",
       "    <tr>\n",
       "      <th>65</th>\n",
       "      <td>금융통화위원회 의사록(2020년도 제26차)(2020.12.10)</td>\n",
       "      <td>2020.12.29</td>\n",
       "      <td>minutes_등록일2020.12.29.pdf</td>\n",
       "      <td>http://bok.or.kr/portal/cmmn/file/fileDown.do?...</td>\n",
       "    </tr>\n",
       "    <tr>\n",
       "      <th>66</th>\n",
       "      <td>금융통화위원회 의사록(2020년도 제25차)(2020.11.26)</td>\n",
       "      <td>2020.12.15</td>\n",
       "      <td>minutes_등록일2020.12.15.pdf</td>\n",
       "      <td>http://bok.or.kr/portal/cmmn/file/fileDown.do?...</td>\n",
       "    </tr>\n",
       "    <tr>\n",
       "      <th>67</th>\n",
       "      <td>금융통화위원회 의사록(2020년도 제23차)(2020.10.29)</td>\n",
       "      <td>2020.11.17</td>\n",
       "      <td>minutes_등록일2020.11.17.pdf</td>\n",
       "      <td>http://bok.or.kr/portal/cmmn/file/fileDown.do?...</td>\n",
       "    </tr>\n",
       "    <tr>\n",
       "      <th>68</th>\n",
       "      <td>금융통화위원회 의사록(2020년도 제22차)(2020.10.14)</td>\n",
       "      <td>2020.11.03</td>\n",
       "      <td>minutes_등록일2020.11.03.pdf</td>\n",
       "      <td>http://bok.or.kr/portal/cmmn/file/fileDown.do?...</td>\n",
       "    </tr>\n",
       "    <tr>\n",
       "      <th>69</th>\n",
       "      <td>금융통화위원회 의사록(2020년도 제21차)(2020.09.24)</td>\n",
       "      <td>2020.10.08</td>\n",
       "      <td>minutes_등록일2020.10.08.pdf</td>\n",
       "      <td>http://bok.or.kr/portal/cmmn/file/fileDown.do?...</td>\n",
       "    </tr>\n",
       "    <tr>\n",
       "      <th>70</th>\n",
       "      <td>금융통화위원회 의사록(2020년도 제20차)(2020.09.10)</td>\n",
       "      <td>2020.09.29</td>\n",
       "      <td>minutes_등록일2020.09.29.pdf</td>\n",
       "      <td>http://bok.or.kr/portal/cmmn/file/fileDown.do?...</td>\n",
       "    </tr>\n",
       "    <tr>\n",
       "      <th>71</th>\n",
       "      <td>금융통화위원회 의사록(2020년도 제19차)(2020.8.27.)</td>\n",
       "      <td>2020.09.15</td>\n",
       "      <td>minutes_등록일2020.09.15.pdf</td>\n",
       "      <td>http://bok.or.kr/portal/cmmn/file/fileDown.do?...</td>\n",
       "    </tr>\n",
       "    <tr>\n",
       "      <th>72</th>\n",
       "      <td>금융통화위원회 의사록(2020년도 제17차)(2020.7.30.)</td>\n",
       "      <td>2020.08.18</td>\n",
       "      <td>minutes_등록일2020.08.18.pdf</td>\n",
       "      <td>http://bok.or.kr/portal/cmmn/file/fileDown.do?...</td>\n",
       "    </tr>\n",
       "    <tr>\n",
       "      <th>73</th>\n",
       "      <td>금융통화위원회 의사록(2020년도 제16차)(2020.7.17.)</td>\n",
       "      <td>2020.08.04</td>\n",
       "      <td>minutes_등록일2020.08.04.pdf</td>\n",
       "      <td>http://bok.or.kr/portal/cmmn/file/fileDown.do?...</td>\n",
       "    </tr>\n",
       "    <tr>\n",
       "      <th>74</th>\n",
       "      <td>금융통화위원회 의사록(2020년도 제15차)(2020.7.16.)</td>\n",
       "      <td>2020.08.04</td>\n",
       "      <td>minutes_등록일2020.08.04.pdf</td>\n",
       "      <td>http://bok.or.kr/portal/cmmn/file/fileDown.do?...</td>\n",
       "    </tr>\n",
       "    <tr>\n",
       "      <th>75</th>\n",
       "      <td>금융통화위원회 의사록(2020년도 제14차)(2020.6.24.)</td>\n",
       "      <td>2020.07.10</td>\n",
       "      <td>minutes_등록일2020.07.10.pdf</td>\n",
       "      <td>http://bok.or.kr/portal/cmmn/file/fileDown.do?...</td>\n",
       "    </tr>\n",
       "    <tr>\n",
       "      <th>76</th>\n",
       "      <td>금융통화위원회 의사록(2020년도 제13차)(2020.6.11.)</td>\n",
       "      <td>2020.06.30</td>\n",
       "      <td>minutes_등록일2020.06.30.pdf</td>\n",
       "      <td>http://bok.or.kr/portal/cmmn/file/fileDown.do?...</td>\n",
       "    </tr>\n",
       "    <tr>\n",
       "      <th>77</th>\n",
       "      <td>금융통화위원회 의사록(2020년도 제12차)(2020.5.28.)</td>\n",
       "      <td>2020.06.16</td>\n",
       "      <td>minutes_등록일2020.06.16.pdf</td>\n",
       "      <td>http://bok.or.kr/portal/cmmn/file/fileDown.do?...</td>\n",
       "    </tr>\n",
       "    <tr>\n",
       "      <th>78</th>\n",
       "      <td>금융통화위원회 의사록(2020년도 제11차)(2020.5.14.)</td>\n",
       "      <td>2020.06.02</td>\n",
       "      <td>minutes_등록일2020.06.02.pdf</td>\n",
       "      <td>http://bok.or.kr/portal/cmmn/file/fileDown.do?...</td>\n",
       "    </tr>\n",
       "    <tr>\n",
       "      <th>79</th>\n",
       "      <td>금융통화위원회 의사록(2020년도 제9차)(2020.4.16.)</td>\n",
       "      <td>2020.05.06</td>\n",
       "      <td>minutes_등록일2020.05.06.pdf</td>\n",
       "      <td>http://bok.or.kr/portal/cmmn/file/fileDown.do?...</td>\n",
       "    </tr>\n",
       "    <tr>\n",
       "      <th>80</th>\n",
       "      <td>금융통화위원회 의사록(2020년도 제8차)(2020.4.9.)</td>\n",
       "      <td>2020.04.28</td>\n",
       "      <td>minutes_등록일2020.04.28.pdf</td>\n",
       "      <td>http://bok.or.kr/portal/cmmn/file/fileDown.do?...</td>\n",
       "    </tr>\n",
       "    <tr>\n",
       "      <th>81</th>\n",
       "      <td>금융통화위원회 의사록(2020년도 제7차)(2020.3.26.)</td>\n",
       "      <td>2020.04.14</td>\n",
       "      <td>minutes_등록일2020.04.14.pdf</td>\n",
       "      <td>http://bok.or.kr/portal/cmmn/file/fileDown.do?...</td>\n",
       "    </tr>\n",
       "    <tr>\n",
       "      <th>82</th>\n",
       "      <td>금융통화위원회 의사록(2020년도 제6차)(2020.3.16.)</td>\n",
       "      <td>2020.03.31</td>\n",
       "      <td>minutes_등록일2020.03.31.pdf</td>\n",
       "      <td>http://bok.or.kr/portal/cmmn/file/fileDown.do?...</td>\n",
       "    </tr>\n",
       "    <tr>\n",
       "      <th>83</th>\n",
       "      <td>금융통화위원회 의사록(2020년도 제5차)(2020.3.12.)</td>\n",
       "      <td>2020.03.31</td>\n",
       "      <td>minutes_등록일2020.03.31.pdf</td>\n",
       "      <td>http://bok.or.kr/portal/cmmn/file/fileDown.do?...</td>\n",
       "    </tr>\n",
       "    <tr>\n",
       "      <th>84</th>\n",
       "      <td>금융통화위원회 의사록(2020년도 제4차)(2020.2.27.)</td>\n",
       "      <td>2020.03.17</td>\n",
       "      <td>minutes_등록일2020.03.17.pdf</td>\n",
       "      <td>http://bok.or.kr/portal/cmmn/file/fileDown.do?...</td>\n",
       "    </tr>\n",
       "    <tr>\n",
       "      <th>85</th>\n",
       "      <td>금융통화위원회 의사록(2020년도 제1차)(2020.1.17.)</td>\n",
       "      <td>2020.02.04</td>\n",
       "      <td>minutes_등록일2020.02.04.pdf</td>\n",
       "      <td>http://bok.or.kr/portal/cmmn/file/fileDown.do?...</td>\n",
       "    </tr>\n",
       "    <tr>\n",
       "      <th>86</th>\n",
       "      <td>금융통화위원회 의사록(2019년도 제24차)(2019.12.26.)</td>\n",
       "      <td>2020.01.10</td>\n",
       "      <td>minutes_등록일2020.01.10.pdf</td>\n",
       "      <td>http://bok.or.kr/portal/cmmn/file/fileDown.do?...</td>\n",
       "    </tr>\n",
       "    <tr>\n",
       "      <th>87</th>\n",
       "      <td>금융통화위원회 의사록(2019년도 제23차)(2019.12.12.)</td>\n",
       "      <td>2019.12.31</td>\n",
       "      <td>minutes_등록일2019.12.31.pdf</td>\n",
       "      <td>http://bok.or.kr/portal/cmmn/file/fileDown.do?...</td>\n",
       "    </tr>\n",
       "    <tr>\n",
       "      <th>88</th>\n",
       "      <td>금융통화위원회 의사록(2019년도 제22차)(2019.11.29.)</td>\n",
       "      <td>2019.12.17</td>\n",
       "      <td>minutes_등록일2019.12.17.pdf</td>\n",
       "      <td>http://bok.or.kr/portal/cmmn/file/fileDown.do?...</td>\n",
       "    </tr>\n",
       "    <tr>\n",
       "      <th>89</th>\n",
       "      <td>금융통화위원회 의사록(2019년도 제19차)(2019.10.16.)</td>\n",
       "      <td>2019.11.05</td>\n",
       "      <td>minutes_등록일2019.11.05.pdf</td>\n",
       "      <td>http://bok.or.kr/portal/cmmn/file/fileDown.do?...</td>\n",
       "    </tr>\n",
       "    <tr>\n",
       "      <th>90</th>\n",
       "      <td>금융통화위원회 의사록(2019년도 제18차)(2019.9.26.)</td>\n",
       "      <td>2019.10.11</td>\n",
       "      <td>minutes_등록일2019.10.11.pdf</td>\n",
       "      <td>http://bok.or.kr/portal/cmmn/file/fileDown.do?...</td>\n",
       "    </tr>\n",
       "    <tr>\n",
       "      <th>91</th>\n",
       "      <td>금융통화위원회 의사록(2019년도 제16차)(2019.8.30.)</td>\n",
       "      <td>2019.09.17</td>\n",
       "      <td>minutes_등록일2019.09.17.pdf</td>\n",
       "      <td>http://bok.or.kr/portal/cmmn/file/fileDown.do?...</td>\n",
       "    </tr>\n",
       "    <tr>\n",
       "      <th>92</th>\n",
       "      <td>금융통화위원회 의사록(2019년도 제15차)(2019.8.8.)</td>\n",
       "      <td>2019.08.27</td>\n",
       "      <td>minutes_등록일2019.08.27.pdf</td>\n",
       "      <td>http://bok.or.kr/portal/cmmn/file/fileDown.do?...</td>\n",
       "    </tr>\n",
       "    <tr>\n",
       "      <th>93</th>\n",
       "      <td>금융통화위원회 의사록(2019년도 제13차)(2019.7.18.)</td>\n",
       "      <td>2019.08.06</td>\n",
       "      <td>minutes_등록일2019.08.06.pdf</td>\n",
       "      <td>http://bok.or.kr/portal/cmmn/file/fileDown.do?...</td>\n",
       "    </tr>\n",
       "    <tr>\n",
       "      <th>94</th>\n",
       "      <td>금융통화위원회 의사록(2019년도 제12차)(2019.6.20.)</td>\n",
       "      <td>2019.07.09</td>\n",
       "      <td>minutes_등록일2019.07.09.pdf</td>\n",
       "      <td>http://bok.or.kr/portal/cmmn/file/fileDown.do?...</td>\n",
       "    </tr>\n",
       "    <tr>\n",
       "      <th>95</th>\n",
       "      <td>금융통화위원회 의사록(2019년도 제10차)(2019.5.31.)</td>\n",
       "      <td>2019.06.18</td>\n",
       "      <td>minutes_등록일2019.06.18.pdf</td>\n",
       "      <td>http://bok.or.kr/portal/cmmn/file/fileDown.do?...</td>\n",
       "    </tr>\n",
       "    <tr>\n",
       "      <th>96</th>\n",
       "      <td>금융통화위원회 의사록(2019년도 제9차)(2019.5.9)</td>\n",
       "      <td>2019.05.28</td>\n",
       "      <td>minutes_등록일2019.05.28.pdf</td>\n",
       "      <td>http://bok.or.kr/portal/cmmn/file/fileDown.do?...</td>\n",
       "    </tr>\n",
       "    <tr>\n",
       "      <th>97</th>\n",
       "      <td>금융통화위원회 의사록(2019년도 제7차)(2019.4.18.)</td>\n",
       "      <td>2019.05.07</td>\n",
       "      <td>minutes_등록일2019.05.07.pdf</td>\n",
       "      <td>http://bok.or.kr/portal/cmmn/file/fileDown.do?...</td>\n",
       "    </tr>\n",
       "    <tr>\n",
       "      <th>98</th>\n",
       "      <td>금융통화위원회 의사록(2019년도 제6차)(2019.3.28.)</td>\n",
       "      <td>2019.04.12</td>\n",
       "      <td>minutes_등록일2019.04.12.pdf</td>\n",
       "      <td>http://bok.or.kr/portal/cmmn/file/fileDown.do?...</td>\n",
       "    </tr>\n",
       "    <tr>\n",
       "      <th>99</th>\n",
       "      <td>금융통화위원회 의사록(2019년도 제4차)(2019.2.28.)</td>\n",
       "      <td>2019.03.19</td>\n",
       "      <td>minutes_등록일2019.03.19.pdf</td>\n",
       "      <td>http://bok.or.kr/portal/cmmn/file/fileDown.do?...</td>\n",
       "    </tr>\n",
       "    <tr>\n",
       "      <th>100</th>\n",
       "      <td>금융통화위원회 의사록(2019년도 제3차)(2019.2.14.)</td>\n",
       "      <td>2019.03.05</td>\n",
       "      <td>minutes_등록일2019.03.05.pdf</td>\n",
       "      <td>http://bok.or.kr/portal/cmmn/file/fileDown.do?...</td>\n",
       "    </tr>\n",
       "    <tr>\n",
       "      <th>101</th>\n",
       "      <td>금융통화위원회 의사록(2019년도 제2차)(2019.1.24.)</td>\n",
       "      <td>2019.02.12</td>\n",
       "      <td>minutes_등록일2019.02.12.pdf</td>\n",
       "      <td>http://bok.or.kr/portal/cmmn/file/fileDown.do?...</td>\n",
       "    </tr>\n",
       "    <tr>\n",
       "      <th>102</th>\n",
       "      <td>금융통화위원회 의사록(2019년도 제1차)(2019.1.17.)</td>\n",
       "      <td>2019.02.07</td>\n",
       "      <td>minutes_등록일2019.02.07.pdf</td>\n",
       "      <td>http://bok.or.kr/portal/cmmn/file/fileDown.do?...</td>\n",
       "    </tr>\n",
       "    <tr>\n",
       "      <th>103</th>\n",
       "      <td>금융통화위원회 의사록(2018년도 제25차)(2018.12.26.)</td>\n",
       "      <td>2019.01.15</td>\n",
       "      <td>minutes_등록일2019.01.15.pdf</td>\n",
       "      <td>http://bok.or.kr/portal/cmmn/file/fileDown.do?...</td>\n",
       "    </tr>\n",
       "    <tr>\n",
       "      <th>104</th>\n",
       "      <td>금융통화위원회 의사록(2018년도 제24차)(2018.12.20.)</td>\n",
       "      <td>2019.01.08</td>\n",
       "      <td>minutes_등록일2019.01.08.pdf</td>\n",
       "      <td>http://bok.or.kr/portal/cmmn/file/fileDown.do?...</td>\n",
       "    </tr>\n",
       "    <tr>\n",
       "      <th>105</th>\n",
       "      <td>금융통화위원회 의사록(2018년도 제23차)(2018.12.6.)</td>\n",
       "      <td>2018.12.26</td>\n",
       "      <td>minutes_등록일2018.12.26.pdf</td>\n",
       "      <td>http://bok.or.kr/portal/cmmn/file/fileDown.do?...</td>\n",
       "    </tr>\n",
       "    <tr>\n",
       "      <th>106</th>\n",
       "      <td>금융통화위원회 의사록(2018년도 제22차)(2018.11.30.)</td>\n",
       "      <td>2018.12.18</td>\n",
       "      <td>minutes_등록일2018.12.18.pdf</td>\n",
       "      <td>http://bok.or.kr/portal/cmmn/file/fileDown.do?...</td>\n",
       "    </tr>\n",
       "    <tr>\n",
       "      <th>107</th>\n",
       "      <td>금융통화위원회 의사록(2018년도 제21차)(2018.11.8.)</td>\n",
       "      <td>2018.11.27</td>\n",
       "      <td>minutes_등록일2018.11.27.pdf</td>\n",
       "      <td>http://bok.or.kr/portal/cmmn/file/fileDown.do?...</td>\n",
       "    </tr>\n",
       "    <tr>\n",
       "      <th>108</th>\n",
       "      <td>금융통화위원회 의사록(2018년도 제19차)(2018.10.18.)</td>\n",
       "      <td>2018.11.06</td>\n",
       "      <td>minutes_등록일2018.11.06.pdf</td>\n",
       "      <td>http://bok.or.kr/portal/cmmn/file/fileDown.do?...</td>\n",
       "    </tr>\n",
       "    <tr>\n",
       "      <th>109</th>\n",
       "      <td>금융통화위원회 의사록(2018년도 제18차)(2018.9.20.)</td>\n",
       "      <td>2018.10.10</td>\n",
       "      <td>minutes_등록일2018.10.10.pdf</td>\n",
       "      <td>http://bok.or.kr/portal/cmmn/file/fileDown.do?...</td>\n",
       "    </tr>\n",
       "    <tr>\n",
       "      <th>110</th>\n",
       "      <td>금융통화위원회 의사록(2018년도 제16차)(2018.8.31.)</td>\n",
       "      <td>2018.09.18</td>\n",
       "      <td>minutes_등록일2018.09.18.pdf</td>\n",
       "      <td>http://bok.or.kr/portal/cmmn/file/fileDown.do?...</td>\n",
       "    </tr>\n",
       "    <tr>\n",
       "      <th>111</th>\n",
       "      <td>금융통화위원회 의사록(2018년도 제14차)(2018.7.26.)</td>\n",
       "      <td>2018.08.14</td>\n",
       "      <td>minutes_등록일2018.08.14.pdf</td>\n",
       "      <td>http://bok.or.kr/portal/cmmn/file/fileDown.do?...</td>\n",
       "    </tr>\n",
       "    <tr>\n",
       "      <th>112</th>\n",
       "      <td>금융통화위원회 의사록(2018년도 제13차)(2018.7.12.)</td>\n",
       "      <td>2018.07.31</td>\n",
       "      <td>minutes_등록일2018.07.31.pdf</td>\n",
       "      <td>http://bok.or.kr/portal/cmmn/file/fileDown.do?...</td>\n",
       "    </tr>\n",
       "    <tr>\n",
       "      <th>113</th>\n",
       "      <td>금융통화위원회 의사록(2018년도 제12차)(2018.6.20.)</td>\n",
       "      <td>2018.07.06</td>\n",
       "      <td>minutes_등록일2018.07.06.pdf</td>\n",
       "      <td>http://bok.or.kr/portal/cmmn/file/fileDown.do?...</td>\n",
       "    </tr>\n",
       "    <tr>\n",
       "      <th>114</th>\n",
       "      <td>금융통화위원회 의사록(2018년도 제10차)(2018.5.24.)</td>\n",
       "      <td>2018.06.12</td>\n",
       "      <td>minutes_등록일2018.06.12.pdf</td>\n",
       "      <td>http://bok.or.kr/portal/cmmn/file/fileDown.do?...</td>\n",
       "    </tr>\n",
       "    <tr>\n",
       "      <th>115</th>\n",
       "      <td>금융통화위원회 의사록(2018년도 제8차)(2018.4.26.)</td>\n",
       "      <td>2018.05.15</td>\n",
       "      <td>minutes_등록일2018.05.15.pdf</td>\n",
       "      <td>http://bok.or.kr/portal/cmmn/file/fileDown.do?...</td>\n",
       "    </tr>\n",
       "    <tr>\n",
       "      <th>116</th>\n",
       "      <td>금융통화위원회 의사록(2018년도 제7차)(2018.4.12.)</td>\n",
       "      <td>2018.05.02</td>\n",
       "      <td>minutes_등록일2018.05.02.pdf</td>\n",
       "      <td>http://bok.or.kr/portal/cmmn/file/fileDown.do?...</td>\n",
       "    </tr>\n",
       "    <tr>\n",
       "      <th>117</th>\n",
       "      <td>금융통화위원회 의사록(2018년도 제6차)(2018.3.29.)</td>\n",
       "      <td>2018.04.17</td>\n",
       "      <td>minutes_등록일2018.04.17.pdf</td>\n",
       "      <td>http://bok.or.kr/portal/cmmn/file/fileDown.do?...</td>\n",
       "    </tr>\n",
       "    <tr>\n",
       "      <th>118</th>\n",
       "      <td>금융통화위원회 의사록(2018년도 제5차)(2018.3.8.)</td>\n",
       "      <td>2018.03.27</td>\n",
       "      <td>minutes_등록일2018.03.27.pdf</td>\n",
       "      <td>http://bok.or.kr/portal/cmmn/file/fileDown.do?...</td>\n",
       "    </tr>\n",
       "    <tr>\n",
       "      <th>119</th>\n",
       "      <td>금융통화위원회 의사록(2018년도 제4차)(2018.2.27.)</td>\n",
       "      <td>2018.03.20</td>\n",
       "      <td>minutes_등록일2018.03.20.pdf</td>\n",
       "      <td>http://bok.or.kr/portal/cmmn/file/fileDown.do?...</td>\n",
       "    </tr>\n",
       "    <tr>\n",
       "      <th>120</th>\n",
       "      <td>금융통화위원회 의사록(2018년도 제3차)(2018.2.8.)</td>\n",
       "      <td>2018.02.27</td>\n",
       "      <td>minutes_등록일2018.02.27.pdf</td>\n",
       "      <td>http://bok.or.kr/portal/cmmn/file/fileDown.do?...</td>\n",
       "    </tr>\n",
       "    <tr>\n",
       "      <th>121</th>\n",
       "      <td>금융통화위원회 의사록(2018년도 제1차)(2018.1.18.)</td>\n",
       "      <td>2018.02.06</td>\n",
       "      <td>minutes_등록일2018.02.06.pdf</td>\n",
       "      <td>http://bok.or.kr/portal/cmmn/file/fileDown.do?...</td>\n",
       "    </tr>\n",
       "    <tr>\n",
       "      <th>122</th>\n",
       "      <td>금융통화위원회 의사록(2017년도 제25차)(2017.12.28.)</td>\n",
       "      <td>2018.01.16</td>\n",
       "      <td>minutes_등록일2018.01.16.pdf</td>\n",
       "      <td>http://bok.or.kr/portal/cmmn/file/fileDown.do?...</td>\n",
       "    </tr>\n",
       "    <tr>\n",
       "      <th>123</th>\n",
       "      <td>금융통화위원회 의사록(2017년도 제24차)(2017.12.14.)</td>\n",
       "      <td>2018.01.02</td>\n",
       "      <td>minutes_등록일2018.01.02.pdf</td>\n",
       "      <td>http://bok.or.kr/portal/cmmn/file/fileDown.do?...</td>\n",
       "    </tr>\n",
       "    <tr>\n",
       "      <th>124</th>\n",
       "      <td>금융통화위원회 의사록(2017년도 제23차)(2017.12.7.)</td>\n",
       "      <td>2017.12.26</td>\n",
       "      <td>minutes_등록일2017.12.26.pdf</td>\n",
       "      <td>http://bok.or.kr/portal/cmmn/file/fileDown.do?...</td>\n",
       "    </tr>\n",
       "    <tr>\n",
       "      <th>125</th>\n",
       "      <td>금융통화위원회 의사록(2017년도 제22차)(2017.11.30.)</td>\n",
       "      <td>2017.12.19</td>\n",
       "      <td>minutes_등록일2017.12.19.pdf</td>\n",
       "      <td>http://bok.or.kr/portal/cmmn/file/fileDown.do?...</td>\n",
       "    </tr>\n",
       "    <tr>\n",
       "      <th>126</th>\n",
       "      <td>금융통화위원회 의사록(2017년도 제21차)(2017.11.9.)</td>\n",
       "      <td>2017.11.28</td>\n",
       "      <td>minutes_등록일2017.11.28.pdf</td>\n",
       "      <td>http://bok.or.kr/portal/cmmn/file/fileDown.do?...</td>\n",
       "    </tr>\n",
       "    <tr>\n",
       "      <th>127</th>\n",
       "      <td>금융통화위원회 의사록(2017년도 제19차)(2017.10.19.)</td>\n",
       "      <td>2017.11.07</td>\n",
       "      <td>minutes_등록일2017.11.07.pdf</td>\n",
       "      <td>http://bok.or.kr/portal/cmmn/file/fileDown.do?...</td>\n",
       "    </tr>\n",
       "    <tr>\n",
       "      <th>128</th>\n",
       "      <td>금융통화위원회 의사록(2017년도 제18차)(2017.9.21.)</td>\n",
       "      <td>2017.10.10</td>\n",
       "      <td>minutes_등록일2017.10.10.pdf</td>\n",
       "      <td>http://bok.or.kr/portal/cmmn/file/fileDown.do?...</td>\n",
       "    </tr>\n",
       "    <tr>\n",
       "      <th>129</th>\n",
       "      <td>금융통화위원회 의사록(2017년도 제16차)(2017.8.31.)</td>\n",
       "      <td>2017.09.19</td>\n",
       "      <td>minutes_등록일2017.09.19.pdf</td>\n",
       "      <td>http://bok.or.kr/portal/cmmn/file/fileDown.do?...</td>\n",
       "    </tr>\n",
       "    <tr>\n",
       "      <th>130</th>\n",
       "      <td>금융통화위원회 의사록(2017년도 제15차)(2017.8.10.)</td>\n",
       "      <td>2017.08.29</td>\n",
       "      <td>minutes_등록일2017.08.29.pdf</td>\n",
       "      <td>http://bok.or.kr/portal/cmmn/file/fileDown.do?...</td>\n",
       "    </tr>\n",
       "    <tr>\n",
       "      <th>131</th>\n",
       "      <td>금융통화위원회 의사록(2017년도 제13차)(2017.7.13.)</td>\n",
       "      <td>2017.08.01</td>\n",
       "      <td>minutes_등록일2017.08.01.pdf</td>\n",
       "      <td>http://bok.or.kr/portal/cmmn/file/fileDown.do?...</td>\n",
       "    </tr>\n",
       "    <tr>\n",
       "      <th>132</th>\n",
       "      <td>금융통화위원회 의사록(2017년도 제12차)(2017.6.22.)</td>\n",
       "      <td>2017.07.07</td>\n",
       "      <td>minutes_등록일2017.07.07.pdf</td>\n",
       "      <td>http://bok.or.kr/portal/cmmn/file/fileDown.do?...</td>\n",
       "    </tr>\n",
       "    <tr>\n",
       "      <th>133</th>\n",
       "      <td>금융통화위원회 의사록(2017년도 제10차)(2017.5.25.)</td>\n",
       "      <td>2017.06.13</td>\n",
       "      <td>minutes_등록일2017.06.13.pdf</td>\n",
       "      <td>http://bok.or.kr/portal/cmmn/file/fileDown.do?...</td>\n",
       "    </tr>\n",
       "    <tr>\n",
       "      <th>134</th>\n",
       "      <td>금융통화위원회 의사록(2017년도 제8차)(2017.4.27.)</td>\n",
       "      <td>2017.05.16</td>\n",
       "      <td>minutes_등록일2017.05.16.pdf</td>\n",
       "      <td>http://bok.or.kr/portal/cmmn/file/fileDown.do?...</td>\n",
       "    </tr>\n",
       "    <tr>\n",
       "      <th>135</th>\n",
       "      <td>금융통화위원회 의사록(2017년도 제7차)(2017.4.13.)</td>\n",
       "      <td>2017.05.02</td>\n",
       "      <td>minutes_등록일2017.05.02.pdf</td>\n",
       "      <td>http://bok.or.kr/portal/cmmn/file/fileDown.do?...</td>\n",
       "    </tr>\n",
       "    <tr>\n",
       "      <th>136</th>\n",
       "      <td>금융통화위원회 의사록(2017년도 제6차)(2017.3.23.)</td>\n",
       "      <td>2017.04.07</td>\n",
       "      <td>minutes_등록일2017.04.07.pdf</td>\n",
       "      <td>http://bok.or.kr/portal/cmmn/file/fileDown.do?...</td>\n",
       "    </tr>\n",
       "    <tr>\n",
       "      <th>137</th>\n",
       "      <td>금융통화위원회 의사록(2017년도 제4차)(2017.2.23.)</td>\n",
       "      <td>2017.03.14</td>\n",
       "      <td>minutes_등록일2017.03.14.pdf</td>\n",
       "      <td>http://bok.or.kr/portal/cmmn/file/fileDown.do?...</td>\n",
       "    </tr>\n",
       "    <tr>\n",
       "      <th>138</th>\n",
       "      <td>금융통화위원회 의사록(2017년도 제2차)(2017.1.26.)</td>\n",
       "      <td>2017.02.14</td>\n",
       "      <td>minutes_등록일2017.02.14.pdf</td>\n",
       "      <td>http://bok.or.kr/portal/cmmn/file/fileDown.do?...</td>\n",
       "    </tr>\n",
       "    <tr>\n",
       "      <th>139</th>\n",
       "      <td>금융통화위원회 의사록(2017년도 제1차)(2017.1.13.)</td>\n",
       "      <td>2017.01.31</td>\n",
       "      <td>minutes_등록일2017.01.31.pdf</td>\n",
       "      <td>http://bok.or.kr/portal/cmmn/file/fileDown.do?...</td>\n",
       "    </tr>\n",
       "    <tr>\n",
       "      <th>140</th>\n",
       "      <td>금융통화위원회 의사록(2016년도 제26차)(2016.12.29.)</td>\n",
       "      <td>2017.01.17</td>\n",
       "      <td>minutes_등록일2017.01.17.pdf</td>\n",
       "      <td>http://bok.or.kr/portal/cmmn/file/fileDown.do?...</td>\n",
       "    </tr>\n",
       "    <tr>\n",
       "      <th>141</th>\n",
       "      <td>금융통화위원회 의사록(2016년도 제25차)(2016.12.21.)</td>\n",
       "      <td>2017.01.10</td>\n",
       "      <td>minutes_등록일2017.01.10.pdf</td>\n",
       "      <td>http://bok.or.kr/portal/cmmn/file/fileDown.do?...</td>\n",
       "    </tr>\n",
       "    <tr>\n",
       "      <th>142</th>\n",
       "      <td>금융통화위원회 의사록(2016년도 제24차)(2016.12.15.)</td>\n",
       "      <td>2017.01.03</td>\n",
       "      <td>minutes_등록일2017.01.03.pdf</td>\n",
       "      <td>http://bok.or.kr/portal/cmmn/file/fileDown.do?...</td>\n",
       "    </tr>\n",
       "    <tr>\n",
       "      <th>143</th>\n",
       "      <td>금융통화위원회 의사록(2016년도 제23차)(2016.11.24.)</td>\n",
       "      <td>2016.12.13</td>\n",
       "      <td>minutes_등록일2016.12.13.pdf</td>\n",
       "      <td>http://bok.or.kr/portal/cmmn/file/fileDown.do?...</td>\n",
       "    </tr>\n",
       "    <tr>\n",
       "      <th>144</th>\n",
       "      <td>금융통화위원회 의사록(2016년도 제22차)(2016.11.11.)</td>\n",
       "      <td>2016.11.29</td>\n",
       "      <td>minutes_등록일2016.11.29.pdf</td>\n",
       "      <td>http://bok.or.kr/portal/cmmn/file/fileDown.do?...</td>\n",
       "    </tr>\n",
       "    <tr>\n",
       "      <th>145</th>\n",
       "      <td>금융통화위원회 의사록(2016년도 제21차)(2016.10.27.)</td>\n",
       "      <td>2016.11.15</td>\n",
       "      <td>minutes_등록일2016.11.15.pdf</td>\n",
       "      <td>http://bok.or.kr/portal/cmmn/file/fileDown.do?...</td>\n",
       "    </tr>\n",
       "    <tr>\n",
       "      <th>146</th>\n",
       "      <td>금융통화위원회 의사록(2016년도 제20차)(2016.10.13.)</td>\n",
       "      <td>2016.11.01</td>\n",
       "      <td>minutes_등록일2016.11.01.pdf</td>\n",
       "      <td>http://bok.or.kr/portal/cmmn/file/fileDown.do?...</td>\n",
       "    </tr>\n",
       "    <tr>\n",
       "      <th>147</th>\n",
       "      <td>금융통화위원회 의사록(2016년도 제19차)(2016.9.22.)</td>\n",
       "      <td>2016.10.11</td>\n",
       "      <td>minutes_등록일2016.10.11.pdf</td>\n",
       "      <td>http://bok.or.kr/portal/cmmn/file/fileDown.do?...</td>\n",
       "    </tr>\n",
       "    <tr>\n",
       "      <th>148</th>\n",
       "      <td>금융통화위원회 의사록(2016년도 제18차)(2016.9.9.)</td>\n",
       "      <td>2016.09.27</td>\n",
       "      <td>minutes_등록일2016.09.27.pdf</td>\n",
       "      <td>http://bok.or.kr/portal/cmmn/file/fileDown.do?...</td>\n",
       "    </tr>\n",
       "    <tr>\n",
       "      <th>149</th>\n",
       "      <td>금융통화위원회 의사록(2016년도 제16차)(2016.8.11.)</td>\n",
       "      <td>2016.08.30</td>\n",
       "      <td>minutes_등록일2016.08.30.pdf</td>\n",
       "      <td>http://bok.or.kr/portal/cmmn/file/fileDown.do?...</td>\n",
       "    </tr>\n",
       "    <tr>\n",
       "      <th>150</th>\n",
       "      <td>금융통화위원회 의사록(2016년도 제14차)(2016.7.14.)</td>\n",
       "      <td>2016.08.02</td>\n",
       "      <td>minutes_등록일2016.08.02.pdf</td>\n",
       "      <td>http://bok.or.kr/portal/cmmn/file/fileDown.do?...</td>\n",
       "    </tr>\n",
       "    <tr>\n",
       "      <th>151</th>\n",
       "      <td>금융통화위원회 의사록(2016년도 제13차)(2016.7.1.)</td>\n",
       "      <td>2016.07.19</td>\n",
       "      <td>minutes_등록일2016.07.19.pdf</td>\n",
       "      <td>http://bok.or.kr/portal/cmmn/file/fileDown.do?...</td>\n",
       "    </tr>\n",
       "    <tr>\n",
       "      <th>152</th>\n",
       "      <td>금융통화위원회 의사록(2016년도 제12차)(2016.6.23.)</td>\n",
       "      <td>2016.07.12</td>\n",
       "      <td>minutes_등록일2016.07.12.pdf</td>\n",
       "      <td>http://bok.or.kr/portal/cmmn/file/fileDown.do?...</td>\n",
       "    </tr>\n",
       "    <tr>\n",
       "      <th>153</th>\n",
       "      <td>금융통화위원회 의사록(2016년도 제11차)(2016.6.9.)</td>\n",
       "      <td>2016.06.28</td>\n",
       "      <td>minutes_등록일2016.06.28.pdf</td>\n",
       "      <td>http://bok.or.kr/portal/cmmn/file/fileDown.do?...</td>\n",
       "    </tr>\n",
       "    <tr>\n",
       "      <th>154</th>\n",
       "      <td>금융통화위원회 의사록(2016년도 제9차)(2016.5.13.)</td>\n",
       "      <td>2016.05.31</td>\n",
       "      <td>minutes_등록일2016.05.31.pdf</td>\n",
       "      <td>http://bok.or.kr/portal/cmmn/file/fileDown.do?...</td>\n",
       "    </tr>\n",
       "    <tr>\n",
       "      <th>155</th>\n",
       "      <td>금융통화위원회 의사록(2016년도 제7차)(2016.4.19.)</td>\n",
       "      <td>2016.05.04</td>\n",
       "      <td>minutes_등록일2016.05.04.pdf</td>\n",
       "      <td>http://bok.or.kr/portal/cmmn/file/fileDown.do?...</td>\n",
       "    </tr>\n",
       "    <tr>\n",
       "      <th>156</th>\n",
       "      <td>금융통화위원회 의사록(2016년도 제6차)(2016.3.24.)</td>\n",
       "      <td>2016.04.12</td>\n",
       "      <td>minutes_등록일2016.04.12.pdf</td>\n",
       "      <td>http://bok.or.kr/portal/cmmn/file/fileDown.do?...</td>\n",
       "    </tr>\n",
       "    <tr>\n",
       "      <th>157</th>\n",
       "      <td>금융통화위원회 의사록(2016년도 제5차)(2016.3.10.)</td>\n",
       "      <td>2016.03.29</td>\n",
       "      <td>minutes_등록일2016.03.29.pdf</td>\n",
       "      <td>http://bok.or.kr/portal/cmmn/file/fileDown.do?...</td>\n",
       "    </tr>\n",
       "    <tr>\n",
       "      <th>158</th>\n",
       "      <td>금융통화위원회 의사록(2016년도 제4차)(2016.2.25.)</td>\n",
       "      <td>2016.03.15</td>\n",
       "      <td>minutes_등록일2016.03.15.pdf</td>\n",
       "      <td>http://bok.or.kr/portal/cmmn/file/fileDown.do?...</td>\n",
       "    </tr>\n",
       "    <tr>\n",
       "      <th>159</th>\n",
       "      <td>금융통화위원회 의사록(2016년도 제3차)(2016.2.16)</td>\n",
       "      <td>2016.03.02</td>\n",
       "      <td>minutes_등록일2016.03.02.pdf</td>\n",
       "      <td>http://bok.or.kr/portal/cmmn/file/fileDown.do?...</td>\n",
       "    </tr>\n",
       "    <tr>\n",
       "      <th>160</th>\n",
       "      <td>금융통화위원회 의사록(2016년도 제2차)(2016.1.28.)</td>\n",
       "      <td>2016.02.16</td>\n",
       "      <td>minutes_등록일2016.02.16.pdf</td>\n",
       "      <td>http://bok.or.kr/portal/cmmn/file/fileDown.do?...</td>\n",
       "    </tr>\n",
       "    <tr>\n",
       "      <th>161</th>\n",
       "      <td>금융통화위원회 의사록(2016년도 제1차)(2016.1.14.)</td>\n",
       "      <td>2016.02.02</td>\n",
       "      <td>minutes_등록일2016.02.02.pdf</td>\n",
       "      <td>http://bok.or.kr/portal/cmmn/file/fileDown.do?...</td>\n",
       "    </tr>\n",
       "    <tr>\n",
       "      <th>162</th>\n",
       "      <td>금융통화위원회 의사록(2015년도 제25차)(2015.12.24.)</td>\n",
       "      <td>2016.01.12</td>\n",
       "      <td>minutes_등록일2016.01.12.pdf</td>\n",
       "      <td>http://bok.or.kr/portal/cmmn/file/fileDown.do?...</td>\n",
       "    </tr>\n",
       "    <tr>\n",
       "      <th>163</th>\n",
       "      <td>금융통화위원회 의사록(2015년도 제24차)(2015.12.16.)</td>\n",
       "      <td>2016.01.05</td>\n",
       "      <td>minutes_등록일2016.01.05.pdf</td>\n",
       "      <td>http://bok.or.kr/portal/cmmn/file/fileDown.do?...</td>\n",
       "    </tr>\n",
       "    <tr>\n",
       "      <th>164</th>\n",
       "      <td>금융통화위원회 의사록(2015년도 제23차)(2015.12.10.)</td>\n",
       "      <td>2015.12.29</td>\n",
       "      <td>minutes_등록일2015.12.29.pdf</td>\n",
       "      <td>http://bok.or.kr/portal/cmmn/file/fileDown.do?...</td>\n",
       "    </tr>\n",
       "    <tr>\n",
       "      <th>165</th>\n",
       "      <td>금융통화위원회 의사록(2015년도 제22차)(2015.11.26.)</td>\n",
       "      <td>2015.12.15</td>\n",
       "      <td>minutes_등록일2015.12.15.pdf</td>\n",
       "      <td>http://bok.or.kr/portal/cmmn/file/fileDown.do?...</td>\n",
       "    </tr>\n",
       "    <tr>\n",
       "      <th>166</th>\n",
       "      <td>금융통화위원회 의사록(2015년도 제21차)(2015.11.12.)</td>\n",
       "      <td>2015.12.01</td>\n",
       "      <td>minutes_등록일2015.12.01.pdf</td>\n",
       "      <td>http://bok.or.kr/portal/cmmn/file/fileDown.do?...</td>\n",
       "    </tr>\n",
       "    <tr>\n",
       "      <th>167</th>\n",
       "      <td>금융통화위원회 의사록(2015년도 제20차)(2015.10.29.)</td>\n",
       "      <td>2015.11.17</td>\n",
       "      <td>minutes_등록일2015.11.17.pdf</td>\n",
       "      <td>http://bok.or.kr/portal/cmmn/file/fileDown.do?...</td>\n",
       "    </tr>\n",
       "    <tr>\n",
       "      <th>168</th>\n",
       "      <td>금융통화위원회 의사록(2015년도 제19차)(2015.10.15.)</td>\n",
       "      <td>2015.11.03</td>\n",
       "      <td>minutes_등록일2015.11.03.pdf</td>\n",
       "      <td>http://bok.or.kr/portal/cmmn/file/fileDown.do?...</td>\n",
       "    </tr>\n",
       "    <tr>\n",
       "      <th>169</th>\n",
       "      <td>금융통화위원회 의사록(2015년도 제18차)(2015.9.24.)</td>\n",
       "      <td>2015.10.13</td>\n",
       "      <td>minutes_등록일2015.10.13.pdf</td>\n",
       "      <td>http://bok.or.kr/portal/cmmn/file/fileDown.do?...</td>\n",
       "    </tr>\n",
       "    <tr>\n",
       "      <th>170</th>\n",
       "      <td>금융통화위원회 의사록(2015년도 제17차)(2015.9.11.)</td>\n",
       "      <td>2015.09.30</td>\n",
       "      <td>minutes_등록일2015.09.30.pdf</td>\n",
       "      <td>http://bok.or.kr/portal/cmmn/file/fileDown.do?...</td>\n",
       "    </tr>\n",
       "    <tr>\n",
       "      <th>171</th>\n",
       "      <td>금융통화위원회 의사록(2015년도 제16차)(2015.8.27.)</td>\n",
       "      <td>2015.09.15</td>\n",
       "      <td>minutes_등록일2015.09.15.pdf</td>\n",
       "      <td>http://bok.or.kr/portal/cmmn/file/fileDown.do?...</td>\n",
       "    </tr>\n",
       "    <tr>\n",
       "      <th>172</th>\n",
       "      <td>금융통화위원회 의사록(2015년도 제15차)(2015.8.13.)</td>\n",
       "      <td>2015.09.01</td>\n",
       "      <td>minutes_등록일2015.09.01.pdf</td>\n",
       "      <td>http://bok.or.kr/portal/cmmn/file/fileDown.do?...</td>\n",
       "    </tr>\n",
       "    <tr>\n",
       "      <th>173</th>\n",
       "      <td>금융통화위원회 의사록(2015년도 제14차)(2015.7.23.)</td>\n",
       "      <td>2015.08.11</td>\n",
       "      <td>minutes_등록일2015.08.11.pdf</td>\n",
       "      <td>http://bok.or.kr/portal/cmmn/file/fileDown.do?...</td>\n",
       "    </tr>\n",
       "    <tr>\n",
       "      <th>174</th>\n",
       "      <td>금융통화위원회 의사록(2015년도 제13차)(2015.7.9.)</td>\n",
       "      <td>2015.07.28</td>\n",
       "      <td>minutes_등록일2015.07.28.pdf</td>\n",
       "      <td>http://bok.or.kr/portal/cmmn/file/fileDown.do?...</td>\n",
       "    </tr>\n",
       "    <tr>\n",
       "      <th>175</th>\n",
       "      <td>금융통화위원회 의사록(2015년도 제12차)(2015.6.25.)</td>\n",
       "      <td>2015.07.14</td>\n",
       "      <td>minutes_등록일2015.07.14.pdf</td>\n",
       "      <td>http://bok.or.kr/portal/cmmn/file/fileDown.do?...</td>\n",
       "    </tr>\n",
       "    <tr>\n",
       "      <th>176</th>\n",
       "      <td>금융통화위원회 의사록(2015년도 제11차)(2015.6.11.)</td>\n",
       "      <td>2015.06.30</td>\n",
       "      <td>minutes_등록일2015.06.30.pdf</td>\n",
       "      <td>http://bok.or.kr/portal/cmmn/file/fileDown.do?...</td>\n",
       "    </tr>\n",
       "    <tr>\n",
       "      <th>177</th>\n",
       "      <td>금융통화위원회 의사록(2015년도 제9차)(2015.5.15.)</td>\n",
       "      <td>2015.06.02</td>\n",
       "      <td>minutes_등록일2015.06.02.pdf</td>\n",
       "      <td>http://bok.or.kr/portal/cmmn/file/fileDown.do?...</td>\n",
       "    </tr>\n",
       "    <tr>\n",
       "      <th>178</th>\n",
       "      <td>금융통화위원회 의사록(2015년도 제8차)(2015.4.23.)</td>\n",
       "      <td>2015.05.12</td>\n",
       "      <td>minutes_등록일2015.05.12.pdf</td>\n",
       "      <td>http://bok.or.kr/portal/cmmn/file/fileDown.do?...</td>\n",
       "    </tr>\n",
       "    <tr>\n",
       "      <th>179</th>\n",
       "      <td>금융통화위원회 의사록(2015년도 제7차)(2015.4.9.)</td>\n",
       "      <td>2015.04.28</td>\n",
       "      <td>minutes_등록일2015.04.28.pdf</td>\n",
       "      <td>http://bok.or.kr/portal/cmmn/file/fileDown.do?...</td>\n",
       "    </tr>\n",
       "    <tr>\n",
       "      <th>180</th>\n",
       "      <td>금융통화위원회 의사록(2015년도 제6차)(2015.3.26.)</td>\n",
       "      <td>2015.04.14</td>\n",
       "      <td>minutes_등록일2015.04.14.pdf</td>\n",
       "      <td>http://bok.or.kr/portal/cmmn/file/fileDown.do?...</td>\n",
       "    </tr>\n",
       "    <tr>\n",
       "      <th>181</th>\n",
       "      <td>금융통화위원회 의사록(2015년도 제5차)(2015.3.12.)</td>\n",
       "      <td>2015.03.31</td>\n",
       "      <td>minutes_등록일2015.03.31.pdf</td>\n",
       "      <td>http://bok.or.kr/portal/cmmn/file/fileDown.do?...</td>\n",
       "    </tr>\n",
       "    <tr>\n",
       "      <th>182</th>\n",
       "      <td>금융통화위원회 의사록(2015년도 제3차)(2015.2.17.)</td>\n",
       "      <td>2015.03.10</td>\n",
       "      <td>minutes_등록일2015.03.10.pdf</td>\n",
       "      <td>http://bok.or.kr/portal/cmmn/file/fileDown.do?...</td>\n",
       "    </tr>\n",
       "    <tr>\n",
       "      <th>183</th>\n",
       "      <td>금융통화위원회 의사록(2015년도 제2차)(2015.1.29.)</td>\n",
       "      <td>2015.02.17</td>\n",
       "      <td>minutes_등록일2015.02.17.pdf</td>\n",
       "      <td>http://bok.or.kr/portal/cmmn/file/fileDown.do?...</td>\n",
       "    </tr>\n",
       "    <tr>\n",
       "      <th>184</th>\n",
       "      <td>금융통화위원회 의사록(2015년도 제1차)(2015.1.15.)</td>\n",
       "      <td>2015.02.03</td>\n",
       "      <td>minutes_등록일2015.02.03.pdf</td>\n",
       "      <td>http://bok.or.kr/portal/cmmn/file/fileDown.do?...</td>\n",
       "    </tr>\n",
       "    <tr>\n",
       "      <th>185</th>\n",
       "      <td>금융통화위원회 의사록(2014년도 제24차)(2014.12.24.)</td>\n",
       "      <td>2015.01.13</td>\n",
       "      <td>minutes_등록일2015.01.13.pdf</td>\n",
       "      <td>http://bok.or.kr/portal/cmmn/file/fileDown.do?...</td>\n",
       "    </tr>\n",
       "    <tr>\n",
       "      <th>186</th>\n",
       "      <td>금융통화위원회 의사록(2014년도 제23차)(2014.12.11.)</td>\n",
       "      <td>2014.12.30</td>\n",
       "      <td>minutes_등록일2014.12.30.pdf</td>\n",
       "      <td>http://bok.or.kr/portal/cmmn/file/fileDown.do?...</td>\n",
       "    </tr>\n",
       "    <tr>\n",
       "      <th>187</th>\n",
       "      <td>금융통화위원회 의사록(2014년도 제21차)(2014.11.13.)</td>\n",
       "      <td>2014.12.02</td>\n",
       "      <td>minutes_등록일2014.12.02.pdf</td>\n",
       "      <td>http://bok.or.kr/portal/cmmn/file/fileDown.do?...</td>\n",
       "    </tr>\n",
       "    <tr>\n",
       "      <th>188</th>\n",
       "      <td>금융통화위원회 의사록(2014년도 제20차)(2014.10.23.)</td>\n",
       "      <td>2014.11.11</td>\n",
       "      <td>minutes_등록일2014.11.11.pdf</td>\n",
       "      <td>http://bok.or.kr/portal/cmmn/file/fileDown.do?...</td>\n",
       "    </tr>\n",
       "    <tr>\n",
       "      <th>189</th>\n",
       "      <td>금융통화위원회 의사록(2014년도 제19차)(2014.10.15.)</td>\n",
       "      <td>2014.11.04</td>\n",
       "      <td>minutes_등록일2014.11.04.pdf</td>\n",
       "      <td>http://bok.or.kr/portal/cmmn/file/fileDown.do?...</td>\n",
       "    </tr>\n",
       "    <tr>\n",
       "      <th>190</th>\n",
       "      <td>금융통화위원회 의사록(2014년도 제18차)(2014.9.25.)</td>\n",
       "      <td>2014.10.14</td>\n",
       "      <td>minutes_등록일2014.10.14.pdf</td>\n",
       "      <td>http://bok.or.kr/portal/cmmn/file/fileDown.do?...</td>\n",
       "    </tr>\n",
       "    <tr>\n",
       "      <th>191</th>\n",
       "      <td>금융통화위원회 의사록(2014년도 제17차)(2014.9.12.)</td>\n",
       "      <td>2014.09.30</td>\n",
       "      <td>minutes_등록일2014.09.30.pdf</td>\n",
       "      <td>http://bok.or.kr/portal/cmmn/file/fileDown.do?...</td>\n",
       "    </tr>\n",
       "    <tr>\n",
       "      <th>192</th>\n",
       "      <td>금융통화위원회 의사록(2014년도 제15차)(2014.8.14.)</td>\n",
       "      <td>2014.09.02</td>\n",
       "      <td>minutes_등록일2014.09.02.pdf</td>\n",
       "      <td>http://bok.or.kr/portal/cmmn/file/fileDown.do?...</td>\n",
       "    </tr>\n",
       "    <tr>\n",
       "      <th>193</th>\n",
       "      <td>금융통화위원회 의사록(2014년도 제14차)(2014.7.24.)</td>\n",
       "      <td>2014.08.12</td>\n",
       "      <td>minutes_등록일2014.08.12.pdf</td>\n",
       "      <td>http://bok.or.kr/portal/cmmn/file/fileDown.do?...</td>\n",
       "    </tr>\n",
       "    <tr>\n",
       "      <th>194</th>\n",
       "      <td>금융통화위원회 의사록(2014년도 제13차)(2014.7.10.)</td>\n",
       "      <td>2014.07.29</td>\n",
       "      <td>minutes_등록일2014.07.29.pdf</td>\n",
       "      <td>http://bok.or.kr/portal/cmmn/file/fileDown.do?...</td>\n",
       "    </tr>\n",
       "    <tr>\n",
       "      <th>195</th>\n",
       "      <td>금융통화위원회 의사록(2014년도 제11차)(2014.6.12.)</td>\n",
       "      <td>2014.07.01</td>\n",
       "      <td>minutes_등록일2014.07.01.pdf</td>\n",
       "      <td>http://bok.or.kr/portal/cmmn/file/fileDown.do?...</td>\n",
       "    </tr>\n",
       "    <tr>\n",
       "      <th>196</th>\n",
       "      <td>금융통화위원회 의사록(2014년도 제9차)(2014.5.9.)</td>\n",
       "      <td>2014.05.27</td>\n",
       "      <td>minutes_등록일2014.05.27.pdf</td>\n",
       "      <td>http://bok.or.kr/portal/cmmn/file/fileDown.do?...</td>\n",
       "    </tr>\n",
       "    <tr>\n",
       "      <th>197</th>\n",
       "      <td>금융통화위원회 의사록(2014년도 제8차)(2014.4.24.)</td>\n",
       "      <td>2014.05.13</td>\n",
       "      <td>minutes_등록일2014.05.13.pdf</td>\n",
       "      <td>http://bok.or.kr/portal/cmmn/file/fileDown.do?...</td>\n",
       "    </tr>\n",
       "    <tr>\n",
       "      <th>198</th>\n",
       "      <td>금융통화위원회 의사록(2014년도 제7차)(2014.4.10.)</td>\n",
       "      <td>2014.04.29</td>\n",
       "      <td>minutes_등록일2014.04.29.pdf</td>\n",
       "      <td>http://bok.or.kr/portal/cmmn/file/fileDown.do?...</td>\n",
       "    </tr>\n",
       "    <tr>\n",
       "      <th>199</th>\n",
       "      <td>금융통화위원회 의사록(2014년도 제6차)(2014.3.27.)</td>\n",
       "      <td>2014.04.15</td>\n",
       "      <td>minutes_등록일2014.04.15.pdf</td>\n",
       "      <td>http://bok.or.kr/portal/cmmn/file/fileDown.do?...</td>\n",
       "    </tr>\n",
       "    <tr>\n",
       "      <th>200</th>\n",
       "      <td>금융통화위원회 의사록(2014년도 제5차)(2014.3.13.)</td>\n",
       "      <td>2014.04.01</td>\n",
       "      <td>minutes_등록일2014.04.01.pdf</td>\n",
       "      <td>http://bok.or.kr/portal/cmmn/file/fileDown.do?...</td>\n",
       "    </tr>\n",
       "    <tr>\n",
       "      <th>201</th>\n",
       "      <td>금융통화위원회 의사록(2014년도 제3차)(2014.2.13.)</td>\n",
       "      <td>2014.03.04</td>\n",
       "      <td>minutes_등록일2014.03.04.pdf</td>\n",
       "      <td>http://bok.or.kr/portal/cmmn/file/fileDown.do?...</td>\n",
       "    </tr>\n",
       "    <tr>\n",
       "      <th>202</th>\n",
       "      <td>금융통화위원회 의사록(2014년도 제1차)(2014.1.9)</td>\n",
       "      <td>2014.01.28</td>\n",
       "      <td>minutes_등록일2014.01.28.pdf</td>\n",
       "      <td>http://bok.or.kr/portal/cmmn/file/fileDown.do?...</td>\n",
       "    </tr>\n",
       "    <tr>\n",
       "      <th>203</th>\n",
       "      <td>금융통화위원회 의사록(2013년도 제24차)(2013.12.26.)</td>\n",
       "      <td>2014.01.14</td>\n",
       "      <td>minutes_등록일2014.01.14.pdf</td>\n",
       "      <td>http://bok.or.kr/portal/cmmn/file/fileDown.do?...</td>\n",
       "    </tr>\n",
       "    <tr>\n",
       "      <th>204</th>\n",
       "      <td>금융통화위원회 의사록(2013년도 제23차)(2013.12.12.)</td>\n",
       "      <td>2013.12.31</td>\n",
       "      <td>minutes_등록일2013.12.31.pdf</td>\n",
       "      <td>http://bok.or.kr/portal/cmmn/file/fileDown.do?...</td>\n",
       "    </tr>\n",
       "    <tr>\n",
       "      <th>205</th>\n",
       "      <td>금융통화위원회 의사록(2013년도 제21차)(2013.11.14)</td>\n",
       "      <td>2013.12.03</td>\n",
       "      <td>minutes_등록일2013.12.03.pdf</td>\n",
       "      <td>http://bok.or.kr/portal/cmmn/file/fileDown.do?...</td>\n",
       "    </tr>\n",
       "    <tr>\n",
       "      <th>206</th>\n",
       "      <td>금융통화위원회 의사록(2013년도 제20차)(2013.10.24.)</td>\n",
       "      <td>2013.11.12</td>\n",
       "      <td>minutes_등록일2013.11.12.pdf</td>\n",
       "      <td>http://bok.or.kr/portal/cmmn/file/fileDown.do?...</td>\n",
       "    </tr>\n",
       "    <tr>\n",
       "      <th>207</th>\n",
       "      <td>금융통화위원회 의사록(2013년도 제19차)(2013.10.10.)</td>\n",
       "      <td>2013.10.29</td>\n",
       "      <td>minutes_등록일2013.10.29.pdf</td>\n",
       "      <td>http://bok.or.kr/portal/cmmn/file/fileDown.do?...</td>\n",
       "    </tr>\n",
       "    <tr>\n",
       "      <th>208</th>\n",
       "      <td>금융통화위원회 의사록(2013년도 제18차)(2013.9.26.)</td>\n",
       "      <td>2013.10.15</td>\n",
       "      <td>minutes_등록일2013.10.15.pdf</td>\n",
       "      <td>http://bok.or.kr/portal/cmmn/file/fileDown.do?...</td>\n",
       "    </tr>\n",
       "    <tr>\n",
       "      <th>209</th>\n",
       "      <td>금융통화위원회 의사록(2013년도 제17차)(2013.9.12)</td>\n",
       "      <td>2013.10.01</td>\n",
       "      <td>minutes_등록일2013.10.01.pdf</td>\n",
       "      <td>http://bok.or.kr/portal/cmmn/file/fileDown.do?...</td>\n",
       "    </tr>\n",
       "    <tr>\n",
       "      <th>210</th>\n",
       "      <td>금융통화위원회 의사록(2013년도 제15차)(2013.8.8)</td>\n",
       "      <td>2013.08.27</td>\n",
       "      <td>minutes_등록일2013.08.27.pdf</td>\n",
       "      <td>http://bok.or.kr/portal/cmmn/file/fileDown.do?...</td>\n",
       "    </tr>\n",
       "    <tr>\n",
       "      <th>211</th>\n",
       "      <td>금융통화위원회 의사록(2013년도 제14차)(2013.7.25)</td>\n",
       "      <td>2013.08.13</td>\n",
       "      <td>minutes_등록일2013.08.13.pdf</td>\n",
       "      <td>http://bok.or.kr/portal/cmmn/file/fileDown.do?...</td>\n",
       "    </tr>\n",
       "    <tr>\n",
       "      <th>212</th>\n",
       "      <td>금융통화위원회 의사록(2013년도 제13차)(2013.7.11)</td>\n",
       "      <td>2013.07.30</td>\n",
       "      <td>minutes_등록일2013.07.30.pdf</td>\n",
       "      <td>http://bok.or.kr/portal/cmmn/file/fileDown.do?...</td>\n",
       "    </tr>\n",
       "    <tr>\n",
       "      <th>213</th>\n",
       "      <td>금융통화위원회 의사록(2013년도 제12차)(2013.6.27)</td>\n",
       "      <td>2013.07.16</td>\n",
       "      <td>minutes_등록일2013.07.16.pdf</td>\n",
       "      <td>http://bok.or.kr/portal/cmmn/file/fileDown.do?...</td>\n",
       "    </tr>\n",
       "    <tr>\n",
       "      <th>214</th>\n",
       "      <td>금융통화위원회 의사록(2013년도 제11차)(2013.6.13)</td>\n",
       "      <td>2013.07.02</td>\n",
       "      <td>minutes_등록일2013.07.02.pdf</td>\n",
       "      <td>http://bok.or.kr/portal/cmmn/file/fileDown.do?...</td>\n",
       "    </tr>\n",
       "    <tr>\n",
       "      <th>215</th>\n",
       "      <td>금융통화위원회 의사록(2013년도 제9차)(2013.5.9)</td>\n",
       "      <td>2013.05.28</td>\n",
       "      <td>minutes_등록일2013.05.28.pdf</td>\n",
       "      <td>http://bok.or.kr/portal/cmmn/file/fileDown.do?...</td>\n",
       "    </tr>\n",
       "    <tr>\n",
       "      <th>216</th>\n",
       "      <td>금융통화위원회 의사록(2013년도 제8차)(2013.4.25)</td>\n",
       "      <td>2013.05.14</td>\n",
       "      <td>minutes_등록일2013.05.14.pdf</td>\n",
       "      <td>http://bok.or.kr/portal/cmmn/file/fileDown.do?...</td>\n",
       "    </tr>\n",
       "    <tr>\n",
       "      <th>217</th>\n",
       "      <td>금융통화위원회 의사록(2013년도 제7차)(2013.4.11)</td>\n",
       "      <td>2013.04.30</td>\n",
       "      <td>minutes_등록일2013.04.30.pdf</td>\n",
       "      <td>http://bok.or.kr/portal/cmmn/file/fileDown.do?...</td>\n",
       "    </tr>\n",
       "    <tr>\n",
       "      <th>218</th>\n",
       "      <td>금융통화위원회 의사록(2013년도 제6차)(2013.3.28)</td>\n",
       "      <td>2013.04.16</td>\n",
       "      <td>minutes_등록일2013.04.16.pdf</td>\n",
       "      <td>http://bok.or.kr/portal/cmmn/file/fileDown.do?...</td>\n",
       "    </tr>\n",
       "    <tr>\n",
       "      <th>219</th>\n",
       "      <td>금융통화위원회 의사록(2013년도 제5차)(2013.3.14)</td>\n",
       "      <td>2013.04.02</td>\n",
       "      <td>minutes_등록일2013.04.02.pdf</td>\n",
       "      <td>http://bok.or.kr/portal/cmmn/file/fileDown.do?...</td>\n",
       "    </tr>\n",
       "    <tr>\n",
       "      <th>220</th>\n",
       "      <td>금융통화위원회 의사록(2013년도 제4차)(2013.2.28)</td>\n",
       "      <td>2013.03.19</td>\n",
       "      <td>minutes_등록일2013.03.19.pdf</td>\n",
       "      <td>http://bok.or.kr/portal/cmmn/file/fileDown.do?...</td>\n",
       "    </tr>\n",
       "    <tr>\n",
       "      <th>221</th>\n",
       "      <td>금융통화위원회 의사록(2013년도 제3차)(2013.2.14)</td>\n",
       "      <td>2013.03.05</td>\n",
       "      <td>minutes_등록일2013.03.05.pdf</td>\n",
       "      <td>http://bok.or.kr/portal/cmmn/file/fileDown.do?...</td>\n",
       "    </tr>\n",
       "    <tr>\n",
       "      <th>222</th>\n",
       "      <td>금융통화위원회 의사록(2013년도 제1차)(2013.1.11)</td>\n",
       "      <td>2013.01.29</td>\n",
       "      <td>minutes_등록일2013.01.29.pdf</td>\n",
       "      <td>http://bok.or.kr/portal/cmmn/file/fileDown.do?...</td>\n",
       "    </tr>\n",
       "    <tr>\n",
       "      <th>223</th>\n",
       "      <td>금융통화위원회 의사록(2012년도 제25차)(2012.12.27)</td>\n",
       "      <td>2013.01.15</td>\n",
       "      <td>minutes_등록일2013.01.15.pdf</td>\n",
       "      <td>http://bok.or.kr/portal/cmmn/file/fileDown.do?...</td>\n",
       "    </tr>\n",
       "    <tr>\n",
       "      <th>224</th>\n",
       "      <td>금융통화위원회 의사록(2012년도 제23차)(2012.12.13)</td>\n",
       "      <td>2013.01.02</td>\n",
       "      <td>minutes_등록일2013.01.02.pdf</td>\n",
       "      <td>http://bok.or.kr/portal/cmmn/file/fileDown.do?...</td>\n",
       "    </tr>\n",
       "    <tr>\n",
       "      <th>225</th>\n",
       "      <td>금융통화위원회 의사록(2012년도 제21차)(2012.11.9)</td>\n",
       "      <td>2012.11.27</td>\n",
       "      <td>minutes_등록일2012.11.27.pdf</td>\n",
       "      <td>http://bok.or.kr/portal/cmmn/file/fileDown.do?...</td>\n",
       "    </tr>\n",
       "    <tr>\n",
       "      <th>226</th>\n",
       "      <td>금융통화위원회 의사록(2012년도 제20차)(2012.10.25)</td>\n",
       "      <td>2012.11.13</td>\n",
       "      <td>minutes_등록일2012.11.13.pdf</td>\n",
       "      <td>http://bok.or.kr/portal/cmmn/file/fileDown.do?...</td>\n",
       "    </tr>\n",
       "    <tr>\n",
       "      <th>227</th>\n",
       "      <td>금융통화위원회 의사록(2012년도 제19차)(2012.10.11)</td>\n",
       "      <td>2012.10.30</td>\n",
       "      <td>minutes_등록일2012.10.30.pdf</td>\n",
       "      <td>http://bok.or.kr/portal/cmmn/file/fileDown.do?...</td>\n",
       "    </tr>\n",
       "    <tr>\n",
       "      <th>228</th>\n",
       "      <td>금융통화위원회 의사록(2012년도 제18차)(2012.9.27)</td>\n",
       "      <td>2012.10.16</td>\n",
       "      <td>minutes_등록일2012.10.16.pdf</td>\n",
       "      <td>http://bok.or.kr/portal/cmmn/file/fileDown.do?...</td>\n",
       "    </tr>\n",
       "    <tr>\n",
       "      <th>229</th>\n",
       "      <td>금융통화위원회 의사록(2012년도 제17차)(2012.9.13.)</td>\n",
       "      <td>2012.10.02</td>\n",
       "      <td>minutes_등록일2012.10.02.pdf</td>\n",
       "      <td>http://bok.or.kr/portal/cmmn/file/fileDown.do?...</td>\n",
       "    </tr>\n",
       "    <tr>\n",
       "      <th>230</th>\n",
       "      <td>금융통화위원회 의사록(2012년도 제15차)(2012.8.9)</td>\n",
       "      <td>2012.09.18</td>\n",
       "      <td>minutes_등록일2012.09.18.pdf</td>\n",
       "      <td>http://bok.or.kr/portal/cmmn/file/fileDown.do?...</td>\n",
       "    </tr>\n",
       "    <tr>\n",
       "      <th>231</th>\n",
       "      <td>금융통화위원회 의사록(2012년도 제14차)(2012.7.26)</td>\n",
       "      <td>2012.09.11</td>\n",
       "      <td>minutes_등록일2012.09.11.pdf</td>\n",
       "      <td>http://bok.or.kr/portal/cmmn/file/fileDown.do?...</td>\n",
       "    </tr>\n",
       "    <tr>\n",
       "      <th>232</th>\n",
       "      <td>금융통화위원회 의사록(2012년도 제13차)(2012.7.12)</td>\n",
       "      <td>2012.08.28</td>\n",
       "      <td>minutes_등록일2012.08.28.pdf</td>\n",
       "      <td>http://bok.or.kr/portal/cmmn/file/fileDown.do?...</td>\n",
       "    </tr>\n",
       "    <tr>\n",
       "      <th>233</th>\n",
       "      <td>금융통화위원회 의사록(2012년도 제12차)(2012.6.21)</td>\n",
       "      <td>2012.08.07</td>\n",
       "      <td>minutes_등록일2012.08.07.pdf</td>\n",
       "      <td>http://bok.or.kr/portal/cmmn/file/fileDown.do?...</td>\n",
       "    </tr>\n",
       "    <tr>\n",
       "      <th>234</th>\n",
       "      <td>금융통화위원회 의사록(2012년도 제11차)(2012.6.8)</td>\n",
       "      <td>2012.07.24</td>\n",
       "      <td>minutes_등록일2012.07.24.pdf</td>\n",
       "      <td>http://bok.or.kr/portal/cmmn/file/fileDown.do?...</td>\n",
       "    </tr>\n",
       "    <tr>\n",
       "      <th>235</th>\n",
       "      <td>금융통화위원회 의사록(2012년도 제9차)(2012.5.10)</td>\n",
       "      <td>2012.06.26</td>\n",
       "      <td>minutes_등록일2012.06.26.pdf</td>\n",
       "      <td>http://bok.or.kr/portal/cmmn/file/fileDown.do?...</td>\n",
       "    </tr>\n",
       "    <tr>\n",
       "      <th>236</th>\n",
       "      <td>금융통화위원회 의사록(2012년도 제7차)(2012.4.13)</td>\n",
       "      <td>2012.05.29</td>\n",
       "      <td>minutes_등록일2012.05.29.pdf</td>\n",
       "      <td>http://bok.or.kr/portal/cmmn/file/fileDown.do?...</td>\n",
       "    </tr>\n",
       "    <tr>\n",
       "      <th>237</th>\n",
       "      <td>금융통화위원회 의사록(2012년도 제6차)(2012.3.22)</td>\n",
       "      <td>2012.05.08</td>\n",
       "      <td>minutes_등록일2012.05.08.pdf</td>\n",
       "      <td>http://bok.or.kr/portal/cmmn/file/fileDown.do?...</td>\n",
       "    </tr>\n",
       "    <tr>\n",
       "      <th>238</th>\n",
       "      <td>금융통화위원회 의사록(2012년도 제5차)(2012.3.8)</td>\n",
       "      <td>2012.04.24</td>\n",
       "      <td>minutes_등록일2012.04.24.pdf</td>\n",
       "      <td>http://bok.or.kr/portal/cmmn/file/fileDown.do?...</td>\n",
       "    </tr>\n",
       "    <tr>\n",
       "      <th>239</th>\n",
       "      <td>금융통화위원회 의사록(2012년도 제3차)(2012.2.9)</td>\n",
       "      <td>2012.03.27</td>\n",
       "      <td>minutes_등록일2012.03.27.pdf</td>\n",
       "      <td>http://bok.or.kr/portal/cmmn/file/fileDown.do?...</td>\n",
       "    </tr>\n",
       "    <tr>\n",
       "      <th>240</th>\n",
       "      <td>금융통화위원회 의사록(2012년도 제2차)(2012.1.26)</td>\n",
       "      <td>2012.03.13</td>\n",
       "      <td>minutes_등록일2012.03.13.pdf</td>\n",
       "      <td>http://bok.or.kr/portal/cmmn/file/fileDown.do?...</td>\n",
       "    </tr>\n",
       "    <tr>\n",
       "      <th>241</th>\n",
       "      <td>금융통화위원회 의사록(2012년도 제1차)(2012.1.13)</td>\n",
       "      <td>2012.02.28</td>\n",
       "      <td>minutes_등록일2012.02.28.pdf</td>\n",
       "      <td>http://bok.or.kr/portal/cmmn/file/fileDown.do?...</td>\n",
       "    </tr>\n",
       "    <tr>\n",
       "      <th>242</th>\n",
       "      <td>금융통화위원회 의사록(2011년도 제30차)(2011.12.29)</td>\n",
       "      <td>2012.02.14</td>\n",
       "      <td>minutes_등록일2012.02.14.pdf</td>\n",
       "      <td>http://bok.or.kr/portal/cmmn/file/fileDown.do?...</td>\n",
       "    </tr>\n",
       "    <tr>\n",
       "      <th>243</th>\n",
       "      <td>금융통화위원회 의사록(2011년도 제29차)(2011.12.22)</td>\n",
       "      <td>2012.02.07</td>\n",
       "      <td>minutes_등록일2012.02.07.pdf</td>\n",
       "      <td>http://bok.or.kr/portal/cmmn/file/fileDown.do?...</td>\n",
       "    </tr>\n",
       "    <tr>\n",
       "      <th>244</th>\n",
       "      <td>금융통화위원회 의사록(2011년도 제28차)(2011.12.16)</td>\n",
       "      <td>2012.01.31</td>\n",
       "      <td>minutes_등록일2012.01.31.pdf</td>\n",
       "      <td>http://bok.or.kr/portal/cmmn/file/fileDown.do?...</td>\n",
       "    </tr>\n",
       "    <tr>\n",
       "      <th>245</th>\n",
       "      <td>금융통화위원회 의사록(2011년도 제27차)(2011.12.8)</td>\n",
       "      <td>2012.01.25</td>\n",
       "      <td>minutes_등록일2012.01.25.pdf</td>\n",
       "      <td>http://bok.or.kr/portal/cmmn/file/fileDown.do?...</td>\n",
       "    </tr>\n",
       "    <tr>\n",
       "      <th>246</th>\n",
       "      <td>금융통화위원회 의사록(2011년도 제26차)(2011.11.24)</td>\n",
       "      <td>2012.01.13</td>\n",
       "      <td>minutes_등록일2012.01.13.pdf</td>\n",
       "      <td>http://bok.or.kr/portal/cmmn/file/fileDown.do?...</td>\n",
       "    </tr>\n",
       "    <tr>\n",
       "      <th>247</th>\n",
       "      <td>금융통화위원회 의사록(2011년도 제25차)(2011.11.11)</td>\n",
       "      <td>2011.12.27</td>\n",
       "      <td>minutes_등록일2011.12.27.pdf</td>\n",
       "      <td>http://bok.or.kr/portal/cmmn/file/fileDown.do?...</td>\n",
       "    </tr>\n",
       "    <tr>\n",
       "      <th>248</th>\n",
       "      <td>금융통화위원회 의사록(2011년도 제23차)(2011.10.13)</td>\n",
       "      <td>2011.11.29</td>\n",
       "      <td>minutes_등록일2011.11.29.pdf</td>\n",
       "      <td>http://bok.or.kr/portal/cmmn/file/fileDown.do?...</td>\n",
       "    </tr>\n",
       "    <tr>\n",
       "      <th>249</th>\n",
       "      <td>금융통화위원회 의사록(2011년도 제22차)(2011.9.22)</td>\n",
       "      <td>2011.11.08</td>\n",
       "      <td>minutes_등록일2011.11.08.pdf</td>\n",
       "      <td>http://bok.or.kr/portal/cmmn/file/fileDown.do?...</td>\n",
       "    </tr>\n",
       "    <tr>\n",
       "      <th>250</th>\n",
       "      <td>금융통화위원회 의사록(2011년도 제21차)(2011.9.8)</td>\n",
       "      <td>2011.10.25</td>\n",
       "      <td>minutes_등록일2011.10.25.pdf</td>\n",
       "      <td>http://bok.or.kr/portal/cmmn/file/fileDown.do?...</td>\n",
       "    </tr>\n",
       "    <tr>\n",
       "      <th>251</th>\n",
       "      <td>금융통화위원회 의사록(2011년도 제19차)(2011.8.11)</td>\n",
       "      <td>2011.09.27</td>\n",
       "      <td>minutes_등록일2011.09.27.pdf</td>\n",
       "      <td>http://bok.or.kr/portal/cmmn/file/fileDown.do?...</td>\n",
       "    </tr>\n",
       "    <tr>\n",
       "      <th>252</th>\n",
       "      <td>금융통화위원회 의사록(2011년도 제18차)(2011.7.21)</td>\n",
       "      <td>2011.09.06</td>\n",
       "      <td>minutes_등록일2011.09.06.pdf</td>\n",
       "      <td>http://bok.or.kr/portal/cmmn/file/fileDown.do?...</td>\n",
       "    </tr>\n",
       "    <tr>\n",
       "      <th>253</th>\n",
       "      <td>금융통화위원회 의사록(2011년도 제17차)(2011.7.14)</td>\n",
       "      <td>2011.08.30</td>\n",
       "      <td>minutes_등록일2011.08.30.pdf</td>\n",
       "      <td>http://bok.or.kr/portal/cmmn/file/fileDown.do?...</td>\n",
       "    </tr>\n",
       "    <tr>\n",
       "      <th>254</th>\n",
       "      <td>금융통화위원회 의사록(2011년도 제16차)(2011.6.23)</td>\n",
       "      <td>2011.08.09</td>\n",
       "      <td>minutes_등록일2011.08.09.pdf</td>\n",
       "      <td>http://bok.or.kr/portal/cmmn/file/fileDown.do?...</td>\n",
       "    </tr>\n",
       "    <tr>\n",
       "      <th>255</th>\n",
       "      <td>금융통화위원회 의사록(2011년도 제15차)(2011.6.10)</td>\n",
       "      <td>2011.07.26</td>\n",
       "      <td>minutes_등록일2011.07.26.pdf</td>\n",
       "      <td>http://bok.or.kr/portal/cmmn/file/fileDown.do?...</td>\n",
       "    </tr>\n",
       "    <tr>\n",
       "      <th>256</th>\n",
       "      <td>금융통화위원회 의사록(2011년도 제13차)(2011.5.13)</td>\n",
       "      <td>2011.06.28</td>\n",
       "      <td>minutes_등록일2011.06.28.pdf</td>\n",
       "      <td>http://bok.or.kr/portal/cmmn/file/fileDown.do?...</td>\n",
       "    </tr>\n",
       "    <tr>\n",
       "      <th>257</th>\n",
       "      <td>금융통화위원회 의사록(2011년도 제9차)(2011.4.12)</td>\n",
       "      <td>2011.05.31</td>\n",
       "      <td>minutes_등록일2011.05.31.pdf</td>\n",
       "      <td>http://bok.or.kr/portal/cmmn/file/fileDown.do?...</td>\n",
       "    </tr>\n",
       "    <tr>\n",
       "      <th>258</th>\n",
       "      <td>금융통화위원회 의사록(2011년도 제8차)(2011.3.24)</td>\n",
       "      <td>2011.05.11</td>\n",
       "      <td>minutes_등록일2011.05.11.pdf</td>\n",
       "      <td>http://bok.or.kr/portal/cmmn/file/fileDown.do?...</td>\n",
       "    </tr>\n",
       "    <tr>\n",
       "      <th>259</th>\n",
       "      <td>금융통화위원회 의사록(2011년도 제7차)(2011.3.10)</td>\n",
       "      <td>2011.04.26</td>\n",
       "      <td>minutes_등록일2011.04.26.pdf</td>\n",
       "      <td>http://bok.or.kr/portal/cmmn/file/fileDown.do?...</td>\n",
       "    </tr>\n",
       "    <tr>\n",
       "      <th>260</th>\n",
       "      <td>금융통화위원회 의사록(2011년도 제6차)(2011.2.24)</td>\n",
       "      <td>2011.04.12</td>\n",
       "      <td>minutes_등록일2011.04.12.pdf</td>\n",
       "      <td>http://bok.or.kr/portal/cmmn/file/fileDown.do?...</td>\n",
       "    </tr>\n",
       "    <tr>\n",
       "      <th>261</th>\n",
       "      <td>금융통화위원회 의사록(2011년도 제5차)(2011.2.11)</td>\n",
       "      <td>2011.03.29</td>\n",
       "      <td>minutes_등록일2011.03.29.pdf</td>\n",
       "      <td>http://bok.or.kr/portal/cmmn/file/fileDown.do?...</td>\n",
       "    </tr>\n",
       "    <tr>\n",
       "      <th>262</th>\n",
       "      <td>금융통화위원회 의사록(2011년도 제3차)(2011.1.20)</td>\n",
       "      <td>2011.03.08</td>\n",
       "      <td>minutes_등록일2011.03.08.pdf</td>\n",
       "      <td>http://bok.or.kr/portal/cmmn/file/fileDown.do?...</td>\n",
       "    </tr>\n",
       "    <tr>\n",
       "      <th>263</th>\n",
       "      <td>금융통화위원회 의사록(2011년도 제2차)(2011.1.13)</td>\n",
       "      <td>2011.03.02</td>\n",
       "      <td>minutes_등록일2011.03.02.pdf</td>\n",
       "      <td>http://bok.or.kr/portal/cmmn/file/fileDown.do?...</td>\n",
       "    </tr>\n",
       "    <tr>\n",
       "      <th>264</th>\n",
       "      <td>금융통화위원회 의사록(2011년도 제1차)(2011.1.6)</td>\n",
       "      <td>2011.02.22</td>\n",
       "      <td>minutes_등록일2011.02.22.pdf</td>\n",
       "      <td>http://bok.or.kr/portal/cmmn/file/fileDown.do?...</td>\n",
       "    </tr>\n",
       "    <tr>\n",
       "      <th>265</th>\n",
       "      <td>금융통화위원회 의사록(2010년도 제25차)(2010.12.23)</td>\n",
       "      <td>2011.02.08</td>\n",
       "      <td>minutes_등록일2011.02.08.pdf</td>\n",
       "      <td>http://bok.or.kr/portal/cmmn/file/fileDown.do?...</td>\n",
       "    </tr>\n",
       "    <tr>\n",
       "      <th>266</th>\n",
       "      <td>금융통화위원회 의사록(2010년도 제24차)(2010.12.9)</td>\n",
       "      <td>2011.01.25</td>\n",
       "      <td>minutes_등록일2011.01.25.pdf</td>\n",
       "      <td>http://bok.or.kr/portal/cmmn/file/fileDown.do?...</td>\n",
       "    </tr>\n",
       "    <tr>\n",
       "      <th>267</th>\n",
       "      <td>금융통화위원회 의사록(2010년도 제22차)(2010.11.16)</td>\n",
       "      <td>2011.01.04</td>\n",
       "      <td>minutes_등록일2011.01.04.pdf</td>\n",
       "      <td>http://bok.or.kr/portal/cmmn/file/fileDown.do?...</td>\n",
       "    </tr>\n",
       "    <tr>\n",
       "      <th>268</th>\n",
       "      <td>금융통화위원회 의사록(2010년도 제20차)(2010.10.14)</td>\n",
       "      <td>2010.11.30</td>\n",
       "      <td>minutes_등록일2010.11.30.pdf</td>\n",
       "      <td>http://bok.or.kr/portal/cmmn/file/fileDown.do?...</td>\n",
       "    </tr>\n",
       "    <tr>\n",
       "      <th>269</th>\n",
       "      <td>금융통화위원회 의사록(2010년도 제19차)(2010.9.24)</td>\n",
       "      <td>2010.11.09</td>\n",
       "      <td>minutes_등록일2010.11.09.pdf</td>\n",
       "      <td>http://bok.or.kr/portal/cmmn/file/fileDown.do?...</td>\n",
       "    </tr>\n",
       "    <tr>\n",
       "      <th>270</th>\n",
       "      <td>금융통화위원회 의사록(2010년도 제18차)(2010.9.9)</td>\n",
       "      <td>2010.10.26</td>\n",
       "      <td>minutes_등록일2010.10.26.pdf</td>\n",
       "      <td>http://bok.or.kr/portal/cmmn/file/fileDown.do?...</td>\n",
       "    </tr>\n",
       "    <tr>\n",
       "      <th>271</th>\n",
       "      <td>금융통화위원회 의사록(2010년도 제17차)(2010.8.31)</td>\n",
       "      <td>2010.10.19</td>\n",
       "      <td>minutes_등록일2010.10.19.pdf</td>\n",
       "      <td>http://bok.or.kr/portal/cmmn/file/fileDown.do?...</td>\n",
       "    </tr>\n",
       "    <tr>\n",
       "      <th>272</th>\n",
       "      <td>금융통화위원회 의사록(2010년도 제16차)(2010.8.12)</td>\n",
       "      <td>2010.09.28</td>\n",
       "      <td>minutes_등록일2010.09.28.pdf</td>\n",
       "      <td>http://bok.or.kr/portal/cmmn/file/fileDown.do?...</td>\n",
       "    </tr>\n",
       "    <tr>\n",
       "      <th>273</th>\n",
       "      <td>금융통화위원회 의사록(2010년도 제15차)(2010.7.29)</td>\n",
       "      <td>2010.09.14</td>\n",
       "      <td>minutes_등록일2010.09.14.pdf</td>\n",
       "      <td>http://bok.or.kr/portal/cmmn/file/fileDown.do?...</td>\n",
       "    </tr>\n",
       "    <tr>\n",
       "      <th>274</th>\n",
       "      <td>금융통화위원회 의사록(2010년도 제14차)(2010.7.9)</td>\n",
       "      <td>2010.08.24</td>\n",
       "      <td>minutes_등록일2010.08.24.pdf</td>\n",
       "      <td>http://bok.or.kr/portal/cmmn/file/fileDown.do?...</td>\n",
       "    </tr>\n",
       "    <tr>\n",
       "      <th>275</th>\n",
       "      <td>금융통화위원회 의사록(2010년도 제13차)(2010.6.24)</td>\n",
       "      <td>2010.08.10</td>\n",
       "      <td>minutes_등록일2010.08.10.pdf</td>\n",
       "      <td>http://bok.or.kr/portal/cmmn/file/fileDown.do?...</td>\n",
       "    </tr>\n",
       "    <tr>\n",
       "      <th>276</th>\n",
       "      <td>금융통화위원회 의사록(2010년도 제12차)(2010.6.10)</td>\n",
       "      <td>2010.07.27</td>\n",
       "      <td>minutes_등록일2010.07.27.pdf</td>\n",
       "      <td>http://bok.or.kr/portal/cmmn/file/fileDown.do?...</td>\n",
       "    </tr>\n",
       "    <tr>\n",
       "      <th>277</th>\n",
       "      <td>금융통화위원회 의사록(2010년도 제10차)(2010.5.12)</td>\n",
       "      <td>2010.06.29</td>\n",
       "      <td>minutes_등록일2010.06.29.pdf</td>\n",
       "      <td>http://bok.or.kr/portal/cmmn/file/fileDown.do?...</td>\n",
       "    </tr>\n",
       "    <tr>\n",
       "      <th>278</th>\n",
       "      <td>금융통화위원회 의사록(2010년도 제9차)(2010.4.22)</td>\n",
       "      <td>2010.06.08</td>\n",
       "      <td>minutes_등록일2010.06.08.pdf</td>\n",
       "      <td>http://bok.or.kr/portal/cmmn/file/fileDown.do?...</td>\n",
       "    </tr>\n",
       "    <tr>\n",
       "      <th>279</th>\n",
       "      <td>금융통화위원회 의사록(2010년도 제8차)(2010.4.9)</td>\n",
       "      <td>2010.05.25</td>\n",
       "      <td>minutes_등록일2010.05.25.pdf</td>\n",
       "      <td>http://bok.or.kr/portal/cmmn/file/fileDown.do?...</td>\n",
       "    </tr>\n",
       "    <tr>\n",
       "      <th>280</th>\n",
       "      <td>금융통화위원회 의사록(2010년도 제7차)(2010.3.25)</td>\n",
       "      <td>2010.05.11</td>\n",
       "      <td>minutes_등록일2010.05.11.pdf</td>\n",
       "      <td>http://bok.or.kr/portal/cmmn/file/fileDown.do?...</td>\n",
       "    </tr>\n",
       "    <tr>\n",
       "      <th>281</th>\n",
       "      <td>금융통화위원회 의사록(2010년도 제6차)(2010.3.11)</td>\n",
       "      <td>2010.04.27</td>\n",
       "      <td>minutes_등록일2010.04.27.pdf</td>\n",
       "      <td>http://bok.or.kr/portal/cmmn/file/fileDown.do?...</td>\n",
       "    </tr>\n",
       "    <tr>\n",
       "      <th>282</th>\n",
       "      <td>금융통화위원회 의사록(2010년도 제4차)(2010.2.11)</td>\n",
       "      <td>2010.03.30</td>\n",
       "      <td>minutes_등록일2010.03.30.pdf</td>\n",
       "      <td>http://bok.or.kr/portal/cmmn/file/fileDown.do?...</td>\n",
       "    </tr>\n",
       "    <tr>\n",
       "      <th>283</th>\n",
       "      <td>금융통화위원회 의사록(2010년도 제3차)(2010.1.21)</td>\n",
       "      <td>2010.03.09</td>\n",
       "      <td>minutes_등록일2010.03.09.pdf</td>\n",
       "      <td>http://bok.or.kr/portal/cmmn/file/fileDown.do?...</td>\n",
       "    </tr>\n",
       "    <tr>\n",
       "      <th>284</th>\n",
       "      <td>금융통화위원회 의사록(2010년도 제1차)(2010.1.7)</td>\n",
       "      <td>2010.02.23</td>\n",
       "      <td>minutes_등록일2010.02.23.pdf</td>\n",
       "      <td>http://bok.or.kr/portal/cmmn/file/fileDown.do?...</td>\n",
       "    </tr>\n",
       "    <tr>\n",
       "      <th>285</th>\n",
       "      <td>금융통화위원회 의사록(2010년도 제2차)(2010.1.8)</td>\n",
       "      <td>2010.02.23</td>\n",
       "      <td>minutes_등록일2010.02.23.pdf</td>\n",
       "      <td>http://bok.or.kr/portal/cmmn/file/fileDown.do?...</td>\n",
       "    </tr>\n",
       "    <tr>\n",
       "      <th>286</th>\n",
       "      <td>금융통화위원회 의사록(2009년도 제27차)(2009.12.24)</td>\n",
       "      <td>2010.02.09</td>\n",
       "      <td>minutes_등록일2010.02.09.pdf</td>\n",
       "      <td>http://bok.or.kr/portal/cmmn/file/fileDown.do?...</td>\n",
       "    </tr>\n",
       "    <tr>\n",
       "      <th>287</th>\n",
       "      <td>금융통화위원회 의사록(2009년도 제26차)(2009.12.10)</td>\n",
       "      <td>2010.01.26</td>\n",
       "      <td>minutes_등록일2010.01.26.pdf</td>\n",
       "      <td>http://bok.or.kr/portal/cmmn/file/fileDown.do?...</td>\n",
       "    </tr>\n",
       "    <tr>\n",
       "      <th>288</th>\n",
       "      <td>금융통화위원회 의사록(2009년도 제25차)(2009.11.26)</td>\n",
       "      <td>2010.01.12</td>\n",
       "      <td>minutes_등록일2010.01.12.pdf</td>\n",
       "      <td>http://bok.or.kr/portal/cmmn/file/fileDown.do?...</td>\n",
       "    </tr>\n",
       "    <tr>\n",
       "      <th>289</th>\n",
       "      <td>금융통화위원회 의사록(2009년도 제24차)(2009.11.12)</td>\n",
       "      <td>2009.12.29</td>\n",
       "      <td>minutes_등록일2009.12.29.pdf</td>\n",
       "      <td>http://bok.or.kr/portal/cmmn/file/fileDown.do?...</td>\n",
       "    </tr>\n",
       "    <tr>\n",
       "      <th>290</th>\n",
       "      <td>금융통화위원회 의사록(2009년도 제22차)(2009.10.9)</td>\n",
       "      <td>2009.11.24</td>\n",
       "      <td>minutes_등록일2009.11.24.pdf</td>\n",
       "      <td>http://bok.or.kr/portal/cmmn/file/fileDown.do?...</td>\n",
       "    </tr>\n",
       "    <tr>\n",
       "      <th>291</th>\n",
       "      <td>금융통화위원회 의사록(2009년도 제21차)(2009.9.24)</td>\n",
       "      <td>2009.11.10</td>\n",
       "      <td>minutes_등록일2009.11.10.pdf</td>\n",
       "      <td>http://bok.or.kr/portal/cmmn/file/fileDown.do?...</td>\n",
       "    </tr>\n",
       "    <tr>\n",
       "      <th>292</th>\n",
       "      <td>금융통화위원회 의사록(2009년도 제20차)(2009.9.10)</td>\n",
       "      <td>2009.10.27</td>\n",
       "      <td>minutes_등록일2009.10.27.pdf</td>\n",
       "      <td>http://bok.or.kr/portal/cmmn/file/fileDown.do?...</td>\n",
       "    </tr>\n",
       "    <tr>\n",
       "      <th>293</th>\n",
       "      <td>금융통화위원회 의사록(2009년도 제18차)(2009.8.11)</td>\n",
       "      <td>2009.09.29</td>\n",
       "      <td>minutes_등록일2009.09.29.pdf</td>\n",
       "      <td>http://bok.or.kr/portal/cmmn/file/fileDown.do?...</td>\n",
       "    </tr>\n",
       "    <tr>\n",
       "      <th>294</th>\n",
       "      <td>금융통화위원회 의사록(2009년도 제17차)(2009.7.23)</td>\n",
       "      <td>2009.09.08</td>\n",
       "      <td>minutes_등록일2009.09.08.pdf</td>\n",
       "      <td>http://bok.or.kr/portal/cmmn/file/fileDown.do?...</td>\n",
       "    </tr>\n",
       "    <tr>\n",
       "      <th>295</th>\n",
       "      <td>금융통화위원회 의사록(2009년도 제16차)(2009.7.9)</td>\n",
       "      <td>2009.08.25</td>\n",
       "      <td>minutes_등록일2009.08.25.pdf</td>\n",
       "      <td>http://bok.or.kr/portal/cmmn/file/fileDown.do?...</td>\n",
       "    </tr>\n",
       "    <tr>\n",
       "      <th>296</th>\n",
       "      <td>금융통화위원회 의사록(2009년도 제15차)(2009.6.25)</td>\n",
       "      <td>2009.08.11</td>\n",
       "      <td>minutes_등록일2009.08.11.pdf</td>\n",
       "      <td>http://bok.or.kr/portal/cmmn/file/fileDown.do?...</td>\n",
       "    </tr>\n",
       "    <tr>\n",
       "      <th>297</th>\n",
       "      <td>금융통화위원회 의사록(2009년도 제14차)(2009.6.11)</td>\n",
       "      <td>2009.07.28</td>\n",
       "      <td>minutes_등록일2009.07.28.pdf</td>\n",
       "      <td>http://bok.or.kr/portal/cmmn/file/fileDown.do?...</td>\n",
       "    </tr>\n",
       "    <tr>\n",
       "      <th>298</th>\n",
       "      <td>금융통화위원회 의사록(2009년도 제13차)(2009.5.21)</td>\n",
       "      <td>2009.07.07</td>\n",
       "      <td>minutes_등록일2009.07.07.pdf</td>\n",
       "      <td>http://bok.or.kr/portal/cmmn/file/fileDown.do?...</td>\n",
       "    </tr>\n",
       "    <tr>\n",
       "      <th>299</th>\n",
       "      <td>금융통화위원회 의사록(2009년도 제12차)(2009.5.12)</td>\n",
       "      <td>2009.06.23</td>\n",
       "      <td>minutes_등록일2009.06.23.pdf</td>\n",
       "      <td>http://bok.or.kr/portal/cmmn/file/fileDown.do?...</td>\n",
       "    </tr>\n",
       "  </tbody>\n",
       "</table>\n",
       "</div>"
      ]
     },
     "execution_count": 13,
     "metadata": {},
     "output_type": "execute_result"
    }
   ],
   "execution_count": 13
  },
  {
   "cell_type": "code",
   "id": "99c620268dcf5035",
   "metadata": {
    "ExecuteTime": {
     "end_time": "2024-06-18T18:05:37.091872Z",
     "start_time": "2024-06-18T18:05:37.048220Z"
    }
   },
   "source": [
    "df.to_csv(\"data/minutes_info.csv\", encoding = \"utf8\")"
   ],
   "outputs": [],
   "execution_count": 14
  }
 ],
 "metadata": {
  "kernelspec": {
   "display_name": "Python 3 (ipykernel)",
   "language": "python",
   "name": "python3"
  },
  "language_info": {
   "codemirror_mode": {
    "name": "ipython",
    "version": 3
   },
   "file_extension": ".py",
   "mimetype": "text/x-python",
   "name": "python",
   "nbconvert_exporter": "python",
   "pygments_lexer": "ipython3",
   "version": "3.11.7"
  }
 },
 "nbformat": 4,
 "nbformat_minor": 5
}
