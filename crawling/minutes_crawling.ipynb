{
 "cells": [
  {
   "cell_type": "code",
   "execution_count": null,
   "id": "initial_id",
   "metadata": {
    "collapsed": true
   },
   "outputs": [],
   "source": [
    "from selenium import webdriver as wb\n",
    "from selenium.webdriver.common.by import By\n",
    "import requests as req\n",
    "from tqdm import tqdm\n",
    "import time\n",
    "import ssl\n",
    "import os"
   ]
  },
  {
   "metadata": {},
   "cell_type": "code",
   "outputs": [],
   "execution_count": null,
   "source": [
    "file_list = []\n",
    "cnt = 1\n",
    "context = ssl._create_unverified_context()\n",
    "U_A = {\"User-Agent\":\"Mozilla/5.0 (Windows NT 10.0; Win64; x64) AppleWebKit/537.36 (KHTML, like Gecko) Chrome/125.0.0.0 Safari/537.36 Edg/125.0.0.0\"}"
   ],
   "id": "6de4175cc05fc904"
  },
  {
   "metadata": {},
   "cell_type": "code",
   "outputs": [],
   "execution_count": null,
   "source": [
    "driver = wb.Chrome()\n",
    "driver.maximize_window()\n",
    "\n",
    "# 금융통화위원회 의사록 페이지 별 첨부파일 href 수집\n",
    "for i in range(1, 54) :\n",
    "    min_url = f\"https://www.bok.or.kr/portal/bbs/B0000245/list.do?menuNo=200761&pageIndex={i}\"\n",
    "    driver.get(min_url)\n",
    "    time.sleep(1)\n",
    "    files = driver.find_elements(By.CSS_SELECTOR, \"div.col.m2.s2.x3.fileLink ul > li > a\")\n",
    "    for i in range(len(files)) :\n",
    "        file_list.append(files[i].get_attribute(\"href\"))\n",
    "driver.quit()\n",
    "\n",
    "# 수집 된 href 중, 불필요한 요소 제거\n",
    "for i in range(len(file_list)) :\n",
    "    if \"javascript\" in str(file_list[i]) :\n",
    "        del file_list[i]\n",
    "    elif str(file_list[i])[-1] == \"2\" :\n",
    "        del file_list[i]\n",
    "        \n",
    "print(len(file_list))\n",
    "file_list"
   ],
   "id": "4d92866f8b85881b"
  },
  {
   "metadata": {},
   "cell_type": "code",
   "outputs": [],
   "execution_count": null,
   "source": [
    "# file_list 각 파일을 다운로드\n",
    "for i in tqdm(file_list) :\n",
    "    try :\n",
    "        res = req.get(i)\n",
    "        if res.status_code == 200 :\n",
    "            # # Content-Type 헤더 확인\n",
    "            content_type = res.headers.get(\"Content-Type\")\n",
    "            print(content_type)\n",
    "            \n",
    "            # 확장자 분기 처리\n",
    "            if content_type == \"application/pdf\" :\n",
    "                file_extension = \".pdf\"\n",
    "            elif content_type == \"application/x-hwp\" :\n",
    "                file_extension = \".hwp\"\n",
    "            else :\n",
    "                file_extension = \".txt\"\n",
    "            file_name = f\"minutes_{cnt}+{file_extension}\"\n",
    "            \n",
    "            # 파일 경로 설정\n",
    "            file_path = os.path.join('data', file_name)\n",
    "            # 디렉토리 없을 경우 생성\n",
    "            if not os.path.isdir(\"data\") :\n",
    "                os.mkdir(\"data\")\n",
    "                \n",
    "            # 파일명 카운트 증가\n",
    "            cnt += 1\n",
    "            \n",
    "            # 파일 열기, 쓰기\n",
    "            open(file_path, \"wb\").write(res.content)\n",
    "            print(\"Saved😇\")\n",
    "            # 슬립\n",
    "            time.sleep(5)\n",
    "    except Exception as e :\n",
    "        print(\"Error! : \", e)\n",
    "        continue"
   ],
   "id": "241a2a2568a258da"
  }
 ],
 "metadata": {
  "kernelspec": {
   "display_name": "Python 3",
   "language": "python",
   "name": "python3"
  },
  "language_info": {
   "codemirror_mode": {
    "name": "ipython",
    "version": 2
   },
   "file_extension": ".py",
   "mimetype": "text/x-python",
   "name": "python",
   "nbconvert_exporter": "python",
   "pygments_lexer": "ipython2",
   "version": "2.7.6"
  }
 },
 "nbformat": 4,
 "nbformat_minor": 5
}
