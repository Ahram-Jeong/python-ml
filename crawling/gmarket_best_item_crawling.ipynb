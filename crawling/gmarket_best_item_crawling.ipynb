{
 "cells": [
  {
   "metadata": {},
   "cell_type": "markdown",
   "source": [
    "### 베스트 아이템 페이지 전체의 상품명, 가격, 카테고리 크롤링\n",
    "1. 베스트 아이템 페이지에서 각 물품의 상세 페이지 클릭\n",
    "2. 콘텐츠 수집\n",
    "3. 뒤로가기\n",
    "#### 1-2-3 반복"
   ],
   "id": "4e886c6fe9d08cf2"
  },
  {
   "cell_type": "code",
   "id": "initial_id",
   "metadata": {
    "collapsed": true,
    "ExecuteTime": {
     "end_time": "2024-05-29T13:39:53.356692Z",
     "start_time": "2024-05-29T13:39:52.307577Z"
    }
   },
   "source": [
    "from selenium import webdriver as wb # selenium의 webdriver를 사용하기 위한 모듈 (브라우저 할당)\n",
    "from selenium.webdriver.common.by import By # webdriver 라이브러리에서 웹 요소를 찾기 위한 방법들을 제공하는 모듈\n",
    "from tqdm import tqdm\n",
    "import pandas as pd\n",
    "# import time # 페이지 로딩을 기다리는 데에 사용하는 모듈"
   ],
   "outputs": [],
   "execution_count": 1
  },
  {
   "metadata": {
    "ExecuteTime": {
     "end_time": "2024-05-29T13:55:50.787099Z",
     "start_time": "2024-05-29T13:40:05.685966Z"
    }
   },
   "cell_type": "code",
   "source": [
    "driver = wb.Chrome()\n",
    "driver.get(\"https://www.gmarket.co.kr/n/best\")\n",
    "driver.maximize_window()\n",
    "\n",
    "# 전체 상품 리스트\n",
    "items = []\n",
    "# 상품 카테고리\n",
    "categories = []\n",
    "# 상품 명\n",
    "names = []\n",
    "# 가격\n",
    "prices = []\n",
    "\n",
    "# 전체 상품 리스트의 길이를 출력하기 위한 호출\n",
    "items = driver.find_elements(By.CSS_SELECTOR, \"a.itemname\")\n",
    "\n",
    "for i in tqdm(range(len(items))) :\n",
    "    try :\n",
    "        # 페이지 리로드 시 items 리스트를 다시 가져와야 함!\n",
    "        # 페이지가 새로 고쳐지면서 이전에 참조했던 요소들이 유효하지 않게 되기 때문\n",
    "        # Selenium이 특정 요소를 참조할 때, 그 요소는 현재 DOM 구조 내에서의 위치를 기반\n",
    "        # 요소의 참조는 페이지 로딩 시점의 상태를 기반으로 하므로, DOM이 변경되면 그 참조는 더 이상 유효하지 않음\n",
    "        items = driver.find_elements(By.CSS_SELECTOR, \"a.itemname\")\n",
    "        items[i].click()\n",
    "        # time.sleep(1) # 슬립\n",
    "        \n",
    "        category = driver.find_element(By.CSS_SELECTOR, \"li.on > a\")\n",
    "        name = driver.find_element(By.CSS_SELECTOR, \"h1.itemtit\")\n",
    "        price = driver.find_element(By.CSS_SELECTOR, \"strong.price_real\")\n",
    "        \n",
    "        categories.append(category.text)\n",
    "        names.append(name.text)\n",
    "        prices.append(price.text)\n",
    "        \n",
    "        driver.back()\n",
    "        # time.sleep(1) # 슬립\n",
    "    except Exception as e :\n",
    "        print(\"오류 발생 : \", e)\n",
    "        continue\n",
    "driver.quit()\n",
    "\n",
    "print(\"크롤링 완료😇\")\n",
    "print(len(categories))\n",
    "print(len(names))\n",
    "print(len(prices))\n",
    "\n",
    "gmarket_dic = {\"카테고리\" : categories, \"상품명\" : names, \"가격\" : prices}\n",
    "df = pd.DataFrame(gmarket_dic, index = range(1, len(names)+1))\n",
    "df.index.name = \"순위\"\n",
    "df"
   ],
   "id": "92bb319d1d3b335b",
   "outputs": [
    {
     "name": "stderr",
     "output_type": "stream",
     "text": [
      "100%|██████████| 200/200 [15:34<00:00,  4.67s/it]\n"
     ]
    },
    {
     "name": "stdout",
     "output_type": "stream",
     "text": [
      "크롤링 완료😇\n",
      "200\n",
      "200\n",
      "200\n"
     ]
    },
    {
     "data": {
      "text/plain": [
       "         카테고리                                                상품명        가격\n",
       "순위                                                                        \n",
       "1     메이크업베이스                            (유투브 대란핫템) 에뛰드 님프광채 볼류머   17,000원\n",
       "2        라면/면  오늘만 14430원)신라면 5봉 + 너구리 5봉 + 짜파게티 5봉 + 오징어짬뽕 5...   22,200원\n",
       "3    탄산/기능성음료                    펩시제로 210ml 30캔 +사이다제로 210ml 30캔   25,900원\n",
       "4      캐주얼원피스  (무료반품/시크세일15%+10%쿠폰)페이지플린 여름신상 베스트아이템 원피스/블라우스...   19,900원\n",
       "5     냉동/즉석식품                                  햇반 210g 36개 (1박스)   32,730원\n",
       "..        ...                                                ...       ...\n",
       "196     남아상하복                 (롯데백화점)알로봇 쿨 반팔 셋업 5종 택1 133E9-640   28,760원\n",
       "197     기타영양제                  다이어트 유산균 비에날씬 450mg x 60캡슐 1개입_MZ   54,340원\n",
       "198    스포츠캡모자  나이키 모자 헤리티지86 퓨추라 레거시91 드라이핏 스우시 볼캡 5종 남성여성 스포...   14,100원\n",
       "199        경주                          특1급 |숙박세일|힐튼 경주(경북 호텔/경주)  147,000원\n",
       "200   기타과자/간식                                   옛날과자 6종 120gx12봉   11,990원\n",
       "\n",
       "[200 rows x 3 columns]"
      ],
      "text/html": [
       "<div>\n",
       "<style scoped>\n",
       "    .dataframe tbody tr th:only-of-type {\n",
       "        vertical-align: middle;\n",
       "    }\n",
       "\n",
       "    .dataframe tbody tr th {\n",
       "        vertical-align: top;\n",
       "    }\n",
       "\n",
       "    .dataframe thead th {\n",
       "        text-align: right;\n",
       "    }\n",
       "</style>\n",
       "<table border=\"1\" class=\"dataframe\">\n",
       "  <thead>\n",
       "    <tr style=\"text-align: right;\">\n",
       "      <th></th>\n",
       "      <th>카테고리</th>\n",
       "      <th>상품명</th>\n",
       "      <th>가격</th>\n",
       "    </tr>\n",
       "    <tr>\n",
       "      <th>순위</th>\n",
       "      <th></th>\n",
       "      <th></th>\n",
       "      <th></th>\n",
       "    </tr>\n",
       "  </thead>\n",
       "  <tbody>\n",
       "    <tr>\n",
       "      <th>1</th>\n",
       "      <td>메이크업베이스</td>\n",
       "      <td>(유투브 대란핫템) 에뛰드 님프광채 볼류머</td>\n",
       "      <td>17,000원</td>\n",
       "    </tr>\n",
       "    <tr>\n",
       "      <th>2</th>\n",
       "      <td>라면/면</td>\n",
       "      <td>오늘만 14430원)신라면 5봉 + 너구리 5봉 + 짜파게티 5봉 + 오징어짬뽕 5...</td>\n",
       "      <td>22,200원</td>\n",
       "    </tr>\n",
       "    <tr>\n",
       "      <th>3</th>\n",
       "      <td>탄산/기능성음료</td>\n",
       "      <td>펩시제로 210ml 30캔 +사이다제로 210ml 30캔</td>\n",
       "      <td>25,900원</td>\n",
       "    </tr>\n",
       "    <tr>\n",
       "      <th>4</th>\n",
       "      <td>캐주얼원피스</td>\n",
       "      <td>(무료반품/시크세일15%+10%쿠폰)페이지플린 여름신상 베스트아이템 원피스/블라우스...</td>\n",
       "      <td>19,900원</td>\n",
       "    </tr>\n",
       "    <tr>\n",
       "      <th>5</th>\n",
       "      <td>냉동/즉석식품</td>\n",
       "      <td>햇반 210g 36개 (1박스)</td>\n",
       "      <td>32,730원</td>\n",
       "    </tr>\n",
       "    <tr>\n",
       "      <th>...</th>\n",
       "      <td>...</td>\n",
       "      <td>...</td>\n",
       "      <td>...</td>\n",
       "    </tr>\n",
       "    <tr>\n",
       "      <th>196</th>\n",
       "      <td>남아상하복</td>\n",
       "      <td>(롯데백화점)알로봇 쿨 반팔 셋업 5종 택1 133E9-640</td>\n",
       "      <td>28,760원</td>\n",
       "    </tr>\n",
       "    <tr>\n",
       "      <th>197</th>\n",
       "      <td>기타영양제</td>\n",
       "      <td>다이어트 유산균 비에날씬 450mg x 60캡슐 1개입_MZ</td>\n",
       "      <td>54,340원</td>\n",
       "    </tr>\n",
       "    <tr>\n",
       "      <th>198</th>\n",
       "      <td>스포츠캡모자</td>\n",
       "      <td>나이키 모자 헤리티지86 퓨추라 레거시91 드라이핏 스우시 볼캡 5종 남성여성 스포...</td>\n",
       "      <td>14,100원</td>\n",
       "    </tr>\n",
       "    <tr>\n",
       "      <th>199</th>\n",
       "      <td>경주</td>\n",
       "      <td>특1급 |숙박세일|힐튼 경주(경북 호텔/경주)</td>\n",
       "      <td>147,000원</td>\n",
       "    </tr>\n",
       "    <tr>\n",
       "      <th>200</th>\n",
       "      <td>기타과자/간식</td>\n",
       "      <td>옛날과자 6종 120gx12봉</td>\n",
       "      <td>11,990원</td>\n",
       "    </tr>\n",
       "  </tbody>\n",
       "</table>\n",
       "<p>200 rows × 3 columns</p>\n",
       "</div>"
      ]
     },
     "execution_count": 2,
     "metadata": {},
     "output_type": "execute_result"
    }
   ],
   "execution_count": 2
  },
  {
   "metadata": {
    "ExecuteTime": {
     "end_time": "2024-05-29T13:55:58.840572Z",
     "start_time": "2024-05-29T13:55:58.826618Z"
    }
   },
   "cell_type": "code",
   "source": "df.to_csv(\"../data/gmarket.csv\", encoding = \"utf-8\")",
   "id": "417d9e5ee6522691",
   "outputs": [],
   "execution_count": 3
  }
 ],
 "metadata": {
  "kernelspec": {
   "display_name": "Python 3",
   "language": "python",
   "name": "python3"
  },
  "language_info": {
   "codemirror_mode": {
    "name": "ipython",
    "version": 2
   },
   "file_extension": ".py",
   "mimetype": "text/x-python",
   "name": "python",
   "nbconvert_exporter": "python",
   "pygments_lexer": "ipython2",
   "version": "2.7.6"
  }
 },
 "nbformat": 4,
 "nbformat_minor": 5
}
