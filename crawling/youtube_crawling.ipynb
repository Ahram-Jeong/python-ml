{
 "cells": [
  {
   "metadata": {},
   "cell_type": "markdown",
   "source": "### 유튜브에서 특정 검색어의 컨텐츠 제목과 조회수 추출",
   "id": "f8258a0f091ed284"
  },
  {
   "metadata": {
    "ExecuteTime": {
     "end_time": "2024-05-30T19:54:23.470886Z",
     "start_time": "2024-05-30T19:54:22.368589Z"
    }
   },
   "cell_type": "code",
   "source": [
    "from selenium import webdriver as wb\n",
    "from selenium.webdriver.common.by import By\n",
    "from selenium.webdriver.common.keys import Keys\n",
    "from tqdm import tqdm\n",
    "import pandas as pd\n",
    "import numpy as np\n",
    "import time"
   ],
   "id": "826635ec6566dd0b",
   "execution_count": 1,
   "outputs": []
  },
  {
   "metadata": {
    "ExecuteTime": {
     "end_time": "2024-05-30T19:54:49.116196Z",
     "start_time": "2024-05-30T19:54:23.473889Z"
    }
   },
   "cell_type": "code",
   "source": [
    "driver = wb.Chrome()\n",
    "driver.maximize_window()\n",
    "search = input(\"검색어 입력 >> \")\n",
    "driver.get(f\"https://www.youtube.com/results?search_query={search}\")\n",
    "\n",
    "titles = []\n",
    "view_cnt = []\n",
    "\n",
    "tit_list = []\n",
    "cnt_list = []\n",
    "\n",
    "target_cnt = 50\n",
    "body = driver.find_element(By.TAG_NAME, \"body\")\n",
    "\n",
    "# 페이지 스크롤\n",
    "while len(titles) < target_cnt :\n",
    "    body.send_keys(Keys.END)\n",
    "    time.sleep(2)\n",
    "    # 페이지 스크롤 후 elements 담기\n",
    "    titles = driver.find_elements(By.CSS_SELECTOR, \"#video-title > yt-formatted-string\")\n",
    "    view_cnt = driver.find_elements(By.CSS_SELECTOR, \".style-scope.ytd-video-renderer #metadata-line > span:nth-child(3)\")\n",
    "    \n",
    "print(len(titles), len(view_cnt))\n",
    "\n",
    "# 제목, 조회수 리스트에 추가\n",
    "for i in tqdm(range(target_cnt)) :\n",
    "    tit_list.append(titles[i].text)\n",
    "    cnt_list.append(view_cnt[i].text)\n",
    "    \n",
    "print(len(tit_list), len(cnt_list))\n",
    "# DataFrame 생성\n",
    "yt_df = pd.DataFrame({\"제목\" : tit_list, \"조회수\" : cnt_list}, index = range(1, len(tit_list)+1))\n",
    "yt_df.index.name = \"No\"\n",
    "# 조회수 컬럼에서 '시청 중' 제외\n",
    "yt_df = yt_df[~yt_df[\"조회수\"].str.contains(\"시청 중\")]\n",
    "# 빈 문자열 -> NaN 변환\n",
    "yt_df.replace(\"\", np.nan, inplace = True)\n",
    "# NaN 행 삭제\n",
    "yt_df = yt_df.dropna()\n",
    "yt_df"
   ],
   "id": "d2f4ac4f1be2c3e7",
   "execution_count": 2,
   "outputs": []
  },
  {
   "metadata": {
    "ExecuteTime": {
     "end_time": "2024-05-30T19:54:52.166540Z",
     "start_time": "2024-05-30T19:54:49.120696Z"
    }
   },
   "cell_type": "code",
   "source": [
    "yt_df.to_csv(\"../data/youtube.csv\", encoding = \"utf-8\")\n",
    "driver.quit()"
   ],
   "id": "4f56c8332c5c2426",
   "execution_count": 3,
   "outputs": []
  }
 ],
 "metadata": {
  "kernelspec": {
   "display_name": "Python 3",
   "language": "python",
   "name": "python3"
  },
  "language_info": {
   "codemirror_mode": {
    "name": "ipython",
    "version": 2
   },
   "file_extension": ".py",
   "mimetype": "text/x-python",
   "name": "python",
   "nbconvert_exporter": "python",
   "pygments_lexer": "ipython2",
   "version": "2.7.6"
  }
 },
 "nbformat": 4,
 "nbformat_minor": 5
}
