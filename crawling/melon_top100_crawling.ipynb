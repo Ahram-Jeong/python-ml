{
 "cells": [
  {
   "cell_type": "code",
   "id": "initial_id",
   "metadata": {
    "collapsed": true,
    "ExecuteTime": {
     "end_time": "2024-05-28T14:56:16.624607Z",
     "start_time": "2024-05-28T14:56:15.383510Z"
    }
   },
   "source": [
    "import requests as req\n",
    "from bs4 import BeautifulSoup as bs\n",
    "import pandas as pd"
   ],
   "outputs": [],
   "execution_count": 1
  },
  {
   "metadata": {
    "ExecuteTime": {
     "end_time": "2024-05-28T14:56:17.979032Z",
     "start_time": "2024-05-28T14:56:16.624607Z"
    }
   },
   "cell_type": "code",
   "source": [
    "# 멜론차트 TOP100에서 노래 제목, 가수 명 크롤링\n",
    "U_A = {\"User-Agent\":\"Mozilla/5.0 (Windows NT 10.0; Win64; x64) AppleWebKit/537.36 (KHTML, like Gecko) Chrome/125.0.0.0 Safari/537.36 Edg/125.0.0.0\"}\n",
    "res = req.get(\"https://www.melon.com/chart/index.htm\", headers = U_A)\n",
    "html = bs(res.text, \"lxml\")\n",
    "title = html.select(\"div.ellipsis.rank01 > span > a\")\n",
    "artist = html.select(\"div.ellipsis.rank02 > span\")\n",
    "print(len(title))\n",
    "print(len(artist))\n",
    "\n",
    "songs = []\n",
    "names = []\n",
    "for i in range(len(title)) :\n",
    "    songs.append(title[i].text)\n",
    "    names.append(artist[i].text)\n",
    "\n",
    "result = {\"곡 명\" : songs, \"가수 명\" : names}\n",
    "df_data = pd.DataFrame(result, index = range(1, len(songs)+1))\n",
    "df_data.index.name = \"순위\"\n",
    "df_data"
   ],
   "id": "99f5eee5cff4bb97",
   "outputs": [
    {
     "name": "stdout",
     "output_type": "stream",
     "text": [
      "100\n",
      "100\n"
     ]
    },
    {
     "data": {
      "text/plain": [
       "                      곡 명          가수 명\n",
       "순위                                     \n",
       "1               Supernova         aespa\n",
       "2               How Sweet      NewJeans\n",
       "3              Bubble Gum      NewJeans\n",
       "4    SPOT! (feat. JENNIE)     지코 (ZICO)\n",
       "5               해야 (HEYA)     IVE (아이브)\n",
       "..                    ...           ...\n",
       "96                 Baddie     IVE (아이브)\n",
       "97               You & Me   제니 (JENNIE)\n",
       "98                버추얼 아이돌         PLAVE\n",
       "99                 Kitsch     IVE (아이브)\n",
       "100                 꿈결같아서  민니 ((여자)아이들)\n",
       "\n",
       "[100 rows x 2 columns]"
      ],
      "text/html": [
       "<div>\n",
       "<style scoped>\n",
       "    .dataframe tbody tr th:only-of-type {\n",
       "        vertical-align: middle;\n",
       "    }\n",
       "\n",
       "    .dataframe tbody tr th {\n",
       "        vertical-align: top;\n",
       "    }\n",
       "\n",
       "    .dataframe thead th {\n",
       "        text-align: right;\n",
       "    }\n",
       "</style>\n",
       "<table border=\"1\" class=\"dataframe\">\n",
       "  <thead>\n",
       "    <tr style=\"text-align: right;\">\n",
       "      <th></th>\n",
       "      <th>곡 명</th>\n",
       "      <th>가수 명</th>\n",
       "    </tr>\n",
       "    <tr>\n",
       "      <th>순위</th>\n",
       "      <th></th>\n",
       "      <th></th>\n",
       "    </tr>\n",
       "  </thead>\n",
       "  <tbody>\n",
       "    <tr>\n",
       "      <th>1</th>\n",
       "      <td>Supernova</td>\n",
       "      <td>aespa</td>\n",
       "    </tr>\n",
       "    <tr>\n",
       "      <th>2</th>\n",
       "      <td>How Sweet</td>\n",
       "      <td>NewJeans</td>\n",
       "    </tr>\n",
       "    <tr>\n",
       "      <th>3</th>\n",
       "      <td>Bubble Gum</td>\n",
       "      <td>NewJeans</td>\n",
       "    </tr>\n",
       "    <tr>\n",
       "      <th>4</th>\n",
       "      <td>SPOT! (feat. JENNIE)</td>\n",
       "      <td>지코 (ZICO)</td>\n",
       "    </tr>\n",
       "    <tr>\n",
       "      <th>5</th>\n",
       "      <td>해야 (HEYA)</td>\n",
       "      <td>IVE (아이브)</td>\n",
       "    </tr>\n",
       "    <tr>\n",
       "      <th>...</th>\n",
       "      <td>...</td>\n",
       "      <td>...</td>\n",
       "    </tr>\n",
       "    <tr>\n",
       "      <th>96</th>\n",
       "      <td>Baddie</td>\n",
       "      <td>IVE (아이브)</td>\n",
       "    </tr>\n",
       "    <tr>\n",
       "      <th>97</th>\n",
       "      <td>You &amp; Me</td>\n",
       "      <td>제니 (JENNIE)</td>\n",
       "    </tr>\n",
       "    <tr>\n",
       "      <th>98</th>\n",
       "      <td>버추얼 아이돌</td>\n",
       "      <td>PLAVE</td>\n",
       "    </tr>\n",
       "    <tr>\n",
       "      <th>99</th>\n",
       "      <td>Kitsch</td>\n",
       "      <td>IVE (아이브)</td>\n",
       "    </tr>\n",
       "    <tr>\n",
       "      <th>100</th>\n",
       "      <td>꿈결같아서</td>\n",
       "      <td>민니 ((여자)아이들)</td>\n",
       "    </tr>\n",
       "  </tbody>\n",
       "</table>\n",
       "<p>100 rows × 2 columns</p>\n",
       "</div>"
      ]
     },
     "execution_count": 2,
     "metadata": {},
     "output_type": "execute_result"
    }
   ],
   "execution_count": 2
  },
  {
   "metadata": {
    "ExecuteTime": {
     "end_time": "2024-05-28T14:56:17.994318Z",
     "start_time": "2024-05-28T14:56:17.979032Z"
    }
   },
   "cell_type": "code",
   "source": "df_data.to_csv(\"../data/melon100.csv\", encoding = \"utf-8\")",
   "id": "184ad0f56621a533",
   "outputs": [],
   "execution_count": 3
  }
 ],
 "metadata": {
  "kernelspec": {
   "display_name": "Python 3",
   "language": "python",
   "name": "python3"
  },
  "language_info": {
   "codemirror_mode": {
    "name": "ipython",
    "version": 2
   },
   "file_extension": ".py",
   "mimetype": "text/x-python",
   "name": "python",
   "nbconvert_exporter": "python",
   "pygments_lexer": "ipython2",
   "version": "2.7.6"
  }
 },
 "nbformat": 4,
 "nbformat_minor": 5
}
